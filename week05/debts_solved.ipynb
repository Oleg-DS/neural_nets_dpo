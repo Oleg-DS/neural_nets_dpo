{
  "nbformat": 4,
  "nbformat_minor": 5,
  "metadata": {
    "colab": {
      "name": "debts.ipynb",
      "provenance": []
    },
    "language_info": {
      "name": "python"
    },
    "kernelspec": {
      "name": "python3",
      "display_name": "Python 3"
    },
    "accelerator": "GPU",
    "widgets": {
      "application/vnd.jupyter.widget-state+json": {
        "f4c9eb4a54674c6d8b1bd643e0f48fa7": {
          "model_module": "@jupyter-widgets/controls",
          "model_name": "HBoxModel",
          "state": {
            "_view_name": "HBoxView",
            "_dom_classes": [],
            "_model_name": "HBoxModel",
            "_view_module": "@jupyter-widgets/controls",
            "_model_module_version": "1.5.0",
            "_view_count": null,
            "_view_module_version": "1.5.0",
            "box_style": "",
            "layout": "IPY_MODEL_4513e473093c42d2ac6f9816b230625c",
            "_model_module": "@jupyter-widgets/controls",
            "children": [
              "IPY_MODEL_1e643aa3b2fb49bd9c62a365e02402a8",
              "IPY_MODEL_3e9b6641effa4d169f8cf6456b4f991b"
            ]
          }
        },
        "4513e473093c42d2ac6f9816b230625c": {
          "model_module": "@jupyter-widgets/base",
          "model_name": "LayoutModel",
          "state": {
            "_view_name": "LayoutView",
            "grid_template_rows": null,
            "right": null,
            "justify_content": null,
            "_view_module": "@jupyter-widgets/base",
            "overflow": null,
            "_model_module_version": "1.2.0",
            "_view_count": null,
            "flex_flow": null,
            "width": null,
            "min_width": null,
            "border": null,
            "align_items": null,
            "bottom": null,
            "_model_module": "@jupyter-widgets/base",
            "top": null,
            "grid_column": null,
            "overflow_y": null,
            "overflow_x": null,
            "grid_auto_flow": null,
            "grid_area": null,
            "grid_template_columns": null,
            "flex": null,
            "_model_name": "LayoutModel",
            "justify_items": null,
            "grid_row": null,
            "max_height": null,
            "align_content": null,
            "visibility": null,
            "align_self": null,
            "height": null,
            "min_height": null,
            "padding": null,
            "grid_auto_rows": null,
            "grid_gap": null,
            "max_width": null,
            "order": null,
            "_view_module_version": "1.2.0",
            "grid_template_areas": null,
            "object_position": null,
            "object_fit": null,
            "grid_auto_columns": null,
            "margin": null,
            "display": null,
            "left": null
          }
        },
        "1e643aa3b2fb49bd9c62a365e02402a8": {
          "model_module": "@jupyter-widgets/controls",
          "model_name": "FloatProgressModel",
          "state": {
            "_view_name": "ProgressView",
            "style": "IPY_MODEL_3a06b8fdb5744ae5b72bc342b195b4a9",
            "_dom_classes": [],
            "description": "",
            "_model_name": "FloatProgressModel",
            "bar_style": "success",
            "max": 26421880,
            "_view_module": "@jupyter-widgets/controls",
            "_model_module_version": "1.5.0",
            "value": 26421880,
            "_view_count": null,
            "_view_module_version": "1.5.0",
            "orientation": "horizontal",
            "min": 0,
            "description_tooltip": null,
            "_model_module": "@jupyter-widgets/controls",
            "layout": "IPY_MODEL_907b844301dc43bb89cca02d4131697f"
          }
        },
        "3e9b6641effa4d169f8cf6456b4f991b": {
          "model_module": "@jupyter-widgets/controls",
          "model_name": "HTMLModel",
          "state": {
            "_view_name": "HTMLView",
            "style": "IPY_MODEL_2c9936c60a1245efa9f0753a41592cfb",
            "_dom_classes": [],
            "description": "",
            "_model_name": "HTMLModel",
            "placeholder": "​",
            "_view_module": "@jupyter-widgets/controls",
            "_model_module_version": "1.5.0",
            "value": " 26422272/? [00:01&lt;00:00, 25718253.64it/s]",
            "_view_count": null,
            "_view_module_version": "1.5.0",
            "description_tooltip": null,
            "_model_module": "@jupyter-widgets/controls",
            "layout": "IPY_MODEL_1914f4f63452471a878825026804dc99"
          }
        },
        "3a06b8fdb5744ae5b72bc342b195b4a9": {
          "model_module": "@jupyter-widgets/controls",
          "model_name": "ProgressStyleModel",
          "state": {
            "_view_name": "StyleView",
            "_model_name": "ProgressStyleModel",
            "description_width": "initial",
            "_view_module": "@jupyter-widgets/base",
            "_model_module_version": "1.5.0",
            "_view_count": null,
            "_view_module_version": "1.2.0",
            "bar_color": null,
            "_model_module": "@jupyter-widgets/controls"
          }
        },
        "907b844301dc43bb89cca02d4131697f": {
          "model_module": "@jupyter-widgets/base",
          "model_name": "LayoutModel",
          "state": {
            "_view_name": "LayoutView",
            "grid_template_rows": null,
            "right": null,
            "justify_content": null,
            "_view_module": "@jupyter-widgets/base",
            "overflow": null,
            "_model_module_version": "1.2.0",
            "_view_count": null,
            "flex_flow": null,
            "width": null,
            "min_width": null,
            "border": null,
            "align_items": null,
            "bottom": null,
            "_model_module": "@jupyter-widgets/base",
            "top": null,
            "grid_column": null,
            "overflow_y": null,
            "overflow_x": null,
            "grid_auto_flow": null,
            "grid_area": null,
            "grid_template_columns": null,
            "flex": null,
            "_model_name": "LayoutModel",
            "justify_items": null,
            "grid_row": null,
            "max_height": null,
            "align_content": null,
            "visibility": null,
            "align_self": null,
            "height": null,
            "min_height": null,
            "padding": null,
            "grid_auto_rows": null,
            "grid_gap": null,
            "max_width": null,
            "order": null,
            "_view_module_version": "1.2.0",
            "grid_template_areas": null,
            "object_position": null,
            "object_fit": null,
            "grid_auto_columns": null,
            "margin": null,
            "display": null,
            "left": null
          }
        },
        "2c9936c60a1245efa9f0753a41592cfb": {
          "model_module": "@jupyter-widgets/controls",
          "model_name": "DescriptionStyleModel",
          "state": {
            "_view_name": "StyleView",
            "_model_name": "DescriptionStyleModel",
            "description_width": "",
            "_view_module": "@jupyter-widgets/base",
            "_model_module_version": "1.5.0",
            "_view_count": null,
            "_view_module_version": "1.2.0",
            "_model_module": "@jupyter-widgets/controls"
          }
        },
        "1914f4f63452471a878825026804dc99": {
          "model_module": "@jupyter-widgets/base",
          "model_name": "LayoutModel",
          "state": {
            "_view_name": "LayoutView",
            "grid_template_rows": null,
            "right": null,
            "justify_content": null,
            "_view_module": "@jupyter-widgets/base",
            "overflow": null,
            "_model_module_version": "1.2.0",
            "_view_count": null,
            "flex_flow": null,
            "width": null,
            "min_width": null,
            "border": null,
            "align_items": null,
            "bottom": null,
            "_model_module": "@jupyter-widgets/base",
            "top": null,
            "grid_column": null,
            "overflow_y": null,
            "overflow_x": null,
            "grid_auto_flow": null,
            "grid_area": null,
            "grid_template_columns": null,
            "flex": null,
            "_model_name": "LayoutModel",
            "justify_items": null,
            "grid_row": null,
            "max_height": null,
            "align_content": null,
            "visibility": null,
            "align_self": null,
            "height": null,
            "min_height": null,
            "padding": null,
            "grid_auto_rows": null,
            "grid_gap": null,
            "max_width": null,
            "order": null,
            "_view_module_version": "1.2.0",
            "grid_template_areas": null,
            "object_position": null,
            "object_fit": null,
            "grid_auto_columns": null,
            "margin": null,
            "display": null,
            "left": null
          }
        },
        "adf63ec1fd784d0681a67ee94da662e2": {
          "model_module": "@jupyter-widgets/controls",
          "model_name": "HBoxModel",
          "state": {
            "_view_name": "HBoxView",
            "_dom_classes": [],
            "_model_name": "HBoxModel",
            "_view_module": "@jupyter-widgets/controls",
            "_model_module_version": "1.5.0",
            "_view_count": null,
            "_view_module_version": "1.5.0",
            "box_style": "",
            "layout": "IPY_MODEL_36c665d5fcca4f399ad9749d06a7284d",
            "_model_module": "@jupyter-widgets/controls",
            "children": [
              "IPY_MODEL_6d02252bb8cb420c9953471ac35f600a",
              "IPY_MODEL_92b5a6264ced4459ac9778b0e10e7642"
            ]
          }
        },
        "36c665d5fcca4f399ad9749d06a7284d": {
          "model_module": "@jupyter-widgets/base",
          "model_name": "LayoutModel",
          "state": {
            "_view_name": "LayoutView",
            "grid_template_rows": null,
            "right": null,
            "justify_content": null,
            "_view_module": "@jupyter-widgets/base",
            "overflow": null,
            "_model_module_version": "1.2.0",
            "_view_count": null,
            "flex_flow": null,
            "width": null,
            "min_width": null,
            "border": null,
            "align_items": null,
            "bottom": null,
            "_model_module": "@jupyter-widgets/base",
            "top": null,
            "grid_column": null,
            "overflow_y": null,
            "overflow_x": null,
            "grid_auto_flow": null,
            "grid_area": null,
            "grid_template_columns": null,
            "flex": null,
            "_model_name": "LayoutModel",
            "justify_items": null,
            "grid_row": null,
            "max_height": null,
            "align_content": null,
            "visibility": null,
            "align_self": null,
            "height": null,
            "min_height": null,
            "padding": null,
            "grid_auto_rows": null,
            "grid_gap": null,
            "max_width": null,
            "order": null,
            "_view_module_version": "1.2.0",
            "grid_template_areas": null,
            "object_position": null,
            "object_fit": null,
            "grid_auto_columns": null,
            "margin": null,
            "display": null,
            "left": null
          }
        },
        "6d02252bb8cb420c9953471ac35f600a": {
          "model_module": "@jupyter-widgets/controls",
          "model_name": "FloatProgressModel",
          "state": {
            "_view_name": "ProgressView",
            "style": "IPY_MODEL_3b9f207a215840f09a3d528cfbdff3e7",
            "_dom_classes": [],
            "description": "",
            "_model_name": "FloatProgressModel",
            "bar_style": "success",
            "max": 29515,
            "_view_module": "@jupyter-widgets/controls",
            "_model_module_version": "1.5.0",
            "value": 29515,
            "_view_count": null,
            "_view_module_version": "1.5.0",
            "orientation": "horizontal",
            "min": 0,
            "description_tooltip": null,
            "_model_module": "@jupyter-widgets/controls",
            "layout": "IPY_MODEL_f2816d6b29b3489196c0bb1d5b8e54fe"
          }
        },
        "92b5a6264ced4459ac9778b0e10e7642": {
          "model_module": "@jupyter-widgets/controls",
          "model_name": "HTMLModel",
          "state": {
            "_view_name": "HTMLView",
            "style": "IPY_MODEL_a015ea005eea43b088af187418eead30",
            "_dom_classes": [],
            "description": "",
            "_model_name": "HTMLModel",
            "placeholder": "​",
            "_view_module": "@jupyter-widgets/controls",
            "_model_module_version": "1.5.0",
            "value": " 29696/? [00:00&lt;00:00, 34202.26it/s]",
            "_view_count": null,
            "_view_module_version": "1.5.0",
            "description_tooltip": null,
            "_model_module": "@jupyter-widgets/controls",
            "layout": "IPY_MODEL_254323d5c83b4e9fb6227085a43bf53d"
          }
        },
        "3b9f207a215840f09a3d528cfbdff3e7": {
          "model_module": "@jupyter-widgets/controls",
          "model_name": "ProgressStyleModel",
          "state": {
            "_view_name": "StyleView",
            "_model_name": "ProgressStyleModel",
            "description_width": "initial",
            "_view_module": "@jupyter-widgets/base",
            "_model_module_version": "1.5.0",
            "_view_count": null,
            "_view_module_version": "1.2.0",
            "bar_color": null,
            "_model_module": "@jupyter-widgets/controls"
          }
        },
        "f2816d6b29b3489196c0bb1d5b8e54fe": {
          "model_module": "@jupyter-widgets/base",
          "model_name": "LayoutModel",
          "state": {
            "_view_name": "LayoutView",
            "grid_template_rows": null,
            "right": null,
            "justify_content": null,
            "_view_module": "@jupyter-widgets/base",
            "overflow": null,
            "_model_module_version": "1.2.0",
            "_view_count": null,
            "flex_flow": null,
            "width": null,
            "min_width": null,
            "border": null,
            "align_items": null,
            "bottom": null,
            "_model_module": "@jupyter-widgets/base",
            "top": null,
            "grid_column": null,
            "overflow_y": null,
            "overflow_x": null,
            "grid_auto_flow": null,
            "grid_area": null,
            "grid_template_columns": null,
            "flex": null,
            "_model_name": "LayoutModel",
            "justify_items": null,
            "grid_row": null,
            "max_height": null,
            "align_content": null,
            "visibility": null,
            "align_self": null,
            "height": null,
            "min_height": null,
            "padding": null,
            "grid_auto_rows": null,
            "grid_gap": null,
            "max_width": null,
            "order": null,
            "_view_module_version": "1.2.0",
            "grid_template_areas": null,
            "object_position": null,
            "object_fit": null,
            "grid_auto_columns": null,
            "margin": null,
            "display": null,
            "left": null
          }
        },
        "a015ea005eea43b088af187418eead30": {
          "model_module": "@jupyter-widgets/controls",
          "model_name": "DescriptionStyleModel",
          "state": {
            "_view_name": "StyleView",
            "_model_name": "DescriptionStyleModel",
            "description_width": "",
            "_view_module": "@jupyter-widgets/base",
            "_model_module_version": "1.5.0",
            "_view_count": null,
            "_view_module_version": "1.2.0",
            "_model_module": "@jupyter-widgets/controls"
          }
        },
        "254323d5c83b4e9fb6227085a43bf53d": {
          "model_module": "@jupyter-widgets/base",
          "model_name": "LayoutModel",
          "state": {
            "_view_name": "LayoutView",
            "grid_template_rows": null,
            "right": null,
            "justify_content": null,
            "_view_module": "@jupyter-widgets/base",
            "overflow": null,
            "_model_module_version": "1.2.0",
            "_view_count": null,
            "flex_flow": null,
            "width": null,
            "min_width": null,
            "border": null,
            "align_items": null,
            "bottom": null,
            "_model_module": "@jupyter-widgets/base",
            "top": null,
            "grid_column": null,
            "overflow_y": null,
            "overflow_x": null,
            "grid_auto_flow": null,
            "grid_area": null,
            "grid_template_columns": null,
            "flex": null,
            "_model_name": "LayoutModel",
            "justify_items": null,
            "grid_row": null,
            "max_height": null,
            "align_content": null,
            "visibility": null,
            "align_self": null,
            "height": null,
            "min_height": null,
            "padding": null,
            "grid_auto_rows": null,
            "grid_gap": null,
            "max_width": null,
            "order": null,
            "_view_module_version": "1.2.0",
            "grid_template_areas": null,
            "object_position": null,
            "object_fit": null,
            "grid_auto_columns": null,
            "margin": null,
            "display": null,
            "left": null
          }
        },
        "4dab0eb9c8f9476eabcdf3fb25c3d3bc": {
          "model_module": "@jupyter-widgets/controls",
          "model_name": "HBoxModel",
          "state": {
            "_view_name": "HBoxView",
            "_dom_classes": [],
            "_model_name": "HBoxModel",
            "_view_module": "@jupyter-widgets/controls",
            "_model_module_version": "1.5.0",
            "_view_count": null,
            "_view_module_version": "1.5.0",
            "box_style": "",
            "layout": "IPY_MODEL_23b3c09d8c934ce18efefa8998e1e836",
            "_model_module": "@jupyter-widgets/controls",
            "children": [
              "IPY_MODEL_dcc16ee663ae4835a5c37eacb8e1339a",
              "IPY_MODEL_c9d8f0ad55a64a209dc311d0c93b9920"
            ]
          }
        },
        "23b3c09d8c934ce18efefa8998e1e836": {
          "model_module": "@jupyter-widgets/base",
          "model_name": "LayoutModel",
          "state": {
            "_view_name": "LayoutView",
            "grid_template_rows": null,
            "right": null,
            "justify_content": null,
            "_view_module": "@jupyter-widgets/base",
            "overflow": null,
            "_model_module_version": "1.2.0",
            "_view_count": null,
            "flex_flow": null,
            "width": null,
            "min_width": null,
            "border": null,
            "align_items": null,
            "bottom": null,
            "_model_module": "@jupyter-widgets/base",
            "top": null,
            "grid_column": null,
            "overflow_y": null,
            "overflow_x": null,
            "grid_auto_flow": null,
            "grid_area": null,
            "grid_template_columns": null,
            "flex": null,
            "_model_name": "LayoutModel",
            "justify_items": null,
            "grid_row": null,
            "max_height": null,
            "align_content": null,
            "visibility": null,
            "align_self": null,
            "height": null,
            "min_height": null,
            "padding": null,
            "grid_auto_rows": null,
            "grid_gap": null,
            "max_width": null,
            "order": null,
            "_view_module_version": "1.2.0",
            "grid_template_areas": null,
            "object_position": null,
            "object_fit": null,
            "grid_auto_columns": null,
            "margin": null,
            "display": null,
            "left": null
          }
        },
        "dcc16ee663ae4835a5c37eacb8e1339a": {
          "model_module": "@jupyter-widgets/controls",
          "model_name": "FloatProgressModel",
          "state": {
            "_view_name": "ProgressView",
            "style": "IPY_MODEL_723706f4a5414fac9d4c0db6de0a0562",
            "_dom_classes": [],
            "description": "",
            "_model_name": "FloatProgressModel",
            "bar_style": "success",
            "max": 4422102,
            "_view_module": "@jupyter-widgets/controls",
            "_model_module_version": "1.5.0",
            "value": 4422102,
            "_view_count": null,
            "_view_module_version": "1.5.0",
            "orientation": "horizontal",
            "min": 0,
            "description_tooltip": null,
            "_model_module": "@jupyter-widgets/controls",
            "layout": "IPY_MODEL_10199c67baa94edba340a2a27b769a5c"
          }
        },
        "c9d8f0ad55a64a209dc311d0c93b9920": {
          "model_module": "@jupyter-widgets/controls",
          "model_name": "HTMLModel",
          "state": {
            "_view_name": "HTMLView",
            "style": "IPY_MODEL_d13a9e95d4a8410990506ea1a36fa64e",
            "_dom_classes": [],
            "description": "",
            "_model_name": "HTMLModel",
            "placeholder": "​",
            "_view_module": "@jupyter-widgets/controls",
            "_model_module_version": "1.5.0",
            "value": " 4422656/? [00:00&lt;00:00, 6692422.77it/s]",
            "_view_count": null,
            "_view_module_version": "1.5.0",
            "description_tooltip": null,
            "_model_module": "@jupyter-widgets/controls",
            "layout": "IPY_MODEL_6a1b6110a7ba4704bbc46ba37207eff1"
          }
        },
        "723706f4a5414fac9d4c0db6de0a0562": {
          "model_module": "@jupyter-widgets/controls",
          "model_name": "ProgressStyleModel",
          "state": {
            "_view_name": "StyleView",
            "_model_name": "ProgressStyleModel",
            "description_width": "initial",
            "_view_module": "@jupyter-widgets/base",
            "_model_module_version": "1.5.0",
            "_view_count": null,
            "_view_module_version": "1.2.0",
            "bar_color": null,
            "_model_module": "@jupyter-widgets/controls"
          }
        },
        "10199c67baa94edba340a2a27b769a5c": {
          "model_module": "@jupyter-widgets/base",
          "model_name": "LayoutModel",
          "state": {
            "_view_name": "LayoutView",
            "grid_template_rows": null,
            "right": null,
            "justify_content": null,
            "_view_module": "@jupyter-widgets/base",
            "overflow": null,
            "_model_module_version": "1.2.0",
            "_view_count": null,
            "flex_flow": null,
            "width": null,
            "min_width": null,
            "border": null,
            "align_items": null,
            "bottom": null,
            "_model_module": "@jupyter-widgets/base",
            "top": null,
            "grid_column": null,
            "overflow_y": null,
            "overflow_x": null,
            "grid_auto_flow": null,
            "grid_area": null,
            "grid_template_columns": null,
            "flex": null,
            "_model_name": "LayoutModel",
            "justify_items": null,
            "grid_row": null,
            "max_height": null,
            "align_content": null,
            "visibility": null,
            "align_self": null,
            "height": null,
            "min_height": null,
            "padding": null,
            "grid_auto_rows": null,
            "grid_gap": null,
            "max_width": null,
            "order": null,
            "_view_module_version": "1.2.0",
            "grid_template_areas": null,
            "object_position": null,
            "object_fit": null,
            "grid_auto_columns": null,
            "margin": null,
            "display": null,
            "left": null
          }
        },
        "d13a9e95d4a8410990506ea1a36fa64e": {
          "model_module": "@jupyter-widgets/controls",
          "model_name": "DescriptionStyleModel",
          "state": {
            "_view_name": "StyleView",
            "_model_name": "DescriptionStyleModel",
            "description_width": "",
            "_view_module": "@jupyter-widgets/base",
            "_model_module_version": "1.5.0",
            "_view_count": null,
            "_view_module_version": "1.2.0",
            "_model_module": "@jupyter-widgets/controls"
          }
        },
        "6a1b6110a7ba4704bbc46ba37207eff1": {
          "model_module": "@jupyter-widgets/base",
          "model_name": "LayoutModel",
          "state": {
            "_view_name": "LayoutView",
            "grid_template_rows": null,
            "right": null,
            "justify_content": null,
            "_view_module": "@jupyter-widgets/base",
            "overflow": null,
            "_model_module_version": "1.2.0",
            "_view_count": null,
            "flex_flow": null,
            "width": null,
            "min_width": null,
            "border": null,
            "align_items": null,
            "bottom": null,
            "_model_module": "@jupyter-widgets/base",
            "top": null,
            "grid_column": null,
            "overflow_y": null,
            "overflow_x": null,
            "grid_auto_flow": null,
            "grid_area": null,
            "grid_template_columns": null,
            "flex": null,
            "_model_name": "LayoutModel",
            "justify_items": null,
            "grid_row": null,
            "max_height": null,
            "align_content": null,
            "visibility": null,
            "align_self": null,
            "height": null,
            "min_height": null,
            "padding": null,
            "grid_auto_rows": null,
            "grid_gap": null,
            "max_width": null,
            "order": null,
            "_view_module_version": "1.2.0",
            "grid_template_areas": null,
            "object_position": null,
            "object_fit": null,
            "grid_auto_columns": null,
            "margin": null,
            "display": null,
            "left": null
          }
        },
        "f42faa9e89f34c1fa3df05d925a84b48": {
          "model_module": "@jupyter-widgets/controls",
          "model_name": "HBoxModel",
          "state": {
            "_view_name": "HBoxView",
            "_dom_classes": [],
            "_model_name": "HBoxModel",
            "_view_module": "@jupyter-widgets/controls",
            "_model_module_version": "1.5.0",
            "_view_count": null,
            "_view_module_version": "1.5.0",
            "box_style": "",
            "layout": "IPY_MODEL_a507fb79188548ea8e7d1930b95d985e",
            "_model_module": "@jupyter-widgets/controls",
            "children": [
              "IPY_MODEL_ed2d9409921045179284b589a5ef1717",
              "IPY_MODEL_29242c1a403f4d6bb03e890c879ef588"
            ]
          }
        },
        "a507fb79188548ea8e7d1930b95d985e": {
          "model_module": "@jupyter-widgets/base",
          "model_name": "LayoutModel",
          "state": {
            "_view_name": "LayoutView",
            "grid_template_rows": null,
            "right": null,
            "justify_content": null,
            "_view_module": "@jupyter-widgets/base",
            "overflow": null,
            "_model_module_version": "1.2.0",
            "_view_count": null,
            "flex_flow": null,
            "width": null,
            "min_width": null,
            "border": null,
            "align_items": null,
            "bottom": null,
            "_model_module": "@jupyter-widgets/base",
            "top": null,
            "grid_column": null,
            "overflow_y": null,
            "overflow_x": null,
            "grid_auto_flow": null,
            "grid_area": null,
            "grid_template_columns": null,
            "flex": null,
            "_model_name": "LayoutModel",
            "justify_items": null,
            "grid_row": null,
            "max_height": null,
            "align_content": null,
            "visibility": null,
            "align_self": null,
            "height": null,
            "min_height": null,
            "padding": null,
            "grid_auto_rows": null,
            "grid_gap": null,
            "max_width": null,
            "order": null,
            "_view_module_version": "1.2.0",
            "grid_template_areas": null,
            "object_position": null,
            "object_fit": null,
            "grid_auto_columns": null,
            "margin": null,
            "display": null,
            "left": null
          }
        },
        "ed2d9409921045179284b589a5ef1717": {
          "model_module": "@jupyter-widgets/controls",
          "model_name": "FloatProgressModel",
          "state": {
            "_view_name": "ProgressView",
            "style": "IPY_MODEL_ec1a42ee1787408888d3b9961fcf003e",
            "_dom_classes": [],
            "description": "",
            "_model_name": "FloatProgressModel",
            "bar_style": "success",
            "max": 5148,
            "_view_module": "@jupyter-widgets/controls",
            "_model_module_version": "1.5.0",
            "value": 5148,
            "_view_count": null,
            "_view_module_version": "1.5.0",
            "orientation": "horizontal",
            "min": 0,
            "description_tooltip": null,
            "_model_module": "@jupyter-widgets/controls",
            "layout": "IPY_MODEL_277a4560ee574fdb8a1e985073082add"
          }
        },
        "29242c1a403f4d6bb03e890c879ef588": {
          "model_module": "@jupyter-widgets/controls",
          "model_name": "HTMLModel",
          "state": {
            "_view_name": "HTMLView",
            "style": "IPY_MODEL_ce9501e44f28473baa9ff87b067472d6",
            "_dom_classes": [],
            "description": "",
            "_model_name": "HTMLModel",
            "placeholder": "​",
            "_view_module": "@jupyter-widgets/controls",
            "_model_module_version": "1.5.0",
            "value": " 6144/? [00:00&lt;00:00, 21252.45it/s]",
            "_view_count": null,
            "_view_module_version": "1.5.0",
            "description_tooltip": null,
            "_model_module": "@jupyter-widgets/controls",
            "layout": "IPY_MODEL_35aa24f77cac4a438943b2ac638f9065"
          }
        },
        "ec1a42ee1787408888d3b9961fcf003e": {
          "model_module": "@jupyter-widgets/controls",
          "model_name": "ProgressStyleModel",
          "state": {
            "_view_name": "StyleView",
            "_model_name": "ProgressStyleModel",
            "description_width": "initial",
            "_view_module": "@jupyter-widgets/base",
            "_model_module_version": "1.5.0",
            "_view_count": null,
            "_view_module_version": "1.2.0",
            "bar_color": null,
            "_model_module": "@jupyter-widgets/controls"
          }
        },
        "277a4560ee574fdb8a1e985073082add": {
          "model_module": "@jupyter-widgets/base",
          "model_name": "LayoutModel",
          "state": {
            "_view_name": "LayoutView",
            "grid_template_rows": null,
            "right": null,
            "justify_content": null,
            "_view_module": "@jupyter-widgets/base",
            "overflow": null,
            "_model_module_version": "1.2.0",
            "_view_count": null,
            "flex_flow": null,
            "width": null,
            "min_width": null,
            "border": null,
            "align_items": null,
            "bottom": null,
            "_model_module": "@jupyter-widgets/base",
            "top": null,
            "grid_column": null,
            "overflow_y": null,
            "overflow_x": null,
            "grid_auto_flow": null,
            "grid_area": null,
            "grid_template_columns": null,
            "flex": null,
            "_model_name": "LayoutModel",
            "justify_items": null,
            "grid_row": null,
            "max_height": null,
            "align_content": null,
            "visibility": null,
            "align_self": null,
            "height": null,
            "min_height": null,
            "padding": null,
            "grid_auto_rows": null,
            "grid_gap": null,
            "max_width": null,
            "order": null,
            "_view_module_version": "1.2.0",
            "grid_template_areas": null,
            "object_position": null,
            "object_fit": null,
            "grid_auto_columns": null,
            "margin": null,
            "display": null,
            "left": null
          }
        },
        "ce9501e44f28473baa9ff87b067472d6": {
          "model_module": "@jupyter-widgets/controls",
          "model_name": "DescriptionStyleModel",
          "state": {
            "_view_name": "StyleView",
            "_model_name": "DescriptionStyleModel",
            "description_width": "",
            "_view_module": "@jupyter-widgets/base",
            "_model_module_version": "1.5.0",
            "_view_count": null,
            "_view_module_version": "1.2.0",
            "_model_module": "@jupyter-widgets/controls"
          }
        },
        "35aa24f77cac4a438943b2ac638f9065": {
          "model_module": "@jupyter-widgets/base",
          "model_name": "LayoutModel",
          "state": {
            "_view_name": "LayoutView",
            "grid_template_rows": null,
            "right": null,
            "justify_content": null,
            "_view_module": "@jupyter-widgets/base",
            "overflow": null,
            "_model_module_version": "1.2.0",
            "_view_count": null,
            "flex_flow": null,
            "width": null,
            "min_width": null,
            "border": null,
            "align_items": null,
            "bottom": null,
            "_model_module": "@jupyter-widgets/base",
            "top": null,
            "grid_column": null,
            "overflow_y": null,
            "overflow_x": null,
            "grid_auto_flow": null,
            "grid_area": null,
            "grid_template_columns": null,
            "flex": null,
            "_model_name": "LayoutModel",
            "justify_items": null,
            "grid_row": null,
            "max_height": null,
            "align_content": null,
            "visibility": null,
            "align_self": null,
            "height": null,
            "min_height": null,
            "padding": null,
            "grid_auto_rows": null,
            "grid_gap": null,
            "max_width": null,
            "order": null,
            "_view_module_version": "1.2.0",
            "grid_template_areas": null,
            "object_position": null,
            "object_fit": null,
            "grid_auto_columns": null,
            "margin": null,
            "display": null,
            "left": null
          }
        },
        "2f7b2907f195405b968bd327a94bcb84": {
          "model_module": "@jupyter-widgets/controls",
          "model_name": "HBoxModel",
          "state": {
            "_view_name": "HBoxView",
            "_dom_classes": [],
            "_model_name": "HBoxModel",
            "_view_module": "@jupyter-widgets/controls",
            "_model_module_version": "1.5.0",
            "_view_count": null,
            "_view_module_version": "1.5.0",
            "box_style": "",
            "layout": "IPY_MODEL_ecbf8584bcad4de4bfea325c510aefde",
            "_model_module": "@jupyter-widgets/controls",
            "children": [
              "IPY_MODEL_528ed9abb6924d2792cceec357f8c381",
              "IPY_MODEL_4d55e4047d6f4a2586dd15651a67c4d3"
            ]
          }
        },
        "ecbf8584bcad4de4bfea325c510aefde": {
          "model_module": "@jupyter-widgets/base",
          "model_name": "LayoutModel",
          "state": {
            "_view_name": "LayoutView",
            "grid_template_rows": null,
            "right": null,
            "justify_content": null,
            "_view_module": "@jupyter-widgets/base",
            "overflow": null,
            "_model_module_version": "1.2.0",
            "_view_count": null,
            "flex_flow": null,
            "width": null,
            "min_width": null,
            "border": null,
            "align_items": null,
            "bottom": null,
            "_model_module": "@jupyter-widgets/base",
            "top": null,
            "grid_column": null,
            "overflow_y": null,
            "overflow_x": null,
            "grid_auto_flow": null,
            "grid_area": null,
            "grid_template_columns": null,
            "flex": null,
            "_model_name": "LayoutModel",
            "justify_items": null,
            "grid_row": null,
            "max_height": null,
            "align_content": null,
            "visibility": null,
            "align_self": null,
            "height": null,
            "min_height": null,
            "padding": null,
            "grid_auto_rows": null,
            "grid_gap": null,
            "max_width": null,
            "order": null,
            "_view_module_version": "1.2.0",
            "grid_template_areas": null,
            "object_position": null,
            "object_fit": null,
            "grid_auto_columns": null,
            "margin": null,
            "display": null,
            "left": null
          }
        },
        "528ed9abb6924d2792cceec357f8c381": {
          "model_module": "@jupyter-widgets/controls",
          "model_name": "FloatProgressModel",
          "state": {
            "_view_name": "ProgressView",
            "style": "IPY_MODEL_ebf391c7d11d4227a305149f89acb789",
            "_dom_classes": [],
            "description": "100%",
            "_model_name": "FloatProgressModel",
            "bar_style": "success",
            "max": 10,
            "_view_module": "@jupyter-widgets/controls",
            "_model_module_version": "1.5.0",
            "value": 10,
            "_view_count": null,
            "_view_module_version": "1.5.0",
            "orientation": "horizontal",
            "min": 0,
            "description_tooltip": null,
            "_model_module": "@jupyter-widgets/controls",
            "layout": "IPY_MODEL_9d0de977b2a64617bf41309cf659288f"
          }
        },
        "4d55e4047d6f4a2586dd15651a67c4d3": {
          "model_module": "@jupyter-widgets/controls",
          "model_name": "HTMLModel",
          "state": {
            "_view_name": "HTMLView",
            "style": "IPY_MODEL_5c1bcbffbbc84eaabc2778c2fcb10ee7",
            "_dom_classes": [],
            "description": "",
            "_model_name": "HTMLModel",
            "placeholder": "​",
            "_view_module": "@jupyter-widgets/controls",
            "_model_module_version": "1.5.0",
            "value": " 10/10 [01:01&lt;00:00,  6.18s/it, loss: 2.40977, accuracy: 0.7477]",
            "_view_count": null,
            "_view_module_version": "1.5.0",
            "description_tooltip": null,
            "_model_module": "@jupyter-widgets/controls",
            "layout": "IPY_MODEL_bc8d5732db8c426bae00c5a7aa0879b9"
          }
        },
        "ebf391c7d11d4227a305149f89acb789": {
          "model_module": "@jupyter-widgets/controls",
          "model_name": "ProgressStyleModel",
          "state": {
            "_view_name": "StyleView",
            "_model_name": "ProgressStyleModel",
            "description_width": "initial",
            "_view_module": "@jupyter-widgets/base",
            "_model_module_version": "1.5.0",
            "_view_count": null,
            "_view_module_version": "1.2.0",
            "bar_color": null,
            "_model_module": "@jupyter-widgets/controls"
          }
        },
        "9d0de977b2a64617bf41309cf659288f": {
          "model_module": "@jupyter-widgets/base",
          "model_name": "LayoutModel",
          "state": {
            "_view_name": "LayoutView",
            "grid_template_rows": null,
            "right": null,
            "justify_content": null,
            "_view_module": "@jupyter-widgets/base",
            "overflow": null,
            "_model_module_version": "1.2.0",
            "_view_count": null,
            "flex_flow": null,
            "width": null,
            "min_width": null,
            "border": null,
            "align_items": null,
            "bottom": null,
            "_model_module": "@jupyter-widgets/base",
            "top": null,
            "grid_column": null,
            "overflow_y": null,
            "overflow_x": null,
            "grid_auto_flow": null,
            "grid_area": null,
            "grid_template_columns": null,
            "flex": null,
            "_model_name": "LayoutModel",
            "justify_items": null,
            "grid_row": null,
            "max_height": null,
            "align_content": null,
            "visibility": null,
            "align_self": null,
            "height": null,
            "min_height": null,
            "padding": null,
            "grid_auto_rows": null,
            "grid_gap": null,
            "max_width": null,
            "order": null,
            "_view_module_version": "1.2.0",
            "grid_template_areas": null,
            "object_position": null,
            "object_fit": null,
            "grid_auto_columns": null,
            "margin": null,
            "display": null,
            "left": null
          }
        },
        "5c1bcbffbbc84eaabc2778c2fcb10ee7": {
          "model_module": "@jupyter-widgets/controls",
          "model_name": "DescriptionStyleModel",
          "state": {
            "_view_name": "StyleView",
            "_model_name": "DescriptionStyleModel",
            "description_width": "",
            "_view_module": "@jupyter-widgets/base",
            "_model_module_version": "1.5.0",
            "_view_count": null,
            "_view_module_version": "1.2.0",
            "_model_module": "@jupyter-widgets/controls"
          }
        },
        "bc8d5732db8c426bae00c5a7aa0879b9": {
          "model_module": "@jupyter-widgets/base",
          "model_name": "LayoutModel",
          "state": {
            "_view_name": "LayoutView",
            "grid_template_rows": null,
            "right": null,
            "justify_content": null,
            "_view_module": "@jupyter-widgets/base",
            "overflow": null,
            "_model_module_version": "1.2.0",
            "_view_count": null,
            "flex_flow": null,
            "width": null,
            "min_width": null,
            "border": null,
            "align_items": null,
            "bottom": null,
            "_model_module": "@jupyter-widgets/base",
            "top": null,
            "grid_column": null,
            "overflow_y": null,
            "overflow_x": null,
            "grid_auto_flow": null,
            "grid_area": null,
            "grid_template_columns": null,
            "flex": null,
            "_model_name": "LayoutModel",
            "justify_items": null,
            "grid_row": null,
            "max_height": null,
            "align_content": null,
            "visibility": null,
            "align_self": null,
            "height": null,
            "min_height": null,
            "padding": null,
            "grid_auto_rows": null,
            "grid_gap": null,
            "max_width": null,
            "order": null,
            "_view_module_version": "1.2.0",
            "grid_template_areas": null,
            "object_position": null,
            "object_fit": null,
            "grid_auto_columns": null,
            "margin": null,
            "display": null,
            "left": null
          }
        },
        "d3846ee5bf0348a6945c6f56e565fa73": {
          "model_module": "@jupyter-widgets/controls",
          "model_name": "HBoxModel",
          "state": {
            "_view_name": "HBoxView",
            "_dom_classes": [],
            "_model_name": "HBoxModel",
            "_view_module": "@jupyter-widgets/controls",
            "_model_module_version": "1.5.0",
            "_view_count": null,
            "_view_module_version": "1.5.0",
            "box_style": "",
            "layout": "IPY_MODEL_60ab057a9800409984ca3b701798b382",
            "_model_module": "@jupyter-widgets/controls",
            "children": [
              "IPY_MODEL_da7d30c9b6ee4b40a83bab9613550608",
              "IPY_MODEL_5cf41cf623f341cc887387b1b21923be"
            ]
          }
        },
        "60ab057a9800409984ca3b701798b382": {
          "model_module": "@jupyter-widgets/base",
          "model_name": "LayoutModel",
          "state": {
            "_view_name": "LayoutView",
            "grid_template_rows": null,
            "right": null,
            "justify_content": null,
            "_view_module": "@jupyter-widgets/base",
            "overflow": null,
            "_model_module_version": "1.2.0",
            "_view_count": null,
            "flex_flow": null,
            "width": null,
            "min_width": null,
            "border": null,
            "align_items": null,
            "bottom": null,
            "_model_module": "@jupyter-widgets/base",
            "top": null,
            "grid_column": null,
            "overflow_y": null,
            "overflow_x": null,
            "grid_auto_flow": null,
            "grid_area": null,
            "grid_template_columns": null,
            "flex": null,
            "_model_name": "LayoutModel",
            "justify_items": null,
            "grid_row": null,
            "max_height": null,
            "align_content": null,
            "visibility": null,
            "align_self": null,
            "height": null,
            "min_height": null,
            "padding": null,
            "grid_auto_rows": null,
            "grid_gap": null,
            "max_width": null,
            "order": null,
            "_view_module_version": "1.2.0",
            "grid_template_areas": null,
            "object_position": null,
            "object_fit": null,
            "grid_auto_columns": null,
            "margin": null,
            "display": null,
            "left": null
          }
        },
        "da7d30c9b6ee4b40a83bab9613550608": {
          "model_module": "@jupyter-widgets/controls",
          "model_name": "FloatProgressModel",
          "state": {
            "_view_name": "ProgressView",
            "style": "IPY_MODEL_82817bc50bfc48dd977eeab21d41ddc9",
            "_dom_classes": [],
            "description": "100%",
            "_model_name": "FloatProgressModel",
            "bar_style": "success",
            "max": 10,
            "_view_module": "@jupyter-widgets/controls",
            "_model_module_version": "1.5.0",
            "value": 10,
            "_view_count": null,
            "_view_module_version": "1.5.0",
            "orientation": "horizontal",
            "min": 0,
            "description_tooltip": null,
            "_model_module": "@jupyter-widgets/controls",
            "layout": "IPY_MODEL_3fa99f970eef4a59b3a99804713f578e"
          }
        },
        "5cf41cf623f341cc887387b1b21923be": {
          "model_module": "@jupyter-widgets/controls",
          "model_name": "HTMLModel",
          "state": {
            "_view_name": "HTMLView",
            "style": "IPY_MODEL_d6bfdbb86b9340f9b4e2feb1d1f7aa83",
            "_dom_classes": [],
            "description": "",
            "_model_name": "HTMLModel",
            "placeholder": "​",
            "_view_module": "@jupyter-widgets/controls",
            "_model_module_version": "1.5.0",
            "value": " 10/10 [01:04&lt;00:00,  6.41s/it, loss: 2.69111, accuracy: 0.7593]",
            "_view_count": null,
            "_view_module_version": "1.5.0",
            "description_tooltip": null,
            "_model_module": "@jupyter-widgets/controls",
            "layout": "IPY_MODEL_1676c829b0bb4182a084d1eda172ba74"
          }
        },
        "82817bc50bfc48dd977eeab21d41ddc9": {
          "model_module": "@jupyter-widgets/controls",
          "model_name": "ProgressStyleModel",
          "state": {
            "_view_name": "StyleView",
            "_model_name": "ProgressStyleModel",
            "description_width": "initial",
            "_view_module": "@jupyter-widgets/base",
            "_model_module_version": "1.5.0",
            "_view_count": null,
            "_view_module_version": "1.2.0",
            "bar_color": null,
            "_model_module": "@jupyter-widgets/controls"
          }
        },
        "3fa99f970eef4a59b3a99804713f578e": {
          "model_module": "@jupyter-widgets/base",
          "model_name": "LayoutModel",
          "state": {
            "_view_name": "LayoutView",
            "grid_template_rows": null,
            "right": null,
            "justify_content": null,
            "_view_module": "@jupyter-widgets/base",
            "overflow": null,
            "_model_module_version": "1.2.0",
            "_view_count": null,
            "flex_flow": null,
            "width": null,
            "min_width": null,
            "border": null,
            "align_items": null,
            "bottom": null,
            "_model_module": "@jupyter-widgets/base",
            "top": null,
            "grid_column": null,
            "overflow_y": null,
            "overflow_x": null,
            "grid_auto_flow": null,
            "grid_area": null,
            "grid_template_columns": null,
            "flex": null,
            "_model_name": "LayoutModel",
            "justify_items": null,
            "grid_row": null,
            "max_height": null,
            "align_content": null,
            "visibility": null,
            "align_self": null,
            "height": null,
            "min_height": null,
            "padding": null,
            "grid_auto_rows": null,
            "grid_gap": null,
            "max_width": null,
            "order": null,
            "_view_module_version": "1.2.0",
            "grid_template_areas": null,
            "object_position": null,
            "object_fit": null,
            "grid_auto_columns": null,
            "margin": null,
            "display": null,
            "left": null
          }
        },
        "d6bfdbb86b9340f9b4e2feb1d1f7aa83": {
          "model_module": "@jupyter-widgets/controls",
          "model_name": "DescriptionStyleModel",
          "state": {
            "_view_name": "StyleView",
            "_model_name": "DescriptionStyleModel",
            "description_width": "",
            "_view_module": "@jupyter-widgets/base",
            "_model_module_version": "1.5.0",
            "_view_count": null,
            "_view_module_version": "1.2.0",
            "_model_module": "@jupyter-widgets/controls"
          }
        },
        "1676c829b0bb4182a084d1eda172ba74": {
          "model_module": "@jupyter-widgets/base",
          "model_name": "LayoutModel",
          "state": {
            "_view_name": "LayoutView",
            "grid_template_rows": null,
            "right": null,
            "justify_content": null,
            "_view_module": "@jupyter-widgets/base",
            "overflow": null,
            "_model_module_version": "1.2.0",
            "_view_count": null,
            "flex_flow": null,
            "width": null,
            "min_width": null,
            "border": null,
            "align_items": null,
            "bottom": null,
            "_model_module": "@jupyter-widgets/base",
            "top": null,
            "grid_column": null,
            "overflow_y": null,
            "overflow_x": null,
            "grid_auto_flow": null,
            "grid_area": null,
            "grid_template_columns": null,
            "flex": null,
            "_model_name": "LayoutModel",
            "justify_items": null,
            "grid_row": null,
            "max_height": null,
            "align_content": null,
            "visibility": null,
            "align_self": null,
            "height": null,
            "min_height": null,
            "padding": null,
            "grid_auto_rows": null,
            "grid_gap": null,
            "max_width": null,
            "order": null,
            "_view_module_version": "1.2.0",
            "grid_template_areas": null,
            "object_position": null,
            "object_fit": null,
            "grid_auto_columns": null,
            "margin": null,
            "display": null,
            "left": null
          }
        },
        "9e9ae06d7c8b4117962efa7f7af04c22": {
          "model_module": "@jupyter-widgets/controls",
          "model_name": "HBoxModel",
          "state": {
            "_view_name": "HBoxView",
            "_dom_classes": [],
            "_model_name": "HBoxModel",
            "_view_module": "@jupyter-widgets/controls",
            "_model_module_version": "1.5.0",
            "_view_count": null,
            "_view_module_version": "1.5.0",
            "box_style": "",
            "layout": "IPY_MODEL_8a542535b1864fcca1c3e44b2f697f39",
            "_model_module": "@jupyter-widgets/controls",
            "children": [
              "IPY_MODEL_83411bcfa1d34a9689d0c47436722e61",
              "IPY_MODEL_c7b87b1061e14437866da14b4590f19d"
            ]
          }
        },
        "8a542535b1864fcca1c3e44b2f697f39": {
          "model_module": "@jupyter-widgets/base",
          "model_name": "LayoutModel",
          "state": {
            "_view_name": "LayoutView",
            "grid_template_rows": null,
            "right": null,
            "justify_content": null,
            "_view_module": "@jupyter-widgets/base",
            "overflow": null,
            "_model_module_version": "1.2.0",
            "_view_count": null,
            "flex_flow": null,
            "width": null,
            "min_width": null,
            "border": null,
            "align_items": null,
            "bottom": null,
            "_model_module": "@jupyter-widgets/base",
            "top": null,
            "grid_column": null,
            "overflow_y": null,
            "overflow_x": null,
            "grid_auto_flow": null,
            "grid_area": null,
            "grid_template_columns": null,
            "flex": null,
            "_model_name": "LayoutModel",
            "justify_items": null,
            "grid_row": null,
            "max_height": null,
            "align_content": null,
            "visibility": null,
            "align_self": null,
            "height": null,
            "min_height": null,
            "padding": null,
            "grid_auto_rows": null,
            "grid_gap": null,
            "max_width": null,
            "order": null,
            "_view_module_version": "1.2.0",
            "grid_template_areas": null,
            "object_position": null,
            "object_fit": null,
            "grid_auto_columns": null,
            "margin": null,
            "display": null,
            "left": null
          }
        },
        "83411bcfa1d34a9689d0c47436722e61": {
          "model_module": "@jupyter-widgets/controls",
          "model_name": "FloatProgressModel",
          "state": {
            "_view_name": "ProgressView",
            "style": "IPY_MODEL_aabf65fe02544e74ad4b1a4bf5faa12a",
            "_dom_classes": [],
            "description": "100%",
            "_model_name": "FloatProgressModel",
            "bar_style": "success",
            "max": 10,
            "_view_module": "@jupyter-widgets/controls",
            "_model_module_version": "1.5.0",
            "value": 10,
            "_view_count": null,
            "_view_module_version": "1.5.0",
            "orientation": "horizontal",
            "min": 0,
            "description_tooltip": null,
            "_model_module": "@jupyter-widgets/controls",
            "layout": "IPY_MODEL_ae88d576521241b1b16bcd898c772521"
          }
        },
        "c7b87b1061e14437866da14b4590f19d": {
          "model_module": "@jupyter-widgets/controls",
          "model_name": "HTMLModel",
          "state": {
            "_view_name": "HTMLView",
            "style": "IPY_MODEL_2e0b30a855184b5b8907fb44e6469d03",
            "_dom_classes": [],
            "description": "",
            "_model_name": "HTMLModel",
            "placeholder": "​",
            "_view_module": "@jupyter-widgets/controls",
            "_model_module_version": "1.5.0",
            "value": " 10/10 [01:21&lt;00:00,  8.16s/it, loss: 2.36869, accuracy: 0.7443]",
            "_view_count": null,
            "_view_module_version": "1.5.0",
            "description_tooltip": null,
            "_model_module": "@jupyter-widgets/controls",
            "layout": "IPY_MODEL_b7b3102855bf49f987125589a6c87aeb"
          }
        },
        "aabf65fe02544e74ad4b1a4bf5faa12a": {
          "model_module": "@jupyter-widgets/controls",
          "model_name": "ProgressStyleModel",
          "state": {
            "_view_name": "StyleView",
            "_model_name": "ProgressStyleModel",
            "description_width": "initial",
            "_view_module": "@jupyter-widgets/base",
            "_model_module_version": "1.5.0",
            "_view_count": null,
            "_view_module_version": "1.2.0",
            "bar_color": null,
            "_model_module": "@jupyter-widgets/controls"
          }
        },
        "ae88d576521241b1b16bcd898c772521": {
          "model_module": "@jupyter-widgets/base",
          "model_name": "LayoutModel",
          "state": {
            "_view_name": "LayoutView",
            "grid_template_rows": null,
            "right": null,
            "justify_content": null,
            "_view_module": "@jupyter-widgets/base",
            "overflow": null,
            "_model_module_version": "1.2.0",
            "_view_count": null,
            "flex_flow": null,
            "width": null,
            "min_width": null,
            "border": null,
            "align_items": null,
            "bottom": null,
            "_model_module": "@jupyter-widgets/base",
            "top": null,
            "grid_column": null,
            "overflow_y": null,
            "overflow_x": null,
            "grid_auto_flow": null,
            "grid_area": null,
            "grid_template_columns": null,
            "flex": null,
            "_model_name": "LayoutModel",
            "justify_items": null,
            "grid_row": null,
            "max_height": null,
            "align_content": null,
            "visibility": null,
            "align_self": null,
            "height": null,
            "min_height": null,
            "padding": null,
            "grid_auto_rows": null,
            "grid_gap": null,
            "max_width": null,
            "order": null,
            "_view_module_version": "1.2.0",
            "grid_template_areas": null,
            "object_position": null,
            "object_fit": null,
            "grid_auto_columns": null,
            "margin": null,
            "display": null,
            "left": null
          }
        },
        "2e0b30a855184b5b8907fb44e6469d03": {
          "model_module": "@jupyter-widgets/controls",
          "model_name": "DescriptionStyleModel",
          "state": {
            "_view_name": "StyleView",
            "_model_name": "DescriptionStyleModel",
            "description_width": "",
            "_view_module": "@jupyter-widgets/base",
            "_model_module_version": "1.5.0",
            "_view_count": null,
            "_view_module_version": "1.2.0",
            "_model_module": "@jupyter-widgets/controls"
          }
        },
        "b7b3102855bf49f987125589a6c87aeb": {
          "model_module": "@jupyter-widgets/base",
          "model_name": "LayoutModel",
          "state": {
            "_view_name": "LayoutView",
            "grid_template_rows": null,
            "right": null,
            "justify_content": null,
            "_view_module": "@jupyter-widgets/base",
            "overflow": null,
            "_model_module_version": "1.2.0",
            "_view_count": null,
            "flex_flow": null,
            "width": null,
            "min_width": null,
            "border": null,
            "align_items": null,
            "bottom": null,
            "_model_module": "@jupyter-widgets/base",
            "top": null,
            "grid_column": null,
            "overflow_y": null,
            "overflow_x": null,
            "grid_auto_flow": null,
            "grid_area": null,
            "grid_template_columns": null,
            "flex": null,
            "_model_name": "LayoutModel",
            "justify_items": null,
            "grid_row": null,
            "max_height": null,
            "align_content": null,
            "visibility": null,
            "align_self": null,
            "height": null,
            "min_height": null,
            "padding": null,
            "grid_auto_rows": null,
            "grid_gap": null,
            "max_width": null,
            "order": null,
            "_view_module_version": "1.2.0",
            "grid_template_areas": null,
            "object_position": null,
            "object_fit": null,
            "grid_auto_columns": null,
            "margin": null,
            "display": null,
            "left": null
          }
        }
      }
    }
  },
  "cells": [
    {
      "cell_type": "markdown",
      "metadata": {
        "id": "equal-acceptance"
      },
      "source": [
        "В этой тетрадке мы разберём те вещи, которые раньше мы заметали под ковёр."
      ],
      "id": "equal-acceptance"
    },
    {
      "cell_type": "code",
      "metadata": {
        "id": "healthy-conviction"
      },
      "source": [
        "import numpy as np\n",
        "\n",
        "import torch\n",
        "import torch.nn as nn\n",
        "import torch.nn.functional as F\n",
        "\n",
        "import torchvision\n",
        "\n",
        "from tqdm.notebook import tqdm\n",
        "\n",
        "import matplotlib.pyplot as plt\n",
        "%matplotlib inline"
      ],
      "id": "healthy-conviction",
      "execution_count": 8,
      "outputs": []
    },
    {
      "cell_type": "markdown",
      "metadata": {
        "id": "cardiovascular-christmas"
      },
      "source": [
        "# 1. Разминка: `.backward()`"
      ],
      "id": "cardiovascular-christmas"
    },
    {
      "cell_type": "markdown",
      "metadata": {
        "id": "documentary-prince"
      },
      "source": [
        "Не запуская эту ячейку, можете ли вы сказать, что она напечатает?"
      ],
      "id": "documentary-prince"
    },
    {
      "cell_type": "code",
      "metadata": {
        "colab": {
          "base_uri": "https://localhost:8080/"
        },
        "id": "straight-freeware",
        "outputId": "c54c326b-ffb0-419d-8804-5247eb145cd8"
      },
      "source": [
        "x = torch.tensor(-3., requires_grad=True)\n",
        "y = x**2\n",
        "y.backward(torch.tensor(10))\n",
        "\n",
        "print('x =', x)\n",
        "print('y =', y)\n",
        "print('x.grad =', x.grad)"
      ],
      "id": "straight-freeware",
      "execution_count": 9,
      "outputs": [
        {
          "output_type": "stream",
          "text": [
            "x = tensor(-3., requires_grad=True)\n",
            "y = tensor(9., grad_fn=<PowBackward0>)\n",
            "x.grad = tensor(-60.)\n"
          ],
          "name": "stdout"
        }
      ]
    },
    {
      "cell_type": "markdown",
      "metadata": {
        "id": "approved-guest"
      },
      "source": [
        "А что насчёт этой ячейки? Как будет выглядеть график?"
      ],
      "id": "approved-guest"
    },
    {
      "cell_type": "code",
      "metadata": {
        "colab": {
          "base_uri": "https://localhost:8080/",
          "height": 265
        },
        "id": "periodic-fashion",
        "outputId": "c5fa2356-0ec3-48d6-f5f3-45d09478b50f"
      },
      "source": [
        "x = torch.linspace(-3, 3, 100, requires_grad=True)\n",
        "y = x**2\n",
        "# y.sum().backward()\n",
        "y.backward(torch.ones(100))\n",
        "\n",
        "plt.plot(x.detach(), y.detach(), label='y')\n",
        "plt.plot(x.detach(), x.grad, label='x.grad')\n",
        "plt.legend()\n",
        "plt.grid()"
      ],
      "id": "periodic-fashion",
      "execution_count": 10,
      "outputs": [
        {
          "output_type": "display_data",
          "data": {
            "image/png": "[encoded data removed]",
            "text/plain": [
              "<Figure size 432x288 with 1 Axes>"
            ]
          },
          "metadata": {
            "tags": [],
            "needs_background": "light"
          }
        }
      ]
    },
    {
      "cell_type": "markdown",
      "metadata": {
        "id": "active-pakistan"
      },
      "source": [
        "Посчитайте градиент функции\n",
        "\n",
        "$$\n",
        "f(w) = \\prod_{i,j} \\log(\\log(w_{ij} + 7))\n",
        "$$\n",
        "\n",
        "в точке `w = [[5,10], [1,2]]`."
      ],
      "id": "active-pakistan"
    },
    {
      "cell_type": "code",
      "metadata": {
        "colab": {
          "base_uri": "https://localhost:8080/"
        },
        "id": "senior-variance",
        "outputId": "c5b9c976-d8b4-4fa7-80e4-4855d55daed2"
      },
      "source": [
        "# t.prod()\n",
        "# torch.prod(t)\n",
        "\n",
        "w = torch.tensor([[5,10], [1,2]], dtype=torch.float32, requires_grad=True)\n",
        "f = torch.log(torch.log(w + 7)).prod()\n",
        "f.backward()\n",
        "w.grad"
      ],
      "id": "senior-variance",
      "execution_count": 11,
      "outputs": [
        {
          "output_type": "execute_result",
          "data": {
            "text/plain": [
              "tensor([[0.0201, 0.0109],\n",
              "        [0.0449, 0.0351]])"
            ]
          },
          "metadata": {
            "tags": []
          },
          "execution_count": 11
        }
      ]
    },
    {
      "cell_type": "markdown",
      "metadata": {
        "id": "general-reality"
      },
      "source": [
        "# 2. Пишем слои руками"
      ],
      "id": "general-reality"
    },
    {
      "cell_type": "markdown",
      "metadata": {
        "id": "driven-equality"
      },
      "source": [
        "Все слои торча, которые мы с вами уже использовали, являются наследниками класса `nn.Module`. Нас в нём будут больше всего интересовать методы `__init__` и `forward`."
      ],
      "id": "driven-equality"
    },
    {
      "cell_type": "code",
      "metadata": {
        "id": "cooperative-profit"
      },
      "source": [
        "def assert_identical_forward(torch_layer, my_layer, std=1):\n",
        "    for _ in range(10):\n",
        "        a = torch.randn(10, 3) * std\n",
        "        assert torch.allclose(torch_layer(a), my_layer(a))"
      ],
      "id": "cooperative-profit",
      "execution_count": 12,
      "outputs": []
    },
    {
      "cell_type": "markdown",
      "metadata": {
        "id": "computational-visibility"
      },
      "source": [
        "## 2.1. `nn.ReLU`"
      ],
      "id": "computational-visibility"
    },
    {
      "cell_type": "markdown",
      "metadata": {
        "id": "large-publisher"
      },
      "source": [
        "В качестве примера посмотрим, как можно реализовать `ReLU`."
      ],
      "id": "large-publisher"
    },
    {
      "cell_type": "code",
      "metadata": {
        "id": "communist-merchandise"
      },
      "source": [
        "class ReLU(nn.Module):  # наследуемся от nn.Module\n",
        "    def forward(self, x):\n",
        "        # На вход пришёл какой-то тензор x\n",
        "        return torch.maximum(x, torch.tensor(0))  # Возвращаем max(x, 0)\n",
        "\n",
        "assert_identical_forward(nn.ReLU(), ReLU())"
      ],
      "id": "communist-merchandise",
      "execution_count": 13,
      "outputs": []
    },
    {
      "cell_type": "code",
      "metadata": {
        "id": "qP-82foSTOIb"
      },
      "source": [
        "assert_identical_forward(nn.ReLU(), ReLU())"
      ],
      "id": "qP-82foSTOIb",
      "execution_count": 14,
      "outputs": []
    },
    {
      "cell_type": "code",
      "metadata": {
        "colab": {
          "base_uri": "https://localhost:8080/"
        },
        "id": "pfQ27dVES0e5",
        "outputId": "1ec77dae-284a-4830-ee99-789e6cd39f3d"
      },
      "source": [
        "layer = ReLU()\n",
        "a = torch.randn(2, 3)\n",
        "print(a)\n",
        "print(layer.forward(a))"
      ],
      "id": "pfQ27dVES0e5",
      "execution_count": 15,
      "outputs": [
        {
          "output_type": "stream",
          "text": [
            "tensor([[-1.4139,  0.4703,  0.9649],\n",
            "        [-0.3434,  2.8541,  0.8819]])\n",
            "tensor([[0.0000, 0.4703, 0.9649],\n",
            "        [0.0000, 2.8541, 0.8819]])\n"
          ],
          "name": "stdout"
        }
      ]
    },
    {
      "cell_type": "code",
      "metadata": {
        "colab": {
          "base_uri": "https://localhost:8080/"
        },
        "id": "ttw1g6FgTpgO",
        "outputId": "03718c32-28c8-48d9-e6c6-aa2be0a0e7fc"
      },
      "source": [
        "a[0, 0].item()"
      ],
      "id": "ttw1g6FgTpgO",
      "execution_count": 16,
      "outputs": [
        {
          "output_type": "execute_result",
          "data": {
            "text/plain": [
              "-1.413925290107727"
            ]
          },
          "metadata": {
            "tags": []
          },
          "execution_count": 16
        }
      ]
    },
    {
      "cell_type": "code",
      "metadata": {
        "colab": {
          "base_uri": "https://localhost:8080/"
        },
        "id": "crwlzyBRUIjL",
        "outputId": "262504e6-7115-4bd1-ac3b-c05038d7ca36"
      },
      "source": [
        "torch.tensor([123]).item()"
      ],
      "id": "crwlzyBRUIjL",
      "execution_count": 17,
      "outputs": [
        {
          "output_type": "execute_result",
          "data": {
            "text/plain": [
              "123"
            ]
          },
          "metadata": {
            "tags": []
          },
          "execution_count": 17
        }
      ]
    },
    {
      "cell_type": "markdown",
      "metadata": {
        "id": "other-civilian"
      },
      "source": [
        "Разумеется, этим слоем можно пользоваться так же, как мы раньше пользовались стандартными слоями:"
      ],
      "id": "other-civilian"
    },
    {
      "cell_type": "code",
      "metadata": {
        "colab": {
          "base_uri": "https://localhost:8080/"
        },
        "id": "complex-rabbit",
        "outputId": "264e9deb-3888-4e23-8b82-5c75438df1c9"
      },
      "source": [
        "layer = ReLU()\n",
        "\n",
        "x = torch.randn(2, 3)\n",
        "print(x)\n",
        "\n",
        "y = layer(x)\n",
        "print(y)"
      ],
      "id": "complex-rabbit",
      "execution_count": 18,
      "outputs": [
        {
          "output_type": "stream",
          "text": [
            "tensor([[ 1.2389, -0.0456,  1.0801],\n",
            "        [ 0.8366,  1.9840, -0.3059]])\n",
            "tensor([[1.2389, 0.0000, 1.0801],\n",
            "        [0.8366, 1.9840, 0.0000]])\n"
          ],
          "name": "stdout"
        }
      ]
    },
    {
      "cell_type": "markdown",
      "metadata": {
        "id": "seventh-still"
      },
      "source": [
        "## 2.2. Про шейпы"
      ],
      "id": "seventh-still"
    },
    {
      "cell_type": "markdown",
      "metadata": {
        "id": "appointed-carry"
      },
      "source": [
        "Дальше хотелось бы реализовать `nn.Softmax`, но там понадобится делить каждую строку тензора на знаменатель, единый для всей строки. Поймём, как это правильно сделать. Пусть у нас есть вот такой тензор:"
      ],
      "id": "appointed-carry"
    },
    {
      "cell_type": "code",
      "metadata": {
        "colab": {
          "base_uri": "https://localhost:8080/"
        },
        "id": "introductory-adoption",
        "outputId": "9d9fb6cd-9c20-4cec-81a1-d5b14004d175"
      },
      "source": [
        "a = torch.arange(15).reshape(5, 3)\n",
        "print(a)\n",
        "print(a.shape)"
      ],
      "id": "introductory-adoption",
      "execution_count": 19,
      "outputs": [
        {
          "output_type": "stream",
          "text": [
            "tensor([[ 0,  1,  2],\n",
            "        [ 3,  4,  5],\n",
            "        [ 6,  7,  8],\n",
            "        [ 9, 10, 11],\n",
            "        [12, 13, 14]])\n",
            "torch.Size([5, 3])\n"
          ],
          "name": "stdout"
        }
      ]
    },
    {
      "cell_type": "markdown",
      "metadata": {
        "id": "lesbian-southwest"
      },
      "source": [
        "Если просто сделать `a / a.sum(dim=1)`, то ничего не выйдет. Шейп `a` равен `(5, 3)`, `a.sum(dim=1)` — `(5,)`, и PyTorch не понимает, что мы от него хотим:"
      ],
      "id": "lesbian-southwest"
    },
    {
      "cell_type": "code",
      "metadata": {
        "colab": {
          "base_uri": "https://localhost:8080/",
          "height": 242
        },
        "id": "compliant-concentration",
        "outputId": "6861eb67-da62-435e-9a57-9030e1c5176d"
      },
      "source": [
        "print(a.sum(dim=1))\n",
        "print(a.sum(dim=1).shape)\n",
        "print(a / a.sum(dim=1))"
      ],
      "id": "compliant-concentration",
      "execution_count": 20,
      "outputs": [
        {
          "output_type": "stream",
          "text": [
            "tensor([ 3, 12, 21, 30, 39])\n",
            "torch.Size([5])\n"
          ],
          "name": "stdout"
        },
        {
          "output_type": "error",
          "ename": "RuntimeError",
          "evalue": "ignored",
          "traceback": [
            "\u001b[0;31m---------------------------------------------------------------------------\u001b[0m",
            "\u001b[0;31mRuntimeError\u001b[0m                              Traceback (most recent call last)",
            "\u001b[0;32m<ipython-input-20-64421f09247e>\u001b[0m in \u001b[0;36m<module>\u001b[0;34m()\u001b[0m\n\u001b[1;32m      1\u001b[0m \u001b[0mprint\u001b[0m\u001b[0;34m(\u001b[0m\u001b[0ma\u001b[0m\u001b[0;34m.\u001b[0m\u001b[0msum\u001b[0m\u001b[0;34m(\u001b[0m\u001b[0mdim\u001b[0m\u001b[0;34m=\u001b[0m\u001b[0;36m1\u001b[0m\u001b[0;34m)\u001b[0m\u001b[0;34m)\u001b[0m\u001b[0;34m\u001b[0m\u001b[0;34m\u001b[0m\u001b[0m\n\u001b[1;32m      2\u001b[0m \u001b[0mprint\u001b[0m\u001b[0;34m(\u001b[0m\u001b[0ma\u001b[0m\u001b[0;34m.\u001b[0m\u001b[0msum\u001b[0m\u001b[0;34m(\u001b[0m\u001b[0mdim\u001b[0m\u001b[0;34m=\u001b[0m\u001b[0;36m1\u001b[0m\u001b[0;34m)\u001b[0m\u001b[0;34m.\u001b[0m\u001b[0mshape\u001b[0m\u001b[0;34m)\u001b[0m\u001b[0;34m\u001b[0m\u001b[0;34m\u001b[0m\u001b[0m\n\u001b[0;32m----> 3\u001b[0;31m \u001b[0mprint\u001b[0m\u001b[0;34m(\u001b[0m\u001b[0ma\u001b[0m \u001b[0;34m/\u001b[0m \u001b[0ma\u001b[0m\u001b[0;34m.\u001b[0m\u001b[0msum\u001b[0m\u001b[0;34m(\u001b[0m\u001b[0mdim\u001b[0m\u001b[0;34m=\u001b[0m\u001b[0;36m1\u001b[0m\u001b[0;34m)\u001b[0m\u001b[0;34m)\u001b[0m\u001b[0;34m\u001b[0m\u001b[0;34m\u001b[0m\u001b[0m\n\u001b[0m",
            "\u001b[0;31mRuntimeError\u001b[0m: The size of tensor a (3) must match the size of tensor b (5) at non-singleton dimension 1"
          ]
        }
      ]
    },
    {
      "cell_type": "markdown",
      "metadata": {
        "id": "confident-printer"
      },
      "source": [
        "А вот если изменить шейп `a.sum(dim=1)` на `(5, 1)`, то сработает броадкастинг: PyTorch увидит, что мы пытаемся разделить тензор с шейпом `(5, 3)` на тензор с шейпом `(5, 1)`, и корректно размножит второй тензор вдоль столбцов:"
      ],
      "id": "confident-printer"
    },
    {
      "cell_type": "code",
      "metadata": {
        "colab": {
          "base_uri": "https://localhost:8080/"
        },
        "id": "harmful-diversity",
        "outputId": "37c042bf-e40f-410f-d849-eba9c0cf021a"
      },
      "source": [
        "print(a.sum(dim=1, keepdim=True))\n",
        "print(a.sum(dim=1, keepdim=True).shape)\n",
        "print(a / a.sum(dim=1, keepdim=True))"
      ],
      "id": "harmful-diversity",
      "execution_count": 21,
      "outputs": [
        {
          "output_type": "stream",
          "text": [
            "tensor([[ 3],\n",
            "        [12],\n",
            "        [21],\n",
            "        [30],\n",
            "        [39]])\n",
            "torch.Size([5, 1])\n",
            "tensor([[0.0000, 0.3333, 0.6667],\n",
            "        [0.2500, 0.3333, 0.4167],\n",
            "        [0.2857, 0.3333, 0.3810],\n",
            "        [0.3000, 0.3333, 0.3667],\n",
            "        [0.3077, 0.3333, 0.3590]])\n"
          ],
          "name": "stdout"
        }
      ]
    },
    {
      "cell_type": "markdown",
      "metadata": {
        "id": "technical-gross"
      },
      "source": [
        "Давайте теперь попробуем написать вот такой слой:\n",
        "\n",
        "$$\n",
        "\\left[ \\operatorname{DivideBySum}(x) \\right]_{ij} = \\frac {x_{ij}} {\\sum_{k = 1}^n x_{ik}}\n",
        "$$"
      ],
      "id": "technical-gross"
    },
    {
      "cell_type": "code",
      "metadata": {
        "id": "flush-checkout"
      },
      "source": [
        "class DivideBySum(nn.Module):\n",
        "    def forward(self, x):\n",
        "        return x / x.sum(dim=1, keepdim=True)\n",
        "\n",
        "assert_identical_forward(lambda x: x / x.sum(dim=1, keepdim=True), DivideBySum())"
      ],
      "id": "flush-checkout",
      "execution_count": 22,
      "outputs": []
    },
    {
      "cell_type": "markdown",
      "metadata": {
        "id": "reported-commerce"
      },
      "source": [
        "## 2.3. `nn.Softmax`"
      ],
      "id": "reported-commerce"
    },
    {
      "cell_type": "markdown",
      "metadata": {
        "id": "broad-arthritis"
      },
      "source": [
        "Можно написать `Softmax` прямо по определению:\n",
        "\n",
        "$$\n",
        "\\left[ \\operatorname{SoftmaxUnstable}(x) \\right]_{ij} = \\frac {\\exp (x_{ij})} {\\sum_{k = 1}^n \\exp (x_{ik})}\n",
        "$$\n",
        "\n",
        "Давайте попробуем это сделать и убедимся, что второй тест (передающий на вход слою числа порядка 1000) не проходится:"
      ],
      "id": "broad-arthritis"
    },
    {
      "cell_type": "code",
      "metadata": {
        "colab": {
          "base_uri": "https://localhost:8080/",
          "height": 296
        },
        "id": "herbal-nepal",
        "outputId": "7c5ec7fa-dfd7-4108-fe71-e8e0773944e1"
      },
      "source": [
        "class SoftmaxUnstable(nn.Module):\n",
        "    def forward(self, x):\n",
        "        assert len(x.shape) == 2\n",
        "        exp = torch.exp(x)\n",
        "        return exp / exp.sum(dim=1, keepdim=True)\n",
        "\n",
        "assert_identical_forward(nn.Softmax(dim=1), SoftmaxUnstable())\n",
        "assert_identical_forward(nn.Softmax(dim=1), SoftmaxUnstable(), std=1000)"
      ],
      "id": "herbal-nepal",
      "execution_count": 23,
      "outputs": [
        {
          "output_type": "error",
          "ename": "AssertionError",
          "evalue": "ignored",
          "traceback": [
            "\u001b[0;31m---------------------------------------------------------------------------\u001b[0m",
            "\u001b[0;31mAssertionError\u001b[0m                            Traceback (most recent call last)",
            "\u001b[0;32m<ipython-input-23-1b7d732b18b2>\u001b[0m in \u001b[0;36m<module>\u001b[0;34m()\u001b[0m\n\u001b[1;32m      6\u001b[0m \u001b[0;34m\u001b[0m\u001b[0m\n\u001b[1;32m      7\u001b[0m \u001b[0massert_identical_forward\u001b[0m\u001b[0;34m(\u001b[0m\u001b[0mnn\u001b[0m\u001b[0;34m.\u001b[0m\u001b[0mSoftmax\u001b[0m\u001b[0;34m(\u001b[0m\u001b[0mdim\u001b[0m\u001b[0;34m=\u001b[0m\u001b[0;36m1\u001b[0m\u001b[0;34m)\u001b[0m\u001b[0;34m,\u001b[0m \u001b[0mSoftmaxUnstable\u001b[0m\u001b[0;34m(\u001b[0m\u001b[0;34m)\u001b[0m\u001b[0;34m)\u001b[0m\u001b[0;34m\u001b[0m\u001b[0;34m\u001b[0m\u001b[0m\n\u001b[0;32m----> 8\u001b[0;31m \u001b[0massert_identical_forward\u001b[0m\u001b[0;34m(\u001b[0m\u001b[0mnn\u001b[0m\u001b[0;34m.\u001b[0m\u001b[0mSoftmax\u001b[0m\u001b[0;34m(\u001b[0m\u001b[0mdim\u001b[0m\u001b[0;34m=\u001b[0m\u001b[0;36m1\u001b[0m\u001b[0;34m)\u001b[0m\u001b[0;34m,\u001b[0m \u001b[0mSoftmaxUnstable\u001b[0m\u001b[0;34m(\u001b[0m\u001b[0;34m)\u001b[0m\u001b[0;34m,\u001b[0m \u001b[0mstd\u001b[0m\u001b[0;34m=\u001b[0m\u001b[0;36m1000\u001b[0m\u001b[0;34m)\u001b[0m\u001b[0;34m\u001b[0m\u001b[0;34m\u001b[0m\u001b[0m\n\u001b[0m",
            "\u001b[0;32m<ipython-input-12-49eda4a1baa3>\u001b[0m in \u001b[0;36massert_identical_forward\u001b[0;34m(torch_layer, my_layer, std)\u001b[0m\n\u001b[1;32m      2\u001b[0m     \u001b[0;32mfor\u001b[0m \u001b[0m_\u001b[0m \u001b[0;32min\u001b[0m \u001b[0mrange\u001b[0m\u001b[0;34m(\u001b[0m\u001b[0;36m10\u001b[0m\u001b[0;34m)\u001b[0m\u001b[0;34m:\u001b[0m\u001b[0;34m\u001b[0m\u001b[0;34m\u001b[0m\u001b[0m\n\u001b[1;32m      3\u001b[0m         \u001b[0ma\u001b[0m \u001b[0;34m=\u001b[0m \u001b[0mtorch\u001b[0m\u001b[0;34m.\u001b[0m\u001b[0mrandn\u001b[0m\u001b[0;34m(\u001b[0m\u001b[0;36m10\u001b[0m\u001b[0;34m,\u001b[0m \u001b[0;36m3\u001b[0m\u001b[0;34m)\u001b[0m \u001b[0;34m*\u001b[0m \u001b[0mstd\u001b[0m\u001b[0;34m\u001b[0m\u001b[0;34m\u001b[0m\u001b[0m\n\u001b[0;32m----> 4\u001b[0;31m         \u001b[0;32massert\u001b[0m \u001b[0mtorch\u001b[0m\u001b[0;34m.\u001b[0m\u001b[0mallclose\u001b[0m\u001b[0;34m(\u001b[0m\u001b[0mtorch_layer\u001b[0m\u001b[0;34m(\u001b[0m\u001b[0ma\u001b[0m\u001b[0;34m)\u001b[0m\u001b[0;34m,\u001b[0m \u001b[0mmy_layer\u001b[0m\u001b[0;34m(\u001b[0m\u001b[0ma\u001b[0m\u001b[0;34m)\u001b[0m\u001b[0;34m)\u001b[0m\u001b[0;34m\u001b[0m\u001b[0;34m\u001b[0m\u001b[0m\n\u001b[0m",
            "\u001b[0;31mAssertionError\u001b[0m: "
          ]
        }
      ]
    },
    {
      "cell_type": "code",
      "metadata": {
        "id": "ETYK9WWSXaah"
      },
      "source": [
        "layer = SoftmaxUnstable()\n",
        "layer(torch.randn(2, 3) * 1000)"
      ],
      "id": "ETYK9WWSXaah",
      "execution_count": null,
      "outputs": []
    },
    {
      "cell_type": "markdown",
      "metadata": {
        "id": "classical-burden"
      },
      "source": [
        "Вместо этого лучше писать Softmax, поделив числитель и знаменатель на наибольшую экспоненту:\n",
        "\n",
        "$$\n",
        "\\left[ \\operatorname{Softmax}(x) \\right]_{ij} = \\frac {\\exp (x_{ij} - x_{i \\text{, max}})} {\\sum_{k = 1}^n \\exp (x_{ik} - x_{i \\text{, max}})}, \\quad \\text{ где } x_{i \\text{, max}} = \\max_j x_{ij}\n",
        "$$"
      ],
      "id": "classical-burden"
    },
    {
      "cell_type": "code",
      "metadata": {
        "id": "developmental-spirituality"
      },
      "source": [
        "class Softmax(nn.Module):\n",
        "    def forward(self, x):\n",
        "        assert len(x.shape) == 2\n",
        "        x = x - x.max(dim=1, keepdim=True)[0]\n",
        "        exp = torch.exp(x)\n",
        "        return exp / exp.sum(dim=1, keepdim=True)\n",
        "\n",
        "assert_identical_forward(nn.Softmax(dim=1), Softmax())\n",
        "assert_identical_forward(nn.Softmax(dim=1), Softmax(), std=1000)"
      ],
      "id": "developmental-spirituality",
      "execution_count": 24,
      "outputs": []
    },
    {
      "cell_type": "code",
      "metadata": {
        "colab": {
          "base_uri": "https://localhost:8080/"
        },
        "id": "bmPjGmhkYvxp",
        "outputId": "1e9f23ce-eae5-444d-c488-163adeb82aae"
      },
      "source": [
        "layer = Softmax()\n",
        "layer(torch.randn(2, 3) * 1000)"
      ],
      "id": "bmPjGmhkYvxp",
      "execution_count": 25,
      "outputs": [
        {
          "output_type": "execute_result",
          "data": {
            "text/plain": [
              "tensor([[0., 1., 0.],\n",
              "        [1., 0., 0.]])"
            ]
          },
          "metadata": {
            "tags": []
          },
          "execution_count": 25
        }
      ]
    },
    {
      "cell_type": "markdown",
      "metadata": {
        "id": "metric-comparative"
      },
      "source": [
        "## 2.4. `nn.LogSoftmax`"
      ],
      "id": "metric-comparative"
    },
    {
      "cell_type": "markdown",
      "metadata": {
        "id": "inner-qatar"
      },
      "source": [
        "Аналогично `Softmax`, можно написать по определению и убедиться, что это не работает:\n",
        "\n",
        "$$\n",
        "\\left[ \\operatorname{LogSoftmaxUnstable}(x) \\right]_{ij} =\n",
        "\\log \\left[ \\operatorname{Softmax}(x) \\right]_{ij}\n",
        "$$\n",
        "\n",
        "Естественно, это не работает, если подставить `SoftmaxUnstable`:"
      ],
      "id": "inner-qatar"
    },
    {
      "cell_type": "code",
      "metadata": {
        "colab": {
          "base_uri": "https://localhost:8080/"
        },
        "id": "hourly-letters",
        "outputId": "6ec5d9bb-8fe6-4d03-ffa3-015de9ff0dbe"
      },
      "source": [
        "class LogSoftmaxVeryUnstable(nn.Module):\n",
        "    def forward(self, x):\n",
        "        assert len(x.shape) == 2\n",
        "        return torch.log(SoftmaxUnstable()(x))\n",
        "\n",
        "LogSoftmaxVeryUnstable()(torch.randn(10, 3) * 1000)"
      ],
      "id": "hourly-letters",
      "execution_count": 26,
      "outputs": [
        {
          "output_type": "execute_result",
          "data": {
            "text/plain": [
              "tensor([[-inf, -inf, nan],\n",
              "        [-inf, nan, nan],\n",
              "        [-inf, nan, -inf],\n",
              "        [nan, -inf, -inf],\n",
              "        [-inf, -inf, nan],\n",
              "        [-inf, -inf, nan],\n",
              "        [-inf, nan, -inf],\n",
              "        [nan, nan, nan],\n",
              "        [-inf, nan, -inf],\n",
              "        [-inf, nan, nan]])"
            ]
          },
          "metadata": {
            "tags": []
          },
          "execution_count": 26
        }
      ]
    },
    {
      "cell_type": "markdown",
      "metadata": {
        "id": "ready-feeling"
      },
      "source": [
        "Но даже и с обычным `Softmax` тоже ничего не выходит:"
      ],
      "id": "ready-feeling"
    },
    {
      "cell_type": "code",
      "metadata": {
        "colab": {
          "base_uri": "https://localhost:8080/"
        },
        "id": "african-buffalo",
        "outputId": "ba34b4ad-0455-4dca-f0e5-b3e0f6972738"
      },
      "source": [
        "class LogSoftmaxUnstable(nn.Module):\n",
        "    def forward(self, x):\n",
        "        assert len(x.shape) == 2\n",
        "        return torch.log(Softmax()(x))\n",
        "\n",
        "LogSoftmaxUnstable()(torch.randn(10, 3) * 1000)"
      ],
      "id": "african-buffalo",
      "execution_count": 27,
      "outputs": [
        {
          "output_type": "execute_result",
          "data": {
            "text/plain": [
              "tensor([[-inf, -inf, 0.],\n",
              "        [0., -inf, -inf],\n",
              "        [0., -inf, -inf],\n",
              "        [-inf, -inf, 0.],\n",
              "        [-inf, 0., -inf],\n",
              "        [-inf, 0., -inf],\n",
              "        [0., -inf, -inf],\n",
              "        [0., -inf, -inf],\n",
              "        [-inf, -inf, 0.],\n",
              "        [0., -inf, -inf]])"
            ]
          },
          "metadata": {
            "tags": []
          },
          "execution_count": 27
        }
      ]
    },
    {
      "cell_type": "markdown",
      "metadata": {
        "id": "answering-notification"
      },
      "source": [
        "Вместо этого лучше сделать преобразование, аналогичное тому, которое мы сделали с `Softmax`:\n",
        "\n",
        "$$\n",
        "\\begin{multline*}\n",
        "\\left[ \\operatorname{LogSoftmaxUnidiomatic}(x) \\right]_{ij} =\n",
        "\\log \\left[ \\operatorname{Softmax}(x) \\right]_{ij} = \\\\\n",
        "\\log \\left( \\frac {\\exp(x_{ij})} {\\sum_{k=1}^n \\exp(x_{ik})} \\right) =\n",
        "x_{ij} - \\log\\left( \\sum_{k=1}^n \\exp(x_{ik}) \\right) =\n",
        "x_{ij} - \\log\\left( \\exp(x_{i \\text{, max}}) \\sum_{k=1}^n \\exp(x_{ij} - x_{i \\text{, max}}) \\right) = \\\\\n",
        "x_{ij} - \\left[ x_{i \\text{, max}} + \\log\\left( \\sum_{k=1}^n \\exp(x_{ij} - x_{i \\text{, max}}) \\right) \\right] =\n",
        "\\left[ x_{ij} - x_{i \\text{, max}} \\right] - \\log\\left( \\sum_{k=1}^n \\exp(x_{ij} - x_{i \\text{, max}}) \\right) ,\n",
        "\\end{multline*}\n",
        "$$\n",
        "\n",
        "где $x_{i \\text{, max}} = \\max \\left\\{ x_i \\right\\}$."
      ],
      "id": "answering-notification"
    },
    {
      "cell_type": "code",
      "metadata": {
        "id": "robust-summer"
      },
      "source": [
        "class LogSoftmaxUnidiomatic(nn.Module):\n",
        "    def forward(self, x):\n",
        "        assert len(x.shape) == 2\n",
        "        x = x - x.max(dim=1, keepdim=True)[0]\n",
        "        exp = torch.exp(x)\n",
        "        return x - torch.log(exp.sum(dim=1, keepdim=True))\n",
        "\n",
        "assert_identical_forward(nn.LogSoftmax(dim=1), LogSoftmaxUnidiomatic())\n",
        "assert_identical_forward(nn.LogSoftmax(dim=1), LogSoftmaxUnidiomatic(), std=1000)"
      ],
      "id": "robust-summer",
      "execution_count": 28,
      "outputs": []
    },
    {
      "cell_type": "markdown",
      "metadata": {
        "id": "lesbian-control"
      },
      "source": [
        "Наконец, для логарифма знаменателя `Softmax` в PyTorch есть специальная функция `torch.logsumexp`. Воспользуемся ей:\n",
        "\n",
        "$$\n",
        "\\left[ \\operatorname{LogSoftmax}(x) \\right]_{ij} =\n",
        "\\left[ x_{ij} - x_{i \\text{, max}} \\right] - \\left[ \\operatorname{logsumexp} (x_i - x_{i \\text{, max}}) \\right]_{ij}\n",
        "$$"
      ],
      "id": "lesbian-control"
    },
    {
      "cell_type": "code",
      "metadata": {
        "id": "colonial-cancellation"
      },
      "source": [
        "class LogSoftmax(nn.Module):\n",
        "    def forward(self, x):\n",
        "        assert len(x.shape) == 2\n",
        "        x = x - x.max(dim=1, keepdim=True)[0]\n",
        "        return x - torch.logsumexp(x, dim=1, keepdim=True)\n",
        "\n",
        "assert_identical_forward(nn.LogSoftmax(dim=1), LogSoftmax())\n",
        "assert_identical_forward(nn.LogSoftmax(dim=1), LogSoftmax(), std=1000)"
      ],
      "id": "colonial-cancellation",
      "execution_count": 29,
      "outputs": []
    },
    {
      "cell_type": "markdown",
      "metadata": {
        "id": "8VRgf3nU44GM"
      },
      "source": [
        "В принципе, можно было бы использовать и более простую формулу:\n",
        "\n",
        "$$\n",
        "\\left[ \\operatorname{LogSoftmax}(x) \\right]_{ij} =\n",
        "x_{ij} - \\left[ \\operatorname{logsumexp} (x) \\right]_{ij}\n",
        "$$\n",
        "\n",
        "но из-за неточности вычислений с плавающей точкой мы не смогли бы свериться с PyTorch, который использует именно предыдущую формулу."
      ],
      "id": "8VRgf3nU44GM"
    },
    {
      "cell_type": "markdown",
      "metadata": {
        "id": "differential-smoke"
      },
      "source": [
        "## 2.5. `nn.NLLLoss`"
      ],
      "id": "differential-smoke"
    },
    {
      "cell_type": "markdown",
      "metadata": {
        "id": "naval-folks"
      },
      "source": [
        "Вспомним, что, решая задачу классификации, мы всего лишь пытаемся максимизировать предсказываемый логарифм вероятности для истинного класса (или, что то же самое, минимизировать минус логарифм). На выходе нашего классификатора будет матрица, где по строкам будут разные сэмплы, а по столбцам логарифмы вероятностей для каждого из классов.\n",
        "\n",
        "$$\n",
        "\\operatorname{NLLLoss}(p, c) = - \\frac 1 n \\sum_{i = 1}^n p_{i, c_i}\n",
        "$$\n",
        "\n",
        "Чтобы максимизировать вероятности истинных классов, надо их выбрать из такой матрицы. В PyTorch можно это сделать так:"
      ],
      "id": "naval-folks"
    },
    {
      "cell_type": "code",
      "metadata": {
        "colab": {
          "base_uri": "https://localhost:8080/"
        },
        "id": "indie-option",
        "outputId": "8f291649-a121-462a-dea6-6a58e1cf30f3"
      },
      "source": [
        "p = DivideBySum()(torch.rand(5, 3))\n",
        "c = torch.randint(3, (5,))\n",
        "print('p:\\n', p)\n",
        "print('c:\\n', c)\n",
        "print('p indexed by c:\\n', p[torch.arange(5), c])"
      ],
      "id": "indie-option",
      "execution_count": 30,
      "outputs": [
        {
          "output_type": "stream",
          "text": [
            "p:\n",
            " tensor([[0.4197, 0.2304, 0.3499],\n",
            "        [0.0105, 0.7395, 0.2499],\n",
            "        [0.4182, 0.4543, 0.1275],\n",
            "        [0.7211, 0.2476, 0.0313],\n",
            "        [0.2421, 0.4965, 0.2614]])\n",
            "c:\n",
            " tensor([1, 2, 2, 2, 0])\n",
            "p indexed by c:\n",
            " tensor([0.2304, 0.2499, 0.1275, 0.0313, 0.2421])\n"
          ],
          "name": "stdout"
        }
      ]
    },
    {
      "cell_type": "markdown",
      "metadata": {
        "id": "expanded-helicopter"
      },
      "source": [
        "А теперь реализуем собственно `NLLLoss`:"
      ],
      "id": "expanded-helicopter"
    },
    {
      "cell_type": "code",
      "metadata": {
        "id": "cubic-parent"
      },
      "source": [
        "class NLLLoss(nn.Module):\n",
        "    def forward(self, predicted_probs, true_classes):\n",
        "        batch_size = predicted_probs.shape[0]\n",
        "        return -predicted_probs[torch.arange(batch_size), true_classes].mean()\n",
        "\n",
        "for _ in range(10):\n",
        "    p = DivideBySum()(torch.rand(10, 3))\n",
        "    c = torch.randint(3, (10,))\n",
        "    assert torch.allclose(nn.NLLLoss()(p, c), NLLLoss()(p, c))"
      ],
      "id": "cubic-parent",
      "execution_count": 31,
      "outputs": []
    },
    {
      "cell_type": "markdown",
      "metadata": {
        "id": "collaborative-roman"
      },
      "source": [
        "## 2.6. `nn.CrossEntropyLoss`"
      ],
      "id": "collaborative-roman"
    },
    {
      "cell_type": "markdown",
      "metadata": {
        "id": "disabled-onion"
      },
      "source": [
        "`CrossEntropyLoss` — это всего лишь `LogSoftmax`, за которым идёт `NLLLoss`. Но мы реализуем ещё несколько вариантов, чтобы убедиться, что они работают хуже."
      ],
      "id": "disabled-onion"
    },
    {
      "cell_type": "code",
      "metadata": {
        "id": "wound-distinction"
      },
      "source": [
        "class CrossEntropyLossVeryUnstable(nn.Module):\n",
        "    def forward(self, predicted_logits, true_classes):\n",
        "        # Используйте LogSoftmaxVeryUnstable\n",
        "        return NLLLoss()(LogSoftmaxVeryUnstable()(predicted_logits), true_classes)\n",
        "\n",
        "for _ in range(10):\n",
        "    logits = torch.randn(10, 3)\n",
        "    c = torch.randint(3, (10,))\n",
        "    assert torch.allclose(nn.CrossEntropyLoss()(logits, c), CrossEntropyLossVeryUnstable()(logits, c))"
      ],
      "id": "wound-distinction",
      "execution_count": 32,
      "outputs": []
    },
    {
      "cell_type": "code",
      "metadata": {
        "id": "thousand-canadian"
      },
      "source": [
        "class CrossEntropyLossUnstable(nn.Module):\n",
        "    def forward(self, predicted_logits, true_classes):\n",
        "        # Используйте LogSoftmaxUnstable\n",
        "        return NLLLoss()(LogSoftmaxUnstable()(predicted_logits), true_classes)\n",
        "\n",
        "for _ in range(10):\n",
        "    logits = torch.randn(10, 3)\n",
        "    c = torch.randint(3, (10,))\n",
        "    assert torch.allclose(nn.CrossEntropyLoss()(logits, c), CrossEntropyLossUnstable()(logits, c))"
      ],
      "id": "thousand-canadian",
      "execution_count": 33,
      "outputs": []
    },
    {
      "cell_type": "code",
      "metadata": {
        "id": "honest-september"
      },
      "source": [
        "class CrossEntropyLoss(nn.Module):\n",
        "    def forward(self, predicted_logits, true_classes):\n",
        "        # Используйте LogSoftmax\n",
        "        return NLLLoss()(LogSoftmax()(predicted_logits), true_classes)\n",
        "\n",
        "for _ in range(10):\n",
        "    logits = torch.randn(10, 3)\n",
        "    c = torch.randint(3, (10,))\n",
        "    assert torch.allclose(nn.CrossEntropyLoss()(logits, c), CrossEntropyLoss()(logits, c))"
      ],
      "id": "honest-september",
      "execution_count": 34,
      "outputs": []
    },
    {
      "cell_type": "markdown",
      "metadata": {
        "id": "unauthorized-springer"
      },
      "source": [
        "## 2.7. `nn.Linear`"
      ],
      "id": "unauthorized-springer"
    },
    {
      "cell_type": "markdown",
      "metadata": {
        "id": "supposed-corrections"
      },
      "source": [
        "Наконец займёмся самой важной частью — линейным слоем:\n",
        "\n",
        "$$\n",
        "\\operatorname{Linear}(x) = x \\cdot W + b\n",
        "$$\n",
        "\n",
        "Для этого нам понадобится завести обучаемые параметры `W` и `b`. Будем хранить их прямо внутри класса.\n",
        "\n",
        "Первое желание — это просто положить их в параметры класса как тензоры (`self.weight = torch.tensor(...)`). Так в принципе тоже можно делать, но хотелось бы иметь механизм, позволяющий помечать тензоры внутри класса как обучаемые и необучаемые. В PyTorch такой механизм предоставляет класс `nn.Parameter`."
      ],
      "id": "supposed-corrections"
    },
    {
      "cell_type": "code",
      "metadata": {
        "id": "placed-honduras"
      },
      "source": [
        "class Linear(nn.Module):\n",
        "    def __init__(self, dim_in, dim_out):\n",
        "        super().__init__()\n",
        "        weight = torch.randn(dim_in, dim_out)\n",
        "        self.weight = nn.Parameter(weight)\n",
        "        \n",
        "        bias = torch.randn(dim_out)\n",
        "        self.bias = nn.Parameter(bias)\n",
        "        \n",
        "    def forward(self, x):\n",
        "        # Input: torch tensor with shape batch x dim_in\n",
        "        # Output: torch tensor with shape batch x dim_out\n",
        "        return x @ self.weight + self.bias"
      ],
      "id": "placed-honduras",
      "execution_count": 35,
      "outputs": []
    },
    {
      "cell_type": "code",
      "metadata": {
        "colab": {
          "base_uri": "https://localhost:8080/"
        },
        "id": "hoFv09LblPIL",
        "outputId": "a8f0f49f-1b94-48c5-f713-c3be63a3a58d"
      },
      "source": [
        "Linear(3, 5)(torch.randn(2, 3))"
      ],
      "id": "hoFv09LblPIL",
      "execution_count": 36,
      "outputs": [
        {
          "output_type": "execute_result",
          "data": {
            "text/plain": [
              "tensor([[-0.7838, -0.9186, -1.1036,  0.1900,  0.4201],\n",
              "        [ 0.6954, -1.8461,  0.0044, -0.6060, -1.5336]], grad_fn=<AddBackward0>)"
            ]
          },
          "metadata": {
            "tags": []
          },
          "execution_count": 36
        }
      ]
    },
    {
      "cell_type": "code",
      "metadata": {
        "colab": {
          "base_uri": "https://localhost:8080/"
        },
        "id": "HWbSsbBqlcRX",
        "outputId": "1513dadc-8c2a-431f-b7d6-dce8b2dc56bf"
      },
      "source": [
        "Linear(3, 5).weight.shape"
      ],
      "id": "HWbSsbBqlcRX",
      "execution_count": 37,
      "outputs": [
        {
          "output_type": "execute_result",
          "data": {
            "text/plain": [
              "torch.Size([3, 5])"
            ]
          },
          "metadata": {
            "tags": []
          },
          "execution_count": 37
        }
      ]
    },
    {
      "cell_type": "code",
      "metadata": {
        "colab": {
          "base_uri": "https://localhost:8080/"
        },
        "id": "DYivyrxclgsa",
        "outputId": "b5d70e19-d6c7-450d-93c4-fcd4f8afc696"
      },
      "source": [
        "nn.Linear(3, 5).weight.shape"
      ],
      "id": "DYivyrxclgsa",
      "execution_count": 38,
      "outputs": [
        {
          "output_type": "execute_result",
          "data": {
            "text/plain": [
              "torch.Size([5, 3])"
            ]
          },
          "metadata": {
            "tags": []
          },
          "execution_count": 38
        }
      ]
    },
    {
      "cell_type": "markdown",
      "metadata": {
        "id": "premium-transcript"
      },
      "source": [
        "## 2.8 Уже можно собрать модель!"
      ],
      "id": "premium-transcript"
    },
    {
      "cell_type": "code",
      "metadata": {
        "colab": {
          "base_uri": "https://localhost:8080/"
        },
        "id": "incoming-start",
        "outputId": "f172d5a9-500d-4933-a803-848ecbb674b5"
      },
      "source": [
        "class MyModel(nn.Module):\n",
        "    def __init__(self):\n",
        "        super().__init__()\n",
        "        self.fc1 = Linear(10, 5)  # линейный слой с 10 входами и 5 выходами\n",
        "        self.relu = ReLU()\n",
        "        self.fc2 = Linear(5, 1)  # линейный слой с 5 входами и 1 выходом\n",
        "        \n",
        "    def forward(self, x):\n",
        "        # Примените последовательно все три слоя и верните результат\n",
        "        \n",
        "        # Можно кратко:\n",
        "        # return self.fc2(self.relu(self.fc1(x)))\n",
        "        \n",
        "        # Можно длинно:\n",
        "        x = self.fc1(x)\n",
        "        x = self.relu(x)\n",
        "        x = self.fc2(x)\n",
        "        return x\n",
        "\n",
        "my_model = MyModel()\n",
        "x = torch.randn(3, 10)\n",
        "y = my_model(x)\n",
        "print(y)\n",
        "print(y.shape)"
      ],
      "id": "incoming-start",
      "execution_count": 39,
      "outputs": [
        {
          "output_type": "stream",
          "text": [
            "tensor([[-0.1895],\n",
            "        [ 5.2005],\n",
            "        [ 3.6246]], grad_fn=<AddBackward0>)\n",
            "torch.Size([3, 1])\n"
          ],
          "name": "stdout"
        }
      ]
    },
    {
      "cell_type": "markdown",
      "metadata": {
        "id": "demanding-motor"
      },
      "source": [
        "## 2.9. Но лучше всё-таки ещё сделать `nn.Sequential`"
      ],
      "id": "demanding-motor"
    },
    {
      "cell_type": "markdown",
      "metadata": {
        "id": "pending-drink"
      },
      "source": [
        "Чтобы сделать контейнер для нескольких слоёв, запускающихся последовательно, достаточно сложить все эти слои внутрь класса. Для этого в PyTorch есть `nn.ModuleList`:"
      ],
      "id": "pending-drink"
    },
    {
      "cell_type": "code",
      "metadata": {
        "id": "opposite-retrieval"
      },
      "source": [
        "class Sequential(nn.Module):\n",
        "    def __init__(self, *args):\n",
        "        super().__init__()\n",
        "        self.submodules = nn.ModuleList(args)\n",
        "        \n",
        "    def forward(self, x):\n",
        "        for submodule in self.submodules:\n",
        "            x = submodule(x)\n",
        "        return x"
      ],
      "id": "opposite-retrieval",
      "execution_count": 40,
      "outputs": []
    },
    {
      "cell_type": "markdown",
      "metadata": {
        "id": "defensive-spectrum"
      },
      "source": [
        "# 3. И ещё раз собираем модель"
      ],
      "id": "defensive-spectrum"
    },
    {
      "cell_type": "code",
      "metadata": {
        "colab": {
          "base_uri": "https://localhost:8080/"
        },
        "id": "chemical-counter",
        "outputId": "4bb93568-cfb4-4952-f55f-ad253c871707"
      },
      "source": [
        "# Такая же модель, как выше, но через наш Sequential\n",
        "my_model = Sequential(\n",
        "    Linear(10, 5),\n",
        "    ReLU(),\n",
        "    Linear(5, 1)\n",
        ")\n",
        "\n",
        "x = torch.randn(3, 10)\n",
        "y_pred = my_model(x)\n",
        "print(y_pred)\n",
        "print(y_pred.shape)"
      ],
      "id": "chemical-counter",
      "execution_count": 41,
      "outputs": [
        {
          "output_type": "stream",
          "text": [
            "tensor([[-2.0841],\n",
            "        [ 4.9305],\n",
            "        [ 8.4954]], grad_fn=<AddBackward0>)\n",
            "torch.Size([3, 1])\n"
          ],
          "name": "stdout"
        }
      ]
    },
    {
      "cell_type": "markdown",
      "metadata": {
        "id": "incredible-encounter"
      },
      "source": [
        "# 4. `torch.optim.SGD`"
      ],
      "id": "incredible-encounter"
    },
    {
      "cell_type": "markdown",
      "metadata": {
        "id": "arranged-belarus"
      },
      "source": [
        "Оптимизатор получает на вход список из обучаемых параметров модели. У наследников класса `nn.Module` его можно получить через метод `.parameters()`. От оптимизатора мы хотим два метода: `.step()` и `.zero_grad()`."
      ],
      "id": "arranged-belarus"
    },
    {
      "cell_type": "code",
      "metadata": {
        "id": "certified-baghdad"
      },
      "source": [
        "class SGD:\n",
        "    def __init__(self, parameters, lr):\n",
        "        self.model_parameters = list(parameters)\n",
        "        self.lr = lr\n",
        "    \n",
        "    def step(self):\n",
        "        with torch.no_grad():\n",
        "            for p in self.model_parameters:\n",
        "                if p.grad is not None:\n",
        "                    dL_dp = p.grad\n",
        "                    p -= self.lr * dL_dp\n",
        "    \n",
        "    def zero_grad(self):\n",
        "        for p in self.model_parameters:\n",
        "            if p.grad is not None:\n",
        "                p.grad.zero_()"
      ],
      "id": "certified-baghdad",
      "execution_count": 42,
      "outputs": []
    },
    {
      "cell_type": "markdown",
      "metadata": {
        "id": "dominican-passion"
      },
      "source": [
        "# 5. Датасет"
      ],
      "id": "dominican-passion"
    },
    {
      "cell_type": "markdown",
      "metadata": {
        "id": "fundamental-passenger"
      },
      "source": [
        "В этот раз поэкспериментируем на [FashionMNIST](https://github.com/zalandoresearch/fashion-mnist). По формату он точно такой же как MNIST (60k картинок в трейне, 10k для валидации, 10 классов, чёрно-белые картинки размером 28x28 пикселей), но на MNIST можно элементарно получить точность 97%, а на FashionMNIST сходу можно набрать только где-то 75%."
      ],
      "id": "fundamental-passenger"
    },
    {
      "cell_type": "markdown",
      "metadata": {
        "id": "alleged-words"
      },
      "source": [
        "## 5.1. Скачиваем и смотрим на данные"
      ],
      "id": "alleged-words"
    },
    {
      "cell_type": "code",
      "metadata": {
        "colab": {
          "base_uri": "https://localhost:8080/",
          "height": 597,
          "referenced_widgets": [
            "f4c9eb4a54674c6d8b1bd643e0f48fa7",
            "4513e473093c42d2ac6f9816b230625c",
            "1e643aa3b2fb49bd9c62a365e02402a8",
            "3e9b6641effa4d169f8cf6456b4f991b",
            "3a06b8fdb5744ae5b72bc342b195b4a9",
            "907b844301dc43bb89cca02d4131697f",
            "2c9936c60a1245efa9f0753a41592cfb",
            "1914f4f63452471a878825026804dc99",
            "adf63ec1fd784d0681a67ee94da662e2",
            "36c665d5fcca4f399ad9749d06a7284d",
            "6d02252bb8cb420c9953471ac35f600a",
            "92b5a6264ced4459ac9778b0e10e7642",
            "3b9f207a215840f09a3d528cfbdff3e7",
            "f2816d6b29b3489196c0bb1d5b8e54fe",
            "a015ea005eea43b088af187418eead30",
            "254323d5c83b4e9fb6227085a43bf53d",
            "4dab0eb9c8f9476eabcdf3fb25c3d3bc",
            "23b3c09d8c934ce18efefa8998e1e836",
            "dcc16ee663ae4835a5c37eacb8e1339a",
            "c9d8f0ad55a64a209dc311d0c93b9920",
            "723706f4a5414fac9d4c0db6de0a0562",
            "10199c67baa94edba340a2a27b769a5c",
            "d13a9e95d4a8410990506ea1a36fa64e",
            "6a1b6110a7ba4704bbc46ba37207eff1",
            "f42faa9e89f34c1fa3df05d925a84b48",
            "a507fb79188548ea8e7d1930b95d985e",
            "ed2d9409921045179284b589a5ef1717",
            "29242c1a403f4d6bb03e890c879ef588",
            "ec1a42ee1787408888d3b9961fcf003e",
            "277a4560ee574fdb8a1e985073082add",
            "ce9501e44f28473baa9ff87b067472d6",
            "35aa24f77cac4a438943b2ac638f9065"
          ]
        },
        "id": "norman-finding",
        "outputId": "2cfbdcca-8ada-4efb-d160-86e10a72dc35"
      },
      "source": [
        "from pathlib import Path\n",
        "from torch.hub import _get_torch_home\n",
        "\n",
        "# На Linux датасет скачается в ~/.cache/torch/datasets, но можете выбрать любую другую папку\n",
        "datasets_path = Path(_get_torch_home()) / 'datasets'\n",
        "\n",
        "dataset_train = torchvision.datasets.FashionMNIST(\n",
        "    datasets_path, train=True, download=True,\n",
        "    transform=torchvision.transforms.ToTensor()\n",
        ") # используем готовый класс от торча для загрузки данных для тренировки\n",
        "dataset_valid = torchvision.datasets.FashionMNIST(\n",
        "    datasets_path, train=False, download=True,\n",
        "    transform=torchvision.transforms.ToTensor()\n",
        ") # используем готовый класс от торча для загрузки данных для валидации\n",
        "\n",
        "class_idx_to_name = {\n",
        "    0: \"T-shirt/Top\",\n",
        "    1: \"Trouser\",\n",
        "    2: \"Pullover\",\n",
        "    3: \"Dress\",\n",
        "    4: \"Coat\", \n",
        "    5: \"Sandal\", \n",
        "    6: \"Shirt\",\n",
        "    7: \"Sneaker\",\n",
        "    8: \"Bag\",\n",
        "    9: \"Ankle Boot\"\n",
        "}"
      ],
      "id": "norman-finding",
      "execution_count": 43,
      "outputs": [
        {
          "output_type": "stream",
          "text": [
            "Downloading http://fashion-mnist.s3-website.eu-central-1.amazonaws.com/train-images-idx3-ubyte.gz\n",
            "Downloading http://fashion-mnist.s3-website.eu-central-1.amazonaws.com/train-images-idx3-ubyte.gz to /root/.cache/torch/datasets/FashionMNIST/raw/train-images-idx3-ubyte.gz\n"
          ],
          "name": "stdout"
        },
        {
          "output_type": "display_data",
          "data": {
            "application/vnd.jupyter.widget-view+json": {
              "model_id": "f4c9eb4a54674c6d8b1bd643e0f48fa7",
              "version_minor": 0,
              "version_major": 2
            },
            "text/plain": [
              "HBox(children=(FloatProgress(value=0.0, max=26421880.0), HTML(value='')))"
            ]
          },
          "metadata": {
            "tags": []
          }
        },
        {
          "output_type": "stream",
          "text": [
            "\n",
            "Extracting /root/.cache/torch/datasets/FashionMNIST/raw/train-images-idx3-ubyte.gz to /root/.cache/torch/datasets/FashionMNIST/raw\n",
            "\n",
            "Downloading http://fashion-mnist.s3-website.eu-central-1.amazonaws.com/train-labels-idx1-ubyte.gz\n",
            "Downloading http://fashion-mnist.s3-website.eu-central-1.amazonaws.com/train-labels-idx1-ubyte.gz to /root/.cache/torch/datasets/FashionMNIST/raw/train-labels-idx1-ubyte.gz\n"
          ],
          "name": "stdout"
        },
        {
          "output_type": "display_data",
          "data": {
            "application/vnd.jupyter.widget-view+json": {
              "model_id": "adf63ec1fd784d0681a67ee94da662e2",
              "version_minor": 0,
              "version_major": 2
            },
            "text/plain": [
              "HBox(children=(FloatProgress(value=0.0, max=29515.0), HTML(value='')))"
            ]
          },
          "metadata": {
            "tags": []
          }
        },
        {
          "output_type": "stream",
          "text": [
            "\n",
            "Extracting /root/.cache/torch/datasets/FashionMNIST/raw/train-labels-idx1-ubyte.gz to /root/.cache/torch/datasets/FashionMNIST/raw\n",
            "\n",
            "Downloading http://fashion-mnist.s3-website.eu-central-1.amazonaws.com/t10k-images-idx3-ubyte.gz\n",
            "Downloading http://fashion-mnist.s3-website.eu-central-1.amazonaws.com/t10k-images-idx3-ubyte.gz to /root/.cache/torch/datasets/FashionMNIST/raw/t10k-images-idx3-ubyte.gz\n"
          ],
          "name": "stdout"
        },
        {
          "output_type": "display_data",
          "data": {
            "application/vnd.jupyter.widget-view+json": {
              "model_id": "4dab0eb9c8f9476eabcdf3fb25c3d3bc",
              "version_minor": 0,
              "version_major": 2
            },
            "text/plain": [
              "HBox(children=(FloatProgress(value=0.0, max=4422102.0), HTML(value='')))"
            ]
          },
          "metadata": {
            "tags": []
          }
        },
        {
          "output_type": "stream",
          "text": [
            "\n",
            "Extracting /root/.cache/torch/datasets/FashionMNIST/raw/t10k-images-idx3-ubyte.gz to /root/.cache/torch/datasets/FashionMNIST/raw\n",
            "\n",
            "Downloading http://fashion-mnist.s3-website.eu-central-1.amazonaws.com/t10k-labels-idx1-ubyte.gz\n",
            "Downloading http://fashion-mnist.s3-website.eu-central-1.amazonaws.com/t10k-labels-idx1-ubyte.gz to /root/.cache/torch/datasets/FashionMNIST/raw/t10k-labels-idx1-ubyte.gz\n"
          ],
          "name": "stdout"
        },
        {
          "output_type": "display_data",
          "data": {
            "application/vnd.jupyter.widget-view+json": {
              "model_id": "f42faa9e89f34c1fa3df05d925a84b48",
              "version_minor": 0,
              "version_major": 2
            },
            "text/plain": [
              "HBox(children=(FloatProgress(value=0.0, max=5148.0), HTML(value='')))"
            ]
          },
          "metadata": {
            "tags": []
          }
        },
        {
          "output_type": "stream",
          "text": [
            "\n",
            "Extracting /root/.cache/torch/datasets/FashionMNIST/raw/t10k-labels-idx1-ubyte.gz to /root/.cache/torch/datasets/FashionMNIST/raw\n",
            "\n",
            "Processing...\n",
            "Done!\n"
          ],
          "name": "stdout"
        },
        {
          "output_type": "stream",
          "text": [
            "/usr/local/lib/python3.7/dist-packages/torchvision/datasets/mnist.py:502: UserWarning: The given NumPy array is not writeable, and PyTorch does not support non-writeable tensors. This means you can write to the underlying (supposedly non-writeable) NumPy array using the tensor. You may want to copy the array to protect its data or make it writeable before converting it to a tensor. This type of warning will be suppressed for the rest of this program. (Triggered internally at  /pytorch/torch/csrc/utils/tensor_numpy.cpp:143.)\n",
            "  return torch.from_numpy(parsed.astype(m[2], copy=False)).view(*s)\n"
          ],
          "name": "stderr"
        }
      ]
    },
    {
      "cell_type": "code",
      "metadata": {
        "colab": {
          "base_uri": "https://localhost:8080/",
          "height": 140
        },
        "id": "changing-estate",
        "outputId": "580d8725-feae-4ed1-e83f-edb1e10469ba"
      },
      "source": [
        "plt.figure(figsize=(16, 10))\n",
        "n = 10\n",
        "for i in range(n):\n",
        "    plt.subplot(1, n, i + 1)\n",
        "    plt.imshow(dataset_train[i][0].squeeze(0).numpy().reshape([28, 28]), cmap='gray')\n",
        "    plt.title(class_idx_to_name[dataset_train[i][1]])\n",
        "plt.show()"
      ],
      "id": "changing-estate",
      "execution_count": 44,
      "outputs": [
        {
          "output_type": "display_data",
          "data": {
            "image/png": "[encoded data removed]",
            "text/plain": [
              "<Figure size 1152x720 with 10 Axes>"
            ]
          },
          "metadata": {
            "tags": [],
            "needs_background": "light"
          }
        }
      ]
    },
    {
      "cell_type": "markdown",
      "metadata": {
        "id": "inside-growing"
      },
      "source": [
        "## 5.2. Делаем функцию для формирования батчей"
      ],
      "id": "inside-growing"
    },
    {
      "cell_type": "markdown",
      "metadata": {
        "id": "disciplinary-softball"
      },
      "source": [
        "Библиотека `torchvision` скачала данные за нас и дала нам такой интерфейс:\n",
        "\n",
        "```\n",
        "dataset[i] = (tensor(shape=(1, 28, 28)), int)\n",
        "              \\_______________________/  \\_/\n",
        "                          x               y\n",
        "```\n",
        "\n",
        "Порядок размерностей у картинок в PyTorch `CHW` (`channel`, `height`, `width`; в Tensorflow используется `HWC`). Здесь шейп у тензоров `(1, 28, 28)`, то есть у картинок 1 цветовой канал и размеры 28x28 пикселей.\n",
        "\n",
        "Нам понадобится функция, которая принимает на вход список индексов элементов датасета и выдаёт батч из соответствующих элементов:"
      ],
      "id": "disciplinary-softball"
    },
    {
      "cell_type": "code",
      "metadata": {
        "colab": {
          "base_uri": "https://localhost:8080/"
        },
        "id": "adaptive-button",
        "outputId": "af13afa4-f97b-4e0e-8399-8f1424ed2b92"
      },
      "source": [
        "def make_batch_from_indices(dataset, indices):\n",
        "    images = []\n",
        "    targets = []\n",
        "    for j in indices:\n",
        "        image, target = dataset[j]\n",
        "        images.append(image)\n",
        "        targets.append(target)\n",
        "\n",
        "    x_batch = torch.stack(images, dim=0)\n",
        "    y_batch = torch.tensor(targets, dtype=torch.int64)\n",
        "    \n",
        "    return x_batch, y_batch\n",
        "\n",
        "x_batch, y_batch = make_batch_from_indices(dataset_valid, [0, 3, 100, 500, 800, 5000, 9001])\n",
        "print(x_batch.shape)\n",
        "print(y_batch)"
      ],
      "id": "adaptive-button",
      "execution_count": 45,
      "outputs": [
        {
          "output_type": "stream",
          "text": [
            "torch.Size([7, 1, 28, 28])\n",
            "tensor([9, 1, 3, 2, 7, 2, 9])\n"
          ],
          "name": "stdout"
        }
      ]
    },
    {
      "cell_type": "markdown",
      "metadata": {
        "id": "twelve-synthesis"
      },
      "source": [
        "# 6. Обучение"
      ],
      "id": "twelve-synthesis"
    },
    {
      "cell_type": "code",
      "metadata": {
        "id": "tribal-anthony"
      },
      "source": [
        "num_epochs = 10\n",
        "batch_size = 200\n",
        "learning_rate = 0.01"
      ],
      "id": "tribal-anthony",
      "execution_count": 46,
      "outputs": []
    },
    {
      "cell_type": "markdown",
      "metadata": {
        "id": "initial-union"
      },
      "source": [
        "## 6.1. Создаём все нужные объекты"
      ],
      "id": "initial-union"
    },
    {
      "cell_type": "markdown",
      "metadata": {
        "id": "expensive-upper"
      },
      "source": [
        "Воспользуемся всем, что мы уже написали, и создадим нейронку с $1 \\cdot 28 \\cdot 28$ числами на входе, $128$ промежуточными активациями и $10$ (по количеству классов) числами на выходе. В качестве функции активации возьмём `ReLU`."
      ],
      "id": "expensive-upper"
    },
    {
      "cell_type": "code",
      "metadata": {
        "id": "orange-shipping"
      },
      "source": [
        "def make_new_model():\n",
        "    return Sequential(\n",
        "        Linear(28**2, 128),\n",
        "        ReLU(),\n",
        "        Linear(128, 10),\n",
        "    )\n",
        "\n",
        "model = make_new_model()"
      ],
      "id": "orange-shipping",
      "execution_count": 47,
      "outputs": []
    },
    {
      "cell_type": "markdown",
      "metadata": {
        "id": "global-bowling"
      },
      "source": [
        "Попробуем разные варианты для `criterion`: `CrossEntropyLossVeryUnstable`, `CrossEntropyLossUnstable` и, наконец, `CrossEntropyLoss`."
      ],
      "id": "global-bowling"
    },
    {
      "cell_type": "code",
      "metadata": {
        "id": "empty-oracle"
      },
      "source": [
        "criterion = CrossEntropyLoss()"
      ],
      "id": "empty-oracle",
      "execution_count": 48,
      "outputs": []
    },
    {
      "cell_type": "markdown",
      "metadata": {
        "id": "formed-purple"
      },
      "source": [
        "Наш оптимизатор!"
      ],
      "id": "formed-purple"
    },
    {
      "cell_type": "code",
      "metadata": {
        "colab": {
          "base_uri": "https://localhost:8080/"
        },
        "id": "jk08cWZFsTF4",
        "outputId": "e64183c8-516d-4ec6-ae0f-4bb5aa34ff15"
      },
      "source": [
        "list(model.parameters())"
      ],
      "id": "jk08cWZFsTF4",
      "execution_count": 49,
      "outputs": [
        {
          "output_type": "execute_result",
          "data": {
            "text/plain": [
              "[Parameter containing:\n",
              " tensor([[ 0.3362, -0.8164,  1.4391,  ...,  0.9127,  0.5343, -0.8218],\n",
              "         [ 0.9692, -0.4857, -1.0964,  ...,  0.7505,  0.0149,  0.1606],\n",
              "         [-0.1964,  0.8722,  1.2376,  ..., -0.8211,  0.4143, -0.0208],\n",
              "         ...,\n",
              "         [-0.4617,  1.4673,  1.0232,  ...,  2.0474,  1.5050,  1.7411],\n",
              "         [-1.2503,  2.1629,  0.5605,  ...,  2.9075, -0.7998, -1.5632],\n",
              "         [ 1.0494, -0.6583,  0.8839,  ..., -0.0473,  1.2138,  0.9211]],\n",
              "        requires_grad=True), Parameter containing:\n",
              " tensor([ 0.4282, -1.3583, -1.2749,  0.5509, -1.8456,  1.4170, -1.3319, -2.9179,\n",
              "         -0.7553,  0.8348,  1.9271,  0.5171, -0.1540, -1.0517,  0.6835, -0.4908,\n",
              "          1.8669,  0.6380,  0.1024,  1.6768,  0.6918,  0.2149, -1.1148, -0.7653,\n",
              "          2.0581, -0.3757,  0.8403,  0.9351, -0.4247,  0.2083,  0.2947,  0.0600,\n",
              "          0.2187,  0.5671,  1.3144,  0.6750, -0.9259,  0.4418,  0.1464, -0.3455,\n",
              "          1.7057,  0.3367, -0.4241, -1.7741, -0.6296,  0.1719, -0.7053,  0.1310,\n",
              "         -0.4465,  0.9952, -0.8249, -0.9129, -0.1085, -0.2659, -0.8180,  0.2455,\n",
              "          1.3632, -1.1165, -0.3442, -0.2639, -0.4870, -0.0980, -0.9466,  1.5258,\n",
              "         -0.7264, -0.4503,  0.1090,  0.8619, -0.5692, -0.6558, -0.1125, -0.0524,\n",
              "          1.3506, -0.2193,  0.9945, -0.1358, -0.0071, -1.4849,  0.6154,  0.8545,\n",
              "          0.2718,  0.4621, -1.4355,  1.7744, -1.6335, -0.8271, -0.0321,  0.3639,\n",
              "          0.9750,  3.0927,  0.4967, -0.5902,  2.4409,  0.5457,  1.3353, -0.1934,\n",
              "         -0.9691, -0.3390,  1.3854, -1.2363,  0.6498, -2.3940,  0.6252, -0.6801,\n",
              "         -0.5036,  0.5294,  0.3112,  0.7487,  0.5118,  0.4385,  0.6548,  0.0745,\n",
              "         -0.3329, -0.2689,  1.3832, -0.3607,  0.0550,  0.6375,  0.2875,  0.9518,\n",
              "          1.1039, -1.3620, -0.2784,  0.2267,  0.3144,  1.9887,  0.7230,  0.5406],\n",
              "        requires_grad=True), Parameter containing:\n",
              " tensor([[ 0.1003, -0.0158,  1.2150,  ...,  0.3134,  0.1761,  0.4399],\n",
              "         [-0.0769,  2.2089,  0.5398,  ..., -0.7993, -0.7159,  0.5654],\n",
              "         [ 0.5138, -2.2162, -1.4106,  ...,  1.4316, -0.6048, -1.2397],\n",
              "         ...,\n",
              "         [-0.1680,  1.1043, -0.4904,  ..., -1.9197, -0.6769, -0.6789],\n",
              "         [-1.4593,  0.0849, -0.7077,  ..., -0.7265, -0.9940,  0.9298],\n",
              "         [ 1.2706,  0.5326,  0.1609,  ..., -0.2686,  0.3225, -1.4071]],\n",
              "        requires_grad=True), Parameter containing:\n",
              " tensor([-1.4792,  0.6640, -0.2201, -0.8274, -0.5646,  0.0618,  0.6742,  0.1384,\n",
              "          1.9531,  0.1644], requires_grad=True)]"
            ]
          },
          "metadata": {
            "tags": []
          },
          "execution_count": 49
        }
      ]
    },
    {
      "cell_type": "code",
      "metadata": {
        "id": "finite-music"
      },
      "source": [
        "opt = SGD(model.parameters(), lr=learning_rate)"
      ],
      "id": "finite-music",
      "execution_count": 50,
      "outputs": []
    },
    {
      "cell_type": "markdown",
      "metadata": {
        "id": "israeli-moral"
      },
      "source": [
        "## 6.2. Запускаем обучающий цикл"
      ],
      "id": "israeli-moral"
    },
    {
      "cell_type": "code",
      "metadata": {
        "colab": {
          "base_uri": "https://localhost:8080/",
          "height": 247,
          "referenced_widgets": [
            "2f7b2907f195405b968bd327a94bcb84",
            "ecbf8584bcad4de4bfea325c510aefde",
            "528ed9abb6924d2792cceec357f8c381",
            "4d55e4047d6f4a2586dd15651a67c4d3",
            "ebf391c7d11d4227a305149f89acb789",
            "9d0de977b2a64617bf41309cf659288f",
            "5c1bcbffbbc84eaabc2778c2fcb10ee7",
            "bc8d5732db8c426bae00c5a7aa0879b9"
          ]
        },
        "id": "monetary-trust",
        "outputId": "48ae67dd-7a16-489c-dceb-8dfa721e6b6e"
      },
      "source": [
        "with tqdm(range(1, num_epochs + 1)) as progress_bar:\n",
        "    for epoch in progress_bar:\n",
        "        # Обучение\n",
        "\n",
        "        # Создаём случайную перестановку индексов обучающего датасета\n",
        "        indices_train = np.arange(len(dataset_train))\n",
        "        np.random.shuffle(indices_train)\n",
        "\n",
        "        for i in range(0, len(dataset_train), batch_size):\n",
        "            # Формируем батч\n",
        "            batch_indices = indices_train[i:i+batch_size]  # выбираем очередную порцию индексов...\n",
        "            x_batch, y_batch = make_batch_from_indices(dataset_train, batch_indices)  # ... и строим по ней батч\n",
        "\n",
        "            # flatten: (B, 1, 28, 28) -> (B, 28 * 28)\n",
        "            x_batch = x_batch.reshape(batch_size, 28 * 28)\n",
        "\n",
        "            y_pred = model(x_batch)  # делаем предсказания\n",
        "            loss = criterion(y_pred, y_batch)  # считаем лосс\n",
        "\n",
        "            assert np.isfinite(loss.item())  # проверяем, что всё посчиталось корректно\n",
        "\n",
        "            # Считаем градиенты и делаем шаг оптимизатора, не забыв обнулить градиенты\n",
        "            opt.zero_grad()\n",
        "            loss.backward()\n",
        "            opt.step()\n",
        "\n",
        "        # Валидация\n",
        "            \n",
        "        valid_losses = []  # сюда будем складывать средний лосс по батчам\n",
        "        valid_accuracies = []\n",
        "        # мы считаем качество, поэтому мы запрещаем фреймворку считать градиенты по параметрам\n",
        "        with torch.no_grad():\n",
        "            # Создаём список из индексов валидационного датасета (перемешивать их не обязательно)\n",
        "            indices_valid = np.arange(len(dataset_valid))\n",
        "            \n",
        "            for i in range(0, len(dataset_valid), batch_size):\n",
        "                # Формируем батч\n",
        "                batch_indices = indices_valid[i:i + batch_size]\n",
        "                x_batch, y_batch = make_batch_from_indices(dataset_valid, batch_indices)\n",
        "                \n",
        "                x_batch = x_batch.reshape(batch_size, -1) # flatten\n",
        "                y_pred = model(x_batch) # делаем предсказания\n",
        "                loss = criterion(y_pred, y_batch) # считаем лосс\n",
        "                \n",
        "                valid_losses.append(loss.numpy()) # добавляем в массив\n",
        "                valid_accuracies.extend((torch.argmax(y_pred, dim=-1) == y_batch).numpy().tolist())\n",
        "\n",
        "        # выводим статистику\n",
        "        valid_loss = np.mean(valid_losses)\n",
        "        valid_accuracy = np.mean(valid_accuracies)\n",
        "        stats = f'loss: {valid_loss:.5f}, accuracy: {valid_accuracy:.4f}'\n",
        "        print(f'Epoch: {epoch}, {stats}')\n",
        "        progress_bar.set_postfix_str(stats)"
      ],
      "id": "monetary-trust",
      "execution_count": 76,
      "outputs": [
        {
          "output_type": "display_data",
          "data": {
            "application/vnd.jupyter.widget-view+json": {
              "model_id": "2f7b2907f195405b968bd327a94bcb84",
              "version_minor": 0,
              "version_major": 2
            },
            "text/plain": [
              "HBox(children=(FloatProgress(value=0.0, max=10.0), HTML(value='')))"
            ]
          },
          "metadata": {
            "tags": []
          }
        },
        {
          "output_type": "stream",
          "text": [
            "Epoch: 1, loss: 9.44166, accuracy: 0.6564\n",
            "Epoch: 2, loss: 6.84889, accuracy: 0.6957\n",
            "Epoch: 3, loss: 5.55210, accuracy: 0.7140\n",
            "Epoch: 4, loss: 4.70698, accuracy: 0.7214\n",
            "Epoch: 5, loss: 4.16714, accuracy: 0.7284\n",
            "Epoch: 6, loss: 3.62175, accuracy: 0.7391\n",
            "Epoch: 7, loss: 3.27679, accuracy: 0.7420\n",
            "Epoch: 8, loss: 2.90390, accuracy: 0.7435\n",
            "Epoch: 9, loss: 2.65518, accuracy: 0.7391\n",
            "Epoch: 10, loss: 2.40977, accuracy: 0.7477\n",
            "\n"
          ],
          "name": "stdout"
        }
      ]
    },
    {
      "cell_type": "markdown",
      "metadata": {
        "id": "floppy-killer"
      },
      "source": [
        "## 6.3. Смотрим на результаты"
      ],
      "id": "floppy-killer"
    },
    {
      "cell_type": "code",
      "metadata": {
        "colab": {
          "base_uri": "https://localhost:8080/",
          "height": 703
        },
        "id": "enormous-helmet",
        "outputId": "e687b98a-9158-4568-ba5c-32d517ad98b1"
      },
      "source": [
        "rows = 10\n",
        "cols = 10\n",
        "\n",
        "f, axarr = plt.subplots(rows, cols, figsize=(12, 12))\n",
        "\n",
        "for i in range(rows):\n",
        "    for j in range(cols):\n",
        "        idx = i * cols + j\n",
        "        axarr[i, j].imshow(dataset_valid[idx][0].squeeze(0).numpy().reshape([28, 28]), cmap='gray')\n",
        "        y_true = dataset_valid[idx][1]\n",
        "        y_pred = torch.argmax(model(dataset_valid[idx][0].reshape(1, 784)).squeeze(0), dim=-1).item()\n",
        "        axarr[i, j].set_title(class_idx_to_name[y_pred], color='black' if y_true == y_pred else 'red')\n",
        "\n",
        "for ax in f.axes:\n",
        "    ax.get_xaxis().set_visible(False)\n",
        "    ax.get_yaxis().set_visible(False)\n",
        "f.subplots_adjust(hspace=0.5)\n",
        "plt.show()"
      ],
      "id": "enormous-helmet",
      "execution_count": 77,
      "outputs": [
        {
          "output_type": "display_data",
          "data": {
            "image/png": "[encoded data removed]",
            "text/plain": [
              "<Figure size 864x864 with 100 Axes>"
            ]
          },
          "metadata": {
            "tags": [],
            "needs_background": "light"
          }
        }
      ]
    },
    {
      "cell_type": "markdown",
      "metadata": {
        "id": "cognitive-supervisor"
      },
      "source": [
        "# 7. `torch.utils.data.DataLoader`"
      ],
      "id": "cognitive-supervisor"
    },
    {
      "cell_type": "markdown",
      "metadata": {
        "id": "nervous-conservative"
      },
      "source": [
        "Поработав руками с индексами, можно видеть, почему `DataLoader` — удобная абстракция. Реализуем его руками."
      ],
      "id": "nervous-conservative"
    },
    {
      "cell_type": "markdown",
      "metadata": {
        "id": "public-mauritius"
      },
      "source": [
        "## 7.1. Пишем свой `DataLoader`"
      ],
      "id": "public-mauritius"
    },
    {
      "cell_type": "markdown",
      "metadata": {
        "id": "CuP66VswB06f"
      },
      "source": [
        "Надо завернуть в класс следующие штуки:\n",
        "\n",
        "1. Создание и перемешивание списка индексов;\n",
        "2. Вызов функции `make_batch_from_indices()`;\n",
        "3. Отслеживание текущего положения итератора."
      ],
      "id": "CuP66VswB06f"
    },
    {
      "cell_type": "code",
      "metadata": {
        "id": "arbitrary-forth"
      },
      "source": [
        "class DataLoader:\n",
        "    def __init__(self, dataset, batch_size, shuffle=False):\n",
        "        self.dataset = dataset\n",
        "        self.batch_size = batch_size\n",
        "        self.shuffle = shuffle\n",
        "        \n",
        "    def __len__(self):\n",
        "        return int(np.ceil(len(self.dataset) / self.batch_size))\n",
        "\n",
        "    def __iter__(self):\n",
        "        return DataLoaderIter(self)\n",
        "\n",
        "class DataLoaderIter:\n",
        "    def __init__(self, dataloader):\n",
        "        self.dataset = dataloader.dataset\n",
        "        self.indices = np.arange(len(self.dataset))\n",
        "        if dataloader.shuffle:\n",
        "            np.random.shuffle(self.indices)\n",
        "        self.batch_size = dataloader.batch_size\n",
        "        self.position = 0\n",
        "    \n",
        "    def __next__(self):\n",
        "        if self.position >= len(self.indices):\n",
        "            raise StopIteration\n",
        "\n",
        "        # Вызываем make_batch_from_indices() с правильными аргументами\n",
        "        indices = self.indices[self.position:self.position+self.batch_size]\n",
        "        x_batch, y_batch = make_batch_from_indices(self.dataset, indices)\n",
        "        \n",
        "        # Обновляем self.position\n",
        "        self.position += self.batch_size\n",
        "\n",
        "        return x_batch, y_batch"
      ],
      "id": "arbitrary-forth",
      "execution_count": 51,
      "outputs": []
    },
    {
      "cell_type": "markdown",
      "metadata": {
        "id": "ruled-adaptation"
      },
      "source": [
        "## 7.2. Переписываем обучающий цикл со своим `DataLoader`"
      ],
      "id": "ruled-adaptation"
    },
    {
      "cell_type": "code",
      "metadata": {
        "id": "upper-hungary"
      },
      "source": [
        "train_dataloader = DataLoader(dataset_train, batch_size, shuffle=True)\n",
        "valid_dataloader = DataLoader(dataset_valid, batch_size)"
      ],
      "id": "upper-hungary",
      "execution_count": 52,
      "outputs": []
    },
    {
      "cell_type": "code",
      "metadata": {
        "id": "medieval-prediction"
      },
      "source": [
        "model = make_new_model()"
      ],
      "id": "medieval-prediction",
      "execution_count": 53,
      "outputs": []
    },
    {
      "cell_type": "code",
      "metadata": {
        "id": "productive-painting"
      },
      "source": [
        "opt = SGD(model.parameters(), lr=learning_rate)"
      ],
      "id": "productive-painting",
      "execution_count": 54,
      "outputs": []
    },
    {
      "cell_type": "code",
      "metadata": {
        "colab": {
          "base_uri": "https://localhost:8080/",
          "height": 247,
          "referenced_widgets": [
            "d3846ee5bf0348a6945c6f56e565fa73",
            "60ab057a9800409984ca3b701798b382",
            "da7d30c9b6ee4b40a83bab9613550608",
            "5cf41cf623f341cc887387b1b21923be",
            "82817bc50bfc48dd977eeab21d41ddc9",
            "3fa99f970eef4a59b3a99804713f578e",
            "d6bfdbb86b9340f9b4e2feb1d1f7aa83",
            "1676c829b0bb4182a084d1eda172ba74"
          ]
        },
        "id": "exciting-punishment",
        "outputId": "e1a64754-9c98-4d0c-b7c6-e80d32f93f28"
      },
      "source": [
        "with tqdm(range(1, num_epochs + 1)) as progress_bar:\n",
        "    for epoch in progress_bar:\n",
        "        # Трейн\n",
        "        for x_batch, y_batch in train_dataloader:\n",
        "            # Батчи приезжают из даталоадера уже готовыми, их достаточно только решейпнуть\n",
        "\n",
        "            # flatten: (B, 1, 28, 28) -> (B, 28 * 28)\n",
        "            x_batch = x_batch.reshape(batch_size, -1)\n",
        "\n",
        "            y_pred = model(x_batch)  # делаем предсказания\n",
        "            loss = criterion(y_pred, y_batch)  # считаем лосс\n",
        "\n",
        "            assert np.isfinite(loss.item())  # проверяем, что всё посчиталось корректно\n",
        "\n",
        "            # Считаем градиенты и делаем шаг оптимизатора, не забыв обнулить градиенты\n",
        "            opt.zero_grad()\n",
        "            loss.backward()\n",
        "            opt.step()\n",
        "            \n",
        "        # Валидация\n",
        "        valid_losses = []\n",
        "        valid_accuracies = []\n",
        "        with torch.no_grad():\n",
        "            for x_batch, y_batch in valid_dataloader:\n",
        "                # Батчи приезжают из даталоадера уже готовыми, их достаточно только решейпнуть\n",
        "                \n",
        "                x_batch = x_batch.reshape(batch_size, -1) # flatten\n",
        "                y_pred = model(x_batch) # делаем предсказания\n",
        "                loss = criterion(y_pred, y_batch) # считаем лосс\n",
        "\n",
        "                valid_losses.append(loss.numpy())\n",
        "                valid_accuracies.extend((torch.argmax(y_pred, dim=-1) == y_batch).numpy().tolist())\n",
        "\n",
        "        valid_loss = np.mean(valid_losses)\n",
        "        valid_accuracy = np.mean(valid_accuracies)\n",
        "        stats = f'loss: {valid_loss:.5f}, accuracy: {valid_accuracy:.4f}'\n",
        "        print(f'Epoch: {epoch}, {stats}')\n",
        "        progress_bar.set_postfix_str(stats)"
      ],
      "id": "exciting-punishment",
      "execution_count": 82,
      "outputs": [
        {
          "output_type": "display_data",
          "data": {
            "application/vnd.jupyter.widget-view+json": {
              "model_id": "d3846ee5bf0348a6945c6f56e565fa73",
              "version_minor": 0,
              "version_major": 2
            },
            "text/plain": [
              "HBox(children=(FloatProgress(value=0.0, max=10.0), HTML(value='')))"
            ]
          },
          "metadata": {
            "tags": []
          }
        },
        {
          "output_type": "stream",
          "text": [
            "Epoch: 1, loss: 9.70481, accuracy: 0.6457\n",
            "Epoch: 2, loss: 7.24560, accuracy: 0.6814\n",
            "Epoch: 3, loss: 5.82933, accuracy: 0.7146\n",
            "Epoch: 4, loss: 4.96224, accuracy: 0.7285\n",
            "Epoch: 5, loss: 4.33726, accuracy: 0.7384\n",
            "Epoch: 6, loss: 3.87359, accuracy: 0.7445\n",
            "Epoch: 7, loss: 3.53118, accuracy: 0.7476\n",
            "Epoch: 8, loss: 3.24558, accuracy: 0.7533\n",
            "Epoch: 9, loss: 2.93873, accuracy: 0.7575\n",
            "Epoch: 10, loss: 2.69111, accuracy: 0.7593\n",
            "\n"
          ],
          "name": "stdout"
        }
      ]
    },
    {
      "cell_type": "markdown",
      "metadata": {
        "id": "foreign-virgin"
      },
      "source": [
        "В заключение обсудим технические вопросы. "
      ],
      "id": "foreign-virgin"
    },
    {
      "cell_type": "markdown",
      "metadata": {
        "id": "corresponding-growth"
      },
      "source": [
        "# 8. GPU"
      ],
      "id": "corresponding-growth"
    },
    {
      "cell_type": "markdown",
      "metadata": {
        "id": "measured-output"
      },
      "source": [
        "В PyTorch каждый тензор физически находится в памяти, принадлежащей какому-то устройству: RAM (которую контролирует CPU) или в GPU-памяти."
      ],
      "id": "measured-output"
    },
    {
      "cell_type": "code",
      "metadata": {
        "colab": {
          "base_uri": "https://localhost:8080/"
        },
        "id": "coordinate-answer",
        "outputId": "ff4c326a-9059-4d3e-ce43-330afea54a12"
      },
      "source": [
        "a = torch.zeros(1)\n",
        "a.device"
      ],
      "id": "coordinate-answer",
      "execution_count": 55,
      "outputs": [
        {
          "output_type": "execute_result",
          "data": {
            "text/plain": [
              "device(type='cpu')"
            ]
          },
          "metadata": {
            "tags": []
          },
          "execution_count": 55
        }
      ]
    },
    {
      "cell_type": "markdown",
      "metadata": {
        "id": "hearing-diabetes"
      },
      "source": [
        "В Colab по умолчанию выключена GPU, чтобы экономить ресурсы Гугла. Если вы смотрите этот ноутбук через Colab, то нажмите `Runtime` -> `Change runtime type` и в списке выберите `GPU`. Это перезагрузит ваш ноутбук, и вам придётся перезапустить какие-то из ячеек выше."
      ],
      "id": "hearing-diabetes"
    },
    {
      "cell_type": "markdown",
      "metadata": {
        "id": "experimental-custom"
      },
      "source": [
        "Когда у вас есть работающая GPU, тензор можно одной командой туда перенести:"
      ],
      "id": "experimental-custom"
    },
    {
      "cell_type": "code",
      "metadata": {
        "id": "coated-exercise"
      },
      "source": [
        "device = 'cuda:0'"
      ],
      "id": "coated-exercise",
      "execution_count": 56,
      "outputs": []
    },
    {
      "cell_type": "code",
      "metadata": {
        "colab": {
          "base_uri": "https://localhost:8080/"
        },
        "id": "greenhouse-round",
        "outputId": "8e8100b5-dbdb-40fc-eb8f-96aaba1f5ee7"
      },
      "source": [
        "a = a.to(device)  # или .to('cuda') или .cuda()\n",
        "a.device"
      ],
      "id": "greenhouse-round",
      "execution_count": 57,
      "outputs": [
        {
          "output_type": "execute_result",
          "data": {
            "text/plain": [
              "device(type='cuda', index=0)"
            ]
          },
          "metadata": {
            "tags": []
          },
          "execution_count": 57
        }
      ]
    },
    {
      "cell_type": "markdown",
      "metadata": {
        "id": "italic-muslim"
      },
      "source": [
        "Обратно тоже можно:"
      ],
      "id": "italic-muslim"
    },
    {
      "cell_type": "code",
      "metadata": {
        "colab": {
          "base_uri": "https://localhost:8080/"
        },
        "id": "viral-botswana",
        "outputId": "91c92860-9201-43ea-bf8f-3f2241424e90"
      },
      "source": [
        "a = a.to('cpu')  # или a.cpu()\n",
        "a.device"
      ],
      "id": "viral-botswana",
      "execution_count": 58,
      "outputs": [
        {
          "output_type": "execute_result",
          "data": {
            "text/plain": [
              "device(type='cpu')"
            ]
          },
          "metadata": {
            "tags": []
          },
          "execution_count": 58
        }
      ]
    },
    {
      "cell_type": "markdown",
      "metadata": {
        "id": "collected-gnome"
      },
      "source": [
        "Аналогично можно делать и с целыми моделями, хранящими в себе много тензоров:"
      ],
      "id": "collected-gnome"
    },
    {
      "cell_type": "code",
      "metadata": {
        "id": "successful-alabama"
      },
      "source": [
        "model = make_new_model()\n",
        "model = model.to(device)"
      ],
      "id": "successful-alabama",
      "execution_count": 59,
      "outputs": []
    },
    {
      "cell_type": "markdown",
      "metadata": {
        "id": "intended-chapter"
      },
      "source": [
        "У модели нет поля `.device`, потому что разные тензоры, из которых состоит модель, могут лежать на разных устройствах (например, на разных видеокартах).\n",
        "\n",
        "Создание оптимизатора не меняется:"
      ],
      "id": "intended-chapter"
    },
    {
      "cell_type": "code",
      "metadata": {
        "id": "differential-desire"
      },
      "source": [
        "opt = SGD(model.parameters(), lr=learning_rate)"
      ],
      "id": "differential-desire",
      "execution_count": 60,
      "outputs": []
    },
    {
      "cell_type": "markdown",
      "metadata": {
        "id": "HWT0e3s7Ek2H"
      },
      "source": [
        "В обучающем цикле понадобится:\n",
        "\n",
        "1. После получения батчей из `DataLoader` перенести их на GPU;\n",
        "2. После вычисления метрик перенести их обратно в оперативную память."
      ],
      "id": "HWT0e3s7Ek2H"
    },
    {
      "cell_type": "code",
      "metadata": {
        "colab": {
          "base_uri": "https://localhost:8080/",
          "height": 247,
          "referenced_widgets": [
            "9e9ae06d7c8b4117962efa7f7af04c22",
            "8a542535b1864fcca1c3e44b2f697f39",
            "83411bcfa1d34a9689d0c47436722e61",
            "c7b87b1061e14437866da14b4590f19d",
            "aabf65fe02544e74ad4b1a4bf5faa12a",
            "ae88d576521241b1b16bcd898c772521",
            "2e0b30a855184b5b8907fb44e6469d03",
            "b7b3102855bf49f987125589a6c87aeb"
          ]
        },
        "id": "olympic-basic",
        "outputId": "abd36870-c2bd-4933-ab87-cd2f5c43bcb1"
      },
      "source": [
        "with tqdm(range(1, num_epochs + 1)) as progress_bar:\n",
        "    for epoch in progress_bar:\n",
        "        # Трейн\n",
        "        for x_batch, y_batch in train_dataloader:\n",
        "            # flatten: (B, 1, 28, 28) -> (B, 28 * 28)\n",
        "            x_batch = x_batch.reshape(batch_size, -1)\n",
        "\n",
        "            # Переносим батч на GPU\n",
        "            x_batch = x_batch.to(device)\n",
        "            y_batch = y_batch.to(device)\n",
        "\n",
        "            y_pred = model(x_batch)  # делаем предсказания\n",
        "            loss = criterion(y_pred, y_batch)  # считаем лосс\n",
        "\n",
        "            assert np.isfinite(loss.item())  # .item() сделает .to('cpu') за нас\n",
        "\n",
        "            # Считаем градиенты и делаем шаг оптимизатора, не забыв обнулить градиенты\n",
        "            opt.zero_grad()\n",
        "            loss.backward()\n",
        "            opt.step()\n",
        "\n",
        "        valid_losses = []\n",
        "        valid_accuracies = []\n",
        "        with torch.no_grad():\n",
        "            for x_batch, y_batch in valid_dataloader:\n",
        "                x_batch = x_batch.reshape(batch_size, -1) # flatten\n",
        "\n",
        "                # Переносим батч на GPU\n",
        "                x_batch = x_batch.to(device)\n",
        "                y_batch = y_batch.to(device)\n",
        "\n",
        "                y_pred = model(x_batch) # делаем предсказания\n",
        "                loss = criterion(y_pred, y_batch) # считаем лосс\n",
        "\n",
        "                valid_losses.append(loss.item())  # .item() сделает .to('cpu') за нас\n",
        "                # В следующей строке добавилось .to('cpu')\n",
        "                valid_accuracies.extend((torch.argmax(y_pred, dim=-1) == y_batch).to('cpu').numpy().tolist())\n",
        "\n",
        "        # выводим статистику\n",
        "        valid_loss = np.mean(valid_losses)\n",
        "        valid_accuracy = np.mean(valid_accuracies)\n",
        "        stats = f'loss: {valid_loss:.5f}, accuracy: {valid_accuracy:.4f}'\n",
        "        print(f'Epoch: {epoch}, {stats}')\n",
        "        progress_bar.set_postfix_str(stats)"
      ],
      "id": "olympic-basic",
      "execution_count": 62,
      "outputs": [
        {
          "output_type": "display_data",
          "data": {
            "application/vnd.jupyter.widget-view+json": {
              "model_id": "9e9ae06d7c8b4117962efa7f7af04c22",
              "version_minor": 0,
              "version_major": 2
            },
            "text/plain": [
              "HBox(children=(FloatProgress(value=0.0, max=10.0), HTML(value='')))"
            ]
          },
          "metadata": {
            "tags": []
          }
        },
        {
          "output_type": "stream",
          "text": [
            "Epoch: 1, loss: 9.51413, accuracy: 0.6504\n",
            "Epoch: 2, loss: 6.93340, accuracy: 0.6855\n",
            "Epoch: 3, loss: 5.48304, accuracy: 0.7065\n",
            "Epoch: 4, loss: 4.52900, accuracy: 0.7215\n",
            "Epoch: 5, loss: 3.91635, accuracy: 0.7310\n",
            "Epoch: 6, loss: 3.49295, accuracy: 0.7304\n",
            "Epoch: 7, loss: 3.10098, accuracy: 0.7408\n",
            "Epoch: 8, loss: 2.88422, accuracy: 0.7312\n",
            "Epoch: 9, loss: 2.56621, accuracy: 0.7442\n",
            "Epoch: 10, loss: 2.36869, accuracy: 0.7443\n",
            "\n"
          ],
          "name": "stdout"
        }
      ]
    },
    {
      "cell_type": "markdown",
      "metadata": {
        "id": "normal-hometown"
      },
      "source": [
        "На такой маленькой модели, как эта, мы не увидим ускорение из-за использования GPU и, скорее всего, обучение даже немного замедлится из-за копирования данных между RAM и GPU. Но на больших моделях выигрыш в скорости может достигать сотен раз."
      ],
      "id": "normal-hometown"
    },
    {
      "cell_type": "markdown",
      "metadata": {
        "id": "novel-mirror"
      },
      "source": [
        "# 9. I/O"
      ],
      "id": "novel-mirror"
    },
    {
      "cell_type": "markdown",
      "metadata": {
        "id": "above-cornwall"
      },
      "source": [
        "## 9.1. Сохранение модели"
      ],
      "id": "above-cornwall"
    },
    {
      "cell_type": "markdown",
      "metadata": {
        "id": "greater-stock"
      },
      "source": [
        "У `nn.Module` есть метод `state_dict()`, возвращающий словарь со всеми тензорами, сидящими в модели. Ключи в этом словаре соответствуют названиям полей, в которых тензоры находятся."
      ],
      "id": "greater-stock"
    },
    {
      "cell_type": "code",
      "metadata": {
        "colab": {
          "base_uri": "https://localhost:8080/"
        },
        "id": "specific-salon",
        "outputId": "60c50ea1-fe83-413a-bb8b-c16fc456514f"
      },
      "source": [
        "state_dict = model.state_dict()\n",
        "\n",
        "print(type(state_dict))\n",
        "print(state_dict.keys())"
      ],
      "id": "specific-salon",
      "execution_count": 63,
      "outputs": [
        {
          "output_type": "stream",
          "text": [
            "<class 'collections.OrderedDict'>\n",
            "odict_keys(['submodules.0.weight', 'submodules.0.bias', 'submodules.2.weight', 'submodules.2.bias'])\n"
          ],
          "name": "stdout"
        }
      ]
    },
    {
      "cell_type": "markdown",
      "metadata": {
        "id": "talented-humidity"
      },
      "source": [
        "Функция `torch.save` умеет сохранять стейт дикты."
      ],
      "id": "talented-humidity"
    },
    {
      "cell_type": "code",
      "metadata": {
        "id": "functioning-march"
      },
      "source": [
        "from pathlib import Path\n",
        "model_path = Path('/tmp/state_dict.pth')"
      ],
      "id": "functioning-march",
      "execution_count": 64,
      "outputs": []
    },
    {
      "cell_type": "code",
      "metadata": {
        "id": "critical-mercy"
      },
      "source": [
        "torch.save(state_dict, model_path)"
      ],
      "id": "critical-mercy",
      "execution_count": 65,
      "outputs": []
    },
    {
      "cell_type": "markdown",
      "metadata": {
        "id": "complicated-treaty"
      },
      "source": [
        "## 9.2. Загрузка модели"
      ],
      "id": "complicated-treaty"
    },
    {
      "cell_type": "markdown",
      "metadata": {
        "id": "radical-limitation"
      },
      "source": [
        "Функция `torch.load` загружает стейт дикты. По умолчанию она это делает на то же устройство, откуда они были сохранены — например, если тензоры находились на GPU, то и загрузятся они на GPU. Можно это переопределить с помощью параметра `map_location`."
      ],
      "id": "radical-limitation"
    },
    {
      "cell_type": "code",
      "metadata": {
        "colab": {
          "base_uri": "https://localhost:8080/"
        },
        "id": "supposed-steel",
        "outputId": "de272cae-1131-4932-9e74-8025f921ba7f"
      },
      "source": [
        "new_state_dict = torch.load(model_path, map_location='cpu')\n",
        "\n",
        "print(type(state_dict))\n",
        "print(state_dict.keys())"
      ],
      "id": "supposed-steel",
      "execution_count": 66,
      "outputs": [
        {
          "output_type": "stream",
          "text": [
            "<class 'collections.OrderedDict'>\n",
            "odict_keys(['submodules.0.weight', 'submodules.0.bias', 'submodules.2.weight', 'submodules.2.bias'])\n"
          ],
          "name": "stdout"
        }
      ]
    },
    {
      "cell_type": "markdown",
      "metadata": {
        "id": "forward-arlington"
      },
      "source": [
        "Чтобы загрузить стейт дикт в модель, у `nn.Module` есть метод `load_state_dict`. Кстати, им же можно копировать параметры из одной модели в другую."
      ],
      "id": "forward-arlington"
    },
    {
      "cell_type": "code",
      "metadata": {
        "colab": {
          "base_uri": "https://localhost:8080/"
        },
        "id": "intellectual-spine",
        "outputId": "1b7d665a-2188-4a4c-b01d-92264ca2a02e"
      },
      "source": [
        "model.load_state_dict(new_state_dict)"
      ],
      "id": "intellectual-spine",
      "execution_count": 67,
      "outputs": [
        {
          "output_type": "execute_result",
          "data": {
            "text/plain": [
              "<All keys matched successfully>"
            ]
          },
          "metadata": {
            "tags": []
          },
          "execution_count": 67
        }
      ]
    },
    {
      "cell_type": "markdown",
      "metadata": {
        "id": "geological-darwin"
      },
      "source": [
        "# 10. Домашнее задание"
      ],
      "id": "geological-darwin"
    },
    {
      "cell_type": "markdown",
      "metadata": {
        "id": "imposed-nepal"
      },
      "source": [
        "Наберите **accuracy ≥ 0.87** на валидационной выборке FashionMNIST. Нельзя пользоваться никакими классами из `torch.nn.*` и `torch.optim.*`, кроме вспомогательных, наподобие `torch.nn.Parameter`. Разумеется, нельзя учиться на валидации.\n",
        "\n",
        "Что может сработать:\n",
        "\n",
        "1. Реализуйте более продвинутый оптимизатор: Momentum (возможно, с поправкой Нестерова), RMSProp или Adam.\n",
        "2. Поэкспериментируйте с архитектурой: увеличьте глубину или ширину сети или замените функции активации¹.\n",
        "3. Реализуйте [Dropout](https://pytorch.org/docs/stable/generated/torch.nn.Dropout.html). Обратите внимание, что у него разное поведение во время обучения и на валидации: см. документацию на [`nn.Module.train()`](https://pytorch.org/docs/stable/generated/torch.nn.Module.html#torch.nn.Module.train) и [`nn.Module.eval()`](https://pytorch.org/docs/stable/generated/torch.nn.Module.html#torch.nn.Module.eval).\n",
        "\n",
        "¹ Если вы решите самостоятельно реализовать `nn.Sigmoid`, вероятно, у вас не получится обойтись автоматическим дифференцированием, и сгенерированный фреймворком `.backward()` будет сохранять в градиенты `nan`. В этом случае вам придётся вручную написать функцию `backward()` для сигмоиды. Наследники `nn.Module` такое не поддерживают, и вам понадобится отнаследоваться от [`Function`](https://pytorch.org/docs/stable/autograd.html#torch.autograd.Function). Ничего сложного там нет, но надо будет посмотреть документацию.\n",
        "\n",
        "В качестве решения мы ожидаем от вас **два файла по отдельности (не в архиве)**:\n",
        "\n",
        "1. Ноутбук с кодом (можно дописывать прямо в этот);\n",
        "2. Файл с весами обученной модели.\n",
        "\n",
        "Из ноутбука должно быть понятно, как загрузить ваши веса и полученной моделью посчитать accuracy.\n",
        "\n",
        "Удачи!"
      ],
      "id": "imposed-nepal"
    },
    {
      "cell_type": "code",
      "metadata": {
        "id": "accessory-conviction"
      },
      "source": [
        "<YOUR CODE>"
      ],
      "id": "accessory-conviction",
      "execution_count": null,
      "outputs": []
    }
  ]
}