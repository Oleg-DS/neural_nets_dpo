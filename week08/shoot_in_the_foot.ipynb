{
 "cells": [
  {
   "cell_type": "markdown",
   "metadata": {},
   "source": [
    "# Стреляем себе в ногу\n",
    " \n",
    "* Давайте разберём на PyTorch несколько архитектур. Попытайтесь понять что именно с ними не так. \n",
    "* Упражнения позаимствованы [из ШАДОвского семинара.](https://github.com/yandexdataschool/Practical_DL/blob/spring20/seminar03-conv_nets/how_to_shoot_yourself_in_the_foot_with_cnn.ipynb)"
   ]
  },
  {
   "cell_type": "markdown",
   "metadata": {},
   "source": [
    "#### a) Задача классификации картинок"
   ]
  },
  {
   "cell_type": "code",
   "execution_count": null,
   "metadata": {},
   "outputs": [],
   "source": [
    "# assuming input shape [batch, 3, 64, 64]\n",
    "cnn = nn.Sequential(\n",
    "    nn.Conv2d(in_channels=3, out_channels=2048, kernel_size=(3,3)),\n",
    "    nn.Conv2d(in_channels=2048, out_channels=1024, kernel_size=(3,3)),\n",
    "    nn.Conv2d(in_channels=1024, out_channels=512, kernel_size=(3,3)),\n",
    "    nn.ReLU(),\n",
    "    nn.MaxPool2d((6,6)),\n",
    "    nn.Conv2d(in_channels=6, out_channels=32, kernel_size=(20,20)),\n",
    "    nn.Conv2d(in_channels=32, out_channels=64, kernel_size=(20,20)),\n",
    "    nn.Conv2d(in_channels=64, out_channels=128, kernel_size=(20,20)),\n",
    "    nn.Softmax(),\n",
    "    nn.Flatten(),\n",
    "    nn.Linear(64, 256),\n",
    "    nn.Softmax(),\n",
    "    nn.Linear(256, 10),\n",
    "    nn.Sigmoid(),\n",
    "    nn.Dropout(0.5),\n",
    ")\n",
    "\n",
    "criterion = nn.CrossEntropyLoss()"
   ]
  },
  {
   "cell_type": "markdown",
   "metadata": {},
   "source": [
    "#### б) Задача регрессии. Предсказываем цены на недвижимость."
   ]
  },
  {
   "cell_type": "code",
   "execution_count": null,
   "metadata": {},
   "outputs": [],
   "source": [
    "model = nn.Sequential(\n",
    "    nn.Linear(39, 128),\n",
    "    nn.Linear(128, 128),\n",
    "    nn.Linear(128, 1),\n",
    ")\n",
    "\n",
    "criterion = nn.MSELoss()"
   ]
  },
  {
   "cell_type": "markdown",
   "metadata": {},
   "source": [
    "####  б) Классификация картинок, например, fashion MNIST"
   ]
  },
  {
   "cell_type": "code",
   "execution_count": null,
   "metadata": {},
   "outputs": [],
   "source": [
    "model = nn.Sequential(\n",
    "    nn.Conv2d(1, 512, kernel_size=3, padding=11),\n",
    "    nn.ReLU(),\n",
    "    nn.MaxPool2d(2),\n",
    "    nn.Flatten(),\n",
    "    nn.Linear(512 * 19 * 19, 100),\n",
    "    nn.Softmax(),\n",
    "    nn.Dropout(0.1),\n",
    "    nn.Linear(100, 10),\n",
    "    nn.Softmax(),\n",
    "    nn.Dropout(0.1)\n",
    ")\n",
    "\n",
    "criterion = nn.MSELoss()"
   ]
  },
  {
   "cell_type": "markdown",
   "metadata": {},
   "source": [
    "#### в) И снова fashion MNIST, но теперь мы знаем, что размер картинки $100 \\times 100$ пикселей\n",
    "\n",
    "Если попробовать запустить эту сетку, вылезет ошибка."
   ]
  },
  {
   "cell_type": "code",
   "execution_count": null,
   "metadata": {},
   "outputs": [],
   "source": [
    "layers = []\n",
    "\n",
    "filters_in = 3\n",
    "for filters in [32, 64, 128, 256]:\n",
    "    layers.append(nn.Conv2d(filters_in, filters, kernel_size=(5, 5)))\n",
    "    filters_in = filters\n",
    "    layers.append(nn.Conv2d(filters, filters, kernel_size=(1, 1)))\n",
    "    layers.append(nn.MaxPool2d(kernel_size=(3, 3)))\n",
    "    layers.append(nn.ReLU())\n",
    "\n",
    "layers.append(nn.Flatten())\n",
    "\n",
    "layers.append(nn.Linear(100, 100))\n",
    "layers.append(nn.ReLU())\n",
    "layers.append(nn.Dropout(0.5))\n",
    "layers.append(nn.Linear(100, 10))\n",
    "layers.append(nn.Softmax())\n",
    "\n",
    "model = nn.Sequential(*layers)\n",
    "\n",
    "criterion = nn.CrossEntropyLoss()"
   ]
  },
  {
   "cell_type": "markdown",
   "metadata": {},
   "source": [
    "# Book of grudges\n",
    "* Input channels are wrong literally half the time (after pooling, after flatten).\n",
    "* Too many filters for first 3x3 convolution - will lead to enormous matrix while there's just not enough relevant combinations of 3x3 images (overkill).\n",
    "* Usually the further you go, the more filters you need.\n",
    "* large filters (10x10 is generally a bad pactice, and you definitely need more than 10 of them\n",
    "* the second of 10x10 convolution gets 8x6x6 image as input, so it's technically unable to perform such convolution.\n",
    "* Softmax nonlinearity effectively makes only 1 or a few neurons from the entire layer to \"fire\", rendering 512-neuron layer almost useless. Softmax at the output layer is okay though\n",
    "* Dropout after probability prediciton is just lame. A few random classes get probability of 0, so your probabilities no longer sum to 1 and crossentropy goes -inf."
   ]
  }
 ],
 "metadata": {
  "language_info": {
   "name": "python",
   "pygments_lexer": "ipython3"
  }
 },
 "nbformat": 4,
 "nbformat_minor": 2
}
