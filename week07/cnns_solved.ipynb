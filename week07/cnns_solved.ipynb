{
  "nbformat": 4,
  "nbformat_minor": 0,
  "metadata": {
    "colab": {
      "name": "cnns.ipynb",
      "provenance": []
    },
    "accelerator": "GPU",
    "language_info": {
      "name": "python"
    },
    "kernelspec": {
      "name": "python3",
      "display_name": "Python 3"
    },
    "widgets": {
      "application/vnd.jupyter.widget-state+json": {
        "31401bf07af54917a771813d4e59ad0a": {
          "model_module": "@jupyter-widgets/controls",
          "model_name": "HBoxModel",
          "state": {
            "_view_name": "HBoxView",
            "_dom_classes": [],
            "_model_name": "HBoxModel",
            "_view_module": "@jupyter-widgets/controls",
            "_model_module_version": "1.5.0",
            "_view_count": null,
            "_view_module_version": "1.5.0",
            "box_style": "",
            "layout": "IPY_MODEL_160bedeaaf7740d4ad25aa5f0ecf2328",
            "_model_module": "@jupyter-widgets/controls",
            "children": [
              "IPY_MODEL_4eae00770ead445d971fec7508d35ad3",
              "IPY_MODEL_b9ac60dd54234b2786b066c95c35fb76"
            ]
          }
        },
        "160bedeaaf7740d4ad25aa5f0ecf2328": {
          "model_module": "@jupyter-widgets/base",
          "model_name": "LayoutModel",
          "state": {
            "_view_name": "LayoutView",
            "grid_template_rows": null,
            "right": null,
            "justify_content": null,
            "_view_module": "@jupyter-widgets/base",
            "overflow": null,
            "_model_module_version": "1.2.0",
            "_view_count": null,
            "flex_flow": null,
            "width": null,
            "min_width": null,
            "border": null,
            "align_items": null,
            "bottom": null,
            "_model_module": "@jupyter-widgets/base",
            "top": null,
            "grid_column": null,
            "overflow_y": null,
            "overflow_x": null,
            "grid_auto_flow": null,
            "grid_area": null,
            "grid_template_columns": null,
            "flex": null,
            "_model_name": "LayoutModel",
            "justify_items": null,
            "grid_row": null,
            "max_height": null,
            "align_content": null,
            "visibility": null,
            "align_self": null,
            "height": null,
            "min_height": null,
            "padding": null,
            "grid_auto_rows": null,
            "grid_gap": null,
            "max_width": null,
            "order": null,
            "_view_module_version": "1.2.0",
            "grid_template_areas": null,
            "object_position": null,
            "object_fit": null,
            "grid_auto_columns": null,
            "margin": null,
            "display": null,
            "left": null
          }
        },
        "4eae00770ead445d971fec7508d35ad3": {
          "model_module": "@jupyter-widgets/controls",
          "model_name": "FloatProgressModel",
          "state": {
            "_view_name": "ProgressView",
            "style": "IPY_MODEL_ea2e681ecf704976ae5b032f5b1f3b55",
            "_dom_classes": [],
            "description": "",
            "_model_name": "FloatProgressModel",
            "bar_style": "success",
            "max": 170498071,
            "_view_module": "@jupyter-widgets/controls",
            "_model_module_version": "1.5.0",
            "value": 170498071,
            "_view_count": null,
            "_view_module_version": "1.5.0",
            "orientation": "horizontal",
            "min": 0,
            "description_tooltip": null,
            "_model_module": "@jupyter-widgets/controls",
            "layout": "IPY_MODEL_633542a4eea54b0e99b7c6f10c0468f8"
          }
        },
        "b9ac60dd54234b2786b066c95c35fb76": {
          "model_module": "@jupyter-widgets/controls",
          "model_name": "HTMLModel",
          "state": {
            "_view_name": "HTMLView",
            "style": "IPY_MODEL_01079bf23a5a44469396776f4115c792",
            "_dom_classes": [],
            "description": "",
            "_model_name": "HTMLModel",
            "placeholder": "​",
            "_view_module": "@jupyter-widgets/controls",
            "_model_module_version": "1.5.0",
            "value": " 170499072/? [00:12&lt;00:00, 13718261.89it/s]",
            "_view_count": null,
            "_view_module_version": "1.5.0",
            "description_tooltip": null,
            "_model_module": "@jupyter-widgets/controls",
            "layout": "IPY_MODEL_7f20cb20a64848e4abee860fe62cd9b0"
          }
        },
        "ea2e681ecf704976ae5b032f5b1f3b55": {
          "model_module": "@jupyter-widgets/controls",
          "model_name": "ProgressStyleModel",
          "state": {
            "_view_name": "StyleView",
            "_model_name": "ProgressStyleModel",
            "description_width": "initial",
            "_view_module": "@jupyter-widgets/base",
            "_model_module_version": "1.5.0",
            "_view_count": null,
            "_view_module_version": "1.2.0",
            "bar_color": null,
            "_model_module": "@jupyter-widgets/controls"
          }
        },
        "633542a4eea54b0e99b7c6f10c0468f8": {
          "model_module": "@jupyter-widgets/base",
          "model_name": "LayoutModel",
          "state": {
            "_view_name": "LayoutView",
            "grid_template_rows": null,
            "right": null,
            "justify_content": null,
            "_view_module": "@jupyter-widgets/base",
            "overflow": null,
            "_model_module_version": "1.2.0",
            "_view_count": null,
            "flex_flow": null,
            "width": null,
            "min_width": null,
            "border": null,
            "align_items": null,
            "bottom": null,
            "_model_module": "@jupyter-widgets/base",
            "top": null,
            "grid_column": null,
            "overflow_y": null,
            "overflow_x": null,
            "grid_auto_flow": null,
            "grid_area": null,
            "grid_template_columns": null,
            "flex": null,
            "_model_name": "LayoutModel",
            "justify_items": null,
            "grid_row": null,
            "max_height": null,
            "align_content": null,
            "visibility": null,
            "align_self": null,
            "height": null,
            "min_height": null,
            "padding": null,
            "grid_auto_rows": null,
            "grid_gap": null,
            "max_width": null,
            "order": null,
            "_view_module_version": "1.2.0",
            "grid_template_areas": null,
            "object_position": null,
            "object_fit": null,
            "grid_auto_columns": null,
            "margin": null,
            "display": null,
            "left": null
          }
        },
        "01079bf23a5a44469396776f4115c792": {
          "model_module": "@jupyter-widgets/controls",
          "model_name": "DescriptionStyleModel",
          "state": {
            "_view_name": "StyleView",
            "_model_name": "DescriptionStyleModel",
            "description_width": "",
            "_view_module": "@jupyter-widgets/base",
            "_model_module_version": "1.5.0",
            "_view_count": null,
            "_view_module_version": "1.2.0",
            "_model_module": "@jupyter-widgets/controls"
          }
        },
        "7f20cb20a64848e4abee860fe62cd9b0": {
          "model_module": "@jupyter-widgets/base",
          "model_name": "LayoutModel",
          "state": {
            "_view_name": "LayoutView",
            "grid_template_rows": null,
            "right": null,
            "justify_content": null,
            "_view_module": "@jupyter-widgets/base",
            "overflow": null,
            "_model_module_version": "1.2.0",
            "_view_count": null,
            "flex_flow": null,
            "width": null,
            "min_width": null,
            "border": null,
            "align_items": null,
            "bottom": null,
            "_model_module": "@jupyter-widgets/base",
            "top": null,
            "grid_column": null,
            "overflow_y": null,
            "overflow_x": null,
            "grid_auto_flow": null,
            "grid_area": null,
            "grid_template_columns": null,
            "flex": null,
            "_model_name": "LayoutModel",
            "justify_items": null,
            "grid_row": null,
            "max_height": null,
            "align_content": null,
            "visibility": null,
            "align_self": null,
            "height": null,
            "min_height": null,
            "padding": null,
            "grid_auto_rows": null,
            "grid_gap": null,
            "max_width": null,
            "order": null,
            "_view_module_version": "1.2.0",
            "grid_template_areas": null,
            "object_position": null,
            "object_fit": null,
            "grid_auto_columns": null,
            "margin": null,
            "display": null,
            "left": null
          }
        },
        "d7ea7217bcc74fefa939a078372664de": {
          "model_module": "@jupyter-widgets/controls",
          "model_name": "HBoxModel",
          "state": {
            "_view_name": "HBoxView",
            "_dom_classes": [],
            "_model_name": "HBoxModel",
            "_view_module": "@jupyter-widgets/controls",
            "_model_module_version": "1.5.0",
            "_view_count": null,
            "_view_module_version": "1.5.0",
            "box_style": "",
            "layout": "IPY_MODEL_b46a6a8de7af4982a2b0eeb8a65cf97a",
            "_model_module": "@jupyter-widgets/controls",
            "children": [
              "IPY_MODEL_1e0c267362214c9d994a5ee77008c105",
              "IPY_MODEL_ee4643d5ae1e4706ae41eec2b4b984a2"
            ]
          }
        },
        "b46a6a8de7af4982a2b0eeb8a65cf97a": {
          "model_module": "@jupyter-widgets/base",
          "model_name": "LayoutModel",
          "state": {
            "_view_name": "LayoutView",
            "grid_template_rows": null,
            "right": null,
            "justify_content": null,
            "_view_module": "@jupyter-widgets/base",
            "overflow": null,
            "_model_module_version": "1.2.0",
            "_view_count": null,
            "flex_flow": null,
            "width": null,
            "min_width": null,
            "border": null,
            "align_items": null,
            "bottom": null,
            "_model_module": "@jupyter-widgets/base",
            "top": null,
            "grid_column": null,
            "overflow_y": null,
            "overflow_x": null,
            "grid_auto_flow": null,
            "grid_area": null,
            "grid_template_columns": null,
            "flex": null,
            "_model_name": "LayoutModel",
            "justify_items": null,
            "grid_row": null,
            "max_height": null,
            "align_content": null,
            "visibility": null,
            "align_self": null,
            "height": null,
            "min_height": null,
            "padding": null,
            "grid_auto_rows": null,
            "grid_gap": null,
            "max_width": null,
            "order": null,
            "_view_module_version": "1.2.0",
            "grid_template_areas": null,
            "object_position": null,
            "object_fit": null,
            "grid_auto_columns": null,
            "margin": null,
            "display": null,
            "left": null
          }
        },
        "1e0c267362214c9d994a5ee77008c105": {
          "model_module": "@jupyter-widgets/controls",
          "model_name": "FloatProgressModel",
          "state": {
            "_view_name": "ProgressView",
            "style": "IPY_MODEL_48e3a24fb0ff47fb897ca9af3863f33d",
            "_dom_classes": [],
            "description": "100%",
            "_model_name": "FloatProgressModel",
            "bar_style": "success",
            "max": 20,
            "_view_module": "@jupyter-widgets/controls",
            "_model_module_version": "1.5.0",
            "value": 20,
            "_view_count": null,
            "_view_module_version": "1.5.0",
            "orientation": "horizontal",
            "min": 0,
            "description_tooltip": null,
            "_model_module": "@jupyter-widgets/controls",
            "layout": "IPY_MODEL_ca7d9677d254492297b8417f48a7a81e"
          }
        },
        "ee4643d5ae1e4706ae41eec2b4b984a2": {
          "model_module": "@jupyter-widgets/controls",
          "model_name": "HTMLModel",
          "state": {
            "_view_name": "HTMLView",
            "style": "IPY_MODEL_75a8048ed8744f789fc177e87ddbac85",
            "_dom_classes": [],
            "description": "",
            "_model_name": "HTMLModel",
            "placeholder": "​",
            "_view_module": "@jupyter-widgets/controls",
            "_model_module_version": "1.5.0",
            "value": " 20/20 [20:44&lt;00:00, 62.22s/it, loss: 1.48693, accuracy: 0.4732]",
            "_view_count": null,
            "_view_module_version": "1.5.0",
            "description_tooltip": null,
            "_model_module": "@jupyter-widgets/controls",
            "layout": "IPY_MODEL_8ddd61d2387c4d7fa1b3023c446d3a34"
          }
        },
        "48e3a24fb0ff47fb897ca9af3863f33d": {
          "model_module": "@jupyter-widgets/controls",
          "model_name": "ProgressStyleModel",
          "state": {
            "_view_name": "StyleView",
            "_model_name": "ProgressStyleModel",
            "description_width": "initial",
            "_view_module": "@jupyter-widgets/base",
            "_model_module_version": "1.5.0",
            "_view_count": null,
            "_view_module_version": "1.2.0",
            "bar_color": null,
            "_model_module": "@jupyter-widgets/controls"
          }
        },
        "ca7d9677d254492297b8417f48a7a81e": {
          "model_module": "@jupyter-widgets/base",
          "model_name": "LayoutModel",
          "state": {
            "_view_name": "LayoutView",
            "grid_template_rows": null,
            "right": null,
            "justify_content": null,
            "_view_module": "@jupyter-widgets/base",
            "overflow": null,
            "_model_module_version": "1.2.0",
            "_view_count": null,
            "flex_flow": null,
            "width": null,
            "min_width": null,
            "border": null,
            "align_items": null,
            "bottom": null,
            "_model_module": "@jupyter-widgets/base",
            "top": null,
            "grid_column": null,
            "overflow_y": null,
            "overflow_x": null,
            "grid_auto_flow": null,
            "grid_area": null,
            "grid_template_columns": null,
            "flex": null,
            "_model_name": "LayoutModel",
            "justify_items": null,
            "grid_row": null,
            "max_height": null,
            "align_content": null,
            "visibility": null,
            "align_self": null,
            "height": null,
            "min_height": null,
            "padding": null,
            "grid_auto_rows": null,
            "grid_gap": null,
            "max_width": null,
            "order": null,
            "_view_module_version": "1.2.0",
            "grid_template_areas": null,
            "object_position": null,
            "object_fit": null,
            "grid_auto_columns": null,
            "margin": null,
            "display": null,
            "left": null
          }
        },
        "75a8048ed8744f789fc177e87ddbac85": {
          "model_module": "@jupyter-widgets/controls",
          "model_name": "DescriptionStyleModel",
          "state": {
            "_view_name": "StyleView",
            "_model_name": "DescriptionStyleModel",
            "description_width": "",
            "_view_module": "@jupyter-widgets/base",
            "_model_module_version": "1.5.0",
            "_view_count": null,
            "_view_module_version": "1.2.0",
            "_model_module": "@jupyter-widgets/controls"
          }
        },
        "8ddd61d2387c4d7fa1b3023c446d3a34": {
          "model_module": "@jupyter-widgets/base",
          "model_name": "LayoutModel",
          "state": {
            "_view_name": "LayoutView",
            "grid_template_rows": null,
            "right": null,
            "justify_content": null,
            "_view_module": "@jupyter-widgets/base",
            "overflow": null,
            "_model_module_version": "1.2.0",
            "_view_count": null,
            "flex_flow": null,
            "width": null,
            "min_width": null,
            "border": null,
            "align_items": null,
            "bottom": null,
            "_model_module": "@jupyter-widgets/base",
            "top": null,
            "grid_column": null,
            "overflow_y": null,
            "overflow_x": null,
            "grid_auto_flow": null,
            "grid_area": null,
            "grid_template_columns": null,
            "flex": null,
            "_model_name": "LayoutModel",
            "justify_items": null,
            "grid_row": null,
            "max_height": null,
            "align_content": null,
            "visibility": null,
            "align_self": null,
            "height": null,
            "min_height": null,
            "padding": null,
            "grid_auto_rows": null,
            "grid_gap": null,
            "max_width": null,
            "order": null,
            "_view_module_version": "1.2.0",
            "grid_template_areas": null,
            "object_position": null,
            "object_fit": null,
            "grid_auto_columns": null,
            "margin": null,
            "display": null,
            "left": null
          }
        },
        "4c7c5e60363840e29c6ba0649a46867c": {
          "model_module": "@jupyter-widgets/controls",
          "model_name": "HBoxModel",
          "state": {
            "_view_name": "HBoxView",
            "_dom_classes": [],
            "_model_name": "HBoxModel",
            "_view_module": "@jupyter-widgets/controls",
            "_model_module_version": "1.5.0",
            "_view_count": null,
            "_view_module_version": "1.5.0",
            "box_style": "",
            "layout": "IPY_MODEL_5dbde9efa42d4a2d92fd97839d7cb476",
            "_model_module": "@jupyter-widgets/controls",
            "children": [
              "IPY_MODEL_a5dcbb6ec6b247a0bc855813dbf067e7",
              "IPY_MODEL_9eec2f7ddc58442cb0f6992b25637dd6"
            ]
          }
        },
        "5dbde9efa42d4a2d92fd97839d7cb476": {
          "model_module": "@jupyter-widgets/base",
          "model_name": "LayoutModel",
          "state": {
            "_view_name": "LayoutView",
            "grid_template_rows": null,
            "right": null,
            "justify_content": null,
            "_view_module": "@jupyter-widgets/base",
            "overflow": null,
            "_model_module_version": "1.2.0",
            "_view_count": null,
            "flex_flow": null,
            "width": null,
            "min_width": null,
            "border": null,
            "align_items": null,
            "bottom": null,
            "_model_module": "@jupyter-widgets/base",
            "top": null,
            "grid_column": null,
            "overflow_y": null,
            "overflow_x": null,
            "grid_auto_flow": null,
            "grid_area": null,
            "grid_template_columns": null,
            "flex": null,
            "_model_name": "LayoutModel",
            "justify_items": null,
            "grid_row": null,
            "max_height": null,
            "align_content": null,
            "visibility": null,
            "align_self": null,
            "height": null,
            "min_height": null,
            "padding": null,
            "grid_auto_rows": null,
            "grid_gap": null,
            "max_width": null,
            "order": null,
            "_view_module_version": "1.2.0",
            "grid_template_areas": null,
            "object_position": null,
            "object_fit": null,
            "grid_auto_columns": null,
            "margin": null,
            "display": null,
            "left": null
          }
        },
        "a5dcbb6ec6b247a0bc855813dbf067e7": {
          "model_module": "@jupyter-widgets/controls",
          "model_name": "FloatProgressModel",
          "state": {
            "_view_name": "ProgressView",
            "style": "IPY_MODEL_a8e3065610304646855d8a113a338e72",
            "_dom_classes": [],
            "description": "100%",
            "_model_name": "FloatProgressModel",
            "bar_style": "success",
            "max": 20,
            "_view_module": "@jupyter-widgets/controls",
            "_model_module_version": "1.5.0",
            "value": 20,
            "_view_count": null,
            "_view_module_version": "1.5.0",
            "orientation": "horizontal",
            "min": 0,
            "description_tooltip": null,
            "_model_module": "@jupyter-widgets/controls",
            "layout": "IPY_MODEL_2d69535339954c62b038565ab6e21c9e"
          }
        },
        "9eec2f7ddc58442cb0f6992b25637dd6": {
          "model_module": "@jupyter-widgets/controls",
          "model_name": "HTMLModel",
          "state": {
            "_view_name": "HTMLView",
            "style": "IPY_MODEL_e87ee4e2a927468a941e188c0f500161",
            "_dom_classes": [],
            "description": "",
            "_model_name": "HTMLModel",
            "placeholder": "​",
            "_view_module": "@jupyter-widgets/controls",
            "_model_module_version": "1.5.0",
            "value": " 20/20 [15:49&lt;00:00, 47.49s/it, loss: 0.97457, accuracy: 0.6578]",
            "_view_count": null,
            "_view_module_version": "1.5.0",
            "description_tooltip": null,
            "_model_module": "@jupyter-widgets/controls",
            "layout": "IPY_MODEL_be928be40ec84950a7338336ff9a2a3b"
          }
        },
        "a8e3065610304646855d8a113a338e72": {
          "model_module": "@jupyter-widgets/controls",
          "model_name": "ProgressStyleModel",
          "state": {
            "_view_name": "StyleView",
            "_model_name": "ProgressStyleModel",
            "description_width": "initial",
            "_view_module": "@jupyter-widgets/base",
            "_model_module_version": "1.5.0",
            "_view_count": null,
            "_view_module_version": "1.2.0",
            "bar_color": null,
            "_model_module": "@jupyter-widgets/controls"
          }
        },
        "2d69535339954c62b038565ab6e21c9e": {
          "model_module": "@jupyter-widgets/base",
          "model_name": "LayoutModel",
          "state": {
            "_view_name": "LayoutView",
            "grid_template_rows": null,
            "right": null,
            "justify_content": null,
            "_view_module": "@jupyter-widgets/base",
            "overflow": null,
            "_model_module_version": "1.2.0",
            "_view_count": null,
            "flex_flow": null,
            "width": null,
            "min_width": null,
            "border": null,
            "align_items": null,
            "bottom": null,
            "_model_module": "@jupyter-widgets/base",
            "top": null,
            "grid_column": null,
            "overflow_y": null,
            "overflow_x": null,
            "grid_auto_flow": null,
            "grid_area": null,
            "grid_template_columns": null,
            "flex": null,
            "_model_name": "LayoutModel",
            "justify_items": null,
            "grid_row": null,
            "max_height": null,
            "align_content": null,
            "visibility": null,
            "align_self": null,
            "height": null,
            "min_height": null,
            "padding": null,
            "grid_auto_rows": null,
            "grid_gap": null,
            "max_width": null,
            "order": null,
            "_view_module_version": "1.2.0",
            "grid_template_areas": null,
            "object_position": null,
            "object_fit": null,
            "grid_auto_columns": null,
            "margin": null,
            "display": null,
            "left": null
          }
        },
        "e87ee4e2a927468a941e188c0f500161": {
          "model_module": "@jupyter-widgets/controls",
          "model_name": "DescriptionStyleModel",
          "state": {
            "_view_name": "StyleView",
            "_model_name": "DescriptionStyleModel",
            "description_width": "",
            "_view_module": "@jupyter-widgets/base",
            "_model_module_version": "1.5.0",
            "_view_count": null,
            "_view_module_version": "1.2.0",
            "_model_module": "@jupyter-widgets/controls"
          }
        },
        "be928be40ec84950a7338336ff9a2a3b": {
          "model_module": "@jupyter-widgets/base",
          "model_name": "LayoutModel",
          "state": {
            "_view_name": "LayoutView",
            "grid_template_rows": null,
            "right": null,
            "justify_content": null,
            "_view_module": "@jupyter-widgets/base",
            "overflow": null,
            "_model_module_version": "1.2.0",
            "_view_count": null,
            "flex_flow": null,
            "width": null,
            "min_width": null,
            "border": null,
            "align_items": null,
            "bottom": null,
            "_model_module": "@jupyter-widgets/base",
            "top": null,
            "grid_column": null,
            "overflow_y": null,
            "overflow_x": null,
            "grid_auto_flow": null,
            "grid_area": null,
            "grid_template_columns": null,
            "flex": null,
            "_model_name": "LayoutModel",
            "justify_items": null,
            "grid_row": null,
            "max_height": null,
            "align_content": null,
            "visibility": null,
            "align_self": null,
            "height": null,
            "min_height": null,
            "padding": null,
            "grid_auto_rows": null,
            "grid_gap": null,
            "max_width": null,
            "order": null,
            "_view_module_version": "1.2.0",
            "grid_template_areas": null,
            "object_position": null,
            "object_fit": null,
            "grid_auto_columns": null,
            "margin": null,
            "display": null,
            "left": null
          }
        }
      }
    }
  },
  "cells": [
    {
      "cell_type": "markdown",
      "metadata": {
        "id": "CRS9fHmrsQ2j"
      },
      "source": [
        "# 1. Собираем нашу первую свёрточную нейросеть \n",
        "\n",
        "Пришло время построить нашу первую свёрточную нейросеть. Будем использовать для этого датасет [CIFAR-10](https://paperswithcode.com/sota/image-classification-on-cifar-10). Набор данных включает в себя цветные изображения из 10 различных классов.\n",
        "\n",
        "<img src=\"https://paperswithcode.com/media/datasets/CIFAR-10-0000000431-b71f61c0_U5n3Glr.jpg\" width=\"600\">"
      ]
    },
    {
      "cell_type": "code",
      "metadata": {
        "id": "F7kV8BKdsQ2p"
      },
      "source": [
        "import numpy as np\n",
        "\n",
        "import matplotlib.pyplot as plt\n",
        "%matplotlib inline\n",
        "\n",
        "import torch\n",
        "import torch.nn as nn\n",
        "import torch.nn.functional as F\n",
        "import torchvision\n",
        "\n",
        "from tqdm.notebook import tqdm"
      ],
      "execution_count": 1,
      "outputs": []
    },
    {
      "cell_type": "markdown",
      "metadata": {
        "id": "O4ITuRDpsQ2q"
      },
      "source": [
        "## 1.1. Смотрим на данные \n",
        "\n",
        "Скачаем и приготовим данные. Буквально через минуту в наших руках окажутся $60 000$ ($50 000$ для обучения, $10 000$ для валидации) цветных картинок размера $32 \\times 32$."
      ]
    },
    {
      "cell_type": "code",
      "metadata": {
        "id": "XRge1z2MsQ2r",
        "outputId": "d15c75aa-889c-4ded-e32d-1a3aef80775a",
        "colab": {
          "base_uri": "https://localhost:8080/",
          "height": 139,
          "referenced_widgets": [
            "31401bf07af54917a771813d4e59ad0a",
            "160bedeaaf7740d4ad25aa5f0ecf2328",
            "4eae00770ead445d971fec7508d35ad3",
            "b9ac60dd54234b2786b066c95c35fb76",
            "ea2e681ecf704976ae5b032f5b1f3b55",
            "633542a4eea54b0e99b7c6f10c0468f8",
            "01079bf23a5a44469396776f4115c792",
            "7f20cb20a64848e4abee860fe62cd9b0"
          ]
        }
      },
      "source": [
        "from pathlib import Path\n",
        "from torch.hub import _get_torch_home\n",
        "\n",
        "# На Linux датасет скачается в ~/.cache/torch/datasets, но можете выбрать любую другую папку\n",
        "datasets_path = Path(_get_torch_home()) / 'datasets'\n",
        "\n",
        "dataset_train = torchvision.datasets.CIFAR10(\n",
        "    datasets_path, train=True, download=True,\n",
        "    transform=torchvision.transforms.ToTensor()\n",
        ")\n",
        "dataset_valid = torchvision.datasets.CIFAR10(\n",
        "    datasets_path, train=False, download=True,\n",
        "    transform=torchvision.transforms.ToTensor()\n",
        ")\n",
        "\n",
        "print(dataset_train.classes)"
      ],
      "execution_count": 2,
      "outputs": [
        {
          "output_type": "stream",
          "text": [
            "Downloading https://www.cs.toronto.edu/~kriz/cifar-10-python.tar.gz to /root/.cache/torch/datasets/cifar-10-python.tar.gz\n"
          ],
          "name": "stdout"
        },
        {
          "output_type": "display_data",
          "data": {
            "application/vnd.jupyter.widget-view+json": {
              "model_id": "31401bf07af54917a771813d4e59ad0a",
              "version_minor": 0,
              "version_major": 2
            },
            "text/plain": [
              "HBox(children=(FloatProgress(value=0.0, max=170498071.0), HTML(value='')))"
            ]
          },
          "metadata": {
            "tags": []
          }
        },
        {
          "output_type": "stream",
          "text": [
            "\n",
            "Extracting /root/.cache/torch/datasets/cifar-10-python.tar.gz to /root/.cache/torch/datasets\n",
            "Files already downloaded and verified\n",
            "['airplane', 'automobile', 'bird', 'cat', 'deer', 'dog', 'frog', 'horse', 'ship', 'truck']\n"
          ],
          "name": "stdout"
        }
      ]
    },
    {
      "cell_type": "markdown",
      "metadata": {
        "id": "NClMtzZQsQ2r"
      },
      "source": [
        "Нарисуем несколько рандомных картинок из тренировочной выборки. "
      ]
    },
    {
      "cell_type": "code",
      "metadata": {
        "id": "zpKj0M4OsQ2s",
        "outputId": "a7b8ff6f-5f08-4432-86a2-905e6b5db30e",
        "colab": {
          "base_uri": "https://localhost:8080/",
          "height": 126
        }
      },
      "source": [
        "plt.figure(figsize=(16, 10))\n",
        "n = 10\n",
        "\n",
        "random_indices = np.random.choice(range(len(dataset_train)), size=n)\n",
        "\n",
        "for i, idx in enumerate(random_indices):\n",
        "    plt.subplot(1, n, i + 1)\n",
        "    X, y = dataset_train[idx]\n",
        "    plt.imshow(X.numpy().transpose(1, 2, 0))\n",
        "    plt.title(dataset_train.classes[y])\n",
        "    plt.xticks([])\n",
        "    plt.yticks([])\n",
        "\n",
        "plt.show()"
      ],
      "execution_count": 3,
      "outputs": [
        {
          "output_type": "display_data",
          "data": {
            "image/png": "[encoded data removed]",
            "text/plain": [
              "<Figure size 1152x720 with 10 Axes>"
            ]
          },
          "metadata": {
            "tags": []
          }
        }
      ]
    },
    {
      "cell_type": "markdown",
      "metadata": {
        "id": "s63tVzfUsQ2s"
      },
      "source": [
        "Заранее создадим даталоадеры:"
      ]
    },
    {
      "cell_type": "code",
      "metadata": {
        "id": "XZp5rxSMsQ2s"
      },
      "source": [
        "batch_size = 500\n",
        "\n",
        "train_dataloader = torch.utils.data.DataLoader(dataset_train, batch_size=batch_size, shuffle=True)\n",
        "valid_dataloader = torch.utils.data.DataLoader(dataset_valid, batch_size=batch_size)"
      ],
      "execution_count": 4,
      "outputs": []
    },
    {
      "cell_type": "markdown",
      "metadata": {
        "id": "tVcd4EGjsQ2t"
      },
      "source": [
        "## 1.2. Полносвязная сетка \n",
        "\n",
        "Соберём полносвязную сетку по аналогии с тем, что мы делали в прошлый раз:"
      ]
    },
    {
      "cell_type": "code",
      "metadata": {
        "id": "6trNrNPPsQ2t",
        "outputId": "93e0cbb1-6fc7-411c-9f28-81e5c12c871d",
        "colab": {
          "base_uri": "https://localhost:8080/",
          "height": 36
        }
      },
      "source": [
        "device = 'cuda:0' if torch.cuda.is_available() else 'cpu'\n",
        "device"
      ],
      "execution_count": 5,
      "outputs": [
        {
          "output_type": "execute_result",
          "data": {
            "application/vnd.google.colaboratory.intrinsic+json": {
              "type": "string"
            },
            "text/plain": [
              "'cuda:0'"
            ]
          },
          "metadata": {
            "tags": []
          },
          "execution_count": 5
        }
      ]
    },
    {
      "cell_type": "code",
      "metadata": {
        "id": "9FxjuoPVwHms",
        "outputId": "99c2b142-667f-4620-ea42-d8166810a2d4",
        "colab": {
          "base_uri": "https://localhost:8080/"
        }
      },
      "source": [
        "!nvidia-smi"
      ],
      "execution_count": 6,
      "outputs": [
        {
          "output_type": "stream",
          "text": [
            "Wed May 12 18:04:40 2021       \n",
            "+-----------------------------------------------------------------------------+\n",
            "| NVIDIA-SMI 465.19.01    Driver Version: 460.32.03    CUDA Version: 11.2     |\n",
            "|-------------------------------+----------------------+----------------------+\n",
            "| GPU  Name        Persistence-M| Bus-Id        Disp.A | Volatile Uncorr. ECC |\n",
            "| Fan  Temp  Perf  Pwr:Usage/Cap|         Memory-Usage | GPU-Util  Compute M. |\n",
            "|                               |                      |               MIG M. |\n",
            "|===============================+======================+======================|\n",
            "|   0  Tesla T4            Off  | 00000000:00:04.0 Off |                    0 |\n",
            "| N/A   43C    P8    10W /  70W |      3MiB / 15109MiB |      0%      Default |\n",
            "|                               |                      |                  N/A |\n",
            "+-------------------------------+----------------------+----------------------+\n",
            "                                                                               \n",
            "+-----------------------------------------------------------------------------+\n",
            "| Processes:                                                                  |\n",
            "|  GPU   GI   CI        PID   Type   Process name                  GPU Memory |\n",
            "|        ID   ID                                                   Usage      |\n",
            "|=============================================================================|\n",
            "|  No running processes found                                                 |\n",
            "+-----------------------------------------------------------------------------+\n"
          ],
          "name": "stdout"
        }
      ]
    },
    {
      "cell_type": "code",
      "metadata": {
        "id": "oUmOA8opsQ2t",
        "outputId": "9b304247-80fd-42de-bbf9-286c8fbc11b0",
        "colab": {
          "base_uri": "https://localhost:8080/"
        }
      },
      "source": [
        "# Вход: (3, 32, 32)\n",
        "# Выход: (10,)\n",
        "model = nn.Sequential(\n",
        "    nn.Flatten(),\n",
        "    nn.Linear(3 * 32 * 32, 128),\n",
        "    nn.ReLU(),\n",
        "    nn.Linear(128, 10),\n",
        ").to(device)\n",
        "# Не забудьте перенести модель на device!\n",
        "\n",
        "with torch.no_grad():\n",
        "    y_pred = model(dataset_train[0][0].unsqueeze(0).to(device))\n",
        "    assert y_pred.shape == (1, len(dataset_train.classes)), 'Модель должна выдавать по логиту для каждого класса'\n",
        "    del y_pred\n",
        "    assert next(model.parameters()).device.type == torch.device(device).type, 'Вы забыли перенести модель на device'\n",
        "\n",
        "model"
      ],
      "execution_count": 7,
      "outputs": [
        {
          "output_type": "execute_result",
          "data": {
            "text/plain": [
              "Sequential(\n",
              "  (0): Flatten(start_dim=1, end_dim=-1)\n",
              "  (1): Linear(in_features=3072, out_features=128, bias=True)\n",
              "  (2): ReLU()\n",
              "  (3): Linear(in_features=128, out_features=10, bias=True)\n",
              ")"
            ]
          },
          "metadata": {
            "tags": []
          },
          "execution_count": 7
        }
      ]
    },
    {
      "cell_type": "markdown",
      "metadata": {
        "id": "iZ2SQIx7sQ2t"
      },
      "source": [
        "Кстати, заодно посмотрим на библиотеку `torchsummary`, позволяющую красиво печатать модель:"
      ]
    },
    {
      "cell_type": "code",
      "metadata": {
        "id": "UmHb60FRsQ2u",
        "outputId": "6b12889c-d60a-40be-ec11-e7cbeefa8b9b",
        "colab": {
          "base_uri": "https://localhost:8080/"
        }
      },
      "source": [
        "from torchsummary import summary\n",
        "\n",
        "# на вход надо передать шейп входа модели, не считая размерности батча\n",
        "summary(model, dataset_train[0][0].shape, device='cuda')"
      ],
      "execution_count": 9,
      "outputs": [
        {
          "output_type": "stream",
          "text": [
            "----------------------------------------------------------------\n",
            "        Layer (type)               Output Shape         Param #\n",
            "================================================================\n",
            "           Flatten-1                 [-1, 3072]               0\n",
            "            Linear-2                  [-1, 128]         393,344\n",
            "              ReLU-3                  [-1, 128]               0\n",
            "            Linear-4                   [-1, 10]           1,290\n",
            "================================================================\n",
            "Total params: 394,634\n",
            "Trainable params: 394,634\n",
            "Non-trainable params: 0\n",
            "----------------------------------------------------------------\n",
            "Input size (MB): 0.01\n",
            "Forward/backward pass size (MB): 0.03\n",
            "Params size (MB): 1.51\n",
            "Estimated Total Size (MB): 1.54\n",
            "----------------------------------------------------------------\n"
          ],
          "name": "stdout"
        }
      ]
    },
    {
      "cell_type": "markdown",
      "metadata": {
        "id": "4Wjn9YWqsQ2u"
      },
      "source": [
        "Зафиксируем параметры обучения:"
      ]
    },
    {
      "cell_type": "code",
      "metadata": {
        "id": "5q8iKfrCsQ2u"
      },
      "source": [
        "num_epochs = 20\n",
        "learning_rate = 1e-3  # Кстати, это learning rate по умолчанию для Adam"
      ],
      "execution_count": 10,
      "outputs": []
    },
    {
      "cell_type": "markdown",
      "metadata": {
        "id": "_jxsdX_MsQ2u"
      },
      "source": [
        "Заведём `criterion`, `opt`..."
      ]
    },
    {
      "cell_type": "code",
      "metadata": {
        "id": "Aszym0PJsQ2u"
      },
      "source": [
        "criterion = nn.CrossEntropyLoss()"
      ],
      "execution_count": 11,
      "outputs": []
    },
    {
      "cell_type": "code",
      "metadata": {
        "id": "qw3MaDtBsQ2v"
      },
      "source": [
        "opt = torch.optim.Adam(model.parameters(), lr=learning_rate)"
      ],
      "execution_count": 12,
      "outputs": []
    },
    {
      "cell_type": "markdown",
      "metadata": {
        "id": "1zeLWcx3sQ2v"
      },
      "source": [
        "Функция для обучения. Ничего необычного:"
      ]
    },
    {
      "cell_type": "code",
      "metadata": {
        "id": "qiZ0pBHisQ2v"
      },
      "source": [
        "def train(model, criterion, opt, train_dataloader, valid_dataloader, num_epochs, device='cuda:0'):\n",
        "    history = {'loss_train': [], 'loss_valid': [], 'accuracy_valid': [], 'lr': []}\n",
        "    \n",
        "    with tqdm(range(1, num_epochs + 1)) as progress_bar:\n",
        "        for epoch in progress_bar:\n",
        "            epoch_losses_train = []\n",
        "            epoch_losses_valid = []\n",
        "            epoch_correct_predictions_valid = []\n",
        "            \n",
        "            # Трейн\n",
        "            for x_batch, y_batch in train_dataloader:\n",
        "                # Переносим батч на GPU\n",
        "                x_batch = x_batch.to(device)\n",
        "                y_batch = y_batch.to(device)\n",
        "\n",
        "                y_pred = model(x_batch)  # делаем предсказания\n",
        "                loss = criterion(y_pred, y_batch)  # считаем лосс\n",
        "                \n",
        "                epoch_losses_train.append(loss.item())\n",
        "                assert np.isfinite(epoch_losses_train[-1])\n",
        "\n",
        "                # Считаем градиенты и делаем шаг оптимизатора, не забыв обнулить градиенты\n",
        "                opt.zero_grad()\n",
        "                loss.backward()\n",
        "                opt.step()\n",
        "\n",
        "            with torch.no_grad():\n",
        "                for x_batch, y_batch in valid_dataloader:\n",
        "                    # Переносим батч на GPU\n",
        "                    x_batch = x_batch.to(device)\n",
        "                    y_batch = y_batch.to(device)\n",
        "\n",
        "                    y_pred = model(x_batch)  # делаем предсказания\n",
        "                    loss = criterion(y_pred, y_batch)  # считаем лосс\n",
        "                    \n",
        "                    epoch_losses_valid.append(loss.item())\n",
        "                    assert np.isfinite(epoch_losses_valid[-1])\n",
        "\n",
        "                    batch_correct_predictions = torch.argmax(y_pred, dim=-1) == y_batch\n",
        "                    epoch_correct_predictions_valid.extend(batch_correct_predictions.to('cpu').numpy().tolist())\n",
        "                    \n",
        "            history['loss_train'].append(np.mean(epoch_losses_train))\n",
        "            history['loss_valid'].append(np.mean(epoch_losses_valid))\n",
        "            history['accuracy_valid'].append(np.mean(epoch_correct_predictions_valid))\n",
        "            history['lr'].append(opt.param_groups[0]['lr'])\n",
        "\n",
        "            # выводим статистику\n",
        "            stats = f'loss: {history[\"loss_valid\"][-1]:.5f}, accuracy: {history[\"accuracy_valid\"][-1]:.4f}'\n",
        "            print(f'Epoch: {epoch}, {stats}')\n",
        "            progress_bar.set_postfix_str(stats)\n",
        "            \n",
        "    return history"
      ],
      "execution_count": 13,
      "outputs": []
    },
    {
      "cell_type": "markdown",
      "metadata": {
        "id": "3TBwSvB1sQ2w"
      },
      "source": [
        "Вспомогательная функция, чтобы рисовать графики:"
      ]
    },
    {
      "cell_type": "code",
      "metadata": {
        "id": "lEG5m8RzsQ2w"
      },
      "source": [
        "def plot_history(histories):\n",
        "    plt.figure(figsize=(16, 10))\n",
        "\n",
        "    for name, history in histories.items():\n",
        "        train = plt.plot(history['loss_train'], label=f'{name} train')\n",
        "        plt.plot(history['loss_valid'], color=train[0].get_color(), linestyle='--', label=f'{name} valid')\n",
        "\n",
        "    plt.xlabel('Epochs')\n",
        "    plt.ylabel('Log loss')\n",
        "    plt.legend()\n",
        "    plt.grid()\n",
        "\n",
        "histories = {}"
      ],
      "execution_count": 14,
      "outputs": []
    },
    {
      "cell_type": "markdown",
      "metadata": {
        "id": "S84Z4waAsQ2w"
      },
      "source": [
        "Учим бейзлайн:"
      ]
    },
    {
      "cell_type": "code",
      "metadata": {
        "id": "sphly2J5sQ2w",
        "outputId": "376707db-e158-444b-ac20-5392e14034ca",
        "colab": {
          "base_uri": "https://localhost:8080/",
          "height": 427,
          "referenced_widgets": [
            "d7ea7217bcc74fefa939a078372664de",
            "b46a6a8de7af4982a2b0eeb8a65cf97a",
            "1e0c267362214c9d994a5ee77008c105",
            "ee4643d5ae1e4706ae41eec2b4b984a2",
            "48e3a24fb0ff47fb897ca9af3863f33d",
            "ca7d9677d254492297b8417f48a7a81e",
            "75a8048ed8744f789fc177e87ddbac85",
            "8ddd61d2387c4d7fa1b3023c446d3a34"
          ]
        }
      },
      "source": [
        "histories['fc'] = train(model, criterion, opt, train_dataloader, valid_dataloader, num_epochs, device=device)"
      ],
      "execution_count": 15,
      "outputs": [
        {
          "output_type": "display_data",
          "data": {
            "application/vnd.jupyter.widget-view+json": {
              "model_id": "d7ea7217bcc74fefa939a078372664de",
              "version_minor": 0,
              "version_major": 2
            },
            "text/plain": [
              "HBox(children=(FloatProgress(value=0.0, max=20.0), HTML(value='')))"
            ]
          },
          "metadata": {
            "tags": []
          }
        },
        {
          "output_type": "stream",
          "text": [
            "Epoch: 1, loss: 1.87449, accuracy: 0.3336\n",
            "Epoch: 2, loss: 1.78092, accuracy: 0.3770\n",
            "Epoch: 3, loss: 1.73398, accuracy: 0.3842\n",
            "Epoch: 4, loss: 1.70294, accuracy: 0.4007\n",
            "Epoch: 5, loss: 1.67727, accuracy: 0.4129\n",
            "Epoch: 6, loss: 1.64887, accuracy: 0.4218\n",
            "Epoch: 7, loss: 1.61495, accuracy: 0.4296\n",
            "Epoch: 8, loss: 1.60428, accuracy: 0.4320\n",
            "Epoch: 9, loss: 1.58458, accuracy: 0.4360\n",
            "Epoch: 10, loss: 1.56963, accuracy: 0.4411\n",
            "Epoch: 11, loss: 1.55127, accuracy: 0.4501\n",
            "Epoch: 12, loss: 1.55667, accuracy: 0.4463\n",
            "Epoch: 13, loss: 1.54382, accuracy: 0.4506\n",
            "Epoch: 14, loss: 1.51770, accuracy: 0.4650\n",
            "Epoch: 15, loss: 1.50607, accuracy: 0.4645\n",
            "Epoch: 16, loss: 1.50107, accuracy: 0.4740\n",
            "Epoch: 17, loss: 1.51300, accuracy: 0.4635\n",
            "Epoch: 18, loss: 1.50145, accuracy: 0.4664\n",
            "Epoch: 19, loss: 1.49767, accuracy: 0.4743\n",
            "Epoch: 20, loss: 1.48693, accuracy: 0.4732\n",
            "\n"
          ],
          "name": "stdout"
        }
      ]
    },
    {
      "cell_type": "code",
      "metadata": {
        "id": "F1GIiOcYsQ2x",
        "outputId": "56ddacbd-9bbd-43f0-c1b4-019f925b753d",
        "colab": {
          "base_uri": "https://localhost:8080/",
          "height": 606
        }
      },
      "source": [
        "plot_history(histories)"
      ],
      "execution_count": 16,
      "outputs": [
        {
          "output_type": "display_data",
          "data": {
            "image/png": "[encoded data removed]",
            "text/plain": [
              "<Figure size 1152x720 with 1 Axes>"
            ]
          },
          "metadata": {
            "tags": [],
            "needs_background": "light"
          }
        }
      ]
    },
    {
      "cell_type": "markdown",
      "metadata": {
        "id": "GanCQWSmsQ2x"
      },
      "source": [
        "## 1.3. Свёрточная сетка "
      ]
    },
    {
      "cell_type": "markdown",
      "metadata": {
        "id": "EjRacx88sQ2x"
      },
      "source": [
        "Свёрточная нейронная сеть строится из нескольких разных типов слоёв: \n",
        "\n",
        "* [`nn.Conv2d`](https://pytorch.org/docs/stable/generated/torch.nn.Conv2d.html) — Свёртка:\n",
        "    - **`in_channels`**: число каналов на входе;\n",
        "    - **`out_channels`**: число каналов на выходе; \n",
        "    - **`kernel_size`**: размер окна для свёртки;\n",
        "    - **`padding`**: какой ширины будет каёмка из нулей по краям картинки перед непосредственно свёрткой (если хотите, чтобы свёртка не меняла размер картинки, ставьте `padding=(kernel_size - 1) // 2`)\n",
        "* [`nn.MaxPool2d`](https://pytorch.org/docs/stable/generated/torch.nn.MaxPool2d.html) — max pooling\n",
        "    - **`kernel_size`**: размер скользящего окна\n",
        "* [`nn.AvgPool2d`](https://pytorch.org/docs/stable/generated/torch.nn.AvgPool2d.html) — average pooling\n",
        "* [`nn.Flatten`](https://pytorch.org/docs/stable/generated/torch.flatten.html) — разворачивает картинку в вектор \n",
        "* [`nn.Linear`](https://pytorch.org/docs/stable/generated/torch.nn.Linear.html) — полносвязный слой (fully-connected layer)\n",
        "* [`nn.ReLU`](https://pytorch.org/docs/stable/generated/torch.nn.ReLU.html) — функция активации. Естественно, можно выбрать любую другую\n",
        "\n",
        "\n",
        "В модели, которую мы определим ниже, на вход будут тензоры размера `(B, 1, 32, 32)`, а на выходе `(B, 10)` — это будет вероятность того, что объект относится к конкретному классу. `B`, как обычно, означает размерность батча. "
      ]
    },
    {
      "cell_type": "markdown",
      "metadata": {
        "id": "BteE3v1_sQ2x"
      },
      "source": [
        "Теперь давайте соберём свёрточную сеть наподобие LeNet-5: \n",
        "\n",
        "* Свёртка с $3$ каналами на входе (для цветного изображения), $32$ каналами на выходе, ядром $5 \\times 5$ и `padding` таким, чтобы размер изображения не менялся\n",
        "* ReLU\n",
        "* Max-pooling с ядром $2 \\times 2$ с шагом (strides) $2$ по обеим осям\n",
        "* Свёртка с $16$ каналами на выходе, ядром $5 \\times 5$ и `padding` таким, чтобы размер изображения не менялся\n",
        "* ReLU\n",
        "* Max-pooling с ядром $2 \\times 2$ с шагом (strides) $2$ по обеим осям\n",
        "* `Flatten`\n",
        "* Три полносвязных слоя с $120$, $60$ и $10$ нейронами соответственно. Здесь вам нужно будет посчитать или посмотреть, какого размера тензоры будут получаться после `Flatten`\n",
        "\n",
        "Это не то же самое, что оригинальный LeNet-5. Если вы заглянете в [оригинальную статью](http://yann.lecun.com/exdb/publis/pdf/lecun-01a.pdf), то увидите там очень читабельное описание архитектуры, которая на современный взгляд выглядит странно.\n",
        "\n",
        "Реализацию оригинальной архитектуры на PyTorch можно посмотреть, например, [тут](https://github.com/maorshutman/lenet5-pytorch)."
      ]
    },
    {
      "cell_type": "code",
      "metadata": {
        "id": "VLHhUVdpsQ2y",
        "outputId": "ab9a38d5-e2d1-4218-dfff-5c403276cd44",
        "colab": {
          "base_uri": "https://localhost:8080/"
        }
      },
      "source": [
        "model = nn.Sequential(\n",
        "    nn.Conv2d(3, 32, kernel_size=5, padding=2),  # 32x32x32\n",
        "    nn.ReLU(),\n",
        "    nn.MaxPool2d(2),  # 32x16x16\n",
        "    nn.Conv2d(32, 16, kernel_size=5, padding=2),  # 16x16x16\n",
        "    nn.ReLU(),\n",
        "    nn.MaxPool2d(2),  # 16x8x8\n",
        "    nn.Flatten(),\n",
        "    nn.Linear(16 * 8 * 8, 120),\n",
        "    nn.ReLU(),\n",
        "    nn.Linear(120, 60),\n",
        "    nn.ReLU(),\n",
        "    nn.Linear(60, 10)\n",
        ").to(device)\n",
        "# Не забудьте перенести модель на device!\n",
        "\n",
        "with torch.no_grad():\n",
        "    y_pred = model(dataset_train[0][0].unsqueeze(0).to(device))\n",
        "    assert y_pred.shape == (1, len(dataset_train.classes)), 'Модель должна выдавать по логиту для каждого класса'\n",
        "    del y_pred\n",
        "    assert next(model.parameters()).device.type == torch.device(device).type, 'Вы забыли перенести модель на device'\n",
        "\n",
        "model"
      ],
      "execution_count": 18,
      "outputs": [
        {
          "output_type": "execute_result",
          "data": {
            "text/plain": [
              "Sequential(\n",
              "  (0): Conv2d(3, 32, kernel_size=(5, 5), stride=(1, 1), padding=(2, 2))\n",
              "  (1): ReLU()\n",
              "  (2): MaxPool2d(kernel_size=2, stride=2, padding=0, dilation=1, ceil_mode=False)\n",
              "  (3): Conv2d(32, 16, kernel_size=(5, 5), stride=(1, 1), padding=(2, 2))\n",
              "  (4): ReLU()\n",
              "  (5): MaxPool2d(kernel_size=2, stride=2, padding=0, dilation=1, ceil_mode=False)\n",
              "  (6): Flatten(start_dim=1, end_dim=-1)\n",
              "  (7): Linear(in_features=1024, out_features=120, bias=True)\n",
              "  (8): ReLU()\n",
              "  (9): Linear(in_features=120, out_features=60, bias=True)\n",
              "  (10): ReLU()\n",
              "  (11): Linear(in_features=60, out_features=10, bias=True)\n",
              ")"
            ]
          },
          "metadata": {
            "tags": []
          },
          "execution_count": 18
        }
      ]
    },
    {
      "cell_type": "code",
      "metadata": {
        "id": "BCSkXwapsQ2y",
        "outputId": "eae4e771-7531-4b49-b1b9-b87e237840f9",
        "colab": {
          "base_uri": "https://localhost:8080/"
        }
      },
      "source": [
        "summary(model, dataset_train[0][0].shape, device='cuda')"
      ],
      "execution_count": 20,
      "outputs": [
        {
          "output_type": "stream",
          "text": [
            "----------------------------------------------------------------\n",
            "        Layer (type)               Output Shape         Param #\n",
            "================================================================\n",
            "            Conv2d-1           [-1, 32, 32, 32]           2,432\n",
            "              ReLU-2           [-1, 32, 32, 32]               0\n",
            "         MaxPool2d-3           [-1, 32, 16, 16]               0\n",
            "            Conv2d-4           [-1, 16, 16, 16]          12,816\n",
            "              ReLU-5           [-1, 16, 16, 16]               0\n",
            "         MaxPool2d-6             [-1, 16, 8, 8]               0\n",
            "           Flatten-7                 [-1, 1024]               0\n",
            "            Linear-8                  [-1, 120]         123,000\n",
            "              ReLU-9                  [-1, 120]               0\n",
            "           Linear-10                   [-1, 60]           7,260\n",
            "             ReLU-11                   [-1, 60]               0\n",
            "           Linear-12                   [-1, 10]             610\n",
            "================================================================\n",
            "Total params: 146,118\n",
            "Trainable params: 146,118\n",
            "Non-trainable params: 0\n",
            "----------------------------------------------------------------\n",
            "Input size (MB): 0.01\n",
            "Forward/backward pass size (MB): 0.64\n",
            "Params size (MB): 0.56\n",
            "Estimated Total Size (MB): 1.21\n",
            "----------------------------------------------------------------\n"
          ],
          "name": "stdout"
        }
      ]
    },
    {
      "cell_type": "code",
      "metadata": {
        "id": "QJvje0uEsQ2y"
      },
      "source": [
        "opt = torch.optim.Adam(model.parameters(), lr=learning_rate)"
      ],
      "execution_count": 21,
      "outputs": []
    },
    {
      "cell_type": "code",
      "metadata": {
        "id": "PXh_Zyy4sQ2y",
        "outputId": "3fe0e59c-621a-4eb9-b50a-098d0d686508",
        "colab": {
          "base_uri": "https://localhost:8080/",
          "height": 427,
          "referenced_widgets": [
            "4c7c5e60363840e29c6ba0649a46867c",
            "5dbde9efa42d4a2d92fd97839d7cb476",
            "a5dcbb6ec6b247a0bc855813dbf067e7",
            "9eec2f7ddc58442cb0f6992b25637dd6",
            "a8e3065610304646855d8a113a338e72",
            "2d69535339954c62b038565ab6e21c9e",
            "e87ee4e2a927468a941e188c0f500161",
            "be928be40ec84950a7338336ff9a2a3b"
          ]
        }
      },
      "source": [
        "histories['conv'] = train(model, criterion, opt, train_dataloader, valid_dataloader, num_epochs, device=device)"
      ],
      "execution_count": 22,
      "outputs": [
        {
          "output_type": "display_data",
          "data": {
            "application/vnd.jupyter.widget-view+json": {
              "model_id": "4c7c5e60363840e29c6ba0649a46867c",
              "version_minor": 0,
              "version_major": 2
            },
            "text/plain": [
              "HBox(children=(FloatProgress(value=0.0, max=20.0), HTML(value='')))"
            ]
          },
          "metadata": {
            "tags": []
          }
        },
        {
          "output_type": "stream",
          "text": [
            "Epoch: 1, loss: 1.67297, accuracy: 0.3955\n",
            "Epoch: 2, loss: 1.50657, accuracy: 0.4605\n",
            "Epoch: 3, loss: 1.39872, accuracy: 0.4984\n",
            "Epoch: 4, loss: 1.35486, accuracy: 0.5088\n",
            "Epoch: 5, loss: 1.32200, accuracy: 0.5213\n",
            "Epoch: 6, loss: 1.30256, accuracy: 0.5427\n",
            "Epoch: 7, loss: 1.24105, accuracy: 0.5579\n",
            "Epoch: 8, loss: 1.26811, accuracy: 0.5471\n",
            "Epoch: 9, loss: 1.17842, accuracy: 0.5829\n",
            "Epoch: 10, loss: 1.14216, accuracy: 0.5908\n",
            "Epoch: 11, loss: 1.17770, accuracy: 0.5874\n",
            "Epoch: 12, loss: 1.10015, accuracy: 0.6069\n",
            "Epoch: 13, loss: 1.10916, accuracy: 0.6111\n",
            "Epoch: 14, loss: 1.08569, accuracy: 0.6183\n",
            "Epoch: 15, loss: 1.05180, accuracy: 0.6293\n",
            "Epoch: 16, loss: 1.02843, accuracy: 0.6371\n",
            "Epoch: 17, loss: 1.03660, accuracy: 0.6328\n",
            "Epoch: 18, loss: 1.02421, accuracy: 0.6426\n",
            "Epoch: 19, loss: 1.03947, accuracy: 0.6295\n",
            "Epoch: 20, loss: 0.97457, accuracy: 0.6578\n",
            "\n"
          ],
          "name": "stdout"
        }
      ]
    },
    {
      "cell_type": "code",
      "metadata": {
        "id": "qAGBfJ64sQ2z",
        "outputId": "822edee9-95e9-408d-ec6c-a9aeb9a823de",
        "colab": {
          "base_uri": "https://localhost:8080/",
          "height": 606
        }
      },
      "source": [
        "plot_history(histories)"
      ],
      "execution_count": 23,
      "outputs": [
        {
          "output_type": "display_data",
          "data": {
            "image/png": "[encoded data removed]",
            "text/plain": [
              "<Figure size 1152x720 with 1 Axes>"
            ]
          },
          "metadata": {
            "tags": [],
            "needs_background": "light"
          }
        }
      ]
    },
    {
      "cell_type": "markdown",
      "metadata": {
        "id": "2OU6ZgQLsQ2z"
      },
      "source": [
        "Как видите, точность довольно сильно подскочила. Попробуйте поиграться числом параметров и слоёв так, чтобы их стало меньше, а качество сетки стало лучше. Попробуйте обучать нейросетку большее количество эпох."
      ]
    },
    {
      "cell_type": "code",
      "metadata": {
        "id": "yFXl9owMsQ2z"
      },
      "source": [
        "# Здесь могли быть ваши эксперименты"
      ],
      "execution_count": null,
      "outputs": []
    },
    {
      "cell_type": "markdown",
      "metadata": {
        "id": "-9nm7swCsQ2z"
      },
      "source": [
        "# 2. Готовые архитектуры"
      ]
    },
    {
      "cell_type": "markdown",
      "metadata": {
        "id": "NJE5hM5YsQ2z"
      },
      "source": [
        "Здесь мы посмотрим на реализации готовых архитектур, о которых мы говорили на лекции, в библиотеке torchvision."
      ]
    },
    {
      "cell_type": "markdown",
      "metadata": {
        "id": "-ND9o8TssQ2z"
      },
      "source": [
        "## 2.1. AlexNet"
      ]
    },
    {
      "cell_type": "code",
      "metadata": {
        "id": "CDGH9DcwsQ20",
        "outputId": "32f99f20-5d41-434d-a252-e6ac44388301",
        "colab": {
          "base_uri": "https://localhost:8080/"
        }
      },
      "source": [
        "# можно указать pretrained=True, и тогда torchvision скачает готовые веса, обученные на ImageNet\n",
        "model = torchvision.models.alexnet()\n",
        "model"
      ],
      "execution_count": 24,
      "outputs": [
        {
          "output_type": "execute_result",
          "data": {
            "text/plain": [
              "AlexNet(\n",
              "  (features): Sequential(\n",
              "    (0): Conv2d(3, 64, kernel_size=(11, 11), stride=(4, 4), padding=(2, 2))\n",
              "    (1): ReLU(inplace=True)\n",
              "    (2): MaxPool2d(kernel_size=3, stride=2, padding=0, dilation=1, ceil_mode=False)\n",
              "    (3): Conv2d(64, 192, kernel_size=(5, 5), stride=(1, 1), padding=(2, 2))\n",
              "    (4): ReLU(inplace=True)\n",
              "    (5): MaxPool2d(kernel_size=3, stride=2, padding=0, dilation=1, ceil_mode=False)\n",
              "    (6): Conv2d(192, 384, kernel_size=(3, 3), stride=(1, 1), padding=(1, 1))\n",
              "    (7): ReLU(inplace=True)\n",
              "    (8): Conv2d(384, 256, kernel_size=(3, 3), stride=(1, 1), padding=(1, 1))\n",
              "    (9): ReLU(inplace=True)\n",
              "    (10): Conv2d(256, 256, kernel_size=(3, 3), stride=(1, 1), padding=(1, 1))\n",
              "    (11): ReLU(inplace=True)\n",
              "    (12): MaxPool2d(kernel_size=3, stride=2, padding=0, dilation=1, ceil_mode=False)\n",
              "  )\n",
              "  (avgpool): AdaptiveAvgPool2d(output_size=(6, 6))\n",
              "  (classifier): Sequential(\n",
              "    (0): Dropout(p=0.5, inplace=False)\n",
              "    (1): Linear(in_features=9216, out_features=4096, bias=True)\n",
              "    (2): ReLU(inplace=True)\n",
              "    (3): Dropout(p=0.5, inplace=False)\n",
              "    (4): Linear(in_features=4096, out_features=4096, bias=True)\n",
              "    (5): ReLU(inplace=True)\n",
              "    (6): Linear(in_features=4096, out_features=1000, bias=True)\n",
              "  )\n",
              ")"
            ]
          },
          "metadata": {
            "tags": []
          },
          "execution_count": 24
        }
      ]
    },
    {
      "cell_type": "code",
      "metadata": {
        "id": "VCMsocW0sQ20",
        "outputId": "0c0c78e3-89d5-44d9-8f82-b15c67d6f7de",
        "colab": {
          "base_uri": "https://localhost:8080/"
        }
      },
      "source": [
        "summary(model, (3, 224, 224), device='cpu')"
      ],
      "execution_count": 25,
      "outputs": [
        {
          "output_type": "stream",
          "text": [
            "----------------------------------------------------------------\n",
            "        Layer (type)               Output Shape         Param #\n",
            "================================================================\n",
            "            Conv2d-1           [-1, 64, 55, 55]          23,296\n",
            "              ReLU-2           [-1, 64, 55, 55]               0\n",
            "         MaxPool2d-3           [-1, 64, 27, 27]               0\n",
            "            Conv2d-4          [-1, 192, 27, 27]         307,392\n",
            "              ReLU-5          [-1, 192, 27, 27]               0\n",
            "         MaxPool2d-6          [-1, 192, 13, 13]               0\n",
            "            Conv2d-7          [-1, 384, 13, 13]         663,936\n",
            "              ReLU-8          [-1, 384, 13, 13]               0\n",
            "            Conv2d-9          [-1, 256, 13, 13]         884,992\n",
            "             ReLU-10          [-1, 256, 13, 13]               0\n",
            "           Conv2d-11          [-1, 256, 13, 13]         590,080\n",
            "             ReLU-12          [-1, 256, 13, 13]               0\n",
            "        MaxPool2d-13            [-1, 256, 6, 6]               0\n",
            "AdaptiveAvgPool2d-14            [-1, 256, 6, 6]               0\n",
            "          Dropout-15                 [-1, 9216]               0\n",
            "           Linear-16                 [-1, 4096]      37,752,832\n",
            "             ReLU-17                 [-1, 4096]               0\n",
            "          Dropout-18                 [-1, 4096]               0\n",
            "           Linear-19                 [-1, 4096]      16,781,312\n",
            "             ReLU-20                 [-1, 4096]               0\n",
            "           Linear-21                 [-1, 1000]       4,097,000\n",
            "================================================================\n",
            "Total params: 61,100,840\n",
            "Trainable params: 61,100,840\n",
            "Non-trainable params: 0\n",
            "----------------------------------------------------------------\n",
            "Input size (MB): 0.57\n",
            "Forward/backward pass size (MB): 8.38\n",
            "Params size (MB): 233.08\n",
            "Estimated Total Size (MB): 242.03\n",
            "----------------------------------------------------------------\n"
          ],
          "name": "stdout"
        }
      ]
    },
    {
      "cell_type": "markdown",
      "metadata": {
        "id": "iFwsmyg3sQ20"
      },
      "source": [
        "## 2.2. VGG"
      ]
    },
    {
      "cell_type": "code",
      "metadata": {
        "id": "5FRIzr8IsQ20",
        "outputId": "2508839e-2d84-4e51-b011-9288bb523010",
        "colab": {
          "base_uri": "https://localhost:8080/"
        }
      },
      "source": [
        "model = torchvision.models.vgg16()\n",
        "model"
      ],
      "execution_count": 26,
      "outputs": [
        {
          "output_type": "execute_result",
          "data": {
            "text/plain": [
              "VGG(\n",
              "  (features): Sequential(\n",
              "    (0): Conv2d(3, 64, kernel_size=(3, 3), stride=(1, 1), padding=(1, 1))\n",
              "    (1): ReLU(inplace=True)\n",
              "    (2): Conv2d(64, 64, kernel_size=(3, 3), stride=(1, 1), padding=(1, 1))\n",
              "    (3): ReLU(inplace=True)\n",
              "    (4): MaxPool2d(kernel_size=2, stride=2, padding=0, dilation=1, ceil_mode=False)\n",
              "    (5): Conv2d(64, 128, kernel_size=(3, 3), stride=(1, 1), padding=(1, 1))\n",
              "    (6): ReLU(inplace=True)\n",
              "    (7): Conv2d(128, 128, kernel_size=(3, 3), stride=(1, 1), padding=(1, 1))\n",
              "    (8): ReLU(inplace=True)\n",
              "    (9): MaxPool2d(kernel_size=2, stride=2, padding=0, dilation=1, ceil_mode=False)\n",
              "    (10): Conv2d(128, 256, kernel_size=(3, 3), stride=(1, 1), padding=(1, 1))\n",
              "    (11): ReLU(inplace=True)\n",
              "    (12): Conv2d(256, 256, kernel_size=(3, 3), stride=(1, 1), padding=(1, 1))\n",
              "    (13): ReLU(inplace=True)\n",
              "    (14): Conv2d(256, 256, kernel_size=(3, 3), stride=(1, 1), padding=(1, 1))\n",
              "    (15): ReLU(inplace=True)\n",
              "    (16): MaxPool2d(kernel_size=2, stride=2, padding=0, dilation=1, ceil_mode=False)\n",
              "    (17): Conv2d(256, 512, kernel_size=(3, 3), stride=(1, 1), padding=(1, 1))\n",
              "    (18): ReLU(inplace=True)\n",
              "    (19): Conv2d(512, 512, kernel_size=(3, 3), stride=(1, 1), padding=(1, 1))\n",
              "    (20): ReLU(inplace=True)\n",
              "    (21): Conv2d(512, 512, kernel_size=(3, 3), stride=(1, 1), padding=(1, 1))\n",
              "    (22): ReLU(inplace=True)\n",
              "    (23): MaxPool2d(kernel_size=2, stride=2, padding=0, dilation=1, ceil_mode=False)\n",
              "    (24): Conv2d(512, 512, kernel_size=(3, 3), stride=(1, 1), padding=(1, 1))\n",
              "    (25): ReLU(inplace=True)\n",
              "    (26): Conv2d(512, 512, kernel_size=(3, 3), stride=(1, 1), padding=(1, 1))\n",
              "    (27): ReLU(inplace=True)\n",
              "    (28): Conv2d(512, 512, kernel_size=(3, 3), stride=(1, 1), padding=(1, 1))\n",
              "    (29): ReLU(inplace=True)\n",
              "    (30): MaxPool2d(kernel_size=2, stride=2, padding=0, dilation=1, ceil_mode=False)\n",
              "  )\n",
              "  (avgpool): AdaptiveAvgPool2d(output_size=(7, 7))\n",
              "  (classifier): Sequential(\n",
              "    (0): Linear(in_features=25088, out_features=4096, bias=True)\n",
              "    (1): ReLU(inplace=True)\n",
              "    (2): Dropout(p=0.5, inplace=False)\n",
              "    (3): Linear(in_features=4096, out_features=4096, bias=True)\n",
              "    (4): ReLU(inplace=True)\n",
              "    (5): Dropout(p=0.5, inplace=False)\n",
              "    (6): Linear(in_features=4096, out_features=1000, bias=True)\n",
              "  )\n",
              ")"
            ]
          },
          "metadata": {
            "tags": []
          },
          "execution_count": 26
        }
      ]
    },
    {
      "cell_type": "code",
      "metadata": {
        "id": "LMVEWYdjsQ20",
        "outputId": "7470790b-ec81-4102-d224-73e769a85a72",
        "colab": {
          "base_uri": "https://localhost:8080/"
        }
      },
      "source": [
        "summary(model, (3, 224, 224), device='cpu')"
      ],
      "execution_count": 27,
      "outputs": [
        {
          "output_type": "stream",
          "text": [
            "----------------------------------------------------------------\n",
            "        Layer (type)               Output Shape         Param #\n",
            "================================================================\n",
            "            Conv2d-1         [-1, 64, 224, 224]           1,792\n",
            "              ReLU-2         [-1, 64, 224, 224]               0\n",
            "            Conv2d-3         [-1, 64, 224, 224]          36,928\n",
            "              ReLU-4         [-1, 64, 224, 224]               0\n",
            "         MaxPool2d-5         [-1, 64, 112, 112]               0\n",
            "            Conv2d-6        [-1, 128, 112, 112]          73,856\n",
            "              ReLU-7        [-1, 128, 112, 112]               0\n",
            "            Conv2d-8        [-1, 128, 112, 112]         147,584\n",
            "              ReLU-9        [-1, 128, 112, 112]               0\n",
            "        MaxPool2d-10          [-1, 128, 56, 56]               0\n",
            "           Conv2d-11          [-1, 256, 56, 56]         295,168\n",
            "             ReLU-12          [-1, 256, 56, 56]               0\n",
            "           Conv2d-13          [-1, 256, 56, 56]         590,080\n",
            "             ReLU-14          [-1, 256, 56, 56]               0\n",
            "           Conv2d-15          [-1, 256, 56, 56]         590,080\n",
            "             ReLU-16          [-1, 256, 56, 56]               0\n",
            "        MaxPool2d-17          [-1, 256, 28, 28]               0\n",
            "           Conv2d-18          [-1, 512, 28, 28]       1,180,160\n",
            "             ReLU-19          [-1, 512, 28, 28]               0\n",
            "           Conv2d-20          [-1, 512, 28, 28]       2,359,808\n",
            "             ReLU-21          [-1, 512, 28, 28]               0\n",
            "           Conv2d-22          [-1, 512, 28, 28]       2,359,808\n",
            "             ReLU-23          [-1, 512, 28, 28]               0\n",
            "        MaxPool2d-24          [-1, 512, 14, 14]               0\n",
            "           Conv2d-25          [-1, 512, 14, 14]       2,359,808\n",
            "             ReLU-26          [-1, 512, 14, 14]               0\n",
            "           Conv2d-27          [-1, 512, 14, 14]       2,359,808\n",
            "             ReLU-28          [-1, 512, 14, 14]               0\n",
            "           Conv2d-29          [-1, 512, 14, 14]       2,359,808\n",
            "             ReLU-30          [-1, 512, 14, 14]               0\n",
            "        MaxPool2d-31            [-1, 512, 7, 7]               0\n",
            "AdaptiveAvgPool2d-32            [-1, 512, 7, 7]               0\n",
            "           Linear-33                 [-1, 4096]     102,764,544\n",
            "             ReLU-34                 [-1, 4096]               0\n",
            "          Dropout-35                 [-1, 4096]               0\n",
            "           Linear-36                 [-1, 4096]      16,781,312\n",
            "             ReLU-37                 [-1, 4096]               0\n",
            "          Dropout-38                 [-1, 4096]               0\n",
            "           Linear-39                 [-1, 1000]       4,097,000\n",
            "================================================================\n",
            "Total params: 138,357,544\n",
            "Trainable params: 138,357,544\n",
            "Non-trainable params: 0\n",
            "----------------------------------------------------------------\n",
            "Input size (MB): 0.57\n",
            "Forward/backward pass size (MB): 218.78\n",
            "Params size (MB): 527.79\n",
            "Estimated Total Size (MB): 747.15\n",
            "----------------------------------------------------------------\n"
          ],
          "name": "stdout"
        }
      ]
    },
    {
      "cell_type": "markdown",
      "metadata": {
        "id": "PLoCh8p4sQ20"
      },
      "source": [
        "В этом месте давайте вспомним [ноутбук](https://github.com/dniku/neural_nets_dpo/blob/master/week01/pytorch_pretrained_model_demo.ipynb) с самого первого семинара. Там мы как раз использовали VGG-16!"
      ]
    },
    {
      "cell_type": "markdown",
      "metadata": {
        "id": "cSCTEmJSsQ20"
      },
      "source": [
        "## 2.3. GoogLeNet"
      ]
    },
    {
      "cell_type": "code",
      "metadata": {
        "id": "zaT_jUUhsQ21",
        "outputId": "ca2c3bd2-cea1-4f9f-8405-020c785c8cf2",
        "colab": {
          "base_uri": "https://localhost:8080/"
        }
      },
      "source": [
        "# init_weights=False нужен из-за бага в scipy (попробуйте убрать этот параметр, и увидите предупреждение)\n",
        "model = torchvision.models.googlenet(init_weights=False)\n",
        "model"
      ],
      "execution_count": 28,
      "outputs": [
        {
          "output_type": "execute_result",
          "data": {
            "text/plain": [
              "GoogLeNet(\n",
              "  (conv1): BasicConv2d(\n",
              "    (conv): Conv2d(3, 64, kernel_size=(7, 7), stride=(2, 2), padding=(3, 3), bias=False)\n",
              "    (bn): BatchNorm2d(64, eps=0.001, momentum=0.1, affine=True, track_running_stats=True)\n",
              "  )\n",
              "  (maxpool1): MaxPool2d(kernel_size=3, stride=2, padding=0, dilation=1, ceil_mode=True)\n",
              "  (conv2): BasicConv2d(\n",
              "    (conv): Conv2d(64, 64, kernel_size=(1, 1), stride=(1, 1), bias=False)\n",
              "    (bn): BatchNorm2d(64, eps=0.001, momentum=0.1, affine=True, track_running_stats=True)\n",
              "  )\n",
              "  (conv3): BasicConv2d(\n",
              "    (conv): Conv2d(64, 192, kernel_size=(3, 3), stride=(1, 1), padding=(1, 1), bias=False)\n",
              "    (bn): BatchNorm2d(192, eps=0.001, momentum=0.1, affine=True, track_running_stats=True)\n",
              "  )\n",
              "  (maxpool2): MaxPool2d(kernel_size=3, stride=2, padding=0, dilation=1, ceil_mode=True)\n",
              "  (inception3a): Inception(\n",
              "    (branch1): BasicConv2d(\n",
              "      (conv): Conv2d(192, 64, kernel_size=(1, 1), stride=(1, 1), bias=False)\n",
              "      (bn): BatchNorm2d(64, eps=0.001, momentum=0.1, affine=True, track_running_stats=True)\n",
              "    )\n",
              "    (branch2): Sequential(\n",
              "      (0): BasicConv2d(\n",
              "        (conv): Conv2d(192, 96, kernel_size=(1, 1), stride=(1, 1), bias=False)\n",
              "        (bn): BatchNorm2d(96, eps=0.001, momentum=0.1, affine=True, track_running_stats=True)\n",
              "      )\n",
              "      (1): BasicConv2d(\n",
              "        (conv): Conv2d(96, 128, kernel_size=(3, 3), stride=(1, 1), padding=(1, 1), bias=False)\n",
              "        (bn): BatchNorm2d(128, eps=0.001, momentum=0.1, affine=True, track_running_stats=True)\n",
              "      )\n",
              "    )\n",
              "    (branch3): Sequential(\n",
              "      (0): BasicConv2d(\n",
              "        (conv): Conv2d(192, 16, kernel_size=(1, 1), stride=(1, 1), bias=False)\n",
              "        (bn): BatchNorm2d(16, eps=0.001, momentum=0.1, affine=True, track_running_stats=True)\n",
              "      )\n",
              "      (1): BasicConv2d(\n",
              "        (conv): Conv2d(16, 32, kernel_size=(3, 3), stride=(1, 1), padding=(1, 1), bias=False)\n",
              "        (bn): BatchNorm2d(32, eps=0.001, momentum=0.1, affine=True, track_running_stats=True)\n",
              "      )\n",
              "    )\n",
              "    (branch4): Sequential(\n",
              "      (0): MaxPool2d(kernel_size=3, stride=1, padding=1, dilation=1, ceil_mode=True)\n",
              "      (1): BasicConv2d(\n",
              "        (conv): Conv2d(192, 32, kernel_size=(1, 1), stride=(1, 1), bias=False)\n",
              "        (bn): BatchNorm2d(32, eps=0.001, momentum=0.1, affine=True, track_running_stats=True)\n",
              "      )\n",
              "    )\n",
              "  )\n",
              "  (inception3b): Inception(\n",
              "    (branch1): BasicConv2d(\n",
              "      (conv): Conv2d(256, 128, kernel_size=(1, 1), stride=(1, 1), bias=False)\n",
              "      (bn): BatchNorm2d(128, eps=0.001, momentum=0.1, affine=True, track_running_stats=True)\n",
              "    )\n",
              "    (branch2): Sequential(\n",
              "      (0): BasicConv2d(\n",
              "        (conv): Conv2d(256, 128, kernel_size=(1, 1), stride=(1, 1), bias=False)\n",
              "        (bn): BatchNorm2d(128, eps=0.001, momentum=0.1, affine=True, track_running_stats=True)\n",
              "      )\n",
              "      (1): BasicConv2d(\n",
              "        (conv): Conv2d(128, 192, kernel_size=(3, 3), stride=(1, 1), padding=(1, 1), bias=False)\n",
              "        (bn): BatchNorm2d(192, eps=0.001, momentum=0.1, affine=True, track_running_stats=True)\n",
              "      )\n",
              "    )\n",
              "    (branch3): Sequential(\n",
              "      (0): BasicConv2d(\n",
              "        (conv): Conv2d(256, 32, kernel_size=(1, 1), stride=(1, 1), bias=False)\n",
              "        (bn): BatchNorm2d(32, eps=0.001, momentum=0.1, affine=True, track_running_stats=True)\n",
              "      )\n",
              "      (1): BasicConv2d(\n",
              "        (conv): Conv2d(32, 96, kernel_size=(3, 3), stride=(1, 1), padding=(1, 1), bias=False)\n",
              "        (bn): BatchNorm2d(96, eps=0.001, momentum=0.1, affine=True, track_running_stats=True)\n",
              "      )\n",
              "    )\n",
              "    (branch4): Sequential(\n",
              "      (0): MaxPool2d(kernel_size=3, stride=1, padding=1, dilation=1, ceil_mode=True)\n",
              "      (1): BasicConv2d(\n",
              "        (conv): Conv2d(256, 64, kernel_size=(1, 1), stride=(1, 1), bias=False)\n",
              "        (bn): BatchNorm2d(64, eps=0.001, momentum=0.1, affine=True, track_running_stats=True)\n",
              "      )\n",
              "    )\n",
              "  )\n",
              "  (maxpool3): MaxPool2d(kernel_size=3, stride=2, padding=0, dilation=1, ceil_mode=True)\n",
              "  (inception4a): Inception(\n",
              "    (branch1): BasicConv2d(\n",
              "      (conv): Conv2d(480, 192, kernel_size=(1, 1), stride=(1, 1), bias=False)\n",
              "      (bn): BatchNorm2d(192, eps=0.001, momentum=0.1, affine=True, track_running_stats=True)\n",
              "    )\n",
              "    (branch2): Sequential(\n",
              "      (0): BasicConv2d(\n",
              "        (conv): Conv2d(480, 96, kernel_size=(1, 1), stride=(1, 1), bias=False)\n",
              "        (bn): BatchNorm2d(96, eps=0.001, momentum=0.1, affine=True, track_running_stats=True)\n",
              "      )\n",
              "      (1): BasicConv2d(\n",
              "        (conv): Conv2d(96, 208, kernel_size=(3, 3), stride=(1, 1), padding=(1, 1), bias=False)\n",
              "        (bn): BatchNorm2d(208, eps=0.001, momentum=0.1, affine=True, track_running_stats=True)\n",
              "      )\n",
              "    )\n",
              "    (branch3): Sequential(\n",
              "      (0): BasicConv2d(\n",
              "        (conv): Conv2d(480, 16, kernel_size=(1, 1), stride=(1, 1), bias=False)\n",
              "        (bn): BatchNorm2d(16, eps=0.001, momentum=0.1, affine=True, track_running_stats=True)\n",
              "      )\n",
              "      (1): BasicConv2d(\n",
              "        (conv): Conv2d(16, 48, kernel_size=(3, 3), stride=(1, 1), padding=(1, 1), bias=False)\n",
              "        (bn): BatchNorm2d(48, eps=0.001, momentum=0.1, affine=True, track_running_stats=True)\n",
              "      )\n",
              "    )\n",
              "    (branch4): Sequential(\n",
              "      (0): MaxPool2d(kernel_size=3, stride=1, padding=1, dilation=1, ceil_mode=True)\n",
              "      (1): BasicConv2d(\n",
              "        (conv): Conv2d(480, 64, kernel_size=(1, 1), stride=(1, 1), bias=False)\n",
              "        (bn): BatchNorm2d(64, eps=0.001, momentum=0.1, affine=True, track_running_stats=True)\n",
              "      )\n",
              "    )\n",
              "  )\n",
              "  (inception4b): Inception(\n",
              "    (branch1): BasicConv2d(\n",
              "      (conv): Conv2d(512, 160, kernel_size=(1, 1), stride=(1, 1), bias=False)\n",
              "      (bn): BatchNorm2d(160, eps=0.001, momentum=0.1, affine=True, track_running_stats=True)\n",
              "    )\n",
              "    (branch2): Sequential(\n",
              "      (0): BasicConv2d(\n",
              "        (conv): Conv2d(512, 112, kernel_size=(1, 1), stride=(1, 1), bias=False)\n",
              "        (bn): BatchNorm2d(112, eps=0.001, momentum=0.1, affine=True, track_running_stats=True)\n",
              "      )\n",
              "      (1): BasicConv2d(\n",
              "        (conv): Conv2d(112, 224, kernel_size=(3, 3), stride=(1, 1), padding=(1, 1), bias=False)\n",
              "        (bn): BatchNorm2d(224, eps=0.001, momentum=0.1, affine=True, track_running_stats=True)\n",
              "      )\n",
              "    )\n",
              "    (branch3): Sequential(\n",
              "      (0): BasicConv2d(\n",
              "        (conv): Conv2d(512, 24, kernel_size=(1, 1), stride=(1, 1), bias=False)\n",
              "        (bn): BatchNorm2d(24, eps=0.001, momentum=0.1, affine=True, track_running_stats=True)\n",
              "      )\n",
              "      (1): BasicConv2d(\n",
              "        (conv): Conv2d(24, 64, kernel_size=(3, 3), stride=(1, 1), padding=(1, 1), bias=False)\n",
              "        (bn): BatchNorm2d(64, eps=0.001, momentum=0.1, affine=True, track_running_stats=True)\n",
              "      )\n",
              "    )\n",
              "    (branch4): Sequential(\n",
              "      (0): MaxPool2d(kernel_size=3, stride=1, padding=1, dilation=1, ceil_mode=True)\n",
              "      (1): BasicConv2d(\n",
              "        (conv): Conv2d(512, 64, kernel_size=(1, 1), stride=(1, 1), bias=False)\n",
              "        (bn): BatchNorm2d(64, eps=0.001, momentum=0.1, affine=True, track_running_stats=True)\n",
              "      )\n",
              "    )\n",
              "  )\n",
              "  (inception4c): Inception(\n",
              "    (branch1): BasicConv2d(\n",
              "      (conv): Conv2d(512, 128, kernel_size=(1, 1), stride=(1, 1), bias=False)\n",
              "      (bn): BatchNorm2d(128, eps=0.001, momentum=0.1, affine=True, track_running_stats=True)\n",
              "    )\n",
              "    (branch2): Sequential(\n",
              "      (0): BasicConv2d(\n",
              "        (conv): Conv2d(512, 128, kernel_size=(1, 1), stride=(1, 1), bias=False)\n",
              "        (bn): BatchNorm2d(128, eps=0.001, momentum=0.1, affine=True, track_running_stats=True)\n",
              "      )\n",
              "      (1): BasicConv2d(\n",
              "        (conv): Conv2d(128, 256, kernel_size=(3, 3), stride=(1, 1), padding=(1, 1), bias=False)\n",
              "        (bn): BatchNorm2d(256, eps=0.001, momentum=0.1, affine=True, track_running_stats=True)\n",
              "      )\n",
              "    )\n",
              "    (branch3): Sequential(\n",
              "      (0): BasicConv2d(\n",
              "        (conv): Conv2d(512, 24, kernel_size=(1, 1), stride=(1, 1), bias=False)\n",
              "        (bn): BatchNorm2d(24, eps=0.001, momentum=0.1, affine=True, track_running_stats=True)\n",
              "      )\n",
              "      (1): BasicConv2d(\n",
              "        (conv): Conv2d(24, 64, kernel_size=(3, 3), stride=(1, 1), padding=(1, 1), bias=False)\n",
              "        (bn): BatchNorm2d(64, eps=0.001, momentum=0.1, affine=True, track_running_stats=True)\n",
              "      )\n",
              "    )\n",
              "    (branch4): Sequential(\n",
              "      (0): MaxPool2d(kernel_size=3, stride=1, padding=1, dilation=1, ceil_mode=True)\n",
              "      (1): BasicConv2d(\n",
              "        (conv): Conv2d(512, 64, kernel_size=(1, 1), stride=(1, 1), bias=False)\n",
              "        (bn): BatchNorm2d(64, eps=0.001, momentum=0.1, affine=True, track_running_stats=True)\n",
              "      )\n",
              "    )\n",
              "  )\n",
              "  (inception4d): Inception(\n",
              "    (branch1): BasicConv2d(\n",
              "      (conv): Conv2d(512, 112, kernel_size=(1, 1), stride=(1, 1), bias=False)\n",
              "      (bn): BatchNorm2d(112, eps=0.001, momentum=0.1, affine=True, track_running_stats=True)\n",
              "    )\n",
              "    (branch2): Sequential(\n",
              "      (0): BasicConv2d(\n",
              "        (conv): Conv2d(512, 144, kernel_size=(1, 1), stride=(1, 1), bias=False)\n",
              "        (bn): BatchNorm2d(144, eps=0.001, momentum=0.1, affine=True, track_running_stats=True)\n",
              "      )\n",
              "      (1): BasicConv2d(\n",
              "        (conv): Conv2d(144, 288, kernel_size=(3, 3), stride=(1, 1), padding=(1, 1), bias=False)\n",
              "        (bn): BatchNorm2d(288, eps=0.001, momentum=0.1, affine=True, track_running_stats=True)\n",
              "      )\n",
              "    )\n",
              "    (branch3): Sequential(\n",
              "      (0): BasicConv2d(\n",
              "        (conv): Conv2d(512, 32, kernel_size=(1, 1), stride=(1, 1), bias=False)\n",
              "        (bn): BatchNorm2d(32, eps=0.001, momentum=0.1, affine=True, track_running_stats=True)\n",
              "      )\n",
              "      (1): BasicConv2d(\n",
              "        (conv): Conv2d(32, 64, kernel_size=(3, 3), stride=(1, 1), padding=(1, 1), bias=False)\n",
              "        (bn): BatchNorm2d(64, eps=0.001, momentum=0.1, affine=True, track_running_stats=True)\n",
              "      )\n",
              "    )\n",
              "    (branch4): Sequential(\n",
              "      (0): MaxPool2d(kernel_size=3, stride=1, padding=1, dilation=1, ceil_mode=True)\n",
              "      (1): BasicConv2d(\n",
              "        (conv): Conv2d(512, 64, kernel_size=(1, 1), stride=(1, 1), bias=False)\n",
              "        (bn): BatchNorm2d(64, eps=0.001, momentum=0.1, affine=True, track_running_stats=True)\n",
              "      )\n",
              "    )\n",
              "  )\n",
              "  (inception4e): Inception(\n",
              "    (branch1): BasicConv2d(\n",
              "      (conv): Conv2d(528, 256, kernel_size=(1, 1), stride=(1, 1), bias=False)\n",
              "      (bn): BatchNorm2d(256, eps=0.001, momentum=0.1, affine=True, track_running_stats=True)\n",
              "    )\n",
              "    (branch2): Sequential(\n",
              "      (0): BasicConv2d(\n",
              "        (conv): Conv2d(528, 160, kernel_size=(1, 1), stride=(1, 1), bias=False)\n",
              "        (bn): BatchNorm2d(160, eps=0.001, momentum=0.1, affine=True, track_running_stats=True)\n",
              "      )\n",
              "      (1): BasicConv2d(\n",
              "        (conv): Conv2d(160, 320, kernel_size=(3, 3), stride=(1, 1), padding=(1, 1), bias=False)\n",
              "        (bn): BatchNorm2d(320, eps=0.001, momentum=0.1, affine=True, track_running_stats=True)\n",
              "      )\n",
              "    )\n",
              "    (branch3): Sequential(\n",
              "      (0): BasicConv2d(\n",
              "        (conv): Conv2d(528, 32, kernel_size=(1, 1), stride=(1, 1), bias=False)\n",
              "        (bn): BatchNorm2d(32, eps=0.001, momentum=0.1, affine=True, track_running_stats=True)\n",
              "      )\n",
              "      (1): BasicConv2d(\n",
              "        (conv): Conv2d(32, 128, kernel_size=(3, 3), stride=(1, 1), padding=(1, 1), bias=False)\n",
              "        (bn): BatchNorm2d(128, eps=0.001, momentum=0.1, affine=True, track_running_stats=True)\n",
              "      )\n",
              "    )\n",
              "    (branch4): Sequential(\n",
              "      (0): MaxPool2d(kernel_size=3, stride=1, padding=1, dilation=1, ceil_mode=True)\n",
              "      (1): BasicConv2d(\n",
              "        (conv): Conv2d(528, 128, kernel_size=(1, 1), stride=(1, 1), bias=False)\n",
              "        (bn): BatchNorm2d(128, eps=0.001, momentum=0.1, affine=True, track_running_stats=True)\n",
              "      )\n",
              "    )\n",
              "  )\n",
              "  (maxpool4): MaxPool2d(kernel_size=2, stride=2, padding=0, dilation=1, ceil_mode=True)\n",
              "  (inception5a): Inception(\n",
              "    (branch1): BasicConv2d(\n",
              "      (conv): Conv2d(832, 256, kernel_size=(1, 1), stride=(1, 1), bias=False)\n",
              "      (bn): BatchNorm2d(256, eps=0.001, momentum=0.1, affine=True, track_running_stats=True)\n",
              "    )\n",
              "    (branch2): Sequential(\n",
              "      (0): BasicConv2d(\n",
              "        (conv): Conv2d(832, 160, kernel_size=(1, 1), stride=(1, 1), bias=False)\n",
              "        (bn): BatchNorm2d(160, eps=0.001, momentum=0.1, affine=True, track_running_stats=True)\n",
              "      )\n",
              "      (1): BasicConv2d(\n",
              "        (conv): Conv2d(160, 320, kernel_size=(3, 3), stride=(1, 1), padding=(1, 1), bias=False)\n",
              "        (bn): BatchNorm2d(320, eps=0.001, momentum=0.1, affine=True, track_running_stats=True)\n",
              "      )\n",
              "    )\n",
              "    (branch3): Sequential(\n",
              "      (0): BasicConv2d(\n",
              "        (conv): Conv2d(832, 32, kernel_size=(1, 1), stride=(1, 1), bias=False)\n",
              "        (bn): BatchNorm2d(32, eps=0.001, momentum=0.1, affine=True, track_running_stats=True)\n",
              "      )\n",
              "      (1): BasicConv2d(\n",
              "        (conv): Conv2d(32, 128, kernel_size=(3, 3), stride=(1, 1), padding=(1, 1), bias=False)\n",
              "        (bn): BatchNorm2d(128, eps=0.001, momentum=0.1, affine=True, track_running_stats=True)\n",
              "      )\n",
              "    )\n",
              "    (branch4): Sequential(\n",
              "      (0): MaxPool2d(kernel_size=3, stride=1, padding=1, dilation=1, ceil_mode=True)\n",
              "      (1): BasicConv2d(\n",
              "        (conv): Conv2d(832, 128, kernel_size=(1, 1), stride=(1, 1), bias=False)\n",
              "        (bn): BatchNorm2d(128, eps=0.001, momentum=0.1, affine=True, track_running_stats=True)\n",
              "      )\n",
              "    )\n",
              "  )\n",
              "  (inception5b): Inception(\n",
              "    (branch1): BasicConv2d(\n",
              "      (conv): Conv2d(832, 384, kernel_size=(1, 1), stride=(1, 1), bias=False)\n",
              "      (bn): BatchNorm2d(384, eps=0.001, momentum=0.1, affine=True, track_running_stats=True)\n",
              "    )\n",
              "    (branch2): Sequential(\n",
              "      (0): BasicConv2d(\n",
              "        (conv): Conv2d(832, 192, kernel_size=(1, 1), stride=(1, 1), bias=False)\n",
              "        (bn): BatchNorm2d(192, eps=0.001, momentum=0.1, affine=True, track_running_stats=True)\n",
              "      )\n",
              "      (1): BasicConv2d(\n",
              "        (conv): Conv2d(192, 384, kernel_size=(3, 3), stride=(1, 1), padding=(1, 1), bias=False)\n",
              "        (bn): BatchNorm2d(384, eps=0.001, momentum=0.1, affine=True, track_running_stats=True)\n",
              "      )\n",
              "    )\n",
              "    (branch3): Sequential(\n",
              "      (0): BasicConv2d(\n",
              "        (conv): Conv2d(832, 48, kernel_size=(1, 1), stride=(1, 1), bias=False)\n",
              "        (bn): BatchNorm2d(48, eps=0.001, momentum=0.1, affine=True, track_running_stats=True)\n",
              "      )\n",
              "      (1): BasicConv2d(\n",
              "        (conv): Conv2d(48, 128, kernel_size=(3, 3), stride=(1, 1), padding=(1, 1), bias=False)\n",
              "        (bn): BatchNorm2d(128, eps=0.001, momentum=0.1, affine=True, track_running_stats=True)\n",
              "      )\n",
              "    )\n",
              "    (branch4): Sequential(\n",
              "      (0): MaxPool2d(kernel_size=3, stride=1, padding=1, dilation=1, ceil_mode=True)\n",
              "      (1): BasicConv2d(\n",
              "        (conv): Conv2d(832, 128, kernel_size=(1, 1), stride=(1, 1), bias=False)\n",
              "        (bn): BatchNorm2d(128, eps=0.001, momentum=0.1, affine=True, track_running_stats=True)\n",
              "      )\n",
              "    )\n",
              "  )\n",
              "  (aux1): InceptionAux(\n",
              "    (conv): BasicConv2d(\n",
              "      (conv): Conv2d(512, 128, kernel_size=(1, 1), stride=(1, 1), bias=False)\n",
              "      (bn): BatchNorm2d(128, eps=0.001, momentum=0.1, affine=True, track_running_stats=True)\n",
              "    )\n",
              "    (fc1): Linear(in_features=2048, out_features=1024, bias=True)\n",
              "    (fc2): Linear(in_features=1024, out_features=1000, bias=True)\n",
              "  )\n",
              "  (aux2): InceptionAux(\n",
              "    (conv): BasicConv2d(\n",
              "      (conv): Conv2d(528, 128, kernel_size=(1, 1), stride=(1, 1), bias=False)\n",
              "      (bn): BatchNorm2d(128, eps=0.001, momentum=0.1, affine=True, track_running_stats=True)\n",
              "    )\n",
              "    (fc1): Linear(in_features=2048, out_features=1024, bias=True)\n",
              "    (fc2): Linear(in_features=1024, out_features=1000, bias=True)\n",
              "  )\n",
              "  (avgpool): AdaptiveAvgPool2d(output_size=(1, 1))\n",
              "  (dropout): Dropout(p=0.2, inplace=False)\n",
              "  (fc): Linear(in_features=1024, out_features=1000, bias=True)\n",
              ")"
            ]
          },
          "metadata": {
            "tags": []
          },
          "execution_count": 28
        }
      ]
    },
    {
      "cell_type": "code",
      "metadata": {
        "id": "KXSQgDdqsQ21",
        "outputId": "20035416-6af1-4339-cc2b-1310b23febcb",
        "colab": {
          "base_uri": "https://localhost:8080/"
        }
      },
      "source": [
        "summary(model, (3, 224, 224), device='cpu')"
      ],
      "execution_count": 29,
      "outputs": [
        {
          "output_type": "stream",
          "text": [
            "----------------------------------------------------------------\n",
            "        Layer (type)               Output Shape         Param #\n",
            "================================================================\n",
            "            Conv2d-1         [-1, 64, 112, 112]           9,408\n",
            "       BatchNorm2d-2         [-1, 64, 112, 112]             128\n",
            "       BasicConv2d-3         [-1, 64, 112, 112]               0\n",
            "         MaxPool2d-4           [-1, 64, 56, 56]               0\n",
            "            Conv2d-5           [-1, 64, 56, 56]           4,096\n",
            "       BatchNorm2d-6           [-1, 64, 56, 56]             128\n",
            "       BasicConv2d-7           [-1, 64, 56, 56]               0\n",
            "            Conv2d-8          [-1, 192, 56, 56]         110,592\n",
            "       BatchNorm2d-9          [-1, 192, 56, 56]             384\n",
            "      BasicConv2d-10          [-1, 192, 56, 56]               0\n",
            "        MaxPool2d-11          [-1, 192, 28, 28]               0\n",
            "           Conv2d-12           [-1, 64, 28, 28]          12,288\n",
            "      BatchNorm2d-13           [-1, 64, 28, 28]             128\n",
            "      BasicConv2d-14           [-1, 64, 28, 28]               0\n",
            "           Conv2d-15           [-1, 96, 28, 28]          18,432\n",
            "      BatchNorm2d-16           [-1, 96, 28, 28]             192\n",
            "      BasicConv2d-17           [-1, 96, 28, 28]               0\n",
            "           Conv2d-18          [-1, 128, 28, 28]         110,592\n",
            "      BatchNorm2d-19          [-1, 128, 28, 28]             256\n",
            "      BasicConv2d-20          [-1, 128, 28, 28]               0\n",
            "           Conv2d-21           [-1, 16, 28, 28]           3,072\n",
            "      BatchNorm2d-22           [-1, 16, 28, 28]              32\n",
            "      BasicConv2d-23           [-1, 16, 28, 28]               0\n",
            "           Conv2d-24           [-1, 32, 28, 28]           4,608\n",
            "      BatchNorm2d-25           [-1, 32, 28, 28]              64\n",
            "      BasicConv2d-26           [-1, 32, 28, 28]               0\n",
            "        MaxPool2d-27          [-1, 192, 28, 28]               0\n",
            "           Conv2d-28           [-1, 32, 28, 28]           6,144\n",
            "      BatchNorm2d-29           [-1, 32, 28, 28]              64\n",
            "      BasicConv2d-30           [-1, 32, 28, 28]               0\n",
            "        Inception-31          [-1, 256, 28, 28]               0\n",
            "           Conv2d-32          [-1, 128, 28, 28]          32,768\n",
            "      BatchNorm2d-33          [-1, 128, 28, 28]             256\n",
            "      BasicConv2d-34          [-1, 128, 28, 28]               0\n",
            "           Conv2d-35          [-1, 128, 28, 28]          32,768\n",
            "      BatchNorm2d-36          [-1, 128, 28, 28]             256\n",
            "      BasicConv2d-37          [-1, 128, 28, 28]               0\n",
            "           Conv2d-38          [-1, 192, 28, 28]         221,184\n",
            "      BatchNorm2d-39          [-1, 192, 28, 28]             384\n",
            "      BasicConv2d-40          [-1, 192, 28, 28]               0\n",
            "           Conv2d-41           [-1, 32, 28, 28]           8,192\n",
            "      BatchNorm2d-42           [-1, 32, 28, 28]              64\n",
            "      BasicConv2d-43           [-1, 32, 28, 28]               0\n",
            "           Conv2d-44           [-1, 96, 28, 28]          27,648\n",
            "      BatchNorm2d-45           [-1, 96, 28, 28]             192\n",
            "      BasicConv2d-46           [-1, 96, 28, 28]               0\n",
            "        MaxPool2d-47          [-1, 256, 28, 28]               0\n",
            "           Conv2d-48           [-1, 64, 28, 28]          16,384\n",
            "      BatchNorm2d-49           [-1, 64, 28, 28]             128\n",
            "      BasicConv2d-50           [-1, 64, 28, 28]               0\n",
            "        Inception-51          [-1, 480, 28, 28]               0\n",
            "        MaxPool2d-52          [-1, 480, 14, 14]               0\n",
            "           Conv2d-53          [-1, 192, 14, 14]          92,160\n",
            "      BatchNorm2d-54          [-1, 192, 14, 14]             384\n",
            "      BasicConv2d-55          [-1, 192, 14, 14]               0\n",
            "           Conv2d-56           [-1, 96, 14, 14]          46,080\n",
            "      BatchNorm2d-57           [-1, 96, 14, 14]             192\n",
            "      BasicConv2d-58           [-1, 96, 14, 14]               0\n",
            "           Conv2d-59          [-1, 208, 14, 14]         179,712\n",
            "      BatchNorm2d-60          [-1, 208, 14, 14]             416\n",
            "      BasicConv2d-61          [-1, 208, 14, 14]               0\n",
            "           Conv2d-62           [-1, 16, 14, 14]           7,680\n",
            "      BatchNorm2d-63           [-1, 16, 14, 14]              32\n",
            "      BasicConv2d-64           [-1, 16, 14, 14]               0\n",
            "           Conv2d-65           [-1, 48, 14, 14]           6,912\n",
            "      BatchNorm2d-66           [-1, 48, 14, 14]              96\n",
            "      BasicConv2d-67           [-1, 48, 14, 14]               0\n",
            "        MaxPool2d-68          [-1, 480, 14, 14]               0\n",
            "           Conv2d-69           [-1, 64, 14, 14]          30,720\n",
            "      BatchNorm2d-70           [-1, 64, 14, 14]             128\n",
            "      BasicConv2d-71           [-1, 64, 14, 14]               0\n",
            "        Inception-72          [-1, 512, 14, 14]               0\n",
            "           Conv2d-73            [-1, 128, 4, 4]          65,536\n",
            "      BatchNorm2d-74            [-1, 128, 4, 4]             256\n",
            "      BasicConv2d-75            [-1, 128, 4, 4]               0\n",
            "           Linear-76                 [-1, 1024]       2,098,176\n",
            "           Linear-77                 [-1, 1000]       1,025,000\n",
            "     InceptionAux-78                 [-1, 1000]               0\n",
            "           Conv2d-79          [-1, 160, 14, 14]          81,920\n",
            "      BatchNorm2d-80          [-1, 160, 14, 14]             320\n",
            "      BasicConv2d-81          [-1, 160, 14, 14]               0\n",
            "           Conv2d-82          [-1, 112, 14, 14]          57,344\n",
            "      BatchNorm2d-83          [-1, 112, 14, 14]             224\n",
            "      BasicConv2d-84          [-1, 112, 14, 14]               0\n",
            "           Conv2d-85          [-1, 224, 14, 14]         225,792\n",
            "      BatchNorm2d-86          [-1, 224, 14, 14]             448\n",
            "      BasicConv2d-87          [-1, 224, 14, 14]               0\n",
            "           Conv2d-88           [-1, 24, 14, 14]          12,288\n",
            "      BatchNorm2d-89           [-1, 24, 14, 14]              48\n",
            "      BasicConv2d-90           [-1, 24, 14, 14]               0\n",
            "           Conv2d-91           [-1, 64, 14, 14]          13,824\n",
            "      BatchNorm2d-92           [-1, 64, 14, 14]             128\n",
            "      BasicConv2d-93           [-1, 64, 14, 14]               0\n",
            "        MaxPool2d-94          [-1, 512, 14, 14]               0\n",
            "           Conv2d-95           [-1, 64, 14, 14]          32,768\n",
            "      BatchNorm2d-96           [-1, 64, 14, 14]             128\n",
            "      BasicConv2d-97           [-1, 64, 14, 14]               0\n",
            "        Inception-98          [-1, 512, 14, 14]               0\n",
            "           Conv2d-99          [-1, 128, 14, 14]          65,536\n",
            "     BatchNorm2d-100          [-1, 128, 14, 14]             256\n",
            "     BasicConv2d-101          [-1, 128, 14, 14]               0\n",
            "          Conv2d-102          [-1, 128, 14, 14]          65,536\n",
            "     BatchNorm2d-103          [-1, 128, 14, 14]             256\n",
            "     BasicConv2d-104          [-1, 128, 14, 14]               0\n",
            "          Conv2d-105          [-1, 256, 14, 14]         294,912\n",
            "     BatchNorm2d-106          [-1, 256, 14, 14]             512\n",
            "     BasicConv2d-107          [-1, 256, 14, 14]               0\n",
            "          Conv2d-108           [-1, 24, 14, 14]          12,288\n",
            "     BatchNorm2d-109           [-1, 24, 14, 14]              48\n",
            "     BasicConv2d-110           [-1, 24, 14, 14]               0\n",
            "          Conv2d-111           [-1, 64, 14, 14]          13,824\n",
            "     BatchNorm2d-112           [-1, 64, 14, 14]             128\n",
            "     BasicConv2d-113           [-1, 64, 14, 14]               0\n",
            "       MaxPool2d-114          [-1, 512, 14, 14]               0\n",
            "          Conv2d-115           [-1, 64, 14, 14]          32,768\n",
            "     BatchNorm2d-116           [-1, 64, 14, 14]             128\n",
            "     BasicConv2d-117           [-1, 64, 14, 14]               0\n",
            "       Inception-118          [-1, 512, 14, 14]               0\n",
            "          Conv2d-119          [-1, 112, 14, 14]          57,344\n",
            "     BatchNorm2d-120          [-1, 112, 14, 14]             224\n",
            "     BasicConv2d-121          [-1, 112, 14, 14]               0\n",
            "          Conv2d-122          [-1, 144, 14, 14]          73,728\n",
            "     BatchNorm2d-123          [-1, 144, 14, 14]             288\n",
            "     BasicConv2d-124          [-1, 144, 14, 14]               0\n",
            "          Conv2d-125          [-1, 288, 14, 14]         373,248\n",
            "     BatchNorm2d-126          [-1, 288, 14, 14]             576\n",
            "     BasicConv2d-127          [-1, 288, 14, 14]               0\n",
            "          Conv2d-128           [-1, 32, 14, 14]          16,384\n",
            "     BatchNorm2d-129           [-1, 32, 14, 14]              64\n",
            "     BasicConv2d-130           [-1, 32, 14, 14]               0\n",
            "          Conv2d-131           [-1, 64, 14, 14]          18,432\n",
            "     BatchNorm2d-132           [-1, 64, 14, 14]             128\n",
            "     BasicConv2d-133           [-1, 64, 14, 14]               0\n",
            "       MaxPool2d-134          [-1, 512, 14, 14]               0\n",
            "          Conv2d-135           [-1, 64, 14, 14]          32,768\n",
            "     BatchNorm2d-136           [-1, 64, 14, 14]             128\n",
            "     BasicConv2d-137           [-1, 64, 14, 14]               0\n",
            "       Inception-138          [-1, 528, 14, 14]               0\n",
            "          Conv2d-139            [-1, 128, 4, 4]          67,584\n",
            "     BatchNorm2d-140            [-1, 128, 4, 4]             256\n",
            "     BasicConv2d-141            [-1, 128, 4, 4]               0\n",
            "          Linear-142                 [-1, 1024]       2,098,176\n",
            "          Linear-143                 [-1, 1000]       1,025,000\n",
            "    InceptionAux-144                 [-1, 1000]               0\n",
            "          Conv2d-145          [-1, 256, 14, 14]         135,168\n",
            "     BatchNorm2d-146          [-1, 256, 14, 14]             512\n",
            "     BasicConv2d-147          [-1, 256, 14, 14]               0\n",
            "          Conv2d-148          [-1, 160, 14, 14]          84,480\n",
            "     BatchNorm2d-149          [-1, 160, 14, 14]             320\n",
            "     BasicConv2d-150          [-1, 160, 14, 14]               0\n",
            "          Conv2d-151          [-1, 320, 14, 14]         460,800\n",
            "     BatchNorm2d-152          [-1, 320, 14, 14]             640\n",
            "     BasicConv2d-153          [-1, 320, 14, 14]               0\n",
            "          Conv2d-154           [-1, 32, 14, 14]          16,896\n",
            "     BatchNorm2d-155           [-1, 32, 14, 14]              64\n",
            "     BasicConv2d-156           [-1, 32, 14, 14]               0\n",
            "          Conv2d-157          [-1, 128, 14, 14]          36,864\n",
            "     BatchNorm2d-158          [-1, 128, 14, 14]             256\n",
            "     BasicConv2d-159          [-1, 128, 14, 14]               0\n",
            "       MaxPool2d-160          [-1, 528, 14, 14]               0\n",
            "          Conv2d-161          [-1, 128, 14, 14]          67,584\n",
            "     BatchNorm2d-162          [-1, 128, 14, 14]             256\n",
            "     BasicConv2d-163          [-1, 128, 14, 14]               0\n",
            "       Inception-164          [-1, 832, 14, 14]               0\n",
            "       MaxPool2d-165            [-1, 832, 7, 7]               0\n",
            "          Conv2d-166            [-1, 256, 7, 7]         212,992\n",
            "     BatchNorm2d-167            [-1, 256, 7, 7]             512\n",
            "     BasicConv2d-168            [-1, 256, 7, 7]               0\n",
            "          Conv2d-169            [-1, 160, 7, 7]         133,120\n",
            "     BatchNorm2d-170            [-1, 160, 7, 7]             320\n",
            "     BasicConv2d-171            [-1, 160, 7, 7]               0\n",
            "          Conv2d-172            [-1, 320, 7, 7]         460,800\n",
            "     BatchNorm2d-173            [-1, 320, 7, 7]             640\n",
            "     BasicConv2d-174            [-1, 320, 7, 7]               0\n",
            "          Conv2d-175             [-1, 32, 7, 7]          26,624\n",
            "     BatchNorm2d-176             [-1, 32, 7, 7]              64\n",
            "     BasicConv2d-177             [-1, 32, 7, 7]               0\n",
            "          Conv2d-178            [-1, 128, 7, 7]          36,864\n",
            "     BatchNorm2d-179            [-1, 128, 7, 7]             256\n",
            "     BasicConv2d-180            [-1, 128, 7, 7]               0\n",
            "       MaxPool2d-181            [-1, 832, 7, 7]               0\n",
            "          Conv2d-182            [-1, 128, 7, 7]         106,496\n",
            "     BatchNorm2d-183            [-1, 128, 7, 7]             256\n",
            "     BasicConv2d-184            [-1, 128, 7, 7]               0\n",
            "       Inception-185            [-1, 832, 7, 7]               0\n",
            "          Conv2d-186            [-1, 384, 7, 7]         319,488\n",
            "     BatchNorm2d-187            [-1, 384, 7, 7]             768\n",
            "     BasicConv2d-188            [-1, 384, 7, 7]               0\n",
            "          Conv2d-189            [-1, 192, 7, 7]         159,744\n",
            "     BatchNorm2d-190            [-1, 192, 7, 7]             384\n",
            "     BasicConv2d-191            [-1, 192, 7, 7]               0\n",
            "          Conv2d-192            [-1, 384, 7, 7]         663,552\n",
            "     BatchNorm2d-193            [-1, 384, 7, 7]             768\n",
            "     BasicConv2d-194            [-1, 384, 7, 7]               0\n",
            "          Conv2d-195             [-1, 48, 7, 7]          39,936\n",
            "     BatchNorm2d-196             [-1, 48, 7, 7]              96\n",
            "     BasicConv2d-197             [-1, 48, 7, 7]               0\n",
            "          Conv2d-198            [-1, 128, 7, 7]          55,296\n",
            "     BatchNorm2d-199            [-1, 128, 7, 7]             256\n",
            "     BasicConv2d-200            [-1, 128, 7, 7]               0\n",
            "       MaxPool2d-201            [-1, 832, 7, 7]               0\n",
            "          Conv2d-202            [-1, 128, 7, 7]         106,496\n",
            "     BatchNorm2d-203            [-1, 128, 7, 7]             256\n",
            "     BasicConv2d-204            [-1, 128, 7, 7]               0\n",
            "       Inception-205           [-1, 1024, 7, 7]               0\n",
            "AdaptiveAvgPool2d-206           [-1, 1024, 1, 1]               0\n",
            "         Dropout-207                 [-1, 1024]               0\n",
            "          Linear-208                 [-1, 1000]       1,025,000\n",
            "================================================================\n",
            "Total params: 13,004,888\n",
            "Trainable params: 13,004,888\n",
            "Non-trainable params: 0\n",
            "----------------------------------------------------------------\n",
            "Input size (MB): 0.57\n",
            "Forward/backward pass size (MB): 94.25\n",
            "Params size (MB): 49.61\n",
            "Estimated Total Size (MB): 144.43\n",
            "----------------------------------------------------------------\n"
          ],
          "name": "stdout"
        }
      ]
    },
    {
      "cell_type": "markdown",
      "metadata": {
        "id": "lThXRqLZsQ21"
      },
      "source": [
        "## 2.4. ResNet"
      ]
    },
    {
      "cell_type": "code",
      "metadata": {
        "id": "ruJk3aYDsQ21",
        "outputId": "829cdb7e-b9bc-4e8e-c13b-fc795463478f",
        "colab": {
          "base_uri": "https://localhost:8080/"
        }
      },
      "source": [
        "model = torchvision.models.resnet18(pretrained=False)\n",
        "model"
      ],
      "execution_count": 30,
      "outputs": [
        {
          "output_type": "execute_result",
          "data": {
            "text/plain": [
              "ResNet(\n",
              "  (conv1): Conv2d(3, 64, kernel_size=(7, 7), stride=(2, 2), padding=(3, 3), bias=False)\n",
              "  (bn1): BatchNorm2d(64, eps=1e-05, momentum=0.1, affine=True, track_running_stats=True)\n",
              "  (relu): ReLU(inplace=True)\n",
              "  (maxpool): MaxPool2d(kernel_size=3, stride=2, padding=1, dilation=1, ceil_mode=False)\n",
              "  (layer1): Sequential(\n",
              "    (0): BasicBlock(\n",
              "      (conv1): Conv2d(64, 64, kernel_size=(3, 3), stride=(1, 1), padding=(1, 1), bias=False)\n",
              "      (bn1): BatchNorm2d(64, eps=1e-05, momentum=0.1, affine=True, track_running_stats=True)\n",
              "      (relu): ReLU(inplace=True)\n",
              "      (conv2): Conv2d(64, 64, kernel_size=(3, 3), stride=(1, 1), padding=(1, 1), bias=False)\n",
              "      (bn2): BatchNorm2d(64, eps=1e-05, momentum=0.1, affine=True, track_running_stats=True)\n",
              "    )\n",
              "    (1): BasicBlock(\n",
              "      (conv1): Conv2d(64, 64, kernel_size=(3, 3), stride=(1, 1), padding=(1, 1), bias=False)\n",
              "      (bn1): BatchNorm2d(64, eps=1e-05, momentum=0.1, affine=True, track_running_stats=True)\n",
              "      (relu): ReLU(inplace=True)\n",
              "      (conv2): Conv2d(64, 64, kernel_size=(3, 3), stride=(1, 1), padding=(1, 1), bias=False)\n",
              "      (bn2): BatchNorm2d(64, eps=1e-05, momentum=0.1, affine=True, track_running_stats=True)\n",
              "    )\n",
              "  )\n",
              "  (layer2): Sequential(\n",
              "    (0): BasicBlock(\n",
              "      (conv1): Conv2d(64, 128, kernel_size=(3, 3), stride=(2, 2), padding=(1, 1), bias=False)\n",
              "      (bn1): BatchNorm2d(128, eps=1e-05, momentum=0.1, affine=True, track_running_stats=True)\n",
              "      (relu): ReLU(inplace=True)\n",
              "      (conv2): Conv2d(128, 128, kernel_size=(3, 3), stride=(1, 1), padding=(1, 1), bias=False)\n",
              "      (bn2): BatchNorm2d(128, eps=1e-05, momentum=0.1, affine=True, track_running_stats=True)\n",
              "      (downsample): Sequential(\n",
              "        (0): Conv2d(64, 128, kernel_size=(1, 1), stride=(2, 2), bias=False)\n",
              "        (1): BatchNorm2d(128, eps=1e-05, momentum=0.1, affine=True, track_running_stats=True)\n",
              "      )\n",
              "    )\n",
              "    (1): BasicBlock(\n",
              "      (conv1): Conv2d(128, 128, kernel_size=(3, 3), stride=(1, 1), padding=(1, 1), bias=False)\n",
              "      (bn1): BatchNorm2d(128, eps=1e-05, momentum=0.1, affine=True, track_running_stats=True)\n",
              "      (relu): ReLU(inplace=True)\n",
              "      (conv2): Conv2d(128, 128, kernel_size=(3, 3), stride=(1, 1), padding=(1, 1), bias=False)\n",
              "      (bn2): BatchNorm2d(128, eps=1e-05, momentum=0.1, affine=True, track_running_stats=True)\n",
              "    )\n",
              "  )\n",
              "  (layer3): Sequential(\n",
              "    (0): BasicBlock(\n",
              "      (conv1): Conv2d(128, 256, kernel_size=(3, 3), stride=(2, 2), padding=(1, 1), bias=False)\n",
              "      (bn1): BatchNorm2d(256, eps=1e-05, momentum=0.1, affine=True, track_running_stats=True)\n",
              "      (relu): ReLU(inplace=True)\n",
              "      (conv2): Conv2d(256, 256, kernel_size=(3, 3), stride=(1, 1), padding=(1, 1), bias=False)\n",
              "      (bn2): BatchNorm2d(256, eps=1e-05, momentum=0.1, affine=True, track_running_stats=True)\n",
              "      (downsample): Sequential(\n",
              "        (0): Conv2d(128, 256, kernel_size=(1, 1), stride=(2, 2), bias=False)\n",
              "        (1): BatchNorm2d(256, eps=1e-05, momentum=0.1, affine=True, track_running_stats=True)\n",
              "      )\n",
              "    )\n",
              "    (1): BasicBlock(\n",
              "      (conv1): Conv2d(256, 256, kernel_size=(3, 3), stride=(1, 1), padding=(1, 1), bias=False)\n",
              "      (bn1): BatchNorm2d(256, eps=1e-05, momentum=0.1, affine=True, track_running_stats=True)\n",
              "      (relu): ReLU(inplace=True)\n",
              "      (conv2): Conv2d(256, 256, kernel_size=(3, 3), stride=(1, 1), padding=(1, 1), bias=False)\n",
              "      (bn2): BatchNorm2d(256, eps=1e-05, momentum=0.1, affine=True, track_running_stats=True)\n",
              "    )\n",
              "  )\n",
              "  (layer4): Sequential(\n",
              "    (0): BasicBlock(\n",
              "      (conv1): Conv2d(256, 512, kernel_size=(3, 3), stride=(2, 2), padding=(1, 1), bias=False)\n",
              "      (bn1): BatchNorm2d(512, eps=1e-05, momentum=0.1, affine=True, track_running_stats=True)\n",
              "      (relu): ReLU(inplace=True)\n",
              "      (conv2): Conv2d(512, 512, kernel_size=(3, 3), stride=(1, 1), padding=(1, 1), bias=False)\n",
              "      (bn2): BatchNorm2d(512, eps=1e-05, momentum=0.1, affine=True, track_running_stats=True)\n",
              "      (downsample): Sequential(\n",
              "        (0): Conv2d(256, 512, kernel_size=(1, 1), stride=(2, 2), bias=False)\n",
              "        (1): BatchNorm2d(512, eps=1e-05, momentum=0.1, affine=True, track_running_stats=True)\n",
              "      )\n",
              "    )\n",
              "    (1): BasicBlock(\n",
              "      (conv1): Conv2d(512, 512, kernel_size=(3, 3), stride=(1, 1), padding=(1, 1), bias=False)\n",
              "      (bn1): BatchNorm2d(512, eps=1e-05, momentum=0.1, affine=True, track_running_stats=True)\n",
              "      (relu): ReLU(inplace=True)\n",
              "      (conv2): Conv2d(512, 512, kernel_size=(3, 3), stride=(1, 1), padding=(1, 1), bias=False)\n",
              "      (bn2): BatchNorm2d(512, eps=1e-05, momentum=0.1, affine=True, track_running_stats=True)\n",
              "    )\n",
              "  )\n",
              "  (avgpool): AdaptiveAvgPool2d(output_size=(1, 1))\n",
              "  (fc): Linear(in_features=512, out_features=1000, bias=True)\n",
              ")"
            ]
          },
          "metadata": {
            "tags": []
          },
          "execution_count": 30
        }
      ]
    },
    {
      "cell_type": "code",
      "metadata": {
        "id": "5YS8D4vVsQ21",
        "outputId": "02e29be6-1a65-4b51-eddc-bd10bdb164e4",
        "colab": {
          "base_uri": "https://localhost:8080/"
        }
      },
      "source": [
        "summary(model, (3, 224, 224), device='cpu')"
      ],
      "execution_count": 31,
      "outputs": [
        {
          "output_type": "stream",
          "text": [
            "----------------------------------------------------------------\n",
            "        Layer (type)               Output Shape         Param #\n",
            "================================================================\n",
            "            Conv2d-1         [-1, 64, 112, 112]           9,408\n",
            "       BatchNorm2d-2         [-1, 64, 112, 112]             128\n",
            "              ReLU-3         [-1, 64, 112, 112]               0\n",
            "         MaxPool2d-4           [-1, 64, 56, 56]               0\n",
            "            Conv2d-5           [-1, 64, 56, 56]          36,864\n",
            "       BatchNorm2d-6           [-1, 64, 56, 56]             128\n",
            "              ReLU-7           [-1, 64, 56, 56]               0\n",
            "            Conv2d-8           [-1, 64, 56, 56]          36,864\n",
            "       BatchNorm2d-9           [-1, 64, 56, 56]             128\n",
            "             ReLU-10           [-1, 64, 56, 56]               0\n",
            "       BasicBlock-11           [-1, 64, 56, 56]               0\n",
            "           Conv2d-12           [-1, 64, 56, 56]          36,864\n",
            "      BatchNorm2d-13           [-1, 64, 56, 56]             128\n",
            "             ReLU-14           [-1, 64, 56, 56]               0\n",
            "           Conv2d-15           [-1, 64, 56, 56]          36,864\n",
            "      BatchNorm2d-16           [-1, 64, 56, 56]             128\n",
            "             ReLU-17           [-1, 64, 56, 56]               0\n",
            "       BasicBlock-18           [-1, 64, 56, 56]               0\n",
            "           Conv2d-19          [-1, 128, 28, 28]          73,728\n",
            "      BatchNorm2d-20          [-1, 128, 28, 28]             256\n",
            "             ReLU-21          [-1, 128, 28, 28]               0\n",
            "           Conv2d-22          [-1, 128, 28, 28]         147,456\n",
            "      BatchNorm2d-23          [-1, 128, 28, 28]             256\n",
            "           Conv2d-24          [-1, 128, 28, 28]           8,192\n",
            "      BatchNorm2d-25          [-1, 128, 28, 28]             256\n",
            "             ReLU-26          [-1, 128, 28, 28]               0\n",
            "       BasicBlock-27          [-1, 128, 28, 28]               0\n",
            "           Conv2d-28          [-1, 128, 28, 28]         147,456\n",
            "      BatchNorm2d-29          [-1, 128, 28, 28]             256\n",
            "             ReLU-30          [-1, 128, 28, 28]               0\n",
            "           Conv2d-31          [-1, 128, 28, 28]         147,456\n",
            "      BatchNorm2d-32          [-1, 128, 28, 28]             256\n",
            "             ReLU-33          [-1, 128, 28, 28]               0\n",
            "       BasicBlock-34          [-1, 128, 28, 28]               0\n",
            "           Conv2d-35          [-1, 256, 14, 14]         294,912\n",
            "      BatchNorm2d-36          [-1, 256, 14, 14]             512\n",
            "             ReLU-37          [-1, 256, 14, 14]               0\n",
            "           Conv2d-38          [-1, 256, 14, 14]         589,824\n",
            "      BatchNorm2d-39          [-1, 256, 14, 14]             512\n",
            "           Conv2d-40          [-1, 256, 14, 14]          32,768\n",
            "      BatchNorm2d-41          [-1, 256, 14, 14]             512\n",
            "             ReLU-42          [-1, 256, 14, 14]               0\n",
            "       BasicBlock-43          [-1, 256, 14, 14]               0\n",
            "           Conv2d-44          [-1, 256, 14, 14]         589,824\n",
            "      BatchNorm2d-45          [-1, 256, 14, 14]             512\n",
            "             ReLU-46          [-1, 256, 14, 14]               0\n",
            "           Conv2d-47          [-1, 256, 14, 14]         589,824\n",
            "      BatchNorm2d-48          [-1, 256, 14, 14]             512\n",
            "             ReLU-49          [-1, 256, 14, 14]               0\n",
            "       BasicBlock-50          [-1, 256, 14, 14]               0\n",
            "           Conv2d-51            [-1, 512, 7, 7]       1,179,648\n",
            "      BatchNorm2d-52            [-1, 512, 7, 7]           1,024\n",
            "             ReLU-53            [-1, 512, 7, 7]               0\n",
            "           Conv2d-54            [-1, 512, 7, 7]       2,359,296\n",
            "      BatchNorm2d-55            [-1, 512, 7, 7]           1,024\n",
            "           Conv2d-56            [-1, 512, 7, 7]         131,072\n",
            "      BatchNorm2d-57            [-1, 512, 7, 7]           1,024\n",
            "             ReLU-58            [-1, 512, 7, 7]               0\n",
            "       BasicBlock-59            [-1, 512, 7, 7]               0\n",
            "           Conv2d-60            [-1, 512, 7, 7]       2,359,296\n",
            "      BatchNorm2d-61            [-1, 512, 7, 7]           1,024\n",
            "             ReLU-62            [-1, 512, 7, 7]               0\n",
            "           Conv2d-63            [-1, 512, 7, 7]       2,359,296\n",
            "      BatchNorm2d-64            [-1, 512, 7, 7]           1,024\n",
            "             ReLU-65            [-1, 512, 7, 7]               0\n",
            "       BasicBlock-66            [-1, 512, 7, 7]               0\n",
            "AdaptiveAvgPool2d-67            [-1, 512, 1, 1]               0\n",
            "           Linear-68                 [-1, 1000]         513,000\n",
            "================================================================\n",
            "Total params: 11,689,512\n",
            "Trainable params: 11,689,512\n",
            "Non-trainable params: 0\n",
            "----------------------------------------------------------------\n",
            "Input size (MB): 0.57\n",
            "Forward/backward pass size (MB): 62.79\n",
            "Params size (MB): 44.59\n",
            "Estimated Total Size (MB): 107.96\n",
            "----------------------------------------------------------------\n"
          ],
          "name": "stdout"
        }
      ]
    },
    {
      "cell_type": "markdown",
      "metadata": {
        "id": "xqJmwkoWsQ21"
      },
      "source": [
        "# 3. Реализуем ResNet"
      ]
    },
    {
      "cell_type": "markdown",
      "metadata": {
        "id": "tYct1x1FsQ21"
      },
      "source": [
        "Здесь мы руками изготовим модель, в точности повторяющую ResNet-18 из `torchvision.models` — настолько, что можно будет взять `state_dict` от одной модели и загрузить в другую. Этот процесс мы разделим на две части.\n",
        "\n",
        "В первую очередь мы сделаем так называемый residual block: модуль, содержащий внутри себя skip connection. Мы его сделаем так, чтобы при проходе через него у тензора могли измениться размеры или количество каналов. Он выглядит так:\n",
        "\n",
        "```\n",
        "--> conv -> bn -> relu -> conv -> bn --> + --> relu -->\n",
        " |                                       ↑\n",
        " '--------->optionally downsample--------'\n",
        "```\n",
        "\n",
        "При этом:\n",
        "\n",
        "* Все свёртки `conv` имеют kernel size 3x3 и padding=1\n",
        "* Изменение количества каналов и страйды есть только в первой свёртке `conv`\n",
        "* `downsample` — это последовательность из свёртки 1x1 (опционально со страйдами) и батчнорма\n",
        "* Во всех свёртках не используется bias"
      ]
    },
    {
      "cell_type": "code",
      "metadata": {
        "id": "iUh7kdrnsQ22"
      },
      "source": [
        "class BasicBlock(nn.Module):\n",
        "    def __init__(self, in_channels: int, out_channels: int, stride: int = 1) -> None:\n",
        "        super(BasicBlock, self).__init__()\n",
        "\n",
        "        # Both self.conv1 and self.downsample layers downsample the input when stride != 1\n",
        "        self.conv1 = nn.Conv2d(in_channels, out_channels, kernel_size=3, stride=stride, padding=1, bias=False)\n",
        "        self.bn1 = nn.BatchNorm2d(out_channels)\n",
        "        self.relu = nn.ReLU()\n",
        "        self.conv2 = nn.Conv2d(out_channels, out_channels, kernel_size=3, stride=1, padding=1, bias=False)\n",
        "        self.bn2 = nn.BatchNorm2d(out_channels)\n",
        "\n",
        "        self.downsample = None\n",
        "        if stride != 1 or in_channels != out_channels:\n",
        "            self.downsample = nn.Sequential(\n",
        "                nn.Conv2d(in_channels, out_channels, kernel_size=1, stride=stride, bias=False),\n",
        "                nn.BatchNorm2d(out_channels),\n",
        "            )\n",
        "\n",
        "    def forward(self, x: torch.Tensor) -> torch.Tensor:\n",
        "        identity = x\n",
        "\n",
        "        # x = nn.Sequential(self.conv1, ...)(x)\n",
        "\n",
        "        x = self.conv1(x)\n",
        "        x = self.bn1(x)\n",
        "        x = self.relu(x)\n",
        "        x = self.conv2(x)\n",
        "        x = self.bn2(x)\n",
        "\n",
        "        if self.downsample is not None:\n",
        "            identity = self.downsample(identity)\n",
        "\n",
        "        x = x + identity\n",
        "        x = self.relu(x)\n",
        "        return x"
      ],
      "execution_count": 33,
      "outputs": []
    },
    {
      "cell_type": "markdown",
      "metadata": {
        "id": "EgnFbadIsQ22"
      },
      "source": [
        "Теперь соберём саму модель. Она состоит из начала вида\n",
        "\n",
        "```\n",
        "conv -> bn -> relu -> maxpool\n",
        "```\n",
        "\n",
        "Затем 4 раза повторяется конструкция из серии `BasicBlock`. В ResNet-18 в каждой такой серии блоков 2.\n",
        "\n",
        "```\n",
        "layer1: BasicBlock(64, 64, stride=1) -> BasicBlock(64, 64, stride=1)\n",
        "layer2: BasicBlock(64, 128, stride=2) -> BasicBlock(128, 128, stride=1)\n",
        "layer3: BasicBlock(128, 256, stride=2) -> BasicBlock(256, 256, stride=1)\n",
        "layer4: BasicBlock(256, 512, stride=2) -> BasicBlock(512, 512, stride=1)\n",
        "```\n",
        "\n",
        "Наконец, в конце результат усредняется по пространственным размерностям и применяется один полносвязный слой, чтобы сделать итоговое предсказание. Таким образом, ResNet-18 — это логистическая регрессия поверх свёрточных фичей."
      ]
    },
    {
      "cell_type": "code",
      "metadata": {
        "id": "LZ2KIHACsQ22",
        "outputId": "fef99b27-e621-4b1b-aebb-bf4c99f74bbd",
        "colab": {
          "base_uri": "https://localhost:8080/"
        }
      },
      "source": [
        "class ResNet18(nn.Module):\n",
        "    def __init__(self, num_classes: int = 1000) -> None:\n",
        "        super().__init__()\n",
        "        self.conv1 = nn.Conv2d(3, 64, kernel_size=7, stride=2, padding=3, bias=False)\n",
        "        self.bn1 = nn.BatchNorm2d(64)\n",
        "        self.relu = nn.ReLU()\n",
        "        self.maxpool = nn.MaxPool2d(kernel_size=3, stride=2, padding=1)\n",
        "\n",
        "        self.layer1 = self._make_layer(64, 64)\n",
        "        self.layer2 = self._make_layer(64, 128, stride=2)\n",
        "        self.layer3 = self._make_layer(128, 256, stride=2)\n",
        "        self.layer4 = self._make_layer(256, 512, stride=2)\n",
        "\n",
        "        self.avgpool = nn.AdaptiveAvgPool2d((1, 1))  # Это усредняет активации по пространственным размерностям\n",
        "        self.fc = nn.Linear(512, num_classes)\n",
        "\n",
        "        # В реализации ResNet-18 из torchvision используется ещё хитрая инициализация весов.\n",
        "        # Здесь мы это опускаем.\n",
        "\n",
        "    @staticmethod\n",
        "    def _make_layer(in_channels: int, out_channels: int, stride: int = 1) -> nn.Sequential:\n",
        "        return nn.Sequential(\n",
        "            BasicBlock(in_channels, out_channels, stride),\n",
        "            BasicBlock(out_channels, out_channels),\n",
        "        )\n",
        "\n",
        "    def forward(self, x: torch.Tensor) -> torch.Tensor:\n",
        "        x = self.conv1(x)\n",
        "        x = self.bn1(x)\n",
        "        x = self.relu(x)\n",
        "        x = self.maxpool(x)\n",
        "\n",
        "        x = self.layer1(x)\n",
        "        x = self.layer2(x)\n",
        "        x = self.layer3(x)\n",
        "        x = self.layer4(x)\n",
        "\n",
        "        x = self.avgpool(x)\n",
        "        x = x.squeeze(3).squeeze(2)\n",
        "        x = self.fc(x)\n",
        "\n",
        "        return x\n",
        "\n",
        "resnet18 = ResNet18()\n",
        "resnet18"
      ],
      "execution_count": 37,
      "outputs": [
        {
          "output_type": "execute_result",
          "data": {
            "text/plain": [
              "ResNet18(\n",
              "  (conv1): Conv2d(3, 64, kernel_size=(7, 7), stride=(2, 2), padding=(3, 3), bias=False)\n",
              "  (bn1): BatchNorm2d(64, eps=1e-05, momentum=0.1, affine=True, track_running_stats=True)\n",
              "  (relu): ReLU()\n",
              "  (maxpool): MaxPool2d(kernel_size=3, stride=2, padding=1, dilation=1, ceil_mode=False)\n",
              "  (layer1): Sequential(\n",
              "    (0): BasicBlock(\n",
              "      (conv1): Conv2d(64, 64, kernel_size=(3, 3), stride=(1, 1), padding=(1, 1), bias=False)\n",
              "      (bn1): BatchNorm2d(64, eps=1e-05, momentum=0.1, affine=True, track_running_stats=True)\n",
              "      (relu): ReLU()\n",
              "      (conv2): Conv2d(64, 64, kernel_size=(3, 3), stride=(1, 1), padding=(1, 1), bias=False)\n",
              "      (bn2): BatchNorm2d(64, eps=1e-05, momentum=0.1, affine=True, track_running_stats=True)\n",
              "    )\n",
              "    (1): BasicBlock(\n",
              "      (conv1): Conv2d(64, 64, kernel_size=(3, 3), stride=(1, 1), padding=(1, 1), bias=False)\n",
              "      (bn1): BatchNorm2d(64, eps=1e-05, momentum=0.1, affine=True, track_running_stats=True)\n",
              "      (relu): ReLU()\n",
              "      (conv2): Conv2d(64, 64, kernel_size=(3, 3), stride=(1, 1), padding=(1, 1), bias=False)\n",
              "      (bn2): BatchNorm2d(64, eps=1e-05, momentum=0.1, affine=True, track_running_stats=True)\n",
              "    )\n",
              "  )\n",
              "  (layer2): Sequential(\n",
              "    (0): BasicBlock(\n",
              "      (conv1): Conv2d(64, 128, kernel_size=(3, 3), stride=(2, 2), padding=(1, 1), bias=False)\n",
              "      (bn1): BatchNorm2d(128, eps=1e-05, momentum=0.1, affine=True, track_running_stats=True)\n",
              "      (relu): ReLU()\n",
              "      (conv2): Conv2d(128, 128, kernel_size=(3, 3), stride=(1, 1), padding=(1, 1), bias=False)\n",
              "      (bn2): BatchNorm2d(128, eps=1e-05, momentum=0.1, affine=True, track_running_stats=True)\n",
              "      (downsample): Sequential(\n",
              "        (0): Conv2d(64, 128, kernel_size=(1, 1), stride=(2, 2), bias=False)\n",
              "        (1): BatchNorm2d(128, eps=1e-05, momentum=0.1, affine=True, track_running_stats=True)\n",
              "      )\n",
              "    )\n",
              "    (1): BasicBlock(\n",
              "      (conv1): Conv2d(128, 128, kernel_size=(3, 3), stride=(1, 1), padding=(1, 1), bias=False)\n",
              "      (bn1): BatchNorm2d(128, eps=1e-05, momentum=0.1, affine=True, track_running_stats=True)\n",
              "      (relu): ReLU()\n",
              "      (conv2): Conv2d(128, 128, kernel_size=(3, 3), stride=(1, 1), padding=(1, 1), bias=False)\n",
              "      (bn2): BatchNorm2d(128, eps=1e-05, momentum=0.1, affine=True, track_running_stats=True)\n",
              "    )\n",
              "  )\n",
              "  (layer3): Sequential(\n",
              "    (0): BasicBlock(\n",
              "      (conv1): Conv2d(128, 256, kernel_size=(3, 3), stride=(2, 2), padding=(1, 1), bias=False)\n",
              "      (bn1): BatchNorm2d(256, eps=1e-05, momentum=0.1, affine=True, track_running_stats=True)\n",
              "      (relu): ReLU()\n",
              "      (conv2): Conv2d(256, 256, kernel_size=(3, 3), stride=(1, 1), padding=(1, 1), bias=False)\n",
              "      (bn2): BatchNorm2d(256, eps=1e-05, momentum=0.1, affine=True, track_running_stats=True)\n",
              "      (downsample): Sequential(\n",
              "        (0): Conv2d(128, 256, kernel_size=(1, 1), stride=(2, 2), bias=False)\n",
              "        (1): BatchNorm2d(256, eps=1e-05, momentum=0.1, affine=True, track_running_stats=True)\n",
              "      )\n",
              "    )\n",
              "    (1): BasicBlock(\n",
              "      (conv1): Conv2d(256, 256, kernel_size=(3, 3), stride=(1, 1), padding=(1, 1), bias=False)\n",
              "      (bn1): BatchNorm2d(256, eps=1e-05, momentum=0.1, affine=True, track_running_stats=True)\n",
              "      (relu): ReLU()\n",
              "      (conv2): Conv2d(256, 256, kernel_size=(3, 3), stride=(1, 1), padding=(1, 1), bias=False)\n",
              "      (bn2): BatchNorm2d(256, eps=1e-05, momentum=0.1, affine=True, track_running_stats=True)\n",
              "    )\n",
              "  )\n",
              "  (layer4): Sequential(\n",
              "    (0): BasicBlock(\n",
              "      (conv1): Conv2d(256, 512, kernel_size=(3, 3), stride=(2, 2), padding=(1, 1), bias=False)\n",
              "      (bn1): BatchNorm2d(512, eps=1e-05, momentum=0.1, affine=True, track_running_stats=True)\n",
              "      (relu): ReLU()\n",
              "      (conv2): Conv2d(512, 512, kernel_size=(3, 3), stride=(1, 1), padding=(1, 1), bias=False)\n",
              "      (bn2): BatchNorm2d(512, eps=1e-05, momentum=0.1, affine=True, track_running_stats=True)\n",
              "      (downsample): Sequential(\n",
              "        (0): Conv2d(256, 512, kernel_size=(1, 1), stride=(2, 2), bias=False)\n",
              "        (1): BatchNorm2d(512, eps=1e-05, momentum=0.1, affine=True, track_running_stats=True)\n",
              "      )\n",
              "    )\n",
              "    (1): BasicBlock(\n",
              "      (conv1): Conv2d(512, 512, kernel_size=(3, 3), stride=(1, 1), padding=(1, 1), bias=False)\n",
              "      (bn1): BatchNorm2d(512, eps=1e-05, momentum=0.1, affine=True, track_running_stats=True)\n",
              "      (relu): ReLU()\n",
              "      (conv2): Conv2d(512, 512, kernel_size=(3, 3), stride=(1, 1), padding=(1, 1), bias=False)\n",
              "      (bn2): BatchNorm2d(512, eps=1e-05, momentum=0.1, affine=True, track_running_stats=True)\n",
              "    )\n",
              "  )\n",
              "  (avgpool): AdaptiveAvgPool2d(output_size=(1, 1))\n",
              "  (fc): Linear(in_features=512, out_features=1000, bias=True)\n",
              ")"
            ]
          },
          "metadata": {
            "tags": []
          },
          "execution_count": 37
        }
      ]
    },
    {
      "cell_type": "markdown",
      "metadata": {
        "id": "kN62br8ksQ22"
      },
      "source": [
        "Ну и проверим, что она ведёт себя так же, как оригинал."
      ]
    },
    {
      "cell_type": "code",
      "metadata": {
        "id": "6skVDs85sQ22",
        "outputId": "8594cd00-0a9e-4c93-aded-b39c4d617f07",
        "colab": {
          "base_uri": "https://localhost:8080/"
        }
      },
      "source": [
        "resnet18 = ResNet18()\n",
        "tv_resnet18 = torchvision.models.resnet18()\n",
        "\n",
        "tv_resnet18.load_state_dict(resnet18.state_dict())\n",
        "\n",
        "x = torch.randn(1, 3, 224, 224)\n",
        "torch.allclose(resnet18(x), tv_resnet18(x))"
      ],
      "execution_count": 38,
      "outputs": [
        {
          "output_type": "execute_result",
          "data": {
            "text/plain": [
              "True"
            ]
          },
          "metadata": {
            "tags": []
          },
          "execution_count": 38
        }
      ]
    },
    {
      "cell_type": "code",
      "metadata": {
        "id": "z3ADcDJgsQ22",
        "outputId": "183c5467-eca3-46f3-8889-8908dd5072f7",
        "colab": {
          "base_uri": "https://localhost:8080/"
        }
      },
      "source": [
        "resnet18 = ResNet18()\n",
        "tv_resnet18 = torchvision.models.resnet18()\n",
        "\n",
        "resnet18.load_state_dict(tv_resnet18.state_dict())\n",
        "\n",
        "x = torch.randn(1, 3, 224, 224)\n",
        "torch.allclose(resnet18(x), tv_resnet18(x))"
      ],
      "execution_count": 39,
      "outputs": [
        {
          "output_type": "execute_result",
          "data": {
            "text/plain": [
              "True"
            ]
          },
          "metadata": {
            "tags": []
          },
          "execution_count": 39
        }
      ]
    },
    {
      "cell_type": "code",
      "metadata": {
        "id": "ycU4aJQa-P7u",
        "outputId": "a5837682-4641-4b15-aab7-661b67584f02",
        "colab": {
          "base_uri": "https://localhost:8080/"
        }
      },
      "source": [
        "summary(torchvision.models.resnet152(), (3, 224, 224), device='cpu')"
      ],
      "execution_count": 40,
      "outputs": [
        {
          "output_type": "stream",
          "text": [
            "----------------------------------------------------------------\n",
            "        Layer (type)               Output Shape         Param #\n",
            "================================================================\n",
            "            Conv2d-1         [-1, 64, 112, 112]           9,408\n",
            "       BatchNorm2d-2         [-1, 64, 112, 112]             128\n",
            "              ReLU-3         [-1, 64, 112, 112]               0\n",
            "         MaxPool2d-4           [-1, 64, 56, 56]               0\n",
            "            Conv2d-5           [-1, 64, 56, 56]           4,096\n",
            "       BatchNorm2d-6           [-1, 64, 56, 56]             128\n",
            "              ReLU-7           [-1, 64, 56, 56]               0\n",
            "            Conv2d-8           [-1, 64, 56, 56]          36,864\n",
            "       BatchNorm2d-9           [-1, 64, 56, 56]             128\n",
            "             ReLU-10           [-1, 64, 56, 56]               0\n",
            "           Conv2d-11          [-1, 256, 56, 56]          16,384\n",
            "      BatchNorm2d-12          [-1, 256, 56, 56]             512\n",
            "           Conv2d-13          [-1, 256, 56, 56]          16,384\n",
            "      BatchNorm2d-14          [-1, 256, 56, 56]             512\n",
            "             ReLU-15          [-1, 256, 56, 56]               0\n",
            "       Bottleneck-16          [-1, 256, 56, 56]               0\n",
            "           Conv2d-17           [-1, 64, 56, 56]          16,384\n",
            "      BatchNorm2d-18           [-1, 64, 56, 56]             128\n",
            "             ReLU-19           [-1, 64, 56, 56]               0\n",
            "           Conv2d-20           [-1, 64, 56, 56]          36,864\n",
            "      BatchNorm2d-21           [-1, 64, 56, 56]             128\n",
            "             ReLU-22           [-1, 64, 56, 56]               0\n",
            "           Conv2d-23          [-1, 256, 56, 56]          16,384\n",
            "      BatchNorm2d-24          [-1, 256, 56, 56]             512\n",
            "             ReLU-25          [-1, 256, 56, 56]               0\n",
            "       Bottleneck-26          [-1, 256, 56, 56]               0\n",
            "           Conv2d-27           [-1, 64, 56, 56]          16,384\n",
            "      BatchNorm2d-28           [-1, 64, 56, 56]             128\n",
            "             ReLU-29           [-1, 64, 56, 56]               0\n",
            "           Conv2d-30           [-1, 64, 56, 56]          36,864\n",
            "      BatchNorm2d-31           [-1, 64, 56, 56]             128\n",
            "             ReLU-32           [-1, 64, 56, 56]               0\n",
            "           Conv2d-33          [-1, 256, 56, 56]          16,384\n",
            "      BatchNorm2d-34          [-1, 256, 56, 56]             512\n",
            "             ReLU-35          [-1, 256, 56, 56]               0\n",
            "       Bottleneck-36          [-1, 256, 56, 56]               0\n",
            "           Conv2d-37          [-1, 128, 56, 56]          32,768\n",
            "      BatchNorm2d-38          [-1, 128, 56, 56]             256\n",
            "             ReLU-39          [-1, 128, 56, 56]               0\n",
            "           Conv2d-40          [-1, 128, 28, 28]         147,456\n",
            "      BatchNorm2d-41          [-1, 128, 28, 28]             256\n",
            "             ReLU-42          [-1, 128, 28, 28]               0\n",
            "           Conv2d-43          [-1, 512, 28, 28]          65,536\n",
            "      BatchNorm2d-44          [-1, 512, 28, 28]           1,024\n",
            "           Conv2d-45          [-1, 512, 28, 28]         131,072\n",
            "      BatchNorm2d-46          [-1, 512, 28, 28]           1,024\n",
            "             ReLU-47          [-1, 512, 28, 28]               0\n",
            "       Bottleneck-48          [-1, 512, 28, 28]               0\n",
            "           Conv2d-49          [-1, 128, 28, 28]          65,536\n",
            "      BatchNorm2d-50          [-1, 128, 28, 28]             256\n",
            "             ReLU-51          [-1, 128, 28, 28]               0\n",
            "           Conv2d-52          [-1, 128, 28, 28]         147,456\n",
            "      BatchNorm2d-53          [-1, 128, 28, 28]             256\n",
            "             ReLU-54          [-1, 128, 28, 28]               0\n",
            "           Conv2d-55          [-1, 512, 28, 28]          65,536\n",
            "      BatchNorm2d-56          [-1, 512, 28, 28]           1,024\n",
            "             ReLU-57          [-1, 512, 28, 28]               0\n",
            "       Bottleneck-58          [-1, 512, 28, 28]               0\n",
            "           Conv2d-59          [-1, 128, 28, 28]          65,536\n",
            "      BatchNorm2d-60          [-1, 128, 28, 28]             256\n",
            "             ReLU-61          [-1, 128, 28, 28]               0\n",
            "           Conv2d-62          [-1, 128, 28, 28]         147,456\n",
            "      BatchNorm2d-63          [-1, 128, 28, 28]             256\n",
            "             ReLU-64          [-1, 128, 28, 28]               0\n",
            "           Conv2d-65          [-1, 512, 28, 28]          65,536\n",
            "      BatchNorm2d-66          [-1, 512, 28, 28]           1,024\n",
            "             ReLU-67          [-1, 512, 28, 28]               0\n",
            "       Bottleneck-68          [-1, 512, 28, 28]               0\n",
            "           Conv2d-69          [-1, 128, 28, 28]          65,536\n",
            "      BatchNorm2d-70          [-1, 128, 28, 28]             256\n",
            "             ReLU-71          [-1, 128, 28, 28]               0\n",
            "           Conv2d-72          [-1, 128, 28, 28]         147,456\n",
            "      BatchNorm2d-73          [-1, 128, 28, 28]             256\n",
            "             ReLU-74          [-1, 128, 28, 28]               0\n",
            "           Conv2d-75          [-1, 512, 28, 28]          65,536\n",
            "      BatchNorm2d-76          [-1, 512, 28, 28]           1,024\n",
            "             ReLU-77          [-1, 512, 28, 28]               0\n",
            "       Bottleneck-78          [-1, 512, 28, 28]               0\n",
            "           Conv2d-79          [-1, 128, 28, 28]          65,536\n",
            "      BatchNorm2d-80          [-1, 128, 28, 28]             256\n",
            "             ReLU-81          [-1, 128, 28, 28]               0\n",
            "           Conv2d-82          [-1, 128, 28, 28]         147,456\n",
            "      BatchNorm2d-83          [-1, 128, 28, 28]             256\n",
            "             ReLU-84          [-1, 128, 28, 28]               0\n",
            "           Conv2d-85          [-1, 512, 28, 28]          65,536\n",
            "      BatchNorm2d-86          [-1, 512, 28, 28]           1,024\n",
            "             ReLU-87          [-1, 512, 28, 28]               0\n",
            "       Bottleneck-88          [-1, 512, 28, 28]               0\n",
            "           Conv2d-89          [-1, 128, 28, 28]          65,536\n",
            "      BatchNorm2d-90          [-1, 128, 28, 28]             256\n",
            "             ReLU-91          [-1, 128, 28, 28]               0\n",
            "           Conv2d-92          [-1, 128, 28, 28]         147,456\n",
            "      BatchNorm2d-93          [-1, 128, 28, 28]             256\n",
            "             ReLU-94          [-1, 128, 28, 28]               0\n",
            "           Conv2d-95          [-1, 512, 28, 28]          65,536\n",
            "      BatchNorm2d-96          [-1, 512, 28, 28]           1,024\n",
            "             ReLU-97          [-1, 512, 28, 28]               0\n",
            "       Bottleneck-98          [-1, 512, 28, 28]               0\n",
            "           Conv2d-99          [-1, 128, 28, 28]          65,536\n",
            "     BatchNorm2d-100          [-1, 128, 28, 28]             256\n",
            "            ReLU-101          [-1, 128, 28, 28]               0\n",
            "          Conv2d-102          [-1, 128, 28, 28]         147,456\n",
            "     BatchNorm2d-103          [-1, 128, 28, 28]             256\n",
            "            ReLU-104          [-1, 128, 28, 28]               0\n",
            "          Conv2d-105          [-1, 512, 28, 28]          65,536\n",
            "     BatchNorm2d-106          [-1, 512, 28, 28]           1,024\n",
            "            ReLU-107          [-1, 512, 28, 28]               0\n",
            "      Bottleneck-108          [-1, 512, 28, 28]               0\n",
            "          Conv2d-109          [-1, 128, 28, 28]          65,536\n",
            "     BatchNorm2d-110          [-1, 128, 28, 28]             256\n",
            "            ReLU-111          [-1, 128, 28, 28]               0\n",
            "          Conv2d-112          [-1, 128, 28, 28]         147,456\n",
            "     BatchNorm2d-113          [-1, 128, 28, 28]             256\n",
            "            ReLU-114          [-1, 128, 28, 28]               0\n",
            "          Conv2d-115          [-1, 512, 28, 28]          65,536\n",
            "     BatchNorm2d-116          [-1, 512, 28, 28]           1,024\n",
            "            ReLU-117          [-1, 512, 28, 28]               0\n",
            "      Bottleneck-118          [-1, 512, 28, 28]               0\n",
            "          Conv2d-119          [-1, 256, 28, 28]         131,072\n",
            "     BatchNorm2d-120          [-1, 256, 28, 28]             512\n",
            "            ReLU-121          [-1, 256, 28, 28]               0\n",
            "          Conv2d-122          [-1, 256, 14, 14]         589,824\n",
            "     BatchNorm2d-123          [-1, 256, 14, 14]             512\n",
            "            ReLU-124          [-1, 256, 14, 14]               0\n",
            "          Conv2d-125         [-1, 1024, 14, 14]         262,144\n",
            "     BatchNorm2d-126         [-1, 1024, 14, 14]           2,048\n",
            "          Conv2d-127         [-1, 1024, 14, 14]         524,288\n",
            "     BatchNorm2d-128         [-1, 1024, 14, 14]           2,048\n",
            "            ReLU-129         [-1, 1024, 14, 14]               0\n",
            "      Bottleneck-130         [-1, 1024, 14, 14]               0\n",
            "          Conv2d-131          [-1, 256, 14, 14]         262,144\n",
            "     BatchNorm2d-132          [-1, 256, 14, 14]             512\n",
            "            ReLU-133          [-1, 256, 14, 14]               0\n",
            "          Conv2d-134          [-1, 256, 14, 14]         589,824\n",
            "     BatchNorm2d-135          [-1, 256, 14, 14]             512\n",
            "            ReLU-136          [-1, 256, 14, 14]               0\n",
            "          Conv2d-137         [-1, 1024, 14, 14]         262,144\n",
            "     BatchNorm2d-138         [-1, 1024, 14, 14]           2,048\n",
            "            ReLU-139         [-1, 1024, 14, 14]               0\n",
            "      Bottleneck-140         [-1, 1024, 14, 14]               0\n",
            "          Conv2d-141          [-1, 256, 14, 14]         262,144\n",
            "     BatchNorm2d-142          [-1, 256, 14, 14]             512\n",
            "            ReLU-143          [-1, 256, 14, 14]               0\n",
            "          Conv2d-144          [-1, 256, 14, 14]         589,824\n",
            "     BatchNorm2d-145          [-1, 256, 14, 14]             512\n",
            "            ReLU-146          [-1, 256, 14, 14]               0\n",
            "          Conv2d-147         [-1, 1024, 14, 14]         262,144\n",
            "     BatchNorm2d-148         [-1, 1024, 14, 14]           2,048\n",
            "            ReLU-149         [-1, 1024, 14, 14]               0\n",
            "      Bottleneck-150         [-1, 1024, 14, 14]               0\n",
            "          Conv2d-151          [-1, 256, 14, 14]         262,144\n",
            "     BatchNorm2d-152          [-1, 256, 14, 14]             512\n",
            "            ReLU-153          [-1, 256, 14, 14]               0\n",
            "          Conv2d-154          [-1, 256, 14, 14]         589,824\n",
            "     BatchNorm2d-155          [-1, 256, 14, 14]             512\n",
            "            ReLU-156          [-1, 256, 14, 14]               0\n",
            "          Conv2d-157         [-1, 1024, 14, 14]         262,144\n",
            "     BatchNorm2d-158         [-1, 1024, 14, 14]           2,048\n",
            "            ReLU-159         [-1, 1024, 14, 14]               0\n",
            "      Bottleneck-160         [-1, 1024, 14, 14]               0\n",
            "          Conv2d-161          [-1, 256, 14, 14]         262,144\n",
            "     BatchNorm2d-162          [-1, 256, 14, 14]             512\n",
            "            ReLU-163          [-1, 256, 14, 14]               0\n",
            "          Conv2d-164          [-1, 256, 14, 14]         589,824\n",
            "     BatchNorm2d-165          [-1, 256, 14, 14]             512\n",
            "            ReLU-166          [-1, 256, 14, 14]               0\n",
            "          Conv2d-167         [-1, 1024, 14, 14]         262,144\n",
            "     BatchNorm2d-168         [-1, 1024, 14, 14]           2,048\n",
            "            ReLU-169         [-1, 1024, 14, 14]               0\n",
            "      Bottleneck-170         [-1, 1024, 14, 14]               0\n",
            "          Conv2d-171          [-1, 256, 14, 14]         262,144\n",
            "     BatchNorm2d-172          [-1, 256, 14, 14]             512\n",
            "            ReLU-173          [-1, 256, 14, 14]               0\n",
            "          Conv2d-174          [-1, 256, 14, 14]         589,824\n",
            "     BatchNorm2d-175          [-1, 256, 14, 14]             512\n",
            "            ReLU-176          [-1, 256, 14, 14]               0\n",
            "          Conv2d-177         [-1, 1024, 14, 14]         262,144\n",
            "     BatchNorm2d-178         [-1, 1024, 14, 14]           2,048\n",
            "            ReLU-179         [-1, 1024, 14, 14]               0\n",
            "      Bottleneck-180         [-1, 1024, 14, 14]               0\n",
            "          Conv2d-181          [-1, 256, 14, 14]         262,144\n",
            "     BatchNorm2d-182          [-1, 256, 14, 14]             512\n",
            "            ReLU-183          [-1, 256, 14, 14]               0\n",
            "          Conv2d-184          [-1, 256, 14, 14]         589,824\n",
            "     BatchNorm2d-185          [-1, 256, 14, 14]             512\n",
            "            ReLU-186          [-1, 256, 14, 14]               0\n",
            "          Conv2d-187         [-1, 1024, 14, 14]         262,144\n",
            "     BatchNorm2d-188         [-1, 1024, 14, 14]           2,048\n",
            "            ReLU-189         [-1, 1024, 14, 14]               0\n",
            "      Bottleneck-190         [-1, 1024, 14, 14]               0\n",
            "          Conv2d-191          [-1, 256, 14, 14]         262,144\n",
            "     BatchNorm2d-192          [-1, 256, 14, 14]             512\n",
            "            ReLU-193          [-1, 256, 14, 14]               0\n",
            "          Conv2d-194          [-1, 256, 14, 14]         589,824\n",
            "     BatchNorm2d-195          [-1, 256, 14, 14]             512\n",
            "            ReLU-196          [-1, 256, 14, 14]               0\n",
            "          Conv2d-197         [-1, 1024, 14, 14]         262,144\n",
            "     BatchNorm2d-198         [-1, 1024, 14, 14]           2,048\n",
            "            ReLU-199         [-1, 1024, 14, 14]               0\n",
            "      Bottleneck-200         [-1, 1024, 14, 14]               0\n",
            "          Conv2d-201          [-1, 256, 14, 14]         262,144\n",
            "     BatchNorm2d-202          [-1, 256, 14, 14]             512\n",
            "            ReLU-203          [-1, 256, 14, 14]               0\n",
            "          Conv2d-204          [-1, 256, 14, 14]         589,824\n",
            "     BatchNorm2d-205          [-1, 256, 14, 14]             512\n",
            "            ReLU-206          [-1, 256, 14, 14]               0\n",
            "          Conv2d-207         [-1, 1024, 14, 14]         262,144\n",
            "     BatchNorm2d-208         [-1, 1024, 14, 14]           2,048\n",
            "            ReLU-209         [-1, 1024, 14, 14]               0\n",
            "      Bottleneck-210         [-1, 1024, 14, 14]               0\n",
            "          Conv2d-211          [-1, 256, 14, 14]         262,144\n",
            "     BatchNorm2d-212          [-1, 256, 14, 14]             512\n",
            "            ReLU-213          [-1, 256, 14, 14]               0\n",
            "          Conv2d-214          [-1, 256, 14, 14]         589,824\n",
            "     BatchNorm2d-215          [-1, 256, 14, 14]             512\n",
            "            ReLU-216          [-1, 256, 14, 14]               0\n",
            "          Conv2d-217         [-1, 1024, 14, 14]         262,144\n",
            "     BatchNorm2d-218         [-1, 1024, 14, 14]           2,048\n",
            "            ReLU-219         [-1, 1024, 14, 14]               0\n",
            "      Bottleneck-220         [-1, 1024, 14, 14]               0\n",
            "          Conv2d-221          [-1, 256, 14, 14]         262,144\n",
            "     BatchNorm2d-222          [-1, 256, 14, 14]             512\n",
            "            ReLU-223          [-1, 256, 14, 14]               0\n",
            "          Conv2d-224          [-1, 256, 14, 14]         589,824\n",
            "     BatchNorm2d-225          [-1, 256, 14, 14]             512\n",
            "            ReLU-226          [-1, 256, 14, 14]               0\n",
            "          Conv2d-227         [-1, 1024, 14, 14]         262,144\n",
            "     BatchNorm2d-228         [-1, 1024, 14, 14]           2,048\n",
            "            ReLU-229         [-1, 1024, 14, 14]               0\n",
            "      Bottleneck-230         [-1, 1024, 14, 14]               0\n",
            "          Conv2d-231          [-1, 256, 14, 14]         262,144\n",
            "     BatchNorm2d-232          [-1, 256, 14, 14]             512\n",
            "            ReLU-233          [-1, 256, 14, 14]               0\n",
            "          Conv2d-234          [-1, 256, 14, 14]         589,824\n",
            "     BatchNorm2d-235          [-1, 256, 14, 14]             512\n",
            "            ReLU-236          [-1, 256, 14, 14]               0\n",
            "          Conv2d-237         [-1, 1024, 14, 14]         262,144\n",
            "     BatchNorm2d-238         [-1, 1024, 14, 14]           2,048\n",
            "            ReLU-239         [-1, 1024, 14, 14]               0\n",
            "      Bottleneck-240         [-1, 1024, 14, 14]               0\n",
            "          Conv2d-241          [-1, 256, 14, 14]         262,144\n",
            "     BatchNorm2d-242          [-1, 256, 14, 14]             512\n",
            "            ReLU-243          [-1, 256, 14, 14]               0\n",
            "          Conv2d-244          [-1, 256, 14, 14]         589,824\n",
            "     BatchNorm2d-245          [-1, 256, 14, 14]             512\n",
            "            ReLU-246          [-1, 256, 14, 14]               0\n",
            "          Conv2d-247         [-1, 1024, 14, 14]         262,144\n",
            "     BatchNorm2d-248         [-1, 1024, 14, 14]           2,048\n",
            "            ReLU-249         [-1, 1024, 14, 14]               0\n",
            "      Bottleneck-250         [-1, 1024, 14, 14]               0\n",
            "          Conv2d-251          [-1, 256, 14, 14]         262,144\n",
            "     BatchNorm2d-252          [-1, 256, 14, 14]             512\n",
            "            ReLU-253          [-1, 256, 14, 14]               0\n",
            "          Conv2d-254          [-1, 256, 14, 14]         589,824\n",
            "     BatchNorm2d-255          [-1, 256, 14, 14]             512\n",
            "            ReLU-256          [-1, 256, 14, 14]               0\n",
            "          Conv2d-257         [-1, 1024, 14, 14]         262,144\n",
            "     BatchNorm2d-258         [-1, 1024, 14, 14]           2,048\n",
            "            ReLU-259         [-1, 1024, 14, 14]               0\n",
            "      Bottleneck-260         [-1, 1024, 14, 14]               0\n",
            "          Conv2d-261          [-1, 256, 14, 14]         262,144\n",
            "     BatchNorm2d-262          [-1, 256, 14, 14]             512\n",
            "            ReLU-263          [-1, 256, 14, 14]               0\n",
            "          Conv2d-264          [-1, 256, 14, 14]         589,824\n",
            "     BatchNorm2d-265          [-1, 256, 14, 14]             512\n",
            "            ReLU-266          [-1, 256, 14, 14]               0\n",
            "          Conv2d-267         [-1, 1024, 14, 14]         262,144\n",
            "     BatchNorm2d-268         [-1, 1024, 14, 14]           2,048\n",
            "            ReLU-269         [-1, 1024, 14, 14]               0\n",
            "      Bottleneck-270         [-1, 1024, 14, 14]               0\n",
            "          Conv2d-271          [-1, 256, 14, 14]         262,144\n",
            "     BatchNorm2d-272          [-1, 256, 14, 14]             512\n",
            "            ReLU-273          [-1, 256, 14, 14]               0\n",
            "          Conv2d-274          [-1, 256, 14, 14]         589,824\n",
            "     BatchNorm2d-275          [-1, 256, 14, 14]             512\n",
            "            ReLU-276          [-1, 256, 14, 14]               0\n",
            "          Conv2d-277         [-1, 1024, 14, 14]         262,144\n",
            "     BatchNorm2d-278         [-1, 1024, 14, 14]           2,048\n",
            "            ReLU-279         [-1, 1024, 14, 14]               0\n",
            "      Bottleneck-280         [-1, 1024, 14, 14]               0\n",
            "          Conv2d-281          [-1, 256, 14, 14]         262,144\n",
            "     BatchNorm2d-282          [-1, 256, 14, 14]             512\n",
            "            ReLU-283          [-1, 256, 14, 14]               0\n",
            "          Conv2d-284          [-1, 256, 14, 14]         589,824\n",
            "     BatchNorm2d-285          [-1, 256, 14, 14]             512\n",
            "            ReLU-286          [-1, 256, 14, 14]               0\n",
            "          Conv2d-287         [-1, 1024, 14, 14]         262,144\n",
            "     BatchNorm2d-288         [-1, 1024, 14, 14]           2,048\n",
            "            ReLU-289         [-1, 1024, 14, 14]               0\n",
            "      Bottleneck-290         [-1, 1024, 14, 14]               0\n",
            "          Conv2d-291          [-1, 256, 14, 14]         262,144\n",
            "     BatchNorm2d-292          [-1, 256, 14, 14]             512\n",
            "            ReLU-293          [-1, 256, 14, 14]               0\n",
            "          Conv2d-294          [-1, 256, 14, 14]         589,824\n",
            "     BatchNorm2d-295          [-1, 256, 14, 14]             512\n",
            "            ReLU-296          [-1, 256, 14, 14]               0\n",
            "          Conv2d-297         [-1, 1024, 14, 14]         262,144\n",
            "     BatchNorm2d-298         [-1, 1024, 14, 14]           2,048\n",
            "            ReLU-299         [-1, 1024, 14, 14]               0\n",
            "      Bottleneck-300         [-1, 1024, 14, 14]               0\n",
            "          Conv2d-301          [-1, 256, 14, 14]         262,144\n",
            "     BatchNorm2d-302          [-1, 256, 14, 14]             512\n",
            "            ReLU-303          [-1, 256, 14, 14]               0\n",
            "          Conv2d-304          [-1, 256, 14, 14]         589,824\n",
            "     BatchNorm2d-305          [-1, 256, 14, 14]             512\n",
            "            ReLU-306          [-1, 256, 14, 14]               0\n",
            "          Conv2d-307         [-1, 1024, 14, 14]         262,144\n",
            "     BatchNorm2d-308         [-1, 1024, 14, 14]           2,048\n",
            "            ReLU-309         [-1, 1024, 14, 14]               0\n",
            "      Bottleneck-310         [-1, 1024, 14, 14]               0\n",
            "          Conv2d-311          [-1, 256, 14, 14]         262,144\n",
            "     BatchNorm2d-312          [-1, 256, 14, 14]             512\n",
            "            ReLU-313          [-1, 256, 14, 14]               0\n",
            "          Conv2d-314          [-1, 256, 14, 14]         589,824\n",
            "     BatchNorm2d-315          [-1, 256, 14, 14]             512\n",
            "            ReLU-316          [-1, 256, 14, 14]               0\n",
            "          Conv2d-317         [-1, 1024, 14, 14]         262,144\n",
            "     BatchNorm2d-318         [-1, 1024, 14, 14]           2,048\n",
            "            ReLU-319         [-1, 1024, 14, 14]               0\n",
            "      Bottleneck-320         [-1, 1024, 14, 14]               0\n",
            "          Conv2d-321          [-1, 256, 14, 14]         262,144\n",
            "     BatchNorm2d-322          [-1, 256, 14, 14]             512\n",
            "            ReLU-323          [-1, 256, 14, 14]               0\n",
            "          Conv2d-324          [-1, 256, 14, 14]         589,824\n",
            "     BatchNorm2d-325          [-1, 256, 14, 14]             512\n",
            "            ReLU-326          [-1, 256, 14, 14]               0\n",
            "          Conv2d-327         [-1, 1024, 14, 14]         262,144\n",
            "     BatchNorm2d-328         [-1, 1024, 14, 14]           2,048\n",
            "            ReLU-329         [-1, 1024, 14, 14]               0\n",
            "      Bottleneck-330         [-1, 1024, 14, 14]               0\n",
            "          Conv2d-331          [-1, 256, 14, 14]         262,144\n",
            "     BatchNorm2d-332          [-1, 256, 14, 14]             512\n",
            "            ReLU-333          [-1, 256, 14, 14]               0\n",
            "          Conv2d-334          [-1, 256, 14, 14]         589,824\n",
            "     BatchNorm2d-335          [-1, 256, 14, 14]             512\n",
            "            ReLU-336          [-1, 256, 14, 14]               0\n",
            "          Conv2d-337         [-1, 1024, 14, 14]         262,144\n",
            "     BatchNorm2d-338         [-1, 1024, 14, 14]           2,048\n",
            "            ReLU-339         [-1, 1024, 14, 14]               0\n",
            "      Bottleneck-340         [-1, 1024, 14, 14]               0\n",
            "          Conv2d-341          [-1, 256, 14, 14]         262,144\n",
            "     BatchNorm2d-342          [-1, 256, 14, 14]             512\n",
            "            ReLU-343          [-1, 256, 14, 14]               0\n",
            "          Conv2d-344          [-1, 256, 14, 14]         589,824\n",
            "     BatchNorm2d-345          [-1, 256, 14, 14]             512\n",
            "            ReLU-346          [-1, 256, 14, 14]               0\n",
            "          Conv2d-347         [-1, 1024, 14, 14]         262,144\n",
            "     BatchNorm2d-348         [-1, 1024, 14, 14]           2,048\n",
            "            ReLU-349         [-1, 1024, 14, 14]               0\n",
            "      Bottleneck-350         [-1, 1024, 14, 14]               0\n",
            "          Conv2d-351          [-1, 256, 14, 14]         262,144\n",
            "     BatchNorm2d-352          [-1, 256, 14, 14]             512\n",
            "            ReLU-353          [-1, 256, 14, 14]               0\n",
            "          Conv2d-354          [-1, 256, 14, 14]         589,824\n",
            "     BatchNorm2d-355          [-1, 256, 14, 14]             512\n",
            "            ReLU-356          [-1, 256, 14, 14]               0\n",
            "          Conv2d-357         [-1, 1024, 14, 14]         262,144\n",
            "     BatchNorm2d-358         [-1, 1024, 14, 14]           2,048\n",
            "            ReLU-359         [-1, 1024, 14, 14]               0\n",
            "      Bottleneck-360         [-1, 1024, 14, 14]               0\n",
            "          Conv2d-361          [-1, 256, 14, 14]         262,144\n",
            "     BatchNorm2d-362          [-1, 256, 14, 14]             512\n",
            "            ReLU-363          [-1, 256, 14, 14]               0\n",
            "          Conv2d-364          [-1, 256, 14, 14]         589,824\n",
            "     BatchNorm2d-365          [-1, 256, 14, 14]             512\n",
            "            ReLU-366          [-1, 256, 14, 14]               0\n",
            "          Conv2d-367         [-1, 1024, 14, 14]         262,144\n",
            "     BatchNorm2d-368         [-1, 1024, 14, 14]           2,048\n",
            "            ReLU-369         [-1, 1024, 14, 14]               0\n",
            "      Bottleneck-370         [-1, 1024, 14, 14]               0\n",
            "          Conv2d-371          [-1, 256, 14, 14]         262,144\n",
            "     BatchNorm2d-372          [-1, 256, 14, 14]             512\n",
            "            ReLU-373          [-1, 256, 14, 14]               0\n",
            "          Conv2d-374          [-1, 256, 14, 14]         589,824\n",
            "     BatchNorm2d-375          [-1, 256, 14, 14]             512\n",
            "            ReLU-376          [-1, 256, 14, 14]               0\n",
            "          Conv2d-377         [-1, 1024, 14, 14]         262,144\n",
            "     BatchNorm2d-378         [-1, 1024, 14, 14]           2,048\n",
            "            ReLU-379         [-1, 1024, 14, 14]               0\n",
            "      Bottleneck-380         [-1, 1024, 14, 14]               0\n",
            "          Conv2d-381          [-1, 256, 14, 14]         262,144\n",
            "     BatchNorm2d-382          [-1, 256, 14, 14]             512\n",
            "            ReLU-383          [-1, 256, 14, 14]               0\n",
            "          Conv2d-384          [-1, 256, 14, 14]         589,824\n",
            "     BatchNorm2d-385          [-1, 256, 14, 14]             512\n",
            "            ReLU-386          [-1, 256, 14, 14]               0\n",
            "          Conv2d-387         [-1, 1024, 14, 14]         262,144\n",
            "     BatchNorm2d-388         [-1, 1024, 14, 14]           2,048\n",
            "            ReLU-389         [-1, 1024, 14, 14]               0\n",
            "      Bottleneck-390         [-1, 1024, 14, 14]               0\n",
            "          Conv2d-391          [-1, 256, 14, 14]         262,144\n",
            "     BatchNorm2d-392          [-1, 256, 14, 14]             512\n",
            "            ReLU-393          [-1, 256, 14, 14]               0\n",
            "          Conv2d-394          [-1, 256, 14, 14]         589,824\n",
            "     BatchNorm2d-395          [-1, 256, 14, 14]             512\n",
            "            ReLU-396          [-1, 256, 14, 14]               0\n",
            "          Conv2d-397         [-1, 1024, 14, 14]         262,144\n",
            "     BatchNorm2d-398         [-1, 1024, 14, 14]           2,048\n",
            "            ReLU-399         [-1, 1024, 14, 14]               0\n",
            "      Bottleneck-400         [-1, 1024, 14, 14]               0\n",
            "          Conv2d-401          [-1, 256, 14, 14]         262,144\n",
            "     BatchNorm2d-402          [-1, 256, 14, 14]             512\n",
            "            ReLU-403          [-1, 256, 14, 14]               0\n",
            "          Conv2d-404          [-1, 256, 14, 14]         589,824\n",
            "     BatchNorm2d-405          [-1, 256, 14, 14]             512\n",
            "            ReLU-406          [-1, 256, 14, 14]               0\n",
            "          Conv2d-407         [-1, 1024, 14, 14]         262,144\n",
            "     BatchNorm2d-408         [-1, 1024, 14, 14]           2,048\n",
            "            ReLU-409         [-1, 1024, 14, 14]               0\n",
            "      Bottleneck-410         [-1, 1024, 14, 14]               0\n",
            "          Conv2d-411          [-1, 256, 14, 14]         262,144\n",
            "     BatchNorm2d-412          [-1, 256, 14, 14]             512\n",
            "            ReLU-413          [-1, 256, 14, 14]               0\n",
            "          Conv2d-414          [-1, 256, 14, 14]         589,824\n",
            "     BatchNorm2d-415          [-1, 256, 14, 14]             512\n",
            "            ReLU-416          [-1, 256, 14, 14]               0\n",
            "          Conv2d-417         [-1, 1024, 14, 14]         262,144\n",
            "     BatchNorm2d-418         [-1, 1024, 14, 14]           2,048\n",
            "            ReLU-419         [-1, 1024, 14, 14]               0\n",
            "      Bottleneck-420         [-1, 1024, 14, 14]               0\n",
            "          Conv2d-421          [-1, 256, 14, 14]         262,144\n",
            "     BatchNorm2d-422          [-1, 256, 14, 14]             512\n",
            "            ReLU-423          [-1, 256, 14, 14]               0\n",
            "          Conv2d-424          [-1, 256, 14, 14]         589,824\n",
            "     BatchNorm2d-425          [-1, 256, 14, 14]             512\n",
            "            ReLU-426          [-1, 256, 14, 14]               0\n",
            "          Conv2d-427         [-1, 1024, 14, 14]         262,144\n",
            "     BatchNorm2d-428         [-1, 1024, 14, 14]           2,048\n",
            "            ReLU-429         [-1, 1024, 14, 14]               0\n",
            "      Bottleneck-430         [-1, 1024, 14, 14]               0\n",
            "          Conv2d-431          [-1, 256, 14, 14]         262,144\n",
            "     BatchNorm2d-432          [-1, 256, 14, 14]             512\n",
            "            ReLU-433          [-1, 256, 14, 14]               0\n",
            "          Conv2d-434          [-1, 256, 14, 14]         589,824\n",
            "     BatchNorm2d-435          [-1, 256, 14, 14]             512\n",
            "            ReLU-436          [-1, 256, 14, 14]               0\n",
            "          Conv2d-437         [-1, 1024, 14, 14]         262,144\n",
            "     BatchNorm2d-438         [-1, 1024, 14, 14]           2,048\n",
            "            ReLU-439         [-1, 1024, 14, 14]               0\n",
            "      Bottleneck-440         [-1, 1024, 14, 14]               0\n",
            "          Conv2d-441          [-1, 256, 14, 14]         262,144\n",
            "     BatchNorm2d-442          [-1, 256, 14, 14]             512\n",
            "            ReLU-443          [-1, 256, 14, 14]               0\n",
            "          Conv2d-444          [-1, 256, 14, 14]         589,824\n",
            "     BatchNorm2d-445          [-1, 256, 14, 14]             512\n",
            "            ReLU-446          [-1, 256, 14, 14]               0\n",
            "          Conv2d-447         [-1, 1024, 14, 14]         262,144\n",
            "     BatchNorm2d-448         [-1, 1024, 14, 14]           2,048\n",
            "            ReLU-449         [-1, 1024, 14, 14]               0\n",
            "      Bottleneck-450         [-1, 1024, 14, 14]               0\n",
            "          Conv2d-451          [-1, 256, 14, 14]         262,144\n",
            "     BatchNorm2d-452          [-1, 256, 14, 14]             512\n",
            "            ReLU-453          [-1, 256, 14, 14]               0\n",
            "          Conv2d-454          [-1, 256, 14, 14]         589,824\n",
            "     BatchNorm2d-455          [-1, 256, 14, 14]             512\n",
            "            ReLU-456          [-1, 256, 14, 14]               0\n",
            "          Conv2d-457         [-1, 1024, 14, 14]         262,144\n",
            "     BatchNorm2d-458         [-1, 1024, 14, 14]           2,048\n",
            "            ReLU-459         [-1, 1024, 14, 14]               0\n",
            "      Bottleneck-460         [-1, 1024, 14, 14]               0\n",
            "          Conv2d-461          [-1, 256, 14, 14]         262,144\n",
            "     BatchNorm2d-462          [-1, 256, 14, 14]             512\n",
            "            ReLU-463          [-1, 256, 14, 14]               0\n",
            "          Conv2d-464          [-1, 256, 14, 14]         589,824\n",
            "     BatchNorm2d-465          [-1, 256, 14, 14]             512\n",
            "            ReLU-466          [-1, 256, 14, 14]               0\n",
            "          Conv2d-467         [-1, 1024, 14, 14]         262,144\n",
            "     BatchNorm2d-468         [-1, 1024, 14, 14]           2,048\n",
            "            ReLU-469         [-1, 1024, 14, 14]               0\n",
            "      Bottleneck-470         [-1, 1024, 14, 14]               0\n",
            "          Conv2d-471          [-1, 256, 14, 14]         262,144\n",
            "     BatchNorm2d-472          [-1, 256, 14, 14]             512\n",
            "            ReLU-473          [-1, 256, 14, 14]               0\n",
            "          Conv2d-474          [-1, 256, 14, 14]         589,824\n",
            "     BatchNorm2d-475          [-1, 256, 14, 14]             512\n",
            "            ReLU-476          [-1, 256, 14, 14]               0\n",
            "          Conv2d-477         [-1, 1024, 14, 14]         262,144\n",
            "     BatchNorm2d-478         [-1, 1024, 14, 14]           2,048\n",
            "            ReLU-479         [-1, 1024, 14, 14]               0\n",
            "      Bottleneck-480         [-1, 1024, 14, 14]               0\n",
            "          Conv2d-481          [-1, 512, 14, 14]         524,288\n",
            "     BatchNorm2d-482          [-1, 512, 14, 14]           1,024\n",
            "            ReLU-483          [-1, 512, 14, 14]               0\n",
            "          Conv2d-484            [-1, 512, 7, 7]       2,359,296\n",
            "     BatchNorm2d-485            [-1, 512, 7, 7]           1,024\n",
            "            ReLU-486            [-1, 512, 7, 7]               0\n",
            "          Conv2d-487           [-1, 2048, 7, 7]       1,048,576\n",
            "     BatchNorm2d-488           [-1, 2048, 7, 7]           4,096\n",
            "          Conv2d-489           [-1, 2048, 7, 7]       2,097,152\n",
            "     BatchNorm2d-490           [-1, 2048, 7, 7]           4,096\n",
            "            ReLU-491           [-1, 2048, 7, 7]               0\n",
            "      Bottleneck-492           [-1, 2048, 7, 7]               0\n",
            "          Conv2d-493            [-1, 512, 7, 7]       1,048,576\n",
            "     BatchNorm2d-494            [-1, 512, 7, 7]           1,024\n",
            "            ReLU-495            [-1, 512, 7, 7]               0\n",
            "          Conv2d-496            [-1, 512, 7, 7]       2,359,296\n",
            "     BatchNorm2d-497            [-1, 512, 7, 7]           1,024\n",
            "            ReLU-498            [-1, 512, 7, 7]               0\n",
            "          Conv2d-499           [-1, 2048, 7, 7]       1,048,576\n",
            "     BatchNorm2d-500           [-1, 2048, 7, 7]           4,096\n",
            "            ReLU-501           [-1, 2048, 7, 7]               0\n",
            "      Bottleneck-502           [-1, 2048, 7, 7]               0\n",
            "          Conv2d-503            [-1, 512, 7, 7]       1,048,576\n",
            "     BatchNorm2d-504            [-1, 512, 7, 7]           1,024\n",
            "            ReLU-505            [-1, 512, 7, 7]               0\n",
            "          Conv2d-506            [-1, 512, 7, 7]       2,359,296\n",
            "     BatchNorm2d-507            [-1, 512, 7, 7]           1,024\n",
            "            ReLU-508            [-1, 512, 7, 7]               0\n",
            "          Conv2d-509           [-1, 2048, 7, 7]       1,048,576\n",
            "     BatchNorm2d-510           [-1, 2048, 7, 7]           4,096\n",
            "            ReLU-511           [-1, 2048, 7, 7]               0\n",
            "      Bottleneck-512           [-1, 2048, 7, 7]               0\n",
            "AdaptiveAvgPool2d-513           [-1, 2048, 1, 1]               0\n",
            "          Linear-514                 [-1, 1000]       2,049,000\n",
            "================================================================\n",
            "Total params: 60,192,808\n",
            "Trainable params: 60,192,808\n",
            "Non-trainable params: 0\n",
            "----------------------------------------------------------------\n",
            "Input size (MB): 0.57\n",
            "Forward/backward pass size (MB): 606.59\n",
            "Params size (MB): 229.62\n",
            "Estimated Total Size (MB): 836.78\n",
            "----------------------------------------------------------------\n"
          ],
          "name": "stdout"
        }
      ]
    },
    {
      "cell_type": "code",
      "metadata": {
        "id": "guiXd_qN_Aa8"
      },
      "source": [
        ""
      ],
      "execution_count": null,
      "outputs": []
    }
  ]
}