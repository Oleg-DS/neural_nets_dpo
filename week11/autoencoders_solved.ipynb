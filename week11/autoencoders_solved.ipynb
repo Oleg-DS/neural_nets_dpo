{
  "nbformat": 4,
  "nbformat_minor": 0,
  "metadata": {
    "colab": {
      "name": "autoencoders.ipynb",
      "provenance": []
    },
    "accelerator": "GPU",
    "language_info": {
      "name": "python"
    },
    "kernelspec": {
      "name": "python3",
      "display_name": "Python 3"
    },
    "widgets": {
      "application/vnd.jupyter.widget-state+json": {
        "855cf707ba2a449aa4593dbd1b6ad0f9": {
          "model_module": "@jupyter-widgets/controls",
          "model_name": "HBoxModel",
          "state": {
            "_view_name": "HBoxView",
            "_dom_classes": [],
            "_model_name": "HBoxModel",
            "_view_module": "@jupyter-widgets/controls",
            "_model_module_version": "1.5.0",
            "_view_count": null,
            "_view_module_version": "1.5.0",
            "box_style": "",
            "layout": "IPY_MODEL_30b86e57ccd74a9aa5631bcc77da53f6",
            "_model_module": "@jupyter-widgets/controls",
            "children": [
              "IPY_MODEL_16882794883a44dc9f9fa870aeae6b34",
              "IPY_MODEL_e032e6ea257b429ca452cddae8ef218d"
            ]
          }
        },
        "30b86e57ccd74a9aa5631bcc77da53f6": {
          "model_module": "@jupyter-widgets/base",
          "model_name": "LayoutModel",
          "state": {
            "_view_name": "LayoutView",
            "grid_template_rows": null,
            "right": null,
            "justify_content": null,
            "_view_module": "@jupyter-widgets/base",
            "overflow": null,
            "_model_module_version": "1.2.0",
            "_view_count": null,
            "flex_flow": null,
            "width": null,
            "min_width": null,
            "border": null,
            "align_items": null,
            "bottom": null,
            "_model_module": "@jupyter-widgets/base",
            "top": null,
            "grid_column": null,
            "overflow_y": null,
            "overflow_x": null,
            "grid_auto_flow": null,
            "grid_area": null,
            "grid_template_columns": null,
            "flex": null,
            "_model_name": "LayoutModel",
            "justify_items": null,
            "grid_row": null,
            "max_height": null,
            "align_content": null,
            "visibility": null,
            "align_self": null,
            "height": null,
            "min_height": null,
            "padding": null,
            "grid_auto_rows": null,
            "grid_gap": null,
            "max_width": null,
            "order": null,
            "_view_module_version": "1.2.0",
            "grid_template_areas": null,
            "object_position": null,
            "object_fit": null,
            "grid_auto_columns": null,
            "margin": null,
            "display": null,
            "left": null
          }
        },
        "16882794883a44dc9f9fa870aeae6b34": {
          "model_module": "@jupyter-widgets/controls",
          "model_name": "FloatProgressModel",
          "state": {
            "_view_name": "ProgressView",
            "style": "IPY_MODEL_28f87153578d4ee78649dd02ee6874e7",
            "_dom_classes": [],
            "description": "",
            "_model_name": "FloatProgressModel",
            "bar_style": "success",
            "max": 9912422,
            "_view_module": "@jupyter-widgets/controls",
            "_model_module_version": "1.5.0",
            "value": 9912422,
            "_view_count": null,
            "_view_module_version": "1.5.0",
            "orientation": "horizontal",
            "min": 0,
            "description_tooltip": null,
            "_model_module": "@jupyter-widgets/controls",
            "layout": "IPY_MODEL_8824533a29944e5c867c8f46ae150a80"
          }
        },
        "e032e6ea257b429ca452cddae8ef218d": {
          "model_module": "@jupyter-widgets/controls",
          "model_name": "HTMLModel",
          "state": {
            "_view_name": "HTMLView",
            "style": "IPY_MODEL_32b020bd30aa41d8b8b540d6929993b5",
            "_dom_classes": [],
            "description": "",
            "_model_name": "HTMLModel",
            "placeholder": "​",
            "_view_module": "@jupyter-widgets/controls",
            "_model_module_version": "1.5.0",
            "value": " 9913344/? [07:02&lt;00:00, 23442.68it/s]",
            "_view_count": null,
            "_view_module_version": "1.5.0",
            "description_tooltip": null,
            "_model_module": "@jupyter-widgets/controls",
            "layout": "IPY_MODEL_3ba52c3149424eb5ae27d59702d8dd99"
          }
        },
        "28f87153578d4ee78649dd02ee6874e7": {
          "model_module": "@jupyter-widgets/controls",
          "model_name": "ProgressStyleModel",
          "state": {
            "_view_name": "StyleView",
            "_model_name": "ProgressStyleModel",
            "description_width": "initial",
            "_view_module": "@jupyter-widgets/base",
            "_model_module_version": "1.5.0",
            "_view_count": null,
            "_view_module_version": "1.2.0",
            "bar_color": null,
            "_model_module": "@jupyter-widgets/controls"
          }
        },
        "8824533a29944e5c867c8f46ae150a80": {
          "model_module": "@jupyter-widgets/base",
          "model_name": "LayoutModel",
          "state": {
            "_view_name": "LayoutView",
            "grid_template_rows": null,
            "right": null,
            "justify_content": null,
            "_view_module": "@jupyter-widgets/base",
            "overflow": null,
            "_model_module_version": "1.2.0",
            "_view_count": null,
            "flex_flow": null,
            "width": null,
            "min_width": null,
            "border": null,
            "align_items": null,
            "bottom": null,
            "_model_module": "@jupyter-widgets/base",
            "top": null,
            "grid_column": null,
            "overflow_y": null,
            "overflow_x": null,
            "grid_auto_flow": null,
            "grid_area": null,
            "grid_template_columns": null,
            "flex": null,
            "_model_name": "LayoutModel",
            "justify_items": null,
            "grid_row": null,
            "max_height": null,
            "align_content": null,
            "visibility": null,
            "align_self": null,
            "height": null,
            "min_height": null,
            "padding": null,
            "grid_auto_rows": null,
            "grid_gap": null,
            "max_width": null,
            "order": null,
            "_view_module_version": "1.2.0",
            "grid_template_areas": null,
            "object_position": null,
            "object_fit": null,
            "grid_auto_columns": null,
            "margin": null,
            "display": null,
            "left": null
          }
        },
        "32b020bd30aa41d8b8b540d6929993b5": {
          "model_module": "@jupyter-widgets/controls",
          "model_name": "DescriptionStyleModel",
          "state": {
            "_view_name": "StyleView",
            "_model_name": "DescriptionStyleModel",
            "description_width": "",
            "_view_module": "@jupyter-widgets/base",
            "_model_module_version": "1.5.0",
            "_view_count": null,
            "_view_module_version": "1.2.0",
            "_model_module": "@jupyter-widgets/controls"
          }
        },
        "3ba52c3149424eb5ae27d59702d8dd99": {
          "model_module": "@jupyter-widgets/base",
          "model_name": "LayoutModel",
          "state": {
            "_view_name": "LayoutView",
            "grid_template_rows": null,
            "right": null,
            "justify_content": null,
            "_view_module": "@jupyter-widgets/base",
            "overflow": null,
            "_model_module_version": "1.2.0",
            "_view_count": null,
            "flex_flow": null,
            "width": null,
            "min_width": null,
            "border": null,
            "align_items": null,
            "bottom": null,
            "_model_module": "@jupyter-widgets/base",
            "top": null,
            "grid_column": null,
            "overflow_y": null,
            "overflow_x": null,
            "grid_auto_flow": null,
            "grid_area": null,
            "grid_template_columns": null,
            "flex": null,
            "_model_name": "LayoutModel",
            "justify_items": null,
            "grid_row": null,
            "max_height": null,
            "align_content": null,
            "visibility": null,
            "align_self": null,
            "height": null,
            "min_height": null,
            "padding": null,
            "grid_auto_rows": null,
            "grid_gap": null,
            "max_width": null,
            "order": null,
            "_view_module_version": "1.2.0",
            "grid_template_areas": null,
            "object_position": null,
            "object_fit": null,
            "grid_auto_columns": null,
            "margin": null,
            "display": null,
            "left": null
          }
        },
        "47917f544ff44cb586e5facb67f0385a": {
          "model_module": "@jupyter-widgets/controls",
          "model_name": "HBoxModel",
          "state": {
            "_view_name": "HBoxView",
            "_dom_classes": [],
            "_model_name": "HBoxModel",
            "_view_module": "@jupyter-widgets/controls",
            "_model_module_version": "1.5.0",
            "_view_count": null,
            "_view_module_version": "1.5.0",
            "box_style": "",
            "layout": "IPY_MODEL_bd980bca2e4e455b8a810528f03412da",
            "_model_module": "@jupyter-widgets/controls",
            "children": [
              "IPY_MODEL_ef564e7f885642dc862c08cb6ca81333",
              "IPY_MODEL_8a9af09918ba40cf91457b4aee70b655"
            ]
          }
        },
        "bd980bca2e4e455b8a810528f03412da": {
          "model_module": "@jupyter-widgets/base",
          "model_name": "LayoutModel",
          "state": {
            "_view_name": "LayoutView",
            "grid_template_rows": null,
            "right": null,
            "justify_content": null,
            "_view_module": "@jupyter-widgets/base",
            "overflow": null,
            "_model_module_version": "1.2.0",
            "_view_count": null,
            "flex_flow": null,
            "width": null,
            "min_width": null,
            "border": null,
            "align_items": null,
            "bottom": null,
            "_model_module": "@jupyter-widgets/base",
            "top": null,
            "grid_column": null,
            "overflow_y": null,
            "overflow_x": null,
            "grid_auto_flow": null,
            "grid_area": null,
            "grid_template_columns": null,
            "flex": null,
            "_model_name": "LayoutModel",
            "justify_items": null,
            "grid_row": null,
            "max_height": null,
            "align_content": null,
            "visibility": null,
            "align_self": null,
            "height": null,
            "min_height": null,
            "padding": null,
            "grid_auto_rows": null,
            "grid_gap": null,
            "max_width": null,
            "order": null,
            "_view_module_version": "1.2.0",
            "grid_template_areas": null,
            "object_position": null,
            "object_fit": null,
            "grid_auto_columns": null,
            "margin": null,
            "display": null,
            "left": null
          }
        },
        "ef564e7f885642dc862c08cb6ca81333": {
          "model_module": "@jupyter-widgets/controls",
          "model_name": "FloatProgressModel",
          "state": {
            "_view_name": "ProgressView",
            "style": "IPY_MODEL_04481624abc048a09ed34467f7f9f99b",
            "_dom_classes": [],
            "description": "",
            "_model_name": "FloatProgressModel",
            "bar_style": "success",
            "max": 28881,
            "_view_module": "@jupyter-widgets/controls",
            "_model_module_version": "1.5.0",
            "value": 28881,
            "_view_count": null,
            "_view_module_version": "1.5.0",
            "orientation": "horizontal",
            "min": 0,
            "description_tooltip": null,
            "_model_module": "@jupyter-widgets/controls",
            "layout": "IPY_MODEL_a402a95a57d44a43b19e8c1ba2b6c48d"
          }
        },
        "8a9af09918ba40cf91457b4aee70b655": {
          "model_module": "@jupyter-widgets/controls",
          "model_name": "HTMLModel",
          "state": {
            "_view_name": "HTMLView",
            "style": "IPY_MODEL_a7b85289716e416a86a6d546e33e7952",
            "_dom_classes": [],
            "description": "",
            "_model_name": "HTMLModel",
            "placeholder": "​",
            "_view_module": "@jupyter-widgets/controls",
            "_model_module_version": "1.5.0",
            "value": " 29696/? [00:00&lt;00:00, 35763.43it/s]",
            "_view_count": null,
            "_view_module_version": "1.5.0",
            "description_tooltip": null,
            "_model_module": "@jupyter-widgets/controls",
            "layout": "IPY_MODEL_c0c2e3c09b3442a48129071461746046"
          }
        },
        "04481624abc048a09ed34467f7f9f99b": {
          "model_module": "@jupyter-widgets/controls",
          "model_name": "ProgressStyleModel",
          "state": {
            "_view_name": "StyleView",
            "_model_name": "ProgressStyleModel",
            "description_width": "initial",
            "_view_module": "@jupyter-widgets/base",
            "_model_module_version": "1.5.0",
            "_view_count": null,
            "_view_module_version": "1.2.0",
            "bar_color": null,
            "_model_module": "@jupyter-widgets/controls"
          }
        },
        "a402a95a57d44a43b19e8c1ba2b6c48d": {
          "model_module": "@jupyter-widgets/base",
          "model_name": "LayoutModel",
          "state": {
            "_view_name": "LayoutView",
            "grid_template_rows": null,
            "right": null,
            "justify_content": null,
            "_view_module": "@jupyter-widgets/base",
            "overflow": null,
            "_model_module_version": "1.2.0",
            "_view_count": null,
            "flex_flow": null,
            "width": null,
            "min_width": null,
            "border": null,
            "align_items": null,
            "bottom": null,
            "_model_module": "@jupyter-widgets/base",
            "top": null,
            "grid_column": null,
            "overflow_y": null,
            "overflow_x": null,
            "grid_auto_flow": null,
            "grid_area": null,
            "grid_template_columns": null,
            "flex": null,
            "_model_name": "LayoutModel",
            "justify_items": null,
            "grid_row": null,
            "max_height": null,
            "align_content": null,
            "visibility": null,
            "align_self": null,
            "height": null,
            "min_height": null,
            "padding": null,
            "grid_auto_rows": null,
            "grid_gap": null,
            "max_width": null,
            "order": null,
            "_view_module_version": "1.2.0",
            "grid_template_areas": null,
            "object_position": null,
            "object_fit": null,
            "grid_auto_columns": null,
            "margin": null,
            "display": null,
            "left": null
          }
        },
        "a7b85289716e416a86a6d546e33e7952": {
          "model_module": "@jupyter-widgets/controls",
          "model_name": "DescriptionStyleModel",
          "state": {
            "_view_name": "StyleView",
            "_model_name": "DescriptionStyleModel",
            "description_width": "",
            "_view_module": "@jupyter-widgets/base",
            "_model_module_version": "1.5.0",
            "_view_count": null,
            "_view_module_version": "1.2.0",
            "_model_module": "@jupyter-widgets/controls"
          }
        },
        "c0c2e3c09b3442a48129071461746046": {
          "model_module": "@jupyter-widgets/base",
          "model_name": "LayoutModel",
          "state": {
            "_view_name": "LayoutView",
            "grid_template_rows": null,
            "right": null,
            "justify_content": null,
            "_view_module": "@jupyter-widgets/base",
            "overflow": null,
            "_model_module_version": "1.2.0",
            "_view_count": null,
            "flex_flow": null,
            "width": null,
            "min_width": null,
            "border": null,
            "align_items": null,
            "bottom": null,
            "_model_module": "@jupyter-widgets/base",
            "top": null,
            "grid_column": null,
            "overflow_y": null,
            "overflow_x": null,
            "grid_auto_flow": null,
            "grid_area": null,
            "grid_template_columns": null,
            "flex": null,
            "_model_name": "LayoutModel",
            "justify_items": null,
            "grid_row": null,
            "max_height": null,
            "align_content": null,
            "visibility": null,
            "align_self": null,
            "height": null,
            "min_height": null,
            "padding": null,
            "grid_auto_rows": null,
            "grid_gap": null,
            "max_width": null,
            "order": null,
            "_view_module_version": "1.2.0",
            "grid_template_areas": null,
            "object_position": null,
            "object_fit": null,
            "grid_auto_columns": null,
            "margin": null,
            "display": null,
            "left": null
          }
        },
        "f39e3f46d2674425bae3b71072be5cba": {
          "model_module": "@jupyter-widgets/controls",
          "model_name": "HBoxModel",
          "state": {
            "_view_name": "HBoxView",
            "_dom_classes": [],
            "_model_name": "HBoxModel",
            "_view_module": "@jupyter-widgets/controls",
            "_model_module_version": "1.5.0",
            "_view_count": null,
            "_view_module_version": "1.5.0",
            "box_style": "",
            "layout": "IPY_MODEL_de57bda4f9d145bea781f06628ebd7a5",
            "_model_module": "@jupyter-widgets/controls",
            "children": [
              "IPY_MODEL_737d48e117fc427aaa9194b672aecc01",
              "IPY_MODEL_ce499f25fcd74f3ab38fc1249d0fff2e"
            ]
          }
        },
        "de57bda4f9d145bea781f06628ebd7a5": {
          "model_module": "@jupyter-widgets/base",
          "model_name": "LayoutModel",
          "state": {
            "_view_name": "LayoutView",
            "grid_template_rows": null,
            "right": null,
            "justify_content": null,
            "_view_module": "@jupyter-widgets/base",
            "overflow": null,
            "_model_module_version": "1.2.0",
            "_view_count": null,
            "flex_flow": null,
            "width": null,
            "min_width": null,
            "border": null,
            "align_items": null,
            "bottom": null,
            "_model_module": "@jupyter-widgets/base",
            "top": null,
            "grid_column": null,
            "overflow_y": null,
            "overflow_x": null,
            "grid_auto_flow": null,
            "grid_area": null,
            "grid_template_columns": null,
            "flex": null,
            "_model_name": "LayoutModel",
            "justify_items": null,
            "grid_row": null,
            "max_height": null,
            "align_content": null,
            "visibility": null,
            "align_self": null,
            "height": null,
            "min_height": null,
            "padding": null,
            "grid_auto_rows": null,
            "grid_gap": null,
            "max_width": null,
            "order": null,
            "_view_module_version": "1.2.0",
            "grid_template_areas": null,
            "object_position": null,
            "object_fit": null,
            "grid_auto_columns": null,
            "margin": null,
            "display": null,
            "left": null
          }
        },
        "737d48e117fc427aaa9194b672aecc01": {
          "model_module": "@jupyter-widgets/controls",
          "model_name": "FloatProgressModel",
          "state": {
            "_view_name": "ProgressView",
            "style": "IPY_MODEL_f115320ed6a44f059ec39c51f41f63a7",
            "_dom_classes": [],
            "description": "",
            "_model_name": "FloatProgressModel",
            "bar_style": "success",
            "max": 1648877,
            "_view_module": "@jupyter-widgets/controls",
            "_model_module_version": "1.5.0",
            "value": 1648877,
            "_view_count": null,
            "_view_module_version": "1.5.0",
            "orientation": "horizontal",
            "min": 0,
            "description_tooltip": null,
            "_model_module": "@jupyter-widgets/controls",
            "layout": "IPY_MODEL_aa7135da0d894d52a2f3a80c875fea6b"
          }
        },
        "ce499f25fcd74f3ab38fc1249d0fff2e": {
          "model_module": "@jupyter-widgets/controls",
          "model_name": "HTMLModel",
          "state": {
            "_view_name": "HTMLView",
            "style": "IPY_MODEL_f1940ec5a0c841eb91538beab91787a4",
            "_dom_classes": [],
            "description": "",
            "_model_name": "HTMLModel",
            "placeholder": "​",
            "_view_module": "@jupyter-widgets/controls",
            "_model_module_version": "1.5.0",
            "value": " 1649664/? [00:21&lt;00:00, 78154.03it/s]",
            "_view_count": null,
            "_view_module_version": "1.5.0",
            "description_tooltip": null,
            "_model_module": "@jupyter-widgets/controls",
            "layout": "IPY_MODEL_a76605597e3a493b81966a6321614b15"
          }
        },
        "f115320ed6a44f059ec39c51f41f63a7": {
          "model_module": "@jupyter-widgets/controls",
          "model_name": "ProgressStyleModel",
          "state": {
            "_view_name": "StyleView",
            "_model_name": "ProgressStyleModel",
            "description_width": "initial",
            "_view_module": "@jupyter-widgets/base",
            "_model_module_version": "1.5.0",
            "_view_count": null,
            "_view_module_version": "1.2.0",
            "bar_color": null,
            "_model_module": "@jupyter-widgets/controls"
          }
        },
        "aa7135da0d894d52a2f3a80c875fea6b": {
          "model_module": "@jupyter-widgets/base",
          "model_name": "LayoutModel",
          "state": {
            "_view_name": "LayoutView",
            "grid_template_rows": null,
            "right": null,
            "justify_content": null,
            "_view_module": "@jupyter-widgets/base",
            "overflow": null,
            "_model_module_version": "1.2.0",
            "_view_count": null,
            "flex_flow": null,
            "width": null,
            "min_width": null,
            "border": null,
            "align_items": null,
            "bottom": null,
            "_model_module": "@jupyter-widgets/base",
            "top": null,
            "grid_column": null,
            "overflow_y": null,
            "overflow_x": null,
            "grid_auto_flow": null,
            "grid_area": null,
            "grid_template_columns": null,
            "flex": null,
            "_model_name": "LayoutModel",
            "justify_items": null,
            "grid_row": null,
            "max_height": null,
            "align_content": null,
            "visibility": null,
            "align_self": null,
            "height": null,
            "min_height": null,
            "padding": null,
            "grid_auto_rows": null,
            "grid_gap": null,
            "max_width": null,
            "order": null,
            "_view_module_version": "1.2.0",
            "grid_template_areas": null,
            "object_position": null,
            "object_fit": null,
            "grid_auto_columns": null,
            "margin": null,
            "display": null,
            "left": null
          }
        },
        "f1940ec5a0c841eb91538beab91787a4": {
          "model_module": "@jupyter-widgets/controls",
          "model_name": "DescriptionStyleModel",
          "state": {
            "_view_name": "StyleView",
            "_model_name": "DescriptionStyleModel",
            "description_width": "",
            "_view_module": "@jupyter-widgets/base",
            "_model_module_version": "1.5.0",
            "_view_count": null,
            "_view_module_version": "1.2.0",
            "_model_module": "@jupyter-widgets/controls"
          }
        },
        "a76605597e3a493b81966a6321614b15": {
          "model_module": "@jupyter-widgets/base",
          "model_name": "LayoutModel",
          "state": {
            "_view_name": "LayoutView",
            "grid_template_rows": null,
            "right": null,
            "justify_content": null,
            "_view_module": "@jupyter-widgets/base",
            "overflow": null,
            "_model_module_version": "1.2.0",
            "_view_count": null,
            "flex_flow": null,
            "width": null,
            "min_width": null,
            "border": null,
            "align_items": null,
            "bottom": null,
            "_model_module": "@jupyter-widgets/base",
            "top": null,
            "grid_column": null,
            "overflow_y": null,
            "overflow_x": null,
            "grid_auto_flow": null,
            "grid_area": null,
            "grid_template_columns": null,
            "flex": null,
            "_model_name": "LayoutModel",
            "justify_items": null,
            "grid_row": null,
            "max_height": null,
            "align_content": null,
            "visibility": null,
            "align_self": null,
            "height": null,
            "min_height": null,
            "padding": null,
            "grid_auto_rows": null,
            "grid_gap": null,
            "max_width": null,
            "order": null,
            "_view_module_version": "1.2.0",
            "grid_template_areas": null,
            "object_position": null,
            "object_fit": null,
            "grid_auto_columns": null,
            "margin": null,
            "display": null,
            "left": null
          }
        },
        "199bcf097afc40f0a9d77dd7713ba64a": {
          "model_module": "@jupyter-widgets/controls",
          "model_name": "HBoxModel",
          "state": {
            "_view_name": "HBoxView",
            "_dom_classes": [],
            "_model_name": "HBoxModel",
            "_view_module": "@jupyter-widgets/controls",
            "_model_module_version": "1.5.0",
            "_view_count": null,
            "_view_module_version": "1.5.0",
            "box_style": "",
            "layout": "IPY_MODEL_ccc4f08015f346539b993ccc7959cf37",
            "_model_module": "@jupyter-widgets/controls",
            "children": [
              "IPY_MODEL_5cded0ee3ef5427782a069771f7c2162",
              "IPY_MODEL_e7d21a7434a547cf952e81e5ca5022c9"
            ]
          }
        },
        "ccc4f08015f346539b993ccc7959cf37": {
          "model_module": "@jupyter-widgets/base",
          "model_name": "LayoutModel",
          "state": {
            "_view_name": "LayoutView",
            "grid_template_rows": null,
            "right": null,
            "justify_content": null,
            "_view_module": "@jupyter-widgets/base",
            "overflow": null,
            "_model_module_version": "1.2.0",
            "_view_count": null,
            "flex_flow": null,
            "width": null,
            "min_width": null,
            "border": null,
            "align_items": null,
            "bottom": null,
            "_model_module": "@jupyter-widgets/base",
            "top": null,
            "grid_column": null,
            "overflow_y": null,
            "overflow_x": null,
            "grid_auto_flow": null,
            "grid_area": null,
            "grid_template_columns": null,
            "flex": null,
            "_model_name": "LayoutModel",
            "justify_items": null,
            "grid_row": null,
            "max_height": null,
            "align_content": null,
            "visibility": null,
            "align_self": null,
            "height": null,
            "min_height": null,
            "padding": null,
            "grid_auto_rows": null,
            "grid_gap": null,
            "max_width": null,
            "order": null,
            "_view_module_version": "1.2.0",
            "grid_template_areas": null,
            "object_position": null,
            "object_fit": null,
            "grid_auto_columns": null,
            "margin": null,
            "display": null,
            "left": null
          }
        },
        "5cded0ee3ef5427782a069771f7c2162": {
          "model_module": "@jupyter-widgets/controls",
          "model_name": "FloatProgressModel",
          "state": {
            "_view_name": "ProgressView",
            "style": "IPY_MODEL_7eec97b585bb4edd9f5d433e4e68f381",
            "_dom_classes": [],
            "description": "",
            "_model_name": "FloatProgressModel",
            "bar_style": "success",
            "max": 4542,
            "_view_module": "@jupyter-widgets/controls",
            "_model_module_version": "1.5.0",
            "value": 4542,
            "_view_count": null,
            "_view_module_version": "1.5.0",
            "orientation": "horizontal",
            "min": 0,
            "description_tooltip": null,
            "_model_module": "@jupyter-widgets/controls",
            "layout": "IPY_MODEL_9973b8c32ba14e6ba2e2d9b79a6443f1"
          }
        },
        "e7d21a7434a547cf952e81e5ca5022c9": {
          "model_module": "@jupyter-widgets/controls",
          "model_name": "HTMLModel",
          "state": {
            "_view_name": "HTMLView",
            "style": "IPY_MODEL_1031a54a266143e795defa70b5e5417d",
            "_dom_classes": [],
            "description": "",
            "_model_name": "HTMLModel",
            "placeholder": "​",
            "_view_module": "@jupyter-widgets/controls",
            "_model_module_version": "1.5.0",
            "value": " 5120/? [00:19&lt;00:00, 259.92it/s]",
            "_view_count": null,
            "_view_module_version": "1.5.0",
            "description_tooltip": null,
            "_model_module": "@jupyter-widgets/controls",
            "layout": "IPY_MODEL_f3b5a3a9ab8e4d27b6e4fdf15fd53102"
          }
        },
        "7eec97b585bb4edd9f5d433e4e68f381": {
          "model_module": "@jupyter-widgets/controls",
          "model_name": "ProgressStyleModel",
          "state": {
            "_view_name": "StyleView",
            "_model_name": "ProgressStyleModel",
            "description_width": "initial",
            "_view_module": "@jupyter-widgets/base",
            "_model_module_version": "1.5.0",
            "_view_count": null,
            "_view_module_version": "1.2.0",
            "bar_color": null,
            "_model_module": "@jupyter-widgets/controls"
          }
        },
        "9973b8c32ba14e6ba2e2d9b79a6443f1": {
          "model_module": "@jupyter-widgets/base",
          "model_name": "LayoutModel",
          "state": {
            "_view_name": "LayoutView",
            "grid_template_rows": null,
            "right": null,
            "justify_content": null,
            "_view_module": "@jupyter-widgets/base",
            "overflow": null,
            "_model_module_version": "1.2.0",
            "_view_count": null,
            "flex_flow": null,
            "width": null,
            "min_width": null,
            "border": null,
            "align_items": null,
            "bottom": null,
            "_model_module": "@jupyter-widgets/base",
            "top": null,
            "grid_column": null,
            "overflow_y": null,
            "overflow_x": null,
            "grid_auto_flow": null,
            "grid_area": null,
            "grid_template_columns": null,
            "flex": null,
            "_model_name": "LayoutModel",
            "justify_items": null,
            "grid_row": null,
            "max_height": null,
            "align_content": null,
            "visibility": null,
            "align_self": null,
            "height": null,
            "min_height": null,
            "padding": null,
            "grid_auto_rows": null,
            "grid_gap": null,
            "max_width": null,
            "order": null,
            "_view_module_version": "1.2.0",
            "grid_template_areas": null,
            "object_position": null,
            "object_fit": null,
            "grid_auto_columns": null,
            "margin": null,
            "display": null,
            "left": null
          }
        },
        "1031a54a266143e795defa70b5e5417d": {
          "model_module": "@jupyter-widgets/controls",
          "model_name": "DescriptionStyleModel",
          "state": {
            "_view_name": "StyleView",
            "_model_name": "DescriptionStyleModel",
            "description_width": "",
            "_view_module": "@jupyter-widgets/base",
            "_model_module_version": "1.5.0",
            "_view_count": null,
            "_view_module_version": "1.2.0",
            "_model_module": "@jupyter-widgets/controls"
          }
        },
        "f3b5a3a9ab8e4d27b6e4fdf15fd53102": {
          "model_module": "@jupyter-widgets/base",
          "model_name": "LayoutModel",
          "state": {
            "_view_name": "LayoutView",
            "grid_template_rows": null,
            "right": null,
            "justify_content": null,
            "_view_module": "@jupyter-widgets/base",
            "overflow": null,
            "_model_module_version": "1.2.0",
            "_view_count": null,
            "flex_flow": null,
            "width": null,
            "min_width": null,
            "border": null,
            "align_items": null,
            "bottom": null,
            "_model_module": "@jupyter-widgets/base",
            "top": null,
            "grid_column": null,
            "overflow_y": null,
            "overflow_x": null,
            "grid_auto_flow": null,
            "grid_area": null,
            "grid_template_columns": null,
            "flex": null,
            "_model_name": "LayoutModel",
            "justify_items": null,
            "grid_row": null,
            "max_height": null,
            "align_content": null,
            "visibility": null,
            "align_self": null,
            "height": null,
            "min_height": null,
            "padding": null,
            "grid_auto_rows": null,
            "grid_gap": null,
            "max_width": null,
            "order": null,
            "_view_module_version": "1.2.0",
            "grid_template_areas": null,
            "object_position": null,
            "object_fit": null,
            "grid_auto_columns": null,
            "margin": null,
            "display": null,
            "left": null
          }
        }
      }
    }
  },
  "cells": [
    {
      "cell_type": "markdown",
      "metadata": {
        "id": "BehiaPulV1ae"
      },
      "source": [
        "# Автоэнкодеры"
      ]
    },
    {
      "cell_type": "markdown",
      "metadata": {
        "id": "9fzK-Z9pV1ag"
      },
      "source": [
        "## 1. Подход \n",
        "\n",
        "Автоэнкодеры - unsupervised (не требующие разметки данных) модели, которые находят применение как важные строительные блоки в огромном кол-ве сложных моделей и подходов.\n",
        "\n",
        "Идея автоэнкодера крайне проста - он состоит из двух нейронных сетей, называемых _энкодером_ и _декодером_, которые работают в тандеме. Задача энкодера - сжать исходный объект до вектора малой размерности, называемого _латентным кодом_ (или _скрытым представлением_). Задача декодера - восстановить из этого латентного кода исходный объект. \n",
        "\n",
        "![Архитектура автоэнкодера](https://miro.medium.com/max/600/1*nqzWupxC60iAH2dYrFT78Q.png)\n",
        "\n",
        "Источник картинки: [medium](https://medium.com/@birla.deepak26/autoencoders-76bb49ae6a8f)\n",
        "\n",
        "\n",
        "Обучение происходит путем уменьшения ошибки между исходным объектом и восстановленным:\n",
        "\n",
        "$$ \\operatorname{Loss} = \\sum \\operatorname{MSE}(x_i, dec(enc(x_i))) $$"
      ]
    },
    {
      "cell_type": "code",
      "metadata": {
        "id": "Xa3ft9HxV1ah"
      },
      "source": [
        "from pathlib import Path\n",
        "\n",
        "from tqdm.notebook import tqdm\n",
        "\n",
        "import numpy as np\n",
        "\n",
        "import torch\n",
        "import torch.nn as nn\n",
        "import torchvision\n",
        "import torchvision.transforms as transforms\n",
        "\n",
        "import matplotlib.pyplot as plt\n",
        "%matplotlib inline\n",
        "\n",
        "from IPython.display import clear_output"
      ],
      "execution_count": 1,
      "outputs": []
    },
    {
      "cell_type": "markdown",
      "metadata": {
        "id": "AvzQKZmFV1ai"
      },
      "source": [
        "## 2. Пишем простой автоэнкодер для MNIST"
      ]
    },
    {
      "cell_type": "markdown",
      "metadata": {
        "id": "DZW5DD9CV1ai"
      },
      "source": [
        "Начнём со скачивания датасета."
      ]
    },
    {
      "cell_type": "code",
      "metadata": {
        "id": "j5AGGQQFV1ai",
        "outputId": "4f8472f5-51b6-4462-e52a-ad0d9d12e665",
        "colab": {
          "base_uri": "https://localhost:8080/",
          "height": 921,
          "referenced_widgets": [
            "855cf707ba2a449aa4593dbd1b6ad0f9",
            "30b86e57ccd74a9aa5631bcc77da53f6",
            "16882794883a44dc9f9fa870aeae6b34",
            "e032e6ea257b429ca452cddae8ef218d",
            "28f87153578d4ee78649dd02ee6874e7",
            "8824533a29944e5c867c8f46ae150a80",
            "32b020bd30aa41d8b8b540d6929993b5",
            "3ba52c3149424eb5ae27d59702d8dd99",
            "47917f544ff44cb586e5facb67f0385a",
            "bd980bca2e4e455b8a810528f03412da",
            "ef564e7f885642dc862c08cb6ca81333",
            "8a9af09918ba40cf91457b4aee70b655",
            "04481624abc048a09ed34467f7f9f99b",
            "a402a95a57d44a43b19e8c1ba2b6c48d",
            "a7b85289716e416a86a6d546e33e7952",
            "c0c2e3c09b3442a48129071461746046",
            "f39e3f46d2674425bae3b71072be5cba",
            "de57bda4f9d145bea781f06628ebd7a5",
            "737d48e117fc427aaa9194b672aecc01",
            "ce499f25fcd74f3ab38fc1249d0fff2e",
            "f115320ed6a44f059ec39c51f41f63a7",
            "aa7135da0d894d52a2f3a80c875fea6b",
            "f1940ec5a0c841eb91538beab91787a4",
            "a76605597e3a493b81966a6321614b15",
            "199bcf097afc40f0a9d77dd7713ba64a",
            "ccc4f08015f346539b993ccc7959cf37",
            "5cded0ee3ef5427782a069771f7c2162",
            "e7d21a7434a547cf952e81e5ca5022c9",
            "7eec97b585bb4edd9f5d433e4e68f381",
            "9973b8c32ba14e6ba2e2d9b79a6443f1",
            "1031a54a266143e795defa70b5e5417d",
            "f3b5a3a9ab8e4d27b6e4fdf15fd53102"
          ]
        }
      },
      "source": [
        "from torch.hub import _get_torch_home\n",
        "\n",
        "data_root = Path(_get_torch_home()) / 'datasets'\n",
        "\n",
        "transform = transforms.Compose([\n",
        "    transforms.ToTensor(),\n",
        "])\n",
        "\n",
        "dataset_train = torchvision.datasets.MNIST(root=data_root, train=True, download=True, transform=transform)\n",
        "dataloader_train = torch.utils.data.DataLoader(dataset_train, batch_size=64, shuffle=True, num_workers=1)\n",
        "\n",
        "dataset_valid = torchvision.datasets.MNIST(root=data_root, train=False, download=True, transform=transform)\n",
        "dataloader_valid = torch.utils.data.DataLoader(dataset_valid, batch_size=64, shuffle=False, num_workers=1)"
      ],
      "execution_count": 2,
      "outputs": [
        {
          "output_type": "stream",
          "text": [
            "Downloading http://yann.lecun.com/exdb/mnist/train-images-idx3-ubyte.gz\n",
            "Failed to download (trying next):\n",
            "HTTP Error 503: Service Unavailable\n",
            "\n",
            "Downloading https://ossci-datasets.s3.amazonaws.com/mnist/train-images-idx3-ubyte.gz\n",
            "Downloading https://ossci-datasets.s3.amazonaws.com/mnist/train-images-idx3-ubyte.gz to /root/.cache/torch/datasets/MNIST/raw/train-images-idx3-ubyte.gz\n"
          ],
          "name": "stdout"
        },
        {
          "output_type": "display_data",
          "data": {
            "application/vnd.jupyter.widget-view+json": {
              "model_id": "855cf707ba2a449aa4593dbd1b6ad0f9",
              "version_minor": 0,
              "version_major": 2
            },
            "text/plain": [
              "HBox(children=(FloatProgress(value=0.0, max=9912422.0), HTML(value='')))"
            ]
          },
          "metadata": {
            "tags": []
          }
        },
        {
          "output_type": "stream",
          "text": [
            "\n",
            "Extracting /root/.cache/torch/datasets/MNIST/raw/train-images-idx3-ubyte.gz to /root/.cache/torch/datasets/MNIST/raw\n",
            "\n",
            "Downloading http://yann.lecun.com/exdb/mnist/train-labels-idx1-ubyte.gz\n",
            "Downloading http://yann.lecun.com/exdb/mnist/train-labels-idx1-ubyte.gz to /root/.cache/torch/datasets/MNIST/raw/train-labels-idx1-ubyte.gz\n",
            "Failed to download (trying next):\n",
            "HTTP Error 503: Service Unavailable\n",
            "\n",
            "Downloading https://ossci-datasets.s3.amazonaws.com/mnist/train-labels-idx1-ubyte.gz\n",
            "Downloading https://ossci-datasets.s3.amazonaws.com/mnist/train-labels-idx1-ubyte.gz to /root/.cache/torch/datasets/MNIST/raw/train-labels-idx1-ubyte.gz\n"
          ],
          "name": "stdout"
        },
        {
          "output_type": "display_data",
          "data": {
            "application/vnd.jupyter.widget-view+json": {
              "model_id": "47917f544ff44cb586e5facb67f0385a",
              "version_minor": 0,
              "version_major": 2
            },
            "text/plain": [
              "HBox(children=(FloatProgress(value=0.0, max=28881.0), HTML(value='')))"
            ]
          },
          "metadata": {
            "tags": []
          }
        },
        {
          "output_type": "stream",
          "text": [
            "\n",
            "Extracting /root/.cache/torch/datasets/MNIST/raw/train-labels-idx1-ubyte.gz to /root/.cache/torch/datasets/MNIST/raw\n",
            "\n",
            "Downloading http://yann.lecun.com/exdb/mnist/t10k-images-idx3-ubyte.gz\n",
            "Downloading http://yann.lecun.com/exdb/mnist/t10k-images-idx3-ubyte.gz to /root/.cache/torch/datasets/MNIST/raw/t10k-images-idx3-ubyte.gz\n",
            "Failed to download (trying next):\n",
            "HTTP Error 503: Service Unavailable\n",
            "\n",
            "Downloading https://ossci-datasets.s3.amazonaws.com/mnist/t10k-images-idx3-ubyte.gz\n",
            "Downloading https://ossci-datasets.s3.amazonaws.com/mnist/t10k-images-idx3-ubyte.gz to /root/.cache/torch/datasets/MNIST/raw/t10k-images-idx3-ubyte.gz\n"
          ],
          "name": "stdout"
        },
        {
          "output_type": "display_data",
          "data": {
            "application/vnd.jupyter.widget-view+json": {
              "model_id": "f39e3f46d2674425bae3b71072be5cba",
              "version_minor": 0,
              "version_major": 2
            },
            "text/plain": [
              "HBox(children=(FloatProgress(value=0.0, max=1648877.0), HTML(value='')))"
            ]
          },
          "metadata": {
            "tags": []
          }
        },
        {
          "output_type": "stream",
          "text": [
            "\n",
            "Extracting /root/.cache/torch/datasets/MNIST/raw/t10k-images-idx3-ubyte.gz to /root/.cache/torch/datasets/MNIST/raw\n",
            "\n",
            "Downloading http://yann.lecun.com/exdb/mnist/t10k-labels-idx1-ubyte.gz\n",
            "Failed to download (trying next):\n",
            "HTTP Error 503: Service Unavailable\n",
            "\n",
            "Downloading https://ossci-datasets.s3.amazonaws.com/mnist/t10k-labels-idx1-ubyte.gz\n",
            "Downloading https://ossci-datasets.s3.amazonaws.com/mnist/t10k-labels-idx1-ubyte.gz to /root/.cache/torch/datasets/MNIST/raw/t10k-labels-idx1-ubyte.gz\n"
          ],
          "name": "stdout"
        },
        {
          "output_type": "display_data",
          "data": {
            "application/vnd.jupyter.widget-view+json": {
              "model_id": "199bcf097afc40f0a9d77dd7713ba64a",
              "version_minor": 0,
              "version_major": 2
            },
            "text/plain": [
              "HBox(children=(FloatProgress(value=0.0, max=4542.0), HTML(value='')))"
            ]
          },
          "metadata": {
            "tags": []
          }
        },
        {
          "output_type": "stream",
          "text": [
            "\n",
            "Extracting /root/.cache/torch/datasets/MNIST/raw/t10k-labels-idx1-ubyte.gz to /root/.cache/torch/datasets/MNIST/raw\n",
            "\n",
            "Processing...\n",
            "Done!\n"
          ],
          "name": "stdout"
        },
        {
          "output_type": "stream",
          "text": [
            "/usr/local/lib/python3.7/dist-packages/torchvision/datasets/mnist.py:502: UserWarning: The given NumPy array is not writeable, and PyTorch does not support non-writeable tensors. This means you can write to the underlying (supposedly non-writeable) NumPy array using the tensor. You may want to copy the array to protect its data or make it writeable before converting it to a tensor. This type of warning will be suppressed for the rest of this program. (Triggered internally at  /pytorch/torch/csrc/utils/tensor_numpy.cpp:143.)\n",
            "  return torch.from_numpy(parsed.astype(m[2], copy=False)).view(*s)\n"
          ],
          "name": "stderr"
        }
      ]
    },
    {
      "cell_type": "markdown",
      "metadata": {
        "id": "RLZS9CYXV1aj"
      },
      "source": [
        "Давайте реализуем и поиграемся с простым автоэнкодером, который берет изображения из MNIST и кодирует их в латентные коды длины `k`. В этом задании надо реализовать:\n",
        "\n",
        "* Encoder\n",
        "    * Четырехслойная полносвязная сеть с размерами слоёв `784-128-64-32-k`\n",
        "* Decoder\n",
        "    * Симметричная полносвязная сеть с размерами слоёв `k-32-64-128-784` **и сигмоида в конце**"
      ]
    },
    {
      "cell_type": "code",
      "metadata": {
        "id": "4NPMJpbQV1aj",
        "outputId": "b2432cb6-6731-42be-abe5-31b4e8203601",
        "colab": {
          "base_uri": "https://localhost:8080/"
        }
      },
      "source": [
        "!nvidia-smi"
      ],
      "execution_count": 3,
      "outputs": [
        {
          "output_type": "stream",
          "text": [
            "Wed Jun  9 18:06:56 2021       \n",
            "+-----------------------------------------------------------------------------+\n",
            "| NVIDIA-SMI 465.27       Driver Version: 460.32.03    CUDA Version: 11.2     |\n",
            "|-------------------------------+----------------------+----------------------+\n",
            "| GPU  Name        Persistence-M| Bus-Id        Disp.A | Volatile Uncorr. ECC |\n",
            "| Fan  Temp  Perf  Pwr:Usage/Cap|         Memory-Usage | GPU-Util  Compute M. |\n",
            "|                               |                      |               MIG M. |\n",
            "|===============================+======================+======================|\n",
            "|   0  Tesla T4            Off  | 00000000:00:04.0 Off |                    0 |\n",
            "| N/A   54C    P8    10W /  70W |      0MiB / 15109MiB |      0%      Default |\n",
            "|                               |                      |                  N/A |\n",
            "+-------------------------------+----------------------+----------------------+\n",
            "                                                                               \n",
            "+-----------------------------------------------------------------------------+\n",
            "| Processes:                                                                  |\n",
            "|  GPU   GI   CI        PID   Type   Process name                  GPU Memory |\n",
            "|        ID   ID                                                   Usage      |\n",
            "|=============================================================================|\n",
            "|  No running processes found                                                 |\n",
            "+-----------------------------------------------------------------------------+\n"
          ],
          "name": "stdout"
        }
      ]
    },
    {
      "cell_type": "code",
      "metadata": {
        "id": "i6gjI1boV1aj"
      },
      "source": [
        "device = 'cuda:0' if torch.cuda.is_available() else 'cpu'"
      ],
      "execution_count": 4,
      "outputs": []
    },
    {
      "cell_type": "code",
      "metadata": {
        "id": "AZp-nIjXV1aj"
      },
      "source": [
        "class MNISTEncoder(nn.Module):\n",
        "    def __init__(self, lat_size):\n",
        "        super(MNISTEncoder, self).__init__()\n",
        "        self.lat_size = lat_size\n",
        "        \n",
        "        # Подсказка: пригодится nn.Flatten()\n",
        "        self.enc_net = nn.Sequential(\n",
        "            # 784-128-64-32-k\n",
        "            nn.Flatten(),\n",
        "            nn.Linear(28 * 28, 128),\n",
        "            nn.ReLU(),\n",
        "            nn.Linear(128, 64),\n",
        "            nn.ReLU(),\n",
        "            nn.Linear(64, 32),\n",
        "            nn.ReLU(),\n",
        "            nn.Linear(32, lat_size),\n",
        "        )\n",
        "        \n",
        "    def forward(self, x):\n",
        "        assert len(x.shape) == 4\n",
        "        assert x.shape[2] == x.shape[3] == 28\n",
        "        \n",
        "        z = self.enc_net(x)\n",
        "        \n",
        "        assert z.shape[0] == x.shape[0]\n",
        "        assert z.shape[1] == self.lat_size\n",
        "        \n",
        "        return z\n",
        "    \n",
        "class MNISTDecoder(nn.Module):\n",
        "    def __init__(self, lat_size):\n",
        "        super(MNISTDecoder, self).__init__()\n",
        "        self.lat_size = lat_size\n",
        "        \n",
        "        # Подсказка: пригодится nn.Unflatten() (посмотрите документацию!)\n",
        "        self.dec_net = nn.Sequential(\n",
        "            # k-32-64-128-784 и сигмоида в конце\n",
        "            nn.Linear(lat_size, 32),\n",
        "            nn.ReLU(),\n",
        "            nn.Linear(32, 64),\n",
        "            nn.ReLU(),\n",
        "            nn.Linear(64, 128),\n",
        "            nn.ReLU(),\n",
        "            nn.Linear(128, 28 * 28),\n",
        "            nn.Unflatten(1, (1, 28, 28)),\n",
        "            nn.Sigmoid(),\n",
        "        )\n",
        "        \n",
        "    def forward(self, z):\n",
        "        assert z.shape[1] == self.lat_size\n",
        "        \n",
        "        x_rec = self.dec_net(z)\n",
        "        \n",
        "        assert x_rec.shape[1:] == (1, 28, 28)\n",
        "        assert x_rec.shape[0] == z.shape[0]\n",
        "        \n",
        "        return x_rec"
      ],
      "execution_count": 11,
      "outputs": []
    },
    {
      "cell_type": "code",
      "metadata": {
        "id": "BGnHoJFVV1ak"
      },
      "source": [
        "class AutoEncoder(nn.Module):\n",
        "    def __init__(self, lat_size):\n",
        "        super(AutoEncoder, self).__init__()\n",
        "        \n",
        "        self.lat_size = lat_size\n",
        "        self.enc = MNISTEncoder(lat_size)\n",
        "        self.dec = MNISTDecoder(lat_size)\n",
        "        \n",
        "    def encode(self, x):\n",
        "        return self.enc(x)\n",
        "    \n",
        "    def decode(self, z):\n",
        "        return self.dec(z)\n",
        "\n",
        "    def forward(self, x):\n",
        "        return self.dec(self.enc(x))"
      ],
      "execution_count": 12,
      "outputs": []
    },
    {
      "cell_type": "markdown",
      "metadata": {
        "id": "NBDe8i0HV1ak"
      },
      "source": [
        "Теперь давайте обучим автоэнкодер:"
      ]
    },
    {
      "cell_type": "code",
      "metadata": {
        "id": "bFrtbMC8V1ak"
      },
      "source": [
        "def train_model(model, dataloader_train, optimizer, criterion, num_epochs=5, verbose_num_iters=32):\n",
        "    model.train()\n",
        "    loss_trace = []\n",
        "    \n",
        "    for epoch_i in range(num_epochs):        \n",
        "        print(f'Epoch {epoch_i + 1}')\n",
        "        for iter_i, batch in enumerate(dataloader_train):\n",
        "            x, _ = batch\n",
        "            x = x.to(device)\n",
        "\n",
        "            rec_x = model(x)\n",
        "            loss = criterion(rec_x, x)\n",
        "\n",
        "            optimizer.zero_grad()\n",
        "            loss.backward()\n",
        "            optimizer.step()\n",
        "            \n",
        "            loss_trace.append(loss.item())\n",
        "        \n",
        "            if (iter_i + 1) % verbose_num_iters == 0:\n",
        "                clear_output(wait=True)\n",
        "                plt.figure(figsize=(10, 5))\n",
        "                \n",
        "                plt.subplot(1, 2, 1)\n",
        "                plt.xlabel('Iteration')\n",
        "                plt.ylabel('L2 loss (x, x_rec)')\n",
        "                plt.plot(loss_trace)\n",
        "                \n",
        "                for i in range(3):\n",
        "                    plt.subplot(2, 6, 4 + i)\n",
        "                    plt.axis('off')\n",
        "                    plt.imshow(x[i, 0].cpu().detach().numpy(), cmap='gray')\n",
        "                    \n",
        "                    plt.subplot(2, 6, 10 + i)\n",
        "                    plt.axis('off')\n",
        "                    plt.imshow(rec_x[i, 0].cpu().detach().numpy(), cmap='gray')\n",
        "                    \n",
        "                plt.show()\n",
        "                \n",
        "    model.eval()"
      ],
      "execution_count": 13,
      "outputs": []
    },
    {
      "cell_type": "markdown",
      "metadata": {
        "id": "jc1juIdMV1al"
      },
      "source": [
        "В качестве лосса будем использовать сумму квадратов разностей пикселей оригинального и восстановленного изображения. "
      ]
    },
    {
      "cell_type": "code",
      "metadata": {
        "id": "qUKO6ZfBV1al"
      },
      "source": [
        "criterion = nn.MSELoss()"
      ],
      "execution_count": 14,
      "outputs": []
    },
    {
      "cell_type": "code",
      "metadata": {
        "id": "K4x3rcR0V1al",
        "outputId": "e2fdf835-5407-4c41-897b-0df02f264d32",
        "colab": {
          "base_uri": "https://localhost:8080/",
          "height": 334
        }
      },
      "source": [
        "# обучим модель с латентным кодом длины 8\n",
        "\n",
        "model = AutoEncoder(8)\n",
        "model = model.to(device)\n",
        "optimizer = torch.optim.Adam(model.parameters(), lr=1e-3)\n",
        "\n",
        "train_model(model, dataloader_train, optimizer, criterion)"
      ],
      "execution_count": 15,
      "outputs": [
        {
          "output_type": "display_data",
          "data": {
            "image/png": "[encoded data removed]",
            "text/plain": [
              "<Figure size 720x360 with 7 Axes>"
            ]
          },
          "metadata": {
            "tags": [],
            "needs_background": "light"
          }
        }
      ]
    },
    {
      "cell_type": "markdown",
      "metadata": {
        "id": "LGzM-R7MV1al"
      },
      "source": [
        "Для довольно хорошего сжатия картинок из MNIST'a хватает всего 8 латентных переменных!"
      ]
    },
    {
      "cell_type": "markdown",
      "metadata": {
        "id": "Z6xUfDiVV1am"
      },
      "source": [
        "## 3. Структура и интерпретация латентного пространства\n",
        "\n",
        "Главная ценность автоэнкодера как модели - его латентный код. Он крайне информативный, т.к. он должен сохранять как можно больше важных деталей об объекте. Кроме того, само латентное пространство (множество латентных кодов всех объектов) - довольно плотное и отлично сохраняет структуру исходного пространства - например, похожие объекты в исходном пространстве будут находиться недалеко друг от друга в латентном. \n",
        "\n",
        "В этой части мы проиллюстрируем эти свойства."
      ]
    },
    {
      "cell_type": "markdown",
      "metadata": {
        "id": "i31oq6cSV1am"
      },
      "source": [
        "### 3.1 Интерполяция латентных кодов\n",
        "\n",
        "Интерполяция латентного кода - это визуализация процесса движения от одной точки латентного пространства к другой. Обычно интерполируют по прямой - соединяют две точки, соответсвующие реальным объектам, отрезком и смотрят латентные коды через равные части этого отрезка. Для каждой промежуточной точки строят выход декодера. \n",
        "\n",
        "Давайте возьмем два случайных объекта из выборки и построим интерполяцию между ними."
      ]
    },
    {
      "cell_type": "code",
      "metadata": {
        "id": "Nkgr5C7gV1am"
      },
      "source": [
        "for x, _ in dataloader_train:\n",
        "    break\n",
        "\n",
        "x1 = x[0].to(device)\n",
        "x2 = x[1].to(device)"
      ],
      "execution_count": 16,
      "outputs": []
    },
    {
      "cell_type": "code",
      "metadata": {
        "id": "BmAohOzLV1am",
        "outputId": "536ad82e-1856-43e0-fe25-0efdef1cf047",
        "colab": {
          "base_uri": "https://localhost:8080/",
          "height": 166
        }
      },
      "source": [
        "plt.figure(figsize=(4, 2))\n",
        "\n",
        "plt.subplot(1, 2, 1)\n",
        "plt.axis('off')\n",
        "plt.title('x1')\n",
        "plt.imshow(x1[0].cpu().detach().numpy(), cmap='gray')\n",
        "\n",
        "plt.subplot(1, 2, 2)\n",
        "plt.axis('off')\n",
        "plt.title('x2')\n",
        "plt.imshow(x2[0].cpu().detach().numpy(), cmap='gray')"
      ],
      "execution_count": 17,
      "outputs": [
        {
          "output_type": "execute_result",
          "data": {
            "text/plain": [
              "<matplotlib.image.AxesImage at 0x7f87da0381d0>"
            ]
          },
          "metadata": {
            "tags": []
          },
          "execution_count": 17
        },
        {
          "output_type": "display_data",
          "data": {
            "image/png": "[encoded data removed]",
            "text/plain": [
              "<Figure size 288x144 with 2 Axes>"
            ]
          },
          "metadata": {
            "tags": [],
            "needs_background": "light"
          }
        }
      ]
    },
    {
      "cell_type": "code",
      "metadata": {
        "id": "CZw0cLcNC_mB",
        "outputId": "e08b9ea3-5690-4716-cada-3b62763fc75b",
        "colab": {
          "base_uri": "https://localhost:8080/"
        }
      },
      "source": [
        "torch.linspace(0, 1, 11)"
      ],
      "execution_count": 18,
      "outputs": [
        {
          "output_type": "execute_result",
          "data": {
            "text/plain": [
              "tensor([0.0000, 0.1000, 0.2000, 0.3000, 0.4000, 0.5000, 0.6000, 0.7000, 0.8000,\n",
              "        0.9000, 1.0000])"
            ]
          },
          "metadata": {
            "tags": []
          },
          "execution_count": 18
        }
      ]
    },
    {
      "cell_type": "code",
      "metadata": {
        "id": "RgBFO4MHV1am"
      },
      "source": [
        "# получите латентные коды объектов\n",
        "z_1 = model.encode(x1.unsqueeze(dim=0))\n",
        "z_2 = model.encode(x2.unsqueeze(dim=0))\n",
        "assert z_1.shape == z_2.shape == torch.Size([1, 8])\n",
        "\n",
        "# постройте батч с интерполяцией этих латентных кодов по прямой в 11 точках (используйте функцию torch.linspace)\n",
        "linspace = torch.linspace(0, 1, 11, device=device).unsqueeze(dim=1)  # shape: 11x1\n",
        "z_linspace = z_1 * (1 - linspace) + z_2 * linspace\n",
        "assert z_linspace.shape == torch.Size([11, 8])\n",
        "\n",
        "# восстановите для всех латентных кодов изображения\n",
        "x_linspace = model.decode(z_linspace)\n",
        "assert x_linspace.shape == torch.Size([11, 1, 28, 28])"
      ],
      "execution_count": 19,
      "outputs": []
    },
    {
      "cell_type": "code",
      "metadata": {
        "id": "4mx-cTl1V1an",
        "outputId": "459c6646-71db-42ac-d39e-6fbfa4a2dc18",
        "colab": {
          "base_uri": "https://localhost:8080/",
          "height": 94
        }
      },
      "source": [
        "# нарисуем проинтерполированные объекты\n",
        "plt.figure(figsize=(11, 1))\n",
        "\n",
        "for i, d in enumerate(np.linspace(0, 1, 11)):\n",
        "    plt.subplot(1, 11, i + 1)\n",
        "    plt.axis('off')\n",
        "    plt.title(f'{d:.2}')\n",
        "    plt.imshow(x_linspace[i, 0].cpu().detach().numpy(), cmap='gray')"
      ],
      "execution_count": 20,
      "outputs": [
        {
          "output_type": "display_data",
          "data": {
            "image/png": "[encoded data removed]",
            "text/plain": [
              "<Figure size 792x72 with 11 Axes>"
            ]
          },
          "metadata": {
            "tags": [],
            "needs_background": "light"
          }
        }
      ]
    },
    {
      "cell_type": "markdown",
      "metadata": {
        "id": "SUxgUlBHV1an"
      },
      "source": [
        "На интерполяции видно, как один объект плавно превращается в другой. Стоит заметить, что почти все промежуточные объекты тоже выглядят довольно правдопободно. Иногда такие интерполяции используют для того, чтобы расширить какой-то маленький датасет."
      ]
    },
    {
      "cell_type": "markdown",
      "metadata": {
        "id": "a9UUyaDlV1an"
      },
      "source": [
        "### 3.2 Структура латентного пространства\n",
        "\n",
        "Теперь давайте обучим автоэнкодер с **2** латентными кодами, соберем эти латентные коды и нарисуем 2D scatter plot, где латентные коды подсвечены цветами классов исходных объектов."
      ]
    },
    {
      "cell_type": "code",
      "metadata": {
        "id": "UAnZqXl4V1an",
        "outputId": "590ddba5-cabe-41fd-e18c-197a1ff3cb1b",
        "colab": {
          "base_uri": "https://localhost:8080/",
          "height": 334
        }
      },
      "source": [
        "# обучим автоэнкодер с 2 латентными кодами\n",
        "\n",
        "model_2d = AutoEncoder(2)\n",
        "model_2d.to(device)\n",
        "optimizer = torch.optim.Adam(model_2d.parameters(), lr=1e-3)\n",
        "\n",
        "train_model(model_2d, dataloader_train, optimizer, criterion)"
      ],
      "execution_count": 21,
      "outputs": [
        {
          "output_type": "display_data",
          "data": {
            "image/png": "[encoded data removed]",
            "text/plain": [
              "<Figure size 720x360 with 7 Axes>"
            ]
          },
          "metadata": {
            "tags": [],
            "needs_background": "light"
          }
        }
      ]
    },
    {
      "cell_type": "code",
      "metadata": {
        "id": "IxGVBFReV1an"
      },
      "source": [
        "def get_latent_codes_and_labels(dataloader, model, num_objects):\n",
        "    lat_codes = torch.empty((0, model.lat_size)).to(device)\n",
        "    labels = torch.empty((0)).to(device)\n",
        "\n",
        "    with torch.no_grad():\n",
        "        for x_batch, y_batch in dataloader:\n",
        "            x_batch = x_batch.to(device)\n",
        "            y_batch = y_batch.to(device)\n",
        "            \n",
        "            lat_code = model.encode(x_batch)\n",
        "\n",
        "            lat_codes = torch.cat([lat_codes, lat_code], dim=0)\n",
        "            labels = torch.cat([labels, y_batch], dim=0)\n",
        "        \n",
        "            if lat_codes.shape[0] >= num_objects:\n",
        "                break\n",
        "\n",
        "    lat_codes = lat_codes[:num_objects].detach().cpu().numpy()\n",
        "    labels = labels[:num_objects].detach().cpu().numpy()\n",
        "\n",
        "    return lat_codes, labels\n",
        "    \n",
        "# соберем для 1000 случайных объектов их латентные коды и классы\n",
        "lat_codes, labels = get_latent_codes_and_labels(dataloader_train, model_2d, 1000)\n",
        "\n",
        "assert lat_codes.shape == (1000, 2)\n",
        "assert labels.shape == (1000, )"
      ],
      "execution_count": 23,
      "outputs": []
    },
    {
      "cell_type": "code",
      "metadata": {
        "id": "TmXOBnhRV1ao",
        "outputId": "49783754-d5c9-4a26-8504-9c3f8b9355aa",
        "colab": {
          "base_uri": "https://localhost:8080/",
          "height": 592
        }
      },
      "source": [
        "plt.figure(figsize=(10, 10))\n",
        "\n",
        "for cl in range(10):\n",
        "    lat_codes_class = lat_codes[labels == cl]\n",
        "    plt.scatter(lat_codes_class[:, 0], lat_codes_class[:, 1], label=f'{cl}')\n",
        "plt.legend()\n",
        "plt.grid()\n",
        "plt.show()"
      ],
      "execution_count": 25,
      "outputs": [
        {
          "output_type": "display_data",
          "data": {
            "image/png": "[encoded data removed]",
            "text/plain": [
              "<Figure size 720x720 with 1 Axes>"
            ]
          },
          "metadata": {
            "tags": [],
            "needs_background": "light"
          }
        }
      ]
    },
    {
      "cell_type": "code",
      "metadata": {
        "id": "IpKkE38VF9nI",
        "outputId": "4a1c10c8-7592-4723-9144-b74d90160c78",
        "colab": {
          "base_uri": "https://localhost:8080/",
          "height": 283
        }
      },
      "source": [
        "plt.imshow(model_2d.decode(torch.zeros((1, 2), device=device)).squeeze(0).squeeze(0).detach().cpu().numpy(), cmap='gray')"
      ],
      "execution_count": 33,
      "outputs": [
        {
          "output_type": "execute_result",
          "data": {
            "text/plain": [
              "<matplotlib.image.AxesImage at 0x7f877cef0850>"
            ]
          },
          "metadata": {
            "tags": []
          },
          "execution_count": 33
        },
        {
          "output_type": "display_data",
          "data": {
            "image/png": "[encoded data removed]",
            "text/plain": [
              "<Figure size 432x288 with 1 Axes>"
            ]
          },
          "metadata": {
            "tags": [],
            "needs_background": "light"
          }
        }
      ]
    },
    {
      "cell_type": "markdown",
      "metadata": {
        "id": "5fyQfygTV1ao"
      },
      "source": [
        "Объекты одного и то же класса находятся в латентном пространстве близко друг к другу! При этом визуально похожие классы (1-4 или 4-9) тоже находятся в соседних областях."
      ]
    },
    {
      "cell_type": "markdown",
      "metadata": {
        "id": "8LuSIOMKV1ao"
      },
      "source": [
        "## 4. Применения"
      ]
    },
    {
      "cell_type": "markdown",
      "metadata": {
        "id": "uwQE2H0OV1ap"
      },
      "source": [
        "### 4.1 Semi-supervised learning\n",
        "\n",
        "Представим, что у нас следующая ситуация. Есть огромный датасет (тысячи объектов), но по тем или иным причинам размечена у него только малая часть (скажем, сотня) объектов. Например, причиной может быть дороговизна разметки или необходимость привлечения эксперта. Однако, мы хотим научиться решать эту задачу и должны как-то научиться использовать неразмеченные данные.\n",
        "\n",
        "В такой ситуации можно обучить автоэнкодер на всем датасете (размеченные + неразмеченные объекты) и использовать его латентные коды от размеченных объектов для обучения другой модели (например, из классического ML), которая не требовательна к объему данных."
      ]
    },
    {
      "cell_type": "code",
      "metadata": {
        "id": "ittPKNLYV1ap"
      },
      "source": [
        "# предположим, у нас размечено только 1000 (из 50000) объектов из MNIST\n",
        "# возьмем для них латентные коды\n",
        "\n",
        "train_lat_codes, train_labels = get_latent_codes_and_labels(dataloader_train, model, 1000)\n",
        "\n",
        "assert train_lat_codes.shape == (1000, 8)\n",
        "assert train_labels.shape == (1000, )\n",
        "\n",
        "# так же обсчитаем весь валидационный сет\n",
        "test_lat_codes, test_labels = get_latent_codes_and_labels(dataloader_valid, model, 10000)\n",
        "\n",
        "assert test_lat_codes.shape == (10000, 8)\n",
        "assert test_labels.shape == (10000, )"
      ],
      "execution_count": 34,
      "outputs": []
    },
    {
      "cell_type": "code",
      "metadata": {
        "id": "3xhcXyiAV1ap",
        "outputId": "f5ab7715-b9a9-4853-8951-6962a2cfa7e9",
        "colab": {
          "base_uri": "https://localhost:8080/"
        }
      },
      "source": [
        "# обучим на них случайный лес\n",
        "from sklearn.ensemble import RandomForestClassifier\n",
        "\n",
        "clf = RandomForestClassifier()\n",
        "clf.fit(train_lat_codes, train_labels)"
      ],
      "execution_count": 35,
      "outputs": [
        {
          "output_type": "execute_result",
          "data": {
            "text/plain": [
              "RandomForestClassifier(bootstrap=True, ccp_alpha=0.0, class_weight=None,\n",
              "                       criterion='gini', max_depth=None, max_features='auto',\n",
              "                       max_leaf_nodes=None, max_samples=None,\n",
              "                       min_impurity_decrease=0.0, min_impurity_split=None,\n",
              "                       min_samples_leaf=1, min_samples_split=2,\n",
              "                       min_weight_fraction_leaf=0.0, n_estimators=100,\n",
              "                       n_jobs=None, oob_score=False, random_state=None,\n",
              "                       verbose=0, warm_start=False)"
            ]
          },
          "metadata": {
            "tags": []
          },
          "execution_count": 35
        }
      ]
    },
    {
      "cell_type": "code",
      "metadata": {
        "id": "akzXMiM4V1aq"
      },
      "source": [
        "test_pred = clf.predict(test_lat_codes)"
      ],
      "execution_count": 36,
      "outputs": []
    },
    {
      "cell_type": "code",
      "metadata": {
        "id": "xEVwcopWV1aq",
        "outputId": "0659ec04-fcf9-41ad-c03f-29f6f60d9255",
        "colab": {
          "base_uri": "https://localhost:8080/"
        }
      },
      "source": [
        "print(f'Test accuracy: {(test_pred == test_labels).mean()}')"
      ],
      "execution_count": 37,
      "outputs": [
        {
          "output_type": "stream",
          "text": [
            "Test accuracy: 0.834\n"
          ],
          "name": "stdout"
        }
      ]
    },
    {
      "cell_type": "markdown",
      "metadata": {
        "id": "u8G-Pe9nV1aq"
      },
      "source": [
        "Довольно хорошее качество для такого малого объема размеченных данных. Кроме того, мы смогли совместить преимущества нейросетевого и классического подхода и взять от них самое лучшее (нетребовательность к данным от ML и способность работы со сложноструктурированными данными от DL).\n",
        "\n",
        "Своего рода, это частный случай fine-tuning для ситуации, когда исходная сетка (энкодер) обучалась на неразмеченных данных."
      ]
    },
    {
      "cell_type": "markdown",
      "metadata": {
        "id": "76JiqXo4V1aq"
      },
      "source": [
        "### 4.2 Denoising\n",
        "\n",
        "Кроме того, автоэнкодеры часто используют для очистки исходных данных от шума. Латентный код сохраняет только главную информацию об объекте, отбрасывая шумовые компоненты. \n",
        "\n",
        "Давайте реализуем функцию, которая обращает c вероятностью 0.1 каждый пиксель исходного изображения, и обучим на такой выборке автоэнкодер."
      ]
    },
    {
      "cell_type": "code",
      "metadata": {
        "id": "5_I-pSaAV1aq"
      },
      "source": [
        "class FlipRandomPixels:\n",
        "    def __init__(self, flip_ratio=0.1):\n",
        "        self.flip_ratio = flip_ratio\n",
        "        \n",
        "    def __call__(self, x):\n",
        "        mask = torch.rand_like(x) > self.flip_ratio\n",
        "        x = torch.where(mask, x, 1 - x)\n",
        "        \n",
        "        return x\n",
        "\n",
        "transform = transforms.Compose([\n",
        "    transforms.ToTensor(), \n",
        "    FlipRandomPixels(),\n",
        "])\n",
        "\n",
        "dataset_train_with_noise = torchvision.datasets.MNIST(root=data_root, train=True, transform=transform)\n",
        "dataloader_train_with_noise = torch.utils.data.DataLoader(dataset_train_with_noise, batch_size=64, shuffle=True, num_workers=1)"
      ],
      "execution_count": 38,
      "outputs": []
    },
    {
      "cell_type": "code",
      "metadata": {
        "id": "zgW-ChKUV1aq",
        "outputId": "5973807d-df7e-4263-bbb5-583d04638bec",
        "colab": {
          "base_uri": "https://localhost:8080/",
          "height": 83
        }
      },
      "source": [
        "for x, y in dataloader_train_with_noise:\n",
        "    break\n",
        "\n",
        "plt.figure(figsize=(11, 1))\n",
        "\n",
        "for i in range(10):\n",
        "    plt.subplot(1, 10, i + 1)\n",
        "    plt.axis('off')\n",
        "    plt.imshow(x[i, 0].cpu().detach().numpy(), cmap='gray')"
      ],
      "execution_count": 39,
      "outputs": [
        {
          "output_type": "display_data",
          "data": {
            "image/png": "[encoded data removed]",
            "text/plain": [
              "<Figure size 792x72 with 10 Axes>"
            ]
          },
          "metadata": {
            "tags": [],
            "needs_background": "light"
          }
        }
      ]
    },
    {
      "cell_type": "code",
      "metadata": {
        "id": "d5wLqdlfV1ar",
        "outputId": "d2730230-9783-41aa-f474-6b584329f3ba",
        "colab": {
          "base_uri": "https://localhost:8080/",
          "height": 334
        }
      },
      "source": [
        "# обучим автоэнкодер на зашумленных данных\n",
        "\n",
        "model_for_noise = AutoEncoder(8)\n",
        "model_for_noise.to(device)\n",
        "optimizer = torch.optim.Adam(model_for_noise.parameters(), lr=1e-3)\n",
        "\n",
        "train_model(model_for_noise, dataloader_train_with_noise, optimizer, criterion)"
      ],
      "execution_count": 40,
      "outputs": [
        {
          "output_type": "display_data",
          "data": {
            "image/png": "[encoded data removed]",
            "text/plain": [
              "<Figure size 720x360 with 7 Axes>"
            ]
          },
          "metadata": {
            "tags": [],
            "needs_background": "light"
          }
        }
      ]
    },
    {
      "cell_type": "markdown",
      "metadata": {
        "id": "AxaFlXGLV1ar"
      },
      "source": [
        "Восстановленные объекты не содержат шума, которым мы испортили данные! \n",
        "\n",
        "Этот эксперимент должен Вам напомнить метод главных компонент (PCA) из классического ML, который тоже часто используют для сжатия данных и избавления от шума. PCA является частным случаем автоэнкодера с линейными энкодером и декодером."
      ]
    },
    {
      "cell_type": "markdown",
      "metadata": {
        "id": "HdLCNifiV1ar"
      },
      "source": [
        "Acknowledgements: этот ноутбук основан на [восьмом семинаре](https://github.com/hse-ds/iad-deep-learning/blob/b958bd1/sem08/sem08.ipynb) курса ИАД DL."
      ]
    }
  ]
}