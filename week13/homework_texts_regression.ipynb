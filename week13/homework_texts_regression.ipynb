{
 "cells": [
  {
   "cell_type": "markdown",
   "metadata": {},
   "source": [
    "# Домашнее задание 4\n",
    "\n",
    "## Предсказание пользовательской оценки отеля по тексту отзыва"
   ]
  },
  {
   "cell_type": "markdown",
   "metadata": {},
   "source": [
    "Мы собрали для вас отзывы по 1500 отелям из совершенно разных уголков мира. Что это за отели — секрет. Вам дан текст отзыва и пользовательская оценка отеля. Ваша задача — научиться предсказывать оценку отеля по отзыву. Данные можно скачать [тут](https://www.kaggle.com/c/hseds-texts-2020/data?select=train.csv). Также я скопировал их на Google Drive (команда `gdown` приведена ниже)."
   ]
  },
  {
   "cell_type": "markdown",
   "metadata": {},
   "source": [
    "Главная метрика — Mean Absolute Error (MAE). Во всех частях домашней работы (кроме нулевой) вам нужно получить значение MAE не превышающее 1. В противном случае мы будем вынуждены не засчитать задание :( "
   ]
  },
  {
   "cell_type": "markdown",
   "metadata": {},
   "source": [
    "Для измерения качества вашей модели используйте разбиение данных на train и test и замеряйте качество на тестовой части."
   ]
  },
  {
   "cell_type": "markdown",
   "metadata": {},
   "source": [
    "#### Про данные:\n",
    "Каждое ревью состоит из двух текстов: `positive` и `negative` — плюсы и минусы отеля. В столбце `score` находится оценка пользователя — вещественное число 0 до 10. Вам нужно извлечь признаки из этих текстов и предсказать по ним оценку."
   ]
  },
  {
   "cell_type": "markdown",
   "metadata": {},
   "source": [
    "Удачи! 💪"
   ]
  },
  {
   "cell_type": "markdown",
   "metadata": {},
   "source": [
    "**Использовать внешние данные для обучения строго запрещено. Можно использовать предобученные модели (например, из huggingface).**"
   ]
  },
  {
   "cell_type": "code",
   "execution_count": null,
   "metadata": {},
   "outputs": [],
   "source": [
    "from pathlib import Path\n",
    "\n",
    "import pandas as pd"
   ]
  },
  {
   "cell_type": "code",
   "execution_count": null,
   "metadata": {},
   "outputs": [],
   "source": [
    "data_path = Path('hseds-texts-2020/train.csv')\n",
    "\n",
    "if not data_path.exists():\n",
    "    !gdown https://drive.google.com/uc?id=118Xty0jxXut7eXIScR4uE8BxWbM4kwW3\n",
    "    !unzip kaggle_hseds-texts-2020.zip -d hseds-texts-2020"
   ]
  },
  {
   "cell_type": "code",
   "execution_count": null,
   "metadata": {},
   "outputs": [],
   "source": [
    "df = pd.read_csv(data_path)\n",
    "df"
   ]
  },
  {
   "cell_type": "markdown",
   "metadata": {},
   "source": [
    "Предобработка текста может сказываться на качестве вашей модели.\n",
    "Сделаем небольшой препроцессинг текстов: удалим знаки препинания, приведем все слова к нижнему регистру. \n",
    "Однако можно не ограничиваться этим набором преобразований. Подумайте, что еще можно сделать с текстами, чтобы помочь будущим моделям? Добавьте преобразования, которые могли бы помочь по вашему мнению."
   ]
  },
  {
   "cell_type": "markdown",
   "metadata": {},
   "source": [
    "Также мы добавили разбиение текстов на токены. Теперь каждая строка-ревью стала массивом токенов."
   ]
  },
  {
   "cell_type": "code",
   "execution_count": null,
   "metadata": {},
   "outputs": [],
   "source": [
    "import string\n",
    "\n",
    "import nltk\n",
    "nltk.download('punkt')\n",
    "\n",
    "from nltk.tokenize import word_tokenize\n",
    "\n",
    "def process_text(text):\n",
    "    return [\n",
    "        word\n",
    "        for word in word_tokenize(text.lower())\n",
    "        if word not in string.punctuation\n",
    "    ]"
   ]
  },
  {
   "cell_type": "code",
   "execution_count": null,
   "metadata": {},
   "outputs": [],
   "source": [
    "df['negative'] = df['negative'].apply(process_text)\n",
    "df['positive'] = df['positive'].apply(process_text)"
   ]
  },
  {
   "cell_type": "code",
   "execution_count": null,
   "metadata": {},
   "outputs": [],
   "source": [
    "from sklearn.model_selection import train_test_split\n",
    "\n",
    "df_train, df_test = train_test_split(df)"
   ]
  },
  {
   "cell_type": "markdown",
   "metadata": {},
   "source": [
    "Пример выше делает очень простую токенизацию: разрезает текст на слова и выбрасывает пунктуацию. Есть и более умные методы. Например, метод Byte Pair Encoding (BPE) позволяет разрезать текст на токены, в которых часто встречающиеся слова будут входить целиком, а редкие окажутся разделены на несколько токенов. Эта токенизация используется, например, в небезызвестной GPT-3.\n",
    "\n",
    "Хорошее объяснение BPE есть в [Википедии](https://en.wikipedia.org/wiki/Byte_pair_encoding), а посмотреть пример применения можно в самом начале [ноутбука](https://github.com/yandexdataschool/nlp_course/blob/28a92e376f5229fe57f6e704c9f927909265b1e2/week04_seq2seq/practice_and_homework_pytorch.ipynb) четвёртой недели курса NLP в ШАДе."
   ]
  },
  {
   "cell_type": "markdown",
   "metadata": {},
   "source": [
    "### Часть 0. Константный бейзлайн (1 балл)"
   ]
  },
  {
   "cell_type": "markdown",
   "metadata": {},
   "source": [
    "Здесь мы в качестве sanity check посмотрим, какое получается MAE, если предсказывать наилучшую возможную константу.\n",
    "\n",
    "Какая аналитическая формула для константы, минимизирущей MAE?"
   ]
  },
  {
   "cell_type": "code",
   "execution_count": null,
   "metadata": {},
   "outputs": [],
   "source": [
    "from sklearn.metrics import mean_absolute_error\n",
    "\n",
    "y_pred_const = <YOUR CODE>\n",
    "mean_absolute_error(df_test['score'], [y_pred_const] * len(df_test))"
   ]
  },
  {
   "cell_type": "markdown",
   "metadata": {},
   "source": [
    "### Часть 1. TF-IDF (1 балл)"
   ]
  },
  {
   "cell_type": "markdown",
   "metadata": {},
   "source": [
    "В этой части вы для разминки можете обучить регрессию на TF-IDF векторах текстов.\n",
    "\n",
    "**Это делать не обязательно.** TF-IDF интересен больше с исторической точки зрения, или же как простейший способ извлечь из текста хоть какие-то фичи. Если вы раньше про него не слышали, можете [прочитать](https://scikit-learn.org/stable/modules/feature_extraction.html#text-feature-extraction) в мануале scikit-learn или пропустить эту часть.\n",
    "\n",
    "Вам понадобится как-то агрегировать фичи по положительной и отрицательной части отзыва. Если вы решите конкатенировать матрицы фичей TF-IDF, учтите, что они являются разреженными, и для их конкатенации нужно будет использовать функцию [`scipy.sparse.hstack`](https://docs.scipy.org/doc/scipy/reference/generated/scipy.sparse.hstack.html)."
   ]
  },
  {
   "cell_type": "code",
   "execution_count": null,
   "metadata": {},
   "outputs": [],
   "source": [
    "from sklearn.feature_extraction.text import TfidfVectorizer\n",
    "from sklearn.linear_model import SGDRegressor"
   ]
  },
  {
   "cell_type": "code",
   "execution_count": null,
   "metadata": {},
   "outputs": [],
   "source": [
    "mae_regressor = SGDRegressor(\n",
    "    loss='epsilon_insensitive',\n",
    "    epsilon=0,\n",
    "    <YOUR CODE>\n",
    ")"
   ]
  },
  {
   "cell_type": "code",
   "execution_count": null,
   "metadata": {},
   "outputs": [],
   "source": [
    "<YOUR CODE>"
   ]
  },
  {
   "cell_type": "markdown",
   "metadata": {},
   "source": [
    "### Часть 2. Word2Vec (3 балла)"
   ]
  },
  {
   "cell_type": "markdown",
   "metadata": {},
   "source": [
    "Обучите регрессию на усредненных Word2Vec векторах.\n",
    "\n",
    "Примерный план (естественно, любой шаг тут можно менять):\n",
    "\n",
    "* Скачайте какие-нибудь предобученные эмбеддинги через `gensim.downloader`. Например, `glove-twitter-100`. Полный список того, что предоставляет библиотека, смотрите [тут](https://github.com/RaRe-Technologies/gensim-data).\n",
    "* Преобразуйте каждое слово из позитивной и негативной части отзыва в эмбеддинг. Усредните их внутри каждой части по отдельности.\n",
    "* Сконкатенируйте эмбеддинги для позитивной и негативной части каждого отзыва.\n",
    "* Обучите на том, что получится, регрессию."
   ]
  },
  {
   "cell_type": "code",
   "execution_count": null,
   "metadata": {},
   "outputs": [],
   "source": [
    "<YOUR CODE>"
   ]
  },
  {
   "cell_type": "markdown",
   "metadata": {},
   "source": [
    "Усредняя w2v вектора, мы предполагаем, что каждое слово имеет равноценный вклад в смысл предложения, однако это может быть не совсем так. Теперь попробуйте воспользоваться другой концепцией и перевзвесить слова при получении итогового эмбеддинга текста. В качестве весов используйте IDF (inverse document frequency):\n",
    "\n",
    "$$\n",
    "\\operatorname{idf}(w) = \\log \\frac {N} {1 + \\operatorname{df}(w)},\n",
    "$$\n",
    "\n",
    "где:\n",
    "\n",
    "* $N$ — общее количество текстов в корпусе,\n",
    "* $\\operatorname{df}(w)$ — количество текстов, содержащих слово $w$."
   ]
  },
  {
   "cell_type": "code",
   "execution_count": null,
   "metadata": {},
   "outputs": [],
   "source": [
    "def calc_idf(texts):\n",
    "    <YOUR CODE>"
   ]
  },
  {
   "cell_type": "markdown",
   "metadata": {},
   "source": [
    "Проведите эксперименты с размерностью эмбеддинга. Для каждого из двух методов постройте график зависимости качества модели от размерности эмбеддинга.\n",
    "\n",
    "#### Сделайте выводы:"
   ]
  },
  {
   "cell_type": "markdown",
   "metadata": {},
   "source": [
    "`<YOUR TEXT>`"
   ]
  },
  {
   "cell_type": "markdown",
   "metadata": {},
   "source": [
    "**(необязательно)** Теперь попробуйте обучить регрессию на любых других эмбеддингах размерности 300 (ELMO, BERT) и сравните качество с Word2Vec.\n",
    "\n",
    "#### Выводы:"
   ]
  },
  {
   "cell_type": "markdown",
   "metadata": {},
   "source": [
    "`<YOUR TEXT>`"
   ]
  },
  {
   "cell_type": "markdown",
   "metadata": {},
   "source": [
    "### Часть 3. `import torch` (6 баллов)"
   ]
  },
  {
   "cell_type": "markdown",
   "metadata": {},
   "source": [
    "Теперь давайте воспользуемся более продвинутыми методами обработки текстовых данных, которые мы проходили в нашем курсе. Обучите RNN/Transformer для предсказания пользовательской оценки. Получите ошибку меньше, чем во всех вышеперечисленных методах."
   ]
  },
  {
   "cell_type": "markdown",
   "metadata": {},
   "source": [
    "Если будете обучать RNN, попробуйте ограничить максимальную длину предложения. Некоторые отзывы могут быть слишком длинными относительно остальных.\n",
    "\n",
    "Чтобы пользоваться DataLoader, все его элементы должны быть одинаковой размерности. Для этого вы можете добавить нулевой паддинг ко всем предложениям (см пример `pad_sequence`)"
   ]
  },
  {
   "cell_type": "code",
   "execution_count": null,
   "metadata": {},
   "outputs": [],
   "source": [
    "import torch\n",
    "import torch.nn as nn\n",
    "import torch.nn.functional as F"
   ]
  },
  {
   "cell_type": "code",
   "execution_count": null,
   "metadata": {},
   "outputs": [],
   "source": [
    "WORDS = set()\n",
    "for sent in list(df['positive']):\n",
    "    for w in sent:\n",
    "        WORDS.add(w)\n",
    "        \n",
    "for sent in list(df['negative']):\n",
    "    for w in sent:\n",
    "        WORDS.add(w)"
   ]
  },
  {
   "cell_type": "code",
   "execution_count": null,
   "metadata": {},
   "outputs": [],
   "source": [
    "int2word = dict(enumerate(tuple(WORDS)))\n",
    "word2int = {w: i for i, w in int2word.items()}"
   ]
  },
  {
   "cell_type": "code",
   "execution_count": null,
   "metadata": {},
   "outputs": [],
   "source": [
    "MAX_LEN = max(max(df['positive'].apply(len)), max(df['negative'].apply(len)))"
   ]
  },
  {
   "cell_type": "code",
   "execution_count": null,
   "metadata": {},
   "outputs": [],
   "source": [
    "MAX_LEN"
   ]
  },
  {
   "cell_type": "code",
   "execution_count": null,
   "metadata": {},
   "outputs": [],
   "source": [
    "from torch.nn.utils.rnn import pad_sequence\n",
    "\n",
    "train_pos_pad = pad_sequence(\n",
    "    [\n",
    "        torch.as_tensor([word2int[w] for w in seq][:MAX_LEN])\n",
    "        for seq in df_train['positive']\n",
    "    ],\n",
    "    batch_first=True,\n",
    ")"
   ]
  },
  {
   "cell_type": "code",
   "execution_count": null,
   "metadata": {},
   "outputs": [],
   "source": [
    "class ReviewsDataset(torch.utils.data.Dataset):\n",
    "    def __init__(self, df):\n",
    "        <YOUR CODE>\n",
    "        \n",
    "    def __len__(self):\n",
    "        <YOUR CODE>\n",
    "    \n",
    "    def __getitem__(self, idx):\n",
    "        <YOUR CODE>"
   ]
  },
  {
   "cell_type": "code",
   "execution_count": null,
   "metadata": {},
   "outputs": [],
   "source": [
    "BATCH_SIZE = 1\n",
    "\n",
    "train_dataset = ReviewsDataset(df_train)\n",
    "test_dataset = ReviewsDataset(df_test)\n",
    "\n",
    "train_dataloader = torch.utils.data.DataLoader(train_dataset, batch_size=BATCH_SIZE)\n",
    "test_dataloader = torch.utils.data.DataLoader(test_dataset, batch_size=BATCH_SIZE)"
   ]
  },
  {
   "cell_type": "code",
   "execution_count": null,
   "metadata": {},
   "outputs": [],
   "source": [
    "NUM_EPOCHS = 1\n",
    "\n",
    "for n in range(NUM_EPOCHS):\n",
    "    model.train()\n",
    "\n",
    "    # Не забудьте, что в качестве метрики мы используем MAE.\n",
    "    # Вам может пригодиться https://pytorch.org/docs/stable/generated/torch.nn.L1Loss.html\n",
    "    \n",
    "    <YOUR CODE>"
   ]
  },
  {
   "cell_type": "markdown",
   "metadata": {},
   "source": [
    "### Бонус. 10 баллов\n",
    "\n",
    "Побейте качество 0.75 в [соревновании](https://www.kaggle.com/c/hseds-texts-2020/leaderboard). Можете воспользоваться вышеперечисленными методами или попробовать что-нибудь еще."
   ]
  },
  {
   "cell_type": "markdown",
   "metadata": {},
   "source": [
    "## Acknowledgements\n",
    "\n",
    "Ноутбук основан на [третьем домашнем задании](https://github.com/hse-ds/iad-deep-learning/blob/66fb0128da4e65cb3260c088e2d462eb9d0c5eb1/hw3/hw3.ipynb) курса ИАД DL."
   ]
  }
 ],
 "metadata": {
  "language_info": {
   "name": "python",
   "pygments_lexer": "ipython3"
  }
 },
 "nbformat": 4,
 "nbformat_minor": 1
}
