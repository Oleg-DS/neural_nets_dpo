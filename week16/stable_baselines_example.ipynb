{
 "cells": [
  {
   "cell_type": "markdown",
   "metadata": {},
   "source": [
    "# Stable Baselines"
   ]
  },
  {
   "cell_type": "markdown",
   "metadata": {},
   "source": [
    "Здесь мы очень вкратце посмотрим на пример использования библиотеки [Stable Baselines 3](https://github.com/DLR-RM/stable-baselines3). Эта библиотека содержит оттестированные реализации различных алгоритмов RL и хорошо взаимодействует с библиотекой OpenAI Gym. Она предоставляет интерфейс, позволяющий обучать RL-агентов с использованием совсем небольшого количества кода."
   ]
  },
  {
   "cell_type": "markdown",
   "metadata": {},
   "source": [
    "## Настройка окружения"
   ]
  },
  {
   "cell_type": "code",
   "execution_count": null,
   "metadata": {},
   "outputs": [],
   "source": [
    "#@title Set up environment\n",
    "\n",
    "import sys, os\n",
    "\n",
    "if 'google.colab' in sys.modules and not os.path.exists('.setup_complete'):\n",
    "    # Note: enviroments like CartPole-v0 require a display to render. We need to install pyvirtualdisplay etc \n",
    "    # in order to render from these environments\n",
    "    !apt-get -qq install -y xvfb\n",
    "    !pip install -q pyvirtualdisplay stable-baselines3\n",
    "\n",
    "    !touch .setup_complete\n",
    "\n",
    "# This code creates a virtual display to draw game images on.\n",
    "# It will have no effect if your machine has a monitor.\n",
    "if 'DISPLAY' not in os.environ:\n",
    "    from pyvirtualdisplay import Display\n",
    "\n",
    "    # Start virtual display\n",
    "    display = Display(visible=0, size=(1024, 768))\n",
    "    display.start()\n",
    "\n",
    "    os.environ['DISPLAY'] = f':{display.display}'"
   ]
  },
  {
   "cell_type": "markdown",
   "metadata": {},
   "source": [
    "## Запуск обучения"
   ]
  },
  {
   "cell_type": "code",
   "execution_count": null,
   "metadata": {},
   "outputs": [],
   "source": [
    "import gym\n",
    "from stable_baselines3 import A2C\n",
    "from stable_baselines3.common.env_util import make_vec_env\n",
    "\n",
    "# Создаём 4 процесса, внутри каждого из которых будет работать среда CartPole-v1\n",
    "vec_env = make_vec_env(lambda: gym.make(\"CartPole-v1\"), n_envs=4)\n",
    "\n",
    "# Создаём объект, который при помощи алгоритма A2C обучит\n",
    "# полносвязную нейросеть (MlpPolicy) решать задачу CartPole-v1\n",
    "model = A2C(\"MlpPolicy\", vec_env, verbose=1)\n",
    "\n",
    "# Запускаем обучение, в котором в каждом из 4 подпроцессов env.step() будет вызван 25000 раз\n",
    "model.learn(total_timesteps=25000, log_interval=1000)\n",
    "\n",
    "# Вот так можно сохранить модель\n",
    "model.save(\"a2c_cartpole\")\n",
    "\n",
    "# Чтобы проверить, что загрузка модели работает, удалим её из памяти\n",
    "del model"
   ]
  },
  {
   "cell_type": "markdown",
   "metadata": {},
   "source": [
    "## Визуализация результатов"
   ]
  },
  {
   "cell_type": "markdown",
   "metadata": {},
   "source": [
    "В следующей ячейке код для визуализации скопирован из [предыдущего семинара](https://github.com/dniku/neural_nets_dpo/blob/master/week15/reinforcement_learning.ipynb)."
   ]
  },
  {
   "cell_type": "code",
   "execution_count": null,
   "metadata": {},
   "outputs": [],
   "source": [
    "from IPython.display import HTML\n",
    "import matplotlib.animation\n",
    "import matplotlib.pyplot as plt\n",
    "%matplotlib inline\n",
    "\n",
    "def animate_frames(frames):\n",
    "    new_height = 2.2\n",
    "    original_height = frames[0].shape[0]\n",
    "    original_width = frames[0].shape[1]\n",
    "    new_width = (new_height / original_height) * original_width\n",
    "    fig = plt.figure(figsize=(new_width, new_height), dpi=120)\n",
    "    \n",
    "    ax = plt.Axes(fig, [0., 0., 1., 1.])\n",
    "    ax.set_axis_off()\n",
    "    fig.add_axes(ax)\n",
    "    patch = ax.imshow(frames[0], aspect='auto', animated=True, interpolation='bilinear')\n",
    "    animate = lambda i: patch.set_data(frames[i])\n",
    "    \n",
    "    ani = matplotlib.animation.FuncAnimation(fig, animate, frames=len(frames), interval=50)\n",
    "    \n",
    "    plt.close()\n",
    "    return HTML(ani.to_jshtml())"
   ]
  },
  {
   "cell_type": "markdown",
   "metadata": {},
   "source": [
    "Загружаем модель, создаём (теперь уже не параллельную) среду и делаем в ней не более 500 шагов, сохраняя картинки:"
   ]
  },
  {
   "cell_type": "code",
   "execution_count": null,
   "metadata": {},
   "outputs": [],
   "source": [
    "from tqdm.notebook import tqdm\n",
    "\n",
    "model = A2C.load(\"a2c_cartpole\")\n",
    "env = gym.make('CartPole-v1')\n",
    "\n",
    "obs = env.reset()\n",
    "frames = [env.render(mode='rgb_array')]\n",
    "for _ in tqdm(range(500)):\n",
    "    action, _states = model.predict(obs)\n",
    "    obs, _ , done, _ = env.step(action)\n",
    "    frames.append(env.render(mode='rgb_array'))\n",
    "    if done:\n",
    "        break"
   ]
  },
  {
   "cell_type": "markdown",
   "metadata": {},
   "source": [
    "Рисуем результат:"
   ]
  },
  {
   "cell_type": "code",
   "execution_count": null,
   "metadata": {},
   "outputs": [],
   "source": [
    "animate_frames(frames)"
   ]
  }
 ],
 "metadata": {
  "language_info": {
   "name": "python",
   "pygments_lexer": "ipython3"
  }
 },
 "nbformat": 4,
 "nbformat_minor": 1
}
